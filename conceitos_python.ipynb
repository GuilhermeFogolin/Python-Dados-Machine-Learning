{
  "nbformat": 4,
  "nbformat_minor": 0,
  "metadata": {
    "colab": {
      "provenance": [],
      "include_colab_link": true
    },
    "kernelspec": {
      "name": "python3",
      "display_name": "Python 3"
    }
  },
  "cells": [
    {
      "cell_type": "markdown",
      "metadata": {
        "id": "view-in-github",
        "colab_type": "text"
      },
      "source": [
        "<a href=\"https://colab.research.google.com/github/GuilhermeFogolin/Python-Dados-Machine-Learning/blob/main/conceitos_python.ipynb\" target=\"_parent\"><img src=\"https://colab.research.google.com/assets/colab-badge.svg\" alt=\"Open In Colab\"/></a>"
      ]
    },
    {
      "cell_type": "markdown",
      "metadata": {
        "id": "n9tALs4xVhkB"
      },
      "source": [
        "# **Introdução**"
      ]
    },
    {
      "cell_type": "markdown",
      "metadata": {
        "id": "Qksfq4rWV923"
      },
      "source": [
        "O objetivo desse projeto é de apresentar os comandos básicos de Python para aplicar em análise de dados."
      ]
    },
    {
      "cell_type": "code",
      "metadata": {
        "id": "BogCAZHYV85o"
      },
      "source": [
        "print (\"Olá, mundo!\")"
      ],
      "execution_count": null,
      "outputs": []
    },
    {
      "cell_type": "code",
      "metadata": {
        "id": "Jibm2nlUVSzS"
      },
      "source": [
        "mensagem = 'Olá, mundo!'"
      ],
      "execution_count": null,
      "outputs": []
    },
    {
      "cell_type": "code",
      "metadata": {
        "id": "vQVlCNGWzmuI"
      },
      "source": [
        "print (mensagem)"
      ],
      "execution_count": null,
      "outputs": []
    },
    {
      "cell_type": "code",
      "metadata": {
        "id": "tAT8jp7Hzrkm"
      },
      "source": [
        "mensagem"
      ],
      "execution_count": null,
      "outputs": []
    },
    {
      "cell_type": "code",
      "metadata": {
        "id": "EI1oXGPrz7c1"
      },
      "source": [
        "nome = input ('Qual é o seu nome? ')"
      ],
      "execution_count": null,
      "outputs": []
    },
    {
      "cell_type": "code",
      "metadata": {
        "id": "20O5jaIm0Cxd"
      },
      "source": [
        "print ('Meu nome é:',  nome)"
      ],
      "execution_count": null,
      "outputs": []
    },
    {
      "cell_type": "code",
      "metadata": {
        "id": "QF76W7O60I18"
      },
      "source": [
        "nome = input ('Qual é o seu nome? ')\n",
        "print ('Meu nome é:',  nome)\n"
      ],
      "execution_count": null,
      "outputs": []
    },
    {
      "cell_type": "markdown",
      "metadata": {
        "id": "WMGU7gLp2_WF"
      },
      "source": [
        "# **Operadores Matemáticos**"
      ]
    },
    {
      "cell_type": "code",
      "metadata": {
        "id": "M7zzp5GP0b_s"
      },
      "source": [
        "n1 = 10"
      ],
      "execution_count": null,
      "outputs": []
    },
    {
      "cell_type": "code",
      "metadata": {
        "id": "EZ5RvZX20ebb"
      },
      "source": [
        "n2 = 5"
      ],
      "execution_count": null,
      "outputs": []
    },
    {
      "cell_type": "code",
      "metadata": {
        "id": "6qrwoXGY0gqb"
      },
      "source": [
        "s = n1 + n2\n",
        "print(s)\n"
      ],
      "execution_count": null,
      "outputs": []
    },
    {
      "cell_type": "code",
      "metadata": {
        "id": "khdn_IM50nmk"
      },
      "source": [
        "s = s + n2\n",
        "print (s)"
      ],
      "execution_count": null,
      "outputs": []
    },
    {
      "cell_type": "code",
      "metadata": {
        "id": "hCTXtBmy1Cn7"
      },
      "source": [
        "s += n2 # s = s + n2\n",
        "print(s)"
      ],
      "execution_count": null,
      "outputs": []
    },
    {
      "cell_type": "code",
      "metadata": {
        "id": "UQc8-Hgb19Lj"
      },
      "source": [
        "sub = n1 - n2\n",
        "sub"
      ],
      "execution_count": null,
      "outputs": []
    },
    {
      "cell_type": "code",
      "metadata": {
        "id": "qLrm9drE2BeX"
      },
      "source": [
        "mult = n1 * n2\n",
        "mult"
      ],
      "execution_count": null,
      "outputs": []
    },
    {
      "cell_type": "code",
      "metadata": {
        "id": "X7aZTJnZ2I7f"
      },
      "source": [
        "div = n1 / n2\n",
        "div"
      ],
      "execution_count": null,
      "outputs": []
    },
    {
      "cell_type": "code",
      "metadata": {
        "id": "aW1YPskE2OCR"
      },
      "source": [
        "pot = n1**n2\n",
        "pot"
      ],
      "execution_count": null,
      "outputs": []
    },
    {
      "cell_type": "code",
      "metadata": {
        "id": "JV1zTdU82aju"
      },
      "source": [
        "pot2 = pow (n1,n2)\n",
        "pot2"
      ],
      "execution_count": null,
      "outputs": []
    },
    {
      "cell_type": "code",
      "metadata": {
        "id": "wTYY_sXw2Ri3"
      },
      "source": [
        "divi = n1 // n2\n",
        "divi"
      ],
      "execution_count": null,
      "outputs": []
    },
    {
      "cell_type": "code",
      "metadata": {
        "id": "q7DPBYvy2WPe"
      },
      "source": [
        "rest = n1 % n2\n",
        "rest"
      ],
      "execution_count": null,
      "outputs": []
    },
    {
      "cell_type": "markdown",
      "metadata": {
        "id": "D9dOFbLX59pv"
      },
      "source": [
        "# **Importações de bibliotecas (pacotes) e módulos**"
      ]
    },
    {
      "cell_type": "code",
      "source": [
        "import numpy as np"
      ],
      "metadata": {
        "id": "GJuycUdlFqGq"
      },
      "execution_count": null,
      "outputs": []
    },
    {
      "cell_type": "markdown",
      "source": [
        "https://numpy.org/devdocs/user/whatisnumpy.html"
      ],
      "metadata": {
        "id": "msEbiw6YGjju"
      }
    },
    {
      "cell_type": "code",
      "metadata": {
        "id": "5cO9u1vDuwFq",
        "colab": {
          "base_uri": "https://localhost:8080/",
          "height": 144
        },
        "outputId": "a67fb9a3-8424-496e-b5a1-2d67e81907cf"
      },
      "source": [
        "raiz_quadrada = sqrt (25)"
      ],
      "execution_count": 18,
      "outputs": [
        {
          "output_type": "error",
          "ename": "NameError",
          "evalue": "name 'sqrt' is not defined",
          "traceback": [
            "\u001b[0;31m---------------------------------------------------------------------------\u001b[0m",
            "\u001b[0;31mNameError\u001b[0m                                 Traceback (most recent call last)",
            "\u001b[0;32m<ipython-input-18-fca0cc5df2de>\u001b[0m in \u001b[0;36m<cell line: 0>\u001b[0;34m()\u001b[0m\n\u001b[0;32m----> 1\u001b[0;31m \u001b[0mraiz_quadrada\u001b[0m \u001b[0;34m=\u001b[0m \u001b[0msqrt\u001b[0m \u001b[0;34m(\u001b[0m\u001b[0;36m25\u001b[0m\u001b[0;34m)\u001b[0m\u001b[0;34m\u001b[0m\u001b[0;34m\u001b[0m\u001b[0m\n\u001b[0m",
            "\u001b[0;31mNameError\u001b[0m: name 'sqrt' is not defined"
          ]
        }
      ]
    },
    {
      "cell_type": "code",
      "metadata": {
        "id": "GARWqy2l3RIs"
      },
      "source": [
        "import math\n"
      ],
      "execution_count": 19,
      "outputs": []
    },
    {
      "cell_type": "markdown",
      "source": [
        "https://docs.python.org/pt-br/3/library/math.html"
      ],
      "metadata": {
        "id": "o22Iq_63Gm5v"
      }
    },
    {
      "cell_type": "code",
      "metadata": {
        "id": "-zEt18Gi3zDH"
      },
      "source": [
        "n = 18"
      ],
      "execution_count": 20,
      "outputs": []
    },
    {
      "cell_type": "code",
      "metadata": {
        "id": "hJVBJ7LE3wZL",
        "colab": {
          "base_uri": "https://localhost:8080/"
        },
        "outputId": "ee691f7d-effb-4b04-bc00-64da25d0a8e8"
      },
      "source": [
        "raiz = math.sqrt(n)\n",
        "print ('A raiz quadrada de {} é igual a {:.2f}!'.format (n, raiz)) # Impressão com duas casas após a vírgula"
      ],
      "execution_count": 24,
      "outputs": [
        {
          "output_type": "stream",
          "name": "stdout",
          "text": [
            "A raiz quadrada de 18 é igual a 4.24!\n"
          ]
        }
      ]
    },
    {
      "cell_type": "code",
      "metadata": {
        "id": "dWDNjAQIECyI",
        "colab": {
          "base_uri": "https://localhost:8080/"
        },
        "outputId": "4b996fc8-d189-4c8e-bf16-e9e5c39c1e20"
      },
      "source": [
        "print(raiz)"
      ],
      "execution_count": 25,
      "outputs": [
        {
          "output_type": "stream",
          "name": "stdout",
          "text": [
            "4.242640687119285\n"
          ]
        }
      ]
    },
    {
      "cell_type": "code",
      "source": [
        "math.sqrt(18)"
      ],
      "metadata": {
        "colab": {
          "base_uri": "https://localhost:8080/"
        },
        "id": "np3FjMOPKTiP",
        "outputId": "7aa5b5c4-b309-4876-f69d-dfb92b425fd4"
      },
      "execution_count": 26,
      "outputs": [
        {
          "output_type": "execute_result",
          "data": {
            "text/plain": [
              "4.242640687119285"
            ]
          },
          "metadata": {},
          "execution_count": 26
        }
      ]
    },
    {
      "cell_type": "code",
      "source": [
        "print(f'A raiz quadrada de {n} é {raiz:.2f}') # Forma mais atual em Python para impressão"
      ],
      "metadata": {
        "id": "xVI_fWy0GzP3"
      },
      "execution_count": null,
      "outputs": []
    },
    {
      "cell_type": "code",
      "metadata": {
        "id": "hFwB1fmz4RbL",
        "colab": {
          "base_uri": "https://localhost:8080/"
        },
        "outputId": "162e1116-474c-47f2-ff87-aa24f8979426"
      },
      "source": [
        "raiz2 = n ** 0.5 # Raiz quadrada com potência\n",
        "print (raiz2)"
      ],
      "execution_count": 27,
      "outputs": [
        {
          "output_type": "stream",
          "name": "stdout",
          "text": [
            "4.242640687119285\n"
          ]
        }
      ]
    },
    {
      "cell_type": "code",
      "source": [
        "print (f'{raiz2:.3f}') # Impressão com três casa decimais"
      ],
      "metadata": {
        "colab": {
          "base_uri": "https://localhost:8080/"
        },
        "id": "kcAW_taYHSvN",
        "outputId": "dc1af6d9-8fa4-4e89-fe93-4eb14e2984c7"
      },
      "execution_count": 28,
      "outputs": [
        {
          "output_type": "stream",
          "name": "stdout",
          "text": [
            "4.243\n"
          ]
        }
      ]
    },
    {
      "cell_type": "code",
      "metadata": {
        "id": "5Y4ovCja5H3Y",
        "colab": {
          "base_uri": "https://localhost:8080/"
        },
        "outputId": "bf735ddd-868a-4b64-deed-e83e48aa8dfb"
      },
      "source": [
        "print ('{:.3f}'.format(raiz2))"
      ],
      "execution_count": 29,
      "outputs": [
        {
          "output_type": "stream",
          "name": "stdout",
          "text": [
            "4.243\n"
          ]
        }
      ]
    },
    {
      "cell_type": "code",
      "source": [
        "sqrt(36)"
      ],
      "metadata": {
        "colab": {
          "base_uri": "https://localhost:8080/",
          "height": 144
        },
        "id": "Tby88ITGLZM6",
        "outputId": "3cf09ebf-e2e4-4fb5-c8a9-e1dd2a9afe25"
      },
      "execution_count": 30,
      "outputs": [
        {
          "output_type": "error",
          "ename": "NameError",
          "evalue": "name 'sqrt' is not defined",
          "traceback": [
            "\u001b[0;31m---------------------------------------------------------------------------\u001b[0m",
            "\u001b[0;31mNameError\u001b[0m                                 Traceback (most recent call last)",
            "\u001b[0;32m<ipython-input-30-53c38ff6c130>\u001b[0m in \u001b[0;36m<cell line: 0>\u001b[0;34m()\u001b[0m\n\u001b[0;32m----> 1\u001b[0;31m \u001b[0msqrt\u001b[0m\u001b[0;34m(\u001b[0m\u001b[0;36m36\u001b[0m\u001b[0;34m)\u001b[0m\u001b[0;34m\u001b[0m\u001b[0;34m\u001b[0m\u001b[0m\n\u001b[0m",
            "\u001b[0;31mNameError\u001b[0m: name 'sqrt' is not defined"
          ]
        }
      ]
    },
    {
      "cell_type": "code",
      "metadata": {
        "id": "WsMSOqQr5v-9",
        "colab": {
          "base_uri": "https://localhost:8080/"
        },
        "outputId": "106301f2-3f1f-4abe-d5b9-12a7e79c1d03"
      },
      "source": [
        "from math import sqrt\n",
        "raiz3 = sqrt(n)\n",
        "print (f'{raiz3:.2f}')"
      ],
      "execution_count": 31,
      "outputs": [
        {
          "output_type": "stream",
          "name": "stdout",
          "text": [
            "4.24\n"
          ]
        }
      ]
    },
    {
      "cell_type": "code",
      "source": [
        "sqrt(36)"
      ],
      "metadata": {
        "colab": {
          "base_uri": "https://localhost:8080/"
        },
        "id": "hl_EXlBUL01k",
        "outputId": "56decf5d-4f05-40ff-cd3d-7431614c89fd"
      },
      "execution_count": 32,
      "outputs": [
        {
          "output_type": "execute_result",
          "data": {
            "text/plain": [
              "6.0"
            ]
          },
          "metadata": {},
          "execution_count": 32
        }
      ]
    },
    {
      "cell_type": "code",
      "metadata": {
        "id": "vL_3azbqvI86"
      },
      "source": [
        "from math import sqrt, factorial"
      ],
      "execution_count": 33,
      "outputs": []
    },
    {
      "cell_type": "code",
      "metadata": {
        "id": "8TK6aLcovYf_",
        "colab": {
          "base_uri": "https://localhost:8080/"
        },
        "outputId": "95200ce5-f52c-4f26-8bff-022664db3b93"
      },
      "source": [
        "fat = factorial(5)       # fatorial: 4! = 4.3.2 = 24\n",
        "                         #           5! = 5.4.3.2 = 120\n",
        "fat"
      ],
      "execution_count": 35,
      "outputs": [
        {
          "output_type": "execute_result",
          "data": {
            "text/plain": [
              "120"
            ]
          },
          "metadata": {},
          "execution_count": 35
        }
      ]
    },
    {
      "cell_type": "code",
      "source": [
        "factorial(8)"
      ],
      "metadata": {
        "id": "T8Dexa_GMObU"
      },
      "execution_count": null,
      "outputs": []
    },
    {
      "cell_type": "code",
      "source": [
        "fatorial_raiz = factorial(int(sqrt(16))) # Fatorial da raiz quadrade de 16 = 4\n",
        "fatorial_raiz"
      ],
      "metadata": {
        "colab": {
          "base_uri": "https://localhost:8080/"
        },
        "id": "H_vtnZSMn8gD",
        "outputId": "2e291c21-8825-4830-86f4-593830c133fc"
      },
      "execution_count": 36,
      "outputs": [
        {
          "output_type": "execute_result",
          "data": {
            "text/plain": [
              "24"
            ]
          },
          "metadata": {},
          "execution_count": 36
        }
      ]
    },
    {
      "cell_type": "code",
      "metadata": {
        "id": "sVU44zJhwtF1",
        "colab": {
          "base_uri": "https://localhost:8080/"
        },
        "outputId": "1c4070a7-cf29-4c36-b891-594d41e9642a"
      },
      "source": [
        "fatorial_raiz = math.factorial(int(math.sqrt(16))) # Implementando os métodos com math.\n",
        "fatorial_raiz"
      ],
      "execution_count": 37,
      "outputs": [
        {
          "output_type": "execute_result",
          "data": {
            "text/plain": [
              "24"
            ]
          },
          "metadata": {},
          "execution_count": 37
        }
      ]
    },
    {
      "cell_type": "code",
      "metadata": {
        "id": "Pk8d40wE562N",
        "colab": {
          "base_uri": "https://localhost:8080/"
        },
        "outputId": "a809c12b-8848-4167-e494-5a3c10d2e695"
      },
      "source": [
        "import random\n",
        "num = random.randint (1,10)\n",
        "print (num)"
      ],
      "execution_count": 40,
      "outputs": [
        {
          "output_type": "stream",
          "name": "stdout",
          "text": [
            "3\n"
          ]
        }
      ]
    },
    {
      "cell_type": "code",
      "metadata": {
        "id": "foLfjcEZ88LK"
      },
      "source": [
        "random. # Validar módulos"
      ],
      "execution_count": null,
      "outputs": []
    },
    {
      "cell_type": "markdown",
      "source": [
        "https://docs.python.org/pt-br/3.7/library/random.html"
      ],
      "metadata": {
        "id": "n6qLsPMUHNoF"
      }
    },
    {
      "cell_type": "code",
      "metadata": {
        "id": "N6K3ZTUq9EcH"
      },
      "source": [
        "from random import random, randint"
      ],
      "execution_count": 43,
      "outputs": []
    },
    {
      "cell_type": "code",
      "metadata": {
        "id": "7gDnh7Sv-GOL"
      },
      "source": [
        "random?"
      ],
      "execution_count": 41,
      "outputs": []
    },
    {
      "cell_type": "code",
      "metadata": {
        "id": "n69KJ82G-qLk"
      },
      "source": [
        "randint?"
      ],
      "execution_count": 47,
      "outputs": []
    },
    {
      "cell_type": "code",
      "metadata": {
        "id": "Qn6p4XLt9MiI",
        "colab": {
          "base_uri": "https://localhost:8080/"
        },
        "outputId": "2c73918f-bc04-4118-de5e-e89099ce3f41"
      },
      "source": [
        "num2 = random()\n",
        "num2"
      ],
      "execution_count": 55,
      "outputs": [
        {
          "output_type": "execute_result",
          "data": {
            "text/plain": [
              "0.47080120454433505"
            ]
          },
          "metadata": {},
          "execution_count": 55
        }
      ]
    },
    {
      "cell_type": "code",
      "source": [
        "randint(12,125)"
      ],
      "metadata": {
        "colab": {
          "base_uri": "https://localhost:8080/"
        },
        "id": "cVkndYd8OVbp",
        "outputId": "bff5d86d-ca38-4373-9139-d13fdbff224b"
      },
      "execution_count": 74,
      "outputs": [
        {
          "output_type": "execute_result",
          "data": {
            "text/plain": [
              "17"
            ]
          },
          "metadata": {},
          "execution_count": 74
        }
      ]
    },
    {
      "cell_type": "markdown",
      "metadata": {
        "id": "S0D7LUH87yT_"
      },
      "source": [
        "# **Estrutura condicional**"
      ]
    },
    {
      "cell_type": "code",
      "source": [
        "import numpy as np"
      ],
      "metadata": {
        "id": "o0-xAwbrD3sH"
      },
      "execution_count": null,
      "outputs": []
    },
    {
      "cell_type": "markdown",
      "metadata": {
        "id": "1z1BpFdSoEP3"
      },
      "source": [
        "if\n",
        "else\n",
        "elif"
      ]
    },
    {
      "cell_type": "code",
      "metadata": {
        "id": "PscLlibJ8A-P"
      },
      "source": [
        "nota = 5"
      ],
      "execution_count": null,
      "outputs": []
    },
    {
      "cell_type": "code",
      "metadata": {
        "id": "m9O23T6U7VaB"
      },
      "source": [
        "if nota >= 6:\n",
        "    print('Aprovado')\n",
        "else:\n",
        "    print('Reprovado')"
      ],
      "execution_count": null,
      "outputs": []
    },
    {
      "cell_type": "code",
      "metadata": {
        "id": "8phBT3oh8b25"
      },
      "source": [
        "if nota >= 6:\n",
        "    print('Aprovado')\n",
        "elif nota >= 5 and nota< 6:\n",
        "    print('Recuperação')\n",
        "else:\n",
        "    print('Reprovado')"
      ],
      "execution_count": null,
      "outputs": []
    },
    {
      "cell_type": "markdown",
      "metadata": {
        "id": "zYMDxIsTog20"
      },
      "source": [
        "# **Estrutura de Repetição**"
      ]
    },
    {
      "cell_type": "markdown",
      "metadata": {
        "id": "6UzQZL5JoqSM"
      },
      "source": [
        "for\n",
        "while\n"
      ]
    },
    {
      "cell_type": "code",
      "metadata": {
        "id": "H-m31UA8ovSt"
      },
      "source": [
        "for c in range(0,4):\n",
        "    print(c)"
      ],
      "execution_count": null,
      "outputs": []
    },
    {
      "cell_type": "code",
      "metadata": {
        "id": "qLzFKC2-txnH"
      },
      "source": [
        "lista = [1, 2, 3, 4, 10]\n",
        "for numero in lista:\n",
        "  mult = numero * 2\n",
        "  print(mult)"
      ],
      "execution_count": null,
      "outputs": []
    },
    {
      "cell_type": "code",
      "metadata": {
        "id": "JfN3HtEisED1"
      },
      "source": [
        "soma = 0\n",
        "cont = 0\n",
        "for c in range (1, 6):\n",
        "    num = int(input('digite o {}o valor: '.format(c)))\n",
        "    if num % 2 == 0:\n",
        "        soma = soma + num\n",
        "        cont = cont + 1\n",
        "print('Você informou {} números pares e a soma deles é igual a {}'.format(cont, soma))"
      ],
      "execution_count": null,
      "outputs": []
    },
    {
      "cell_type": "code",
      "metadata": {
        "id": "zEhnKG1aq_nM"
      },
      "source": [
        "c = 1\n",
        "while c <= 10:\n",
        "    s = c + 10\n",
        "    print(s)\n",
        "    c = c + 1\n",
        "print('FIM')"
      ],
      "execution_count": null,
      "outputs": []
    },
    {
      "cell_type": "markdown",
      "metadata": {
        "id": "zsJIT1D5u_fc"
      },
      "source": [
        "# **Listas, Tuplas e Dicionários**"
      ]
    },
    {
      "cell_type": "markdown",
      "metadata": {
        "id": "SdbTnj1KvM3b"
      },
      "source": [
        "Listas [ ]\n",
        "Tuplas ( )\n",
        "Dicionários { }"
      ]
    },
    {
      "cell_type": "markdown",
      "metadata": {
        "id": "wSQTmCVWx3_O"
      },
      "source": [
        "**LISTAS**"
      ]
    },
    {
      "cell_type": "code",
      "metadata": {
        "id": "HnYMCqQuvkr8"
      },
      "source": [
        "num = [2, 5, 7, 9]"
      ],
      "execution_count": null,
      "outputs": []
    },
    {
      "cell_type": "code",
      "metadata": {
        "id": "SDBxexK3vq7B"
      },
      "source": [
        "num[3] = 4   # no lugar do elemento na posição 3 (número 9) vai ser colocado o número 4"
      ],
      "execution_count": null,
      "outputs": []
    },
    {
      "cell_type": "code",
      "metadata": {
        "id": "kfkiZ9suwE3I"
      },
      "source": [
        "num"
      ],
      "execution_count": null,
      "outputs": []
    },
    {
      "cell_type": "code",
      "metadata": {
        "id": "JzL0DiSOwLdg"
      },
      "source": [
        "num.append(8) #inclui o número 8\n",
        "num"
      ],
      "execution_count": null,
      "outputs": []
    },
    {
      "cell_type": "code",
      "metadata": {
        "id": "1KbNaG8OwhjC"
      },
      "source": [
        "num.sort() #coloca em ordem crescente\n",
        "num"
      ],
      "execution_count": null,
      "outputs": []
    },
    {
      "cell_type": "code",
      "metadata": {
        "id": "fo4dZTcFw2z1"
      },
      "source": [
        "num.insert(2, 0) # adiciona o zero na posição 2\n",
        "num"
      ],
      "execution_count": null,
      "outputs": []
    },
    {
      "cell_type": "code",
      "metadata": {
        "id": "2wim84P4xEkd"
      },
      "source": [
        "num.remove(7) #remove o elemento 7\n",
        "num"
      ],
      "execution_count": null,
      "outputs": []
    },
    {
      "cell_type": "code",
      "metadata": {
        "id": "9HXeuBChxeb0"
      },
      "source": [
        "num.pop(3) #remove o elemento na posição 3\n",
        "num"
      ],
      "execution_count": null,
      "outputs": []
    },
    {
      "cell_type": "code",
      "source": [
        "del(num[0:2]) #deleta números em um determinado intervalo"
      ],
      "metadata": {
        "id": "ExWXGnKxKX0e"
      },
      "execution_count": null,
      "outputs": []
    },
    {
      "cell_type": "code",
      "source": [
        "num"
      ],
      "metadata": {
        "id": "mUthv_ThKc1l"
      },
      "execution_count": null,
      "outputs": []
    },
    {
      "cell_type": "markdown",
      "metadata": {
        "id": "UZ7wtvhjywTz"
      },
      "source": [
        "**TUPLAS**"
      ]
    },
    {
      "cell_type": "markdown",
      "metadata": {
        "id": "dEFU0DGDgEwz"
      },
      "source": [
        "Tupla é imutável."
      ]
    },
    {
      "cell_type": "code",
      "metadata": {
        "id": "gydwsEq-xyvM"
      },
      "source": [
        "num2 = (2, 5, 7, 9)"
      ],
      "execution_count": null,
      "outputs": []
    },
    {
      "cell_type": "code",
      "metadata": {
        "id": "wZ0CZ4wtyBhz"
      },
      "source": [
        "num2[3] = 4"
      ],
      "execution_count": null,
      "outputs": []
    },
    {
      "cell_type": "code",
      "metadata": {
        "id": "q1Rlip6SycjK"
      },
      "source": [
        "num2.append(8) #inclui o número 8\n",
        "num2"
      ],
      "execution_count": null,
      "outputs": []
    },
    {
      "cell_type": "markdown",
      "metadata": {
        "id": "Nayqp9rby0kZ"
      },
      "source": [
        "**DICIONÁRIOS**"
      ]
    },
    {
      "cell_type": "code",
      "metadata": {
        "id": "YaEdF0kly9FQ"
      },
      "source": [
        "pessoas = {'nome': 'Luciano', 'sexo': 'masculino', 'idade': 46}  # número não coloca aspas\n",
        "print (pessoas)"
      ],
      "execution_count": null,
      "outputs": []
    },
    {
      "cell_type": "code",
      "metadata": {
        "id": "iVQVWZkXz-OH"
      },
      "source": [
        "pessoas['time'] = 'Corinthians'\n",
        "print(pessoas)"
      ],
      "execution_count": null,
      "outputs": []
    },
    {
      "cell_type": "code",
      "metadata": {
        "id": "Ma9cXRzi16BT"
      },
      "source": [
        "del pessoas['idade']\n",
        "print(pessoas)"
      ],
      "execution_count": null,
      "outputs": []
    },
    {
      "cell_type": "markdown",
      "metadata": {
        "id": "ZIFE-DwhkB_K"
      },
      "source": [
        "# **Funções**"
      ]
    },
    {
      "cell_type": "code",
      "metadata": {
        "id": "dRcIq_-nkKEh"
      },
      "source": [
        "def identificacao(nome,idade):\n",
        "   print('Olá',nome,'\\nVocê é jovem, tem apenas',idade, 'anos')"
      ],
      "execution_count": null,
      "outputs": []
    },
    {
      "cell_type": "code",
      "metadata": {
        "id": "le4TCLqUk-5g"
      },
      "source": [
        "identificacao('Luciano', 46)"
      ],
      "execution_count": null,
      "outputs": []
    },
    {
      "cell_type": "code",
      "metadata": {
        "id": "qJWNKw8nlg82"
      },
      "source": [
        "def maior (x,y):\n",
        "  if x < y:\n",
        "    print ('O maior número é', y)\n",
        "  elif x == y:\n",
        "    print ('Os números são iguais')\n",
        "  else:\n",
        "    print ('O maior número é', x)"
      ],
      "execution_count": null,
      "outputs": []
    },
    {
      "cell_type": "code",
      "metadata": {
        "id": "QBXbsMyJmQzm"
      },
      "source": [
        "maior (11,16)"
      ],
      "execution_count": null,
      "outputs": []
    },
    {
      "cell_type": "code",
      "metadata": {
        "id": "AH4rNn6dmrdl"
      },
      "source": [
        "def pitagoras (cat1, cat2, hip):\n",
        "  if hip == '?':\n",
        "    hip = (cat1**2+cat2**2)**(1/2)\n",
        "    print ('A hipotenusa é', hip)\n",
        "  elif cat1 == '?':\n",
        "    cat1 = (hip**2-cat2**2)**(1/2)\n",
        "    print ('O cateto é', cat1)\n",
        "  elif cat2 == '?':\n",
        "    cat2 = (hip**2-cat1**2)**(1/2)\n",
        "    print ('O cateto é', cat2)"
      ],
      "execution_count": null,
      "outputs": []
    },
    {
      "cell_type": "code",
      "metadata": {
        "id": "AdqHm9aWnF-T"
      },
      "source": [
        "pitagoras (13,5,'?')"
      ],
      "execution_count": null,
      "outputs": []
    },
    {
      "cell_type": "markdown",
      "metadata": {
        "id": "Wbpjrij0Q6Il"
      },
      "source": [
        "## **Função lambda e map**"
      ]
    },
    {
      "cell_type": "markdown",
      "metadata": {
        "id": "5CuPklGeX2RJ"
      },
      "source": [
        "Forma simplificada de escrever funções"
      ]
    },
    {
      "cell_type": "code",
      "metadata": {
        "id": "LqflbOryRCJt"
      },
      "source": [
        "def area_quadrado (L):\n",
        "  area = L**2\n",
        "  print(area)"
      ],
      "execution_count": null,
      "outputs": []
    },
    {
      "cell_type": "code",
      "metadata": {
        "id": "gTUKwLKPRWfs"
      },
      "source": [
        "area_quadrado(4)"
      ],
      "execution_count": null,
      "outputs": []
    },
    {
      "cell_type": "code",
      "metadata": {
        "id": "HgWm3A8FRe4r"
      },
      "source": [
        "area_quadrado2 = lambda x: x**2"
      ],
      "execution_count": null,
      "outputs": []
    },
    {
      "cell_type": "code",
      "metadata": {
        "id": "q7k3w49zWHBb"
      },
      "source": [
        "area_quadrado2(7)"
      ],
      "execution_count": null,
      "outputs": []
    },
    {
      "cell_type": "code",
      "metadata": {
        "id": "fYePyGQiWx9N"
      },
      "source": [
        "area_retangulo = lambda b, h: b*h"
      ],
      "execution_count": null,
      "outputs": []
    },
    {
      "cell_type": "code",
      "metadata": {
        "id": "zRPIrrLCXHK7"
      },
      "source": [
        "area_retangulo(4,7)"
      ],
      "execution_count": null,
      "outputs": []
    },
    {
      "cell_type": "code",
      "metadata": {
        "id": "T7Fy6q5YSiXS"
      },
      "source": [
        "# Uma vantagem é quando se utiliza juntamente com outros métodos\n",
        "L = [4,5,6,7,11,9,10]\n",
        "areas = list(map(lambda x: x**2, L))\n",
        "print(areas)"
      ],
      "execution_count": null,
      "outputs": []
    },
    {
      "cell_type": "code",
      "source": [
        "area_retangulo = lambda b, h: b*h"
      ],
      "metadata": {
        "id": "f28TPZHmQih2"
      },
      "execution_count": null,
      "outputs": []
    },
    {
      "cell_type": "markdown",
      "metadata": {
        "id": "0qqrF6eUXrE4"
      },
      "source": [
        "# **List Comprehensions**"
      ]
    },
    {
      "cell_type": "markdown",
      "metadata": {
        "id": "h8_IZl4BYSgG"
      },
      "source": [
        "Otimiza a utilização de listas e diminui linhas de código"
      ]
    },
    {
      "cell_type": "code",
      "metadata": {
        "id": "e_i-0-4aYR0m"
      },
      "source": [
        "lista=[]\n",
        "for valor in range(5):\n",
        "  lista.append(valor+10)\n",
        "print(lista)\n"
      ],
      "execution_count": null,
      "outputs": []
    },
    {
      "cell_type": "code",
      "metadata": {
        "id": "uThJIVObXpeR"
      },
      "source": [
        "lista = [valor+10 for valor in range(5)]\n",
        "print(lista)\n"
      ],
      "execution_count": null,
      "outputs": []
    },
    {
      "cell_type": "code",
      "metadata": {
        "id": "gmq6W-Fjarvf"
      },
      "source": [
        "lista = []\n",
        "for numero in range (1,30):\n",
        "  if numero % 4 == 0:\n",
        "    lista.append(numero)\n",
        "print(lista)\n"
      ],
      "execution_count": null,
      "outputs": []
    },
    {
      "cell_type": "code",
      "metadata": {
        "id": "se6DeQZKZ6HJ"
      },
      "source": [
        "multiplos4 = [numero for numero in range(1,30) if numero % 4 == 0]\n",
        "print(multiplos4)\n"
      ],
      "execution_count": null,
      "outputs": []
    },
    {
      "cell_type": "code",
      "metadata": {
        "id": "Fi5Hes3ebvVN"
      },
      "source": [
        "conceito = ['azul' if nota >= 6 else 'vermelha' for nota in range(1,11)]\n",
        "print(conceito)"
      ],
      "execution_count": null,
      "outputs": []
    },
    {
      "cell_type": "markdown",
      "metadata": {
        "id": "uxCpeYoKDdd9"
      },
      "source": [
        "# **Vetores (arrays) e matrizes**"
      ]
    },
    {
      "cell_type": "markdown",
      "metadata": {
        "id": "RvI6SyjG5zjX"
      },
      "source": [
        "Matriz\n",
        "1    3    5    7\n",
        "2    4    6    8\n",
        "0    1    2    3\n",
        "\n",
        "Vetor\n",
        "5  10  15  20\n",
        "ou\n",
        "3\n",
        "4\n",
        "5\n",
        "6"
      ]
    },
    {
      "cell_type": "code",
      "metadata": {
        "id": "TAWr5vcXE3Ri"
      },
      "source": [
        "vetor = [2,4,5,6]"
      ],
      "execution_count": null,
      "outputs": []
    },
    {
      "cell_type": "code",
      "metadata": {
        "id": "wTr4TDHhE7gq"
      },
      "source": [
        "type(vetor)"
      ],
      "execution_count": null,
      "outputs": []
    },
    {
      "cell_type": "code",
      "metadata": {
        "id": "nPPcWhIjG4YP"
      },
      "source": [
        "matriz = [[1,2,3],\n",
        "          [4,5,6],\n",
        "          [7,8,9]]"
      ],
      "execution_count": null,
      "outputs": []
    },
    {
      "cell_type": "code",
      "metadata": {
        "id": "ff6UObFAHAcs"
      },
      "source": [
        "type(matriz)"
      ],
      "execution_count": null,
      "outputs": []
    },
    {
      "cell_type": "code",
      "metadata": {
        "id": "PlJvmdwnKbkN"
      },
      "source": [
        "print(matriz)"
      ],
      "execution_count": null,
      "outputs": []
    },
    {
      "cell_type": "code",
      "metadata": {
        "id": "L3C192qbB4sR"
      },
      "source": [
        "import numpy as np"
      ],
      "execution_count": null,
      "outputs": []
    },
    {
      "cell_type": "code",
      "metadata": {
        "id": "_xDT0MeaDuAW"
      },
      "source": [
        "vetor2 = np.array([1, -3, 4.2, 5])"
      ],
      "execution_count": null,
      "outputs": []
    },
    {
      "cell_type": "code",
      "metadata": {
        "id": "ED19yxFZE0PE"
      },
      "source": [
        "type(vetor2)"
      ],
      "execution_count": null,
      "outputs": []
    },
    {
      "cell_type": "code",
      "metadata": {
        "id": "ipy3TrhoJLKT"
      },
      "source": [
        "print (vetor2)"
      ],
      "execution_count": null,
      "outputs": []
    },
    {
      "cell_type": "code",
      "metadata": {
        "id": "r9Lsxs2YCHP0"
      },
      "source": [
        "matriz2 = np.ones((2,3))\n",
        "matriz2"
      ],
      "execution_count": null,
      "outputs": []
    },
    {
      "cell_type": "code",
      "metadata": {
        "id": "CBTQ5_IHKK9G"
      },
      "source": [
        "type(matriz2)"
      ],
      "execution_count": null,
      "outputs": []
    },
    {
      "cell_type": "code",
      "metadata": {
        "id": "Bx_SfghTCYZC"
      },
      "source": [
        "matriz3 = np.diag((2,4,6,8,10))\n",
        "matriz3"
      ],
      "execution_count": null,
      "outputs": []
    },
    {
      "cell_type": "code",
      "metadata": {
        "id": "ULocEupzEaNU"
      },
      "source": [
        "type(matriz3)"
      ],
      "execution_count": null,
      "outputs": []
    }
  ]
}