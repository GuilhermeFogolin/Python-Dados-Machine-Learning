{
  "nbformat": 4,
  "nbformat_minor": 0,
  "metadata": {
    "colab": {
      "provenance": [],
      "include_colab_link": true
    },
    "kernelspec": {
      "name": "python3",
      "display_name": "Python 3"
    },
    "language_info": {
      "name": "python"
    }
  },
  "cells": [
    {
      "cell_type": "markdown",
      "metadata": {
        "id": "view-in-github",
        "colab_type": "text"
      },
      "source": [
        "<a href=\"https://colab.research.google.com/github/GuilhermeFogolin/Python-Dados-Machine-Learning/blob/main/Tratamento_Projeto01.ipynb\" target=\"_parent\"><img src=\"https://colab.research.google.com/assets/colab-badge.svg\" alt=\"Open In Colab\"/></a>"
      ]
    },
    {
      "cell_type": "markdown",
      "metadata": {
        "id": "fQJ5CYV9Te0X"
      },
      "source": [
        "# **Projeto: Análise dos dados do COVID 19 no estado de São Paulo**"
      ]
    },
    {
      "cell_type": "markdown",
      "metadata": {
        "id": "kXFCCsVHTtTP"
      },
      "source": [
        "Este projeto analisa os dados dos casos de covid 19 no estado de São Paulo do período de fevereiro de 2020 a setembro de 2021."
      ]
    },
    {
      "cell_type": "markdown",
      "metadata": {
        "id": "5ZQ2nYhQUc3G"
      },
      "source": [
        "Os dados estão disponíveis nos sites:\n",
        "\n",
        "https://www.seade.gov.br/coronavirus/#\n",
        "\n",
        "https://github.com/seade-R/dados-covid-sp\n",
        "\n",
        "https://www.seade.gov.br/\n"
      ]
    },
    {
      "cell_type": "markdown",
      "metadata": {
        "id": "9_XcXErv4VIU"
      },
      "source": [
        "## **Importação dos Dados**"
      ]
    },
    {
      "cell_type": "markdown",
      "metadata": {
        "id": "k5vzgVI9x5jW"
      },
      "source": [
        "### **Importação de arquivo csv**"
      ]
    },
    {
      "cell_type": "code",
      "metadata": {
        "id": "nWvIcticlCs2"
      },
      "source": [
        "import numpy as np\n",
        "import pandas as pd"
      ],
      "execution_count": 4,
      "outputs": []
    },
    {
      "cell_type": "code",
      "source": [
        "from google.colab import drive # Importando o Google Drive\n",
        "drive.mount('/content/drive')"
      ],
      "metadata": {
        "id": "-e1LdyHcRgx3"
      },
      "execution_count": null,
      "outputs": []
    },
    {
      "cell_type": "code",
      "metadata": {
        "id": "LRIrwcC8kUhT"
      },
      "source": [
        "covid_sp = pd.read_csv('/content/drive/MyDrive/Python_Dados_Machine_Learning/Dados_COVID_SP.csv',\n",
        "                    sep=';', encoding='utf-8')\n",
        "# Encoding: codificação de caracteres, normalmente utiliza-se o ISO-8859-1 ou UTF-8 ou latin-1)"
      ],
      "execution_count": 5,
      "outputs": []
    },
    {
      "cell_type": "code",
      "metadata": {
        "id": "GkFTnV4UmHNw",
        "colab": {
          "base_uri": "https://localhost:8080/",
          "height": 394
        },
        "outputId": "40d6b794-65d4-463b-e6de-03d2d654bc01"
      },
      "source": [
        "covid_sp.head()"
      ],
      "execution_count": 6,
      "outputs": [
        {
          "output_type": "execute_result",
          "data": {
            "text/plain": [
              "         nome_munic  codigo_ibge  dia  mes    datahora  casos  casos_novos  \\\n",
              "0        Adamantina      3500105   25    2  2020-02-25      0            0   \n",
              "1            Adolfo      3500204   25    2  2020-02-25      0            0   \n",
              "2             Aguaí      3500303   25    2  2020-02-25      0            0   \n",
              "3    Águas da Prata      3500402   25    2  2020-02-25      0            0   \n",
              "4  Águas de Lindóia      3500501   25    2  2020-02-25      0            0   \n",
              "\n",
              "               casos_pc         casos_mm7d  obitos  ...  \\\n",
              "0  0,00000000000000e+00  0,000000000000000       0  ...   \n",
              "1  0,00000000000000e+00  0,000000000000000       0  ...   \n",
              "2  0,00000000000000e+00  0,000000000000000       0  ...   \n",
              "3  0,00000000000000e+00  0,000000000000000       0  ...   \n",
              "4  0,00000000000000e+00  0,000000000000000       0  ...   \n",
              "\n",
              "                nome_drs cod_drs    pop pop_60   area  map_leg map_leg_s  \\\n",
              "0                Marília       5  33894   7398  41199        0       8.0   \n",
              "1  São José do Rio Preto      15   3447    761  21106        0       8.0   \n",
              "2  São João da Boa Vista      14  35608   5245  47455        0       8.0   \n",
              "3  São João da Boa Vista      14   7797   1729  14267        0       8.0   \n",
              "4               Campinas       3  18374   3275   6013        0       8.0   \n",
              "\n",
              "   latitude  longitude  semana_epidem  \n",
              "0  -21,6820   -51,0737              9  \n",
              "1  -21,2325   -49,6451              9  \n",
              "2  -22,0572   -46,9735              9  \n",
              "3  -21,9319   -46,7176              9  \n",
              "4  -22,4733   -46,6314              9  \n",
              "\n",
              "[5 rows x 26 columns]"
            ],
            "text/html": [
              "\n",
              "  <div id=\"df-4214e8d8-9cb5-4ea3-beb9-80dafa6614e9\" class=\"colab-df-container\">\n",
              "    <div>\n",
              "<style scoped>\n",
              "    .dataframe tbody tr th:only-of-type {\n",
              "        vertical-align: middle;\n",
              "    }\n",
              "\n",
              "    .dataframe tbody tr th {\n",
              "        vertical-align: top;\n",
              "    }\n",
              "\n",
              "    .dataframe thead th {\n",
              "        text-align: right;\n",
              "    }\n",
              "</style>\n",
              "<table border=\"1\" class=\"dataframe\">\n",
              "  <thead>\n",
              "    <tr style=\"text-align: right;\">\n",
              "      <th></th>\n",
              "      <th>nome_munic</th>\n",
              "      <th>codigo_ibge</th>\n",
              "      <th>dia</th>\n",
              "      <th>mes</th>\n",
              "      <th>datahora</th>\n",
              "      <th>casos</th>\n",
              "      <th>casos_novos</th>\n",
              "      <th>casos_pc</th>\n",
              "      <th>casos_mm7d</th>\n",
              "      <th>obitos</th>\n",
              "      <th>...</th>\n",
              "      <th>nome_drs</th>\n",
              "      <th>cod_drs</th>\n",
              "      <th>pop</th>\n",
              "      <th>pop_60</th>\n",
              "      <th>area</th>\n",
              "      <th>map_leg</th>\n",
              "      <th>map_leg_s</th>\n",
              "      <th>latitude</th>\n",
              "      <th>longitude</th>\n",
              "      <th>semana_epidem</th>\n",
              "    </tr>\n",
              "  </thead>\n",
              "  <tbody>\n",
              "    <tr>\n",
              "      <th>0</th>\n",
              "      <td>Adamantina</td>\n",
              "      <td>3500105</td>\n",
              "      <td>25</td>\n",
              "      <td>2</td>\n",
              "      <td>2020-02-25</td>\n",
              "      <td>0</td>\n",
              "      <td>0</td>\n",
              "      <td>0,00000000000000e+00</td>\n",
              "      <td>0,000000000000000</td>\n",
              "      <td>0</td>\n",
              "      <td>...</td>\n",
              "      <td>Marília</td>\n",
              "      <td>5</td>\n",
              "      <td>33894</td>\n",
              "      <td>7398</td>\n",
              "      <td>41199</td>\n",
              "      <td>0</td>\n",
              "      <td>8.0</td>\n",
              "      <td>-21,6820</td>\n",
              "      <td>-51,0737</td>\n",
              "      <td>9</td>\n",
              "    </tr>\n",
              "    <tr>\n",
              "      <th>1</th>\n",
              "      <td>Adolfo</td>\n",
              "      <td>3500204</td>\n",
              "      <td>25</td>\n",
              "      <td>2</td>\n",
              "      <td>2020-02-25</td>\n",
              "      <td>0</td>\n",
              "      <td>0</td>\n",
              "      <td>0,00000000000000e+00</td>\n",
              "      <td>0,000000000000000</td>\n",
              "      <td>0</td>\n",
              "      <td>...</td>\n",
              "      <td>São José do Rio Preto</td>\n",
              "      <td>15</td>\n",
              "      <td>3447</td>\n",
              "      <td>761</td>\n",
              "      <td>21106</td>\n",
              "      <td>0</td>\n",
              "      <td>8.0</td>\n",
              "      <td>-21,2325</td>\n",
              "      <td>-49,6451</td>\n",
              "      <td>9</td>\n",
              "    </tr>\n",
              "    <tr>\n",
              "      <th>2</th>\n",
              "      <td>Aguaí</td>\n",
              "      <td>3500303</td>\n",
              "      <td>25</td>\n",
              "      <td>2</td>\n",
              "      <td>2020-02-25</td>\n",
              "      <td>0</td>\n",
              "      <td>0</td>\n",
              "      <td>0,00000000000000e+00</td>\n",
              "      <td>0,000000000000000</td>\n",
              "      <td>0</td>\n",
              "      <td>...</td>\n",
              "      <td>São João da Boa Vista</td>\n",
              "      <td>14</td>\n",
              "      <td>35608</td>\n",
              "      <td>5245</td>\n",
              "      <td>47455</td>\n",
              "      <td>0</td>\n",
              "      <td>8.0</td>\n",
              "      <td>-22,0572</td>\n",
              "      <td>-46,9735</td>\n",
              "      <td>9</td>\n",
              "    </tr>\n",
              "    <tr>\n",
              "      <th>3</th>\n",
              "      <td>Águas da Prata</td>\n",
              "      <td>3500402</td>\n",
              "      <td>25</td>\n",
              "      <td>2</td>\n",
              "      <td>2020-02-25</td>\n",
              "      <td>0</td>\n",
              "      <td>0</td>\n",
              "      <td>0,00000000000000e+00</td>\n",
              "      <td>0,000000000000000</td>\n",
              "      <td>0</td>\n",
              "      <td>...</td>\n",
              "      <td>São João da Boa Vista</td>\n",
              "      <td>14</td>\n",
              "      <td>7797</td>\n",
              "      <td>1729</td>\n",
              "      <td>14267</td>\n",
              "      <td>0</td>\n",
              "      <td>8.0</td>\n",
              "      <td>-21,9319</td>\n",
              "      <td>-46,7176</td>\n",
              "      <td>9</td>\n",
              "    </tr>\n",
              "    <tr>\n",
              "      <th>4</th>\n",
              "      <td>Águas de Lindóia</td>\n",
              "      <td>3500501</td>\n",
              "      <td>25</td>\n",
              "      <td>2</td>\n",
              "      <td>2020-02-25</td>\n",
              "      <td>0</td>\n",
              "      <td>0</td>\n",
              "      <td>0,00000000000000e+00</td>\n",
              "      <td>0,000000000000000</td>\n",
              "      <td>0</td>\n",
              "      <td>...</td>\n",
              "      <td>Campinas</td>\n",
              "      <td>3</td>\n",
              "      <td>18374</td>\n",
              "      <td>3275</td>\n",
              "      <td>6013</td>\n",
              "      <td>0</td>\n",
              "      <td>8.0</td>\n",
              "      <td>-22,4733</td>\n",
              "      <td>-46,6314</td>\n",
              "      <td>9</td>\n",
              "    </tr>\n",
              "  </tbody>\n",
              "</table>\n",
              "<p>5 rows × 26 columns</p>\n",
              "</div>\n",
              "    <div class=\"colab-df-buttons\">\n",
              "\n",
              "  <div class=\"colab-df-container\">\n",
              "    <button class=\"colab-df-convert\" onclick=\"convertToInteractive('df-4214e8d8-9cb5-4ea3-beb9-80dafa6614e9')\"\n",
              "            title=\"Convert this dataframe to an interactive table.\"\n",
              "            style=\"display:none;\">\n",
              "\n",
              "  <svg xmlns=\"http://www.w3.org/2000/svg\" height=\"24px\" viewBox=\"0 -960 960 960\">\n",
              "    <path d=\"M120-120v-720h720v720H120Zm60-500h600v-160H180v160Zm220 220h160v-160H400v160Zm0 220h160v-160H400v160ZM180-400h160v-160H180v160Zm440 0h160v-160H620v160ZM180-180h160v-160H180v160Zm440 0h160v-160H620v160Z\"/>\n",
              "  </svg>\n",
              "    </button>\n",
              "\n",
              "  <style>\n",
              "    .colab-df-container {\n",
              "      display:flex;\n",
              "      gap: 12px;\n",
              "    }\n",
              "\n",
              "    .colab-df-convert {\n",
              "      background-color: #E8F0FE;\n",
              "      border: none;\n",
              "      border-radius: 50%;\n",
              "      cursor: pointer;\n",
              "      display: none;\n",
              "      fill: #1967D2;\n",
              "      height: 32px;\n",
              "      padding: 0 0 0 0;\n",
              "      width: 32px;\n",
              "    }\n",
              "\n",
              "    .colab-df-convert:hover {\n",
              "      background-color: #E2EBFA;\n",
              "      box-shadow: 0px 1px 2px rgba(60, 64, 67, 0.3), 0px 1px 3px 1px rgba(60, 64, 67, 0.15);\n",
              "      fill: #174EA6;\n",
              "    }\n",
              "\n",
              "    .colab-df-buttons div {\n",
              "      margin-bottom: 4px;\n",
              "    }\n",
              "\n",
              "    [theme=dark] .colab-df-convert {\n",
              "      background-color: #3B4455;\n",
              "      fill: #D2E3FC;\n",
              "    }\n",
              "\n",
              "    [theme=dark] .colab-df-convert:hover {\n",
              "      background-color: #434B5C;\n",
              "      box-shadow: 0px 1px 3px 1px rgba(0, 0, 0, 0.15);\n",
              "      filter: drop-shadow(0px 1px 2px rgba(0, 0, 0, 0.3));\n",
              "      fill: #FFFFFF;\n",
              "    }\n",
              "  </style>\n",
              "\n",
              "    <script>\n",
              "      const buttonEl =\n",
              "        document.querySelector('#df-4214e8d8-9cb5-4ea3-beb9-80dafa6614e9 button.colab-df-convert');\n",
              "      buttonEl.style.display =\n",
              "        google.colab.kernel.accessAllowed ? 'block' : 'none';\n",
              "\n",
              "      async function convertToInteractive(key) {\n",
              "        const element = document.querySelector('#df-4214e8d8-9cb5-4ea3-beb9-80dafa6614e9');\n",
              "        const dataTable =\n",
              "          await google.colab.kernel.invokeFunction('convertToInteractive',\n",
              "                                                    [key], {});\n",
              "        if (!dataTable) return;\n",
              "\n",
              "        const docLinkHtml = 'Like what you see? Visit the ' +\n",
              "          '<a target=\"_blank\" href=https://colab.research.google.com/notebooks/data_table.ipynb>data table notebook</a>'\n",
              "          + ' to learn more about interactive tables.';\n",
              "        element.innerHTML = '';\n",
              "        dataTable['output_type'] = 'display_data';\n",
              "        await google.colab.output.renderOutput(dataTable, element);\n",
              "        const docLink = document.createElement('div');\n",
              "        docLink.innerHTML = docLinkHtml;\n",
              "        element.appendChild(docLink);\n",
              "      }\n",
              "    </script>\n",
              "  </div>\n",
              "\n",
              "\n",
              "    <div id=\"df-12e95d8a-dcef-4e90-8a20-3a51b6294339\">\n",
              "      <button class=\"colab-df-quickchart\" onclick=\"quickchart('df-12e95d8a-dcef-4e90-8a20-3a51b6294339')\"\n",
              "                title=\"Suggest charts\"\n",
              "                style=\"display:none;\">\n",
              "\n",
              "<svg xmlns=\"http://www.w3.org/2000/svg\" height=\"24px\"viewBox=\"0 0 24 24\"\n",
              "     width=\"24px\">\n",
              "    <g>\n",
              "        <path d=\"M19 3H5c-1.1 0-2 .9-2 2v14c0 1.1.9 2 2 2h14c1.1 0 2-.9 2-2V5c0-1.1-.9-2-2-2zM9 17H7v-7h2v7zm4 0h-2V7h2v10zm4 0h-2v-4h2v4z\"/>\n",
              "    </g>\n",
              "</svg>\n",
              "      </button>\n",
              "\n",
              "<style>\n",
              "  .colab-df-quickchart {\n",
              "      --bg-color: #E8F0FE;\n",
              "      --fill-color: #1967D2;\n",
              "      --hover-bg-color: #E2EBFA;\n",
              "      --hover-fill-color: #174EA6;\n",
              "      --disabled-fill-color: #AAA;\n",
              "      --disabled-bg-color: #DDD;\n",
              "  }\n",
              "\n",
              "  [theme=dark] .colab-df-quickchart {\n",
              "      --bg-color: #3B4455;\n",
              "      --fill-color: #D2E3FC;\n",
              "      --hover-bg-color: #434B5C;\n",
              "      --hover-fill-color: #FFFFFF;\n",
              "      --disabled-bg-color: #3B4455;\n",
              "      --disabled-fill-color: #666;\n",
              "  }\n",
              "\n",
              "  .colab-df-quickchart {\n",
              "    background-color: var(--bg-color);\n",
              "    border: none;\n",
              "    border-radius: 50%;\n",
              "    cursor: pointer;\n",
              "    display: none;\n",
              "    fill: var(--fill-color);\n",
              "    height: 32px;\n",
              "    padding: 0;\n",
              "    width: 32px;\n",
              "  }\n",
              "\n",
              "  .colab-df-quickchart:hover {\n",
              "    background-color: var(--hover-bg-color);\n",
              "    box-shadow: 0 1px 2px rgba(60, 64, 67, 0.3), 0 1px 3px 1px rgba(60, 64, 67, 0.15);\n",
              "    fill: var(--button-hover-fill-color);\n",
              "  }\n",
              "\n",
              "  .colab-df-quickchart-complete:disabled,\n",
              "  .colab-df-quickchart-complete:disabled:hover {\n",
              "    background-color: var(--disabled-bg-color);\n",
              "    fill: var(--disabled-fill-color);\n",
              "    box-shadow: none;\n",
              "  }\n",
              "\n",
              "  .colab-df-spinner {\n",
              "    border: 2px solid var(--fill-color);\n",
              "    border-color: transparent;\n",
              "    border-bottom-color: var(--fill-color);\n",
              "    animation:\n",
              "      spin 1s steps(1) infinite;\n",
              "  }\n",
              "\n",
              "  @keyframes spin {\n",
              "    0% {\n",
              "      border-color: transparent;\n",
              "      border-bottom-color: var(--fill-color);\n",
              "      border-left-color: var(--fill-color);\n",
              "    }\n",
              "    20% {\n",
              "      border-color: transparent;\n",
              "      border-left-color: var(--fill-color);\n",
              "      border-top-color: var(--fill-color);\n",
              "    }\n",
              "    30% {\n",
              "      border-color: transparent;\n",
              "      border-left-color: var(--fill-color);\n",
              "      border-top-color: var(--fill-color);\n",
              "      border-right-color: var(--fill-color);\n",
              "    }\n",
              "    40% {\n",
              "      border-color: transparent;\n",
              "      border-right-color: var(--fill-color);\n",
              "      border-top-color: var(--fill-color);\n",
              "    }\n",
              "    60% {\n",
              "      border-color: transparent;\n",
              "      border-right-color: var(--fill-color);\n",
              "    }\n",
              "    80% {\n",
              "      border-color: transparent;\n",
              "      border-right-color: var(--fill-color);\n",
              "      border-bottom-color: var(--fill-color);\n",
              "    }\n",
              "    90% {\n",
              "      border-color: transparent;\n",
              "      border-bottom-color: var(--fill-color);\n",
              "    }\n",
              "  }\n",
              "</style>\n",
              "\n",
              "      <script>\n",
              "        async function quickchart(key) {\n",
              "          const quickchartButtonEl =\n",
              "            document.querySelector('#' + key + ' button');\n",
              "          quickchartButtonEl.disabled = true;  // To prevent multiple clicks.\n",
              "          quickchartButtonEl.classList.add('colab-df-spinner');\n",
              "          try {\n",
              "            const charts = await google.colab.kernel.invokeFunction(\n",
              "                'suggestCharts', [key], {});\n",
              "          } catch (error) {\n",
              "            console.error('Error during call to suggestCharts:', error);\n",
              "          }\n",
              "          quickchartButtonEl.classList.remove('colab-df-spinner');\n",
              "          quickchartButtonEl.classList.add('colab-df-quickchart-complete');\n",
              "        }\n",
              "        (() => {\n",
              "          let quickchartButtonEl =\n",
              "            document.querySelector('#df-12e95d8a-dcef-4e90-8a20-3a51b6294339 button');\n",
              "          quickchartButtonEl.style.display =\n",
              "            google.colab.kernel.accessAllowed ? 'block' : 'none';\n",
              "        })();\n",
              "      </script>\n",
              "    </div>\n",
              "\n",
              "    </div>\n",
              "  </div>\n"
            ],
            "application/vnd.google.colaboratory.intrinsic+json": {
              "type": "dataframe",
              "variable_name": "covid_sp"
            }
          },
          "metadata": {},
          "execution_count": 6
        }
      ]
    },
    {
      "cell_type": "code",
      "metadata": {
        "id": "6pnxBXvi4WVL",
        "colab": {
          "base_uri": "https://localhost:8080/"
        },
        "outputId": "67caa26d-9b1c-4f74-e992-073318b03615"
      },
      "source": [
        "covid_sp.shape"
      ],
      "execution_count": 7,
      "outputs": [
        {
          "output_type": "execute_result",
          "data": {
            "text/plain": [
              "(374034, 26)"
            ]
          },
          "metadata": {},
          "execution_count": 7
        }
      ]
    },
    {
      "cell_type": "markdown",
      "metadata": {
        "id": "2kOYtgwEyHpS"
      },
      "source": [
        "### **Importação de arquivo Excel**"
      ]
    },
    {
      "cell_type": "code",
      "metadata": {
        "id": "-vP0qQPwD0wQ"
      },
      "source": [
        "covid_sp2 = pd.read_excel('/content/drive/MyDrive/Python_Dados_Machine_Learning/Dados_COVID_SP.xlsx')"
      ],
      "execution_count": 8,
      "outputs": []
    },
    {
      "cell_type": "code",
      "metadata": {
        "id": "_RbCaN2nGyKn",
        "colab": {
          "base_uri": "https://localhost:8080/",
          "height": 394
        },
        "outputId": "a82b38d9-a9d9-4676-dcef-9fcf6f353f48"
      },
      "source": [
        "covid_sp2.head()"
      ],
      "execution_count": 9,
      "outputs": [
        {
          "output_type": "execute_result",
          "data": {
            "text/plain": [
              "         nome_munic  codigo_ibge  dia  mes   datahora  casos  casos_novos  \\\n",
              "0        Adamantina      3500105   25    2 2020-02-25      0            0   \n",
              "1            Adolfo      3500204   25    2 2020-02-25      0            0   \n",
              "2             Aguaí      3500303   25    2 2020-02-25      0            0   \n",
              "3    Águas da Prata      3500402   25    2 2020-02-25      0            0   \n",
              "4  Águas de Lindóia      3500501   25    2 2020-02-25      0            0   \n",
              "\n",
              "   casos_pc  casos_mm7d  obitos  ...               nome_drs  cod_drs    pop  \\\n",
              "0         0           0       0  ...                Marília        5  33894   \n",
              "1         0           0       0  ...  São José do Rio Preto       15   3447   \n",
              "2         0           0       0  ...  São João da Boa Vista       14  35608   \n",
              "3         0           0       0  ...  São João da Boa Vista       14   7797   \n",
              "4         0           0       0  ...               Campinas        3  18374   \n",
              "\n",
              "   pop_60   area  map_leg map_leg_s  latitude  longitude  semana_epidem  \n",
              "0    7398  41199      0.0       8.0  -21.6820   -51.0737              9  \n",
              "1     761  21106      0.0       8.0  -21.2325   -49.6451              9  \n",
              "2    5245  47455      0.0       8.0  -22.0572   -46.9735              9  \n",
              "3    1729  14267      0.0       8.0  -21.9319   -46.7176              9  \n",
              "4    3275   6013      0.0       8.0  -22.4733   -46.6314              9  \n",
              "\n",
              "[5 rows x 26 columns]"
            ],
            "text/html": [
              "\n",
              "  <div id=\"df-35a1c7b7-8fc0-43c2-b2cd-0ae7d7822c67\" class=\"colab-df-container\">\n",
              "    <div>\n",
              "<style scoped>\n",
              "    .dataframe tbody tr th:only-of-type {\n",
              "        vertical-align: middle;\n",
              "    }\n",
              "\n",
              "    .dataframe tbody tr th {\n",
              "        vertical-align: top;\n",
              "    }\n",
              "\n",
              "    .dataframe thead th {\n",
              "        text-align: right;\n",
              "    }\n",
              "</style>\n",
              "<table border=\"1\" class=\"dataframe\">\n",
              "  <thead>\n",
              "    <tr style=\"text-align: right;\">\n",
              "      <th></th>\n",
              "      <th>nome_munic</th>\n",
              "      <th>codigo_ibge</th>\n",
              "      <th>dia</th>\n",
              "      <th>mes</th>\n",
              "      <th>datahora</th>\n",
              "      <th>casos</th>\n",
              "      <th>casos_novos</th>\n",
              "      <th>casos_pc</th>\n",
              "      <th>casos_mm7d</th>\n",
              "      <th>obitos</th>\n",
              "      <th>...</th>\n",
              "      <th>nome_drs</th>\n",
              "      <th>cod_drs</th>\n",
              "      <th>pop</th>\n",
              "      <th>pop_60</th>\n",
              "      <th>area</th>\n",
              "      <th>map_leg</th>\n",
              "      <th>map_leg_s</th>\n",
              "      <th>latitude</th>\n",
              "      <th>longitude</th>\n",
              "      <th>semana_epidem</th>\n",
              "    </tr>\n",
              "  </thead>\n",
              "  <tbody>\n",
              "    <tr>\n",
              "      <th>0</th>\n",
              "      <td>Adamantina</td>\n",
              "      <td>3500105</td>\n",
              "      <td>25</td>\n",
              "      <td>2</td>\n",
              "      <td>2020-02-25</td>\n",
              "      <td>0</td>\n",
              "      <td>0</td>\n",
              "      <td>0</td>\n",
              "      <td>0</td>\n",
              "      <td>0</td>\n",
              "      <td>...</td>\n",
              "      <td>Marília</td>\n",
              "      <td>5</td>\n",
              "      <td>33894</td>\n",
              "      <td>7398</td>\n",
              "      <td>41199</td>\n",
              "      <td>0.0</td>\n",
              "      <td>8.0</td>\n",
              "      <td>-21.6820</td>\n",
              "      <td>-51.0737</td>\n",
              "      <td>9</td>\n",
              "    </tr>\n",
              "    <tr>\n",
              "      <th>1</th>\n",
              "      <td>Adolfo</td>\n",
              "      <td>3500204</td>\n",
              "      <td>25</td>\n",
              "      <td>2</td>\n",
              "      <td>2020-02-25</td>\n",
              "      <td>0</td>\n",
              "      <td>0</td>\n",
              "      <td>0</td>\n",
              "      <td>0</td>\n",
              "      <td>0</td>\n",
              "      <td>...</td>\n",
              "      <td>São José do Rio Preto</td>\n",
              "      <td>15</td>\n",
              "      <td>3447</td>\n",
              "      <td>761</td>\n",
              "      <td>21106</td>\n",
              "      <td>0.0</td>\n",
              "      <td>8.0</td>\n",
              "      <td>-21.2325</td>\n",
              "      <td>-49.6451</td>\n",
              "      <td>9</td>\n",
              "    </tr>\n",
              "    <tr>\n",
              "      <th>2</th>\n",
              "      <td>Aguaí</td>\n",
              "      <td>3500303</td>\n",
              "      <td>25</td>\n",
              "      <td>2</td>\n",
              "      <td>2020-02-25</td>\n",
              "      <td>0</td>\n",
              "      <td>0</td>\n",
              "      <td>0</td>\n",
              "      <td>0</td>\n",
              "      <td>0</td>\n",
              "      <td>...</td>\n",
              "      <td>São João da Boa Vista</td>\n",
              "      <td>14</td>\n",
              "      <td>35608</td>\n",
              "      <td>5245</td>\n",
              "      <td>47455</td>\n",
              "      <td>0.0</td>\n",
              "      <td>8.0</td>\n",
              "      <td>-22.0572</td>\n",
              "      <td>-46.9735</td>\n",
              "      <td>9</td>\n",
              "    </tr>\n",
              "    <tr>\n",
              "      <th>3</th>\n",
              "      <td>Águas da Prata</td>\n",
              "      <td>3500402</td>\n",
              "      <td>25</td>\n",
              "      <td>2</td>\n",
              "      <td>2020-02-25</td>\n",
              "      <td>0</td>\n",
              "      <td>0</td>\n",
              "      <td>0</td>\n",
              "      <td>0</td>\n",
              "      <td>0</td>\n",
              "      <td>...</td>\n",
              "      <td>São João da Boa Vista</td>\n",
              "      <td>14</td>\n",
              "      <td>7797</td>\n",
              "      <td>1729</td>\n",
              "      <td>14267</td>\n",
              "      <td>0.0</td>\n",
              "      <td>8.0</td>\n",
              "      <td>-21.9319</td>\n",
              "      <td>-46.7176</td>\n",
              "      <td>9</td>\n",
              "    </tr>\n",
              "    <tr>\n",
              "      <th>4</th>\n",
              "      <td>Águas de Lindóia</td>\n",
              "      <td>3500501</td>\n",
              "      <td>25</td>\n",
              "      <td>2</td>\n",
              "      <td>2020-02-25</td>\n",
              "      <td>0</td>\n",
              "      <td>0</td>\n",
              "      <td>0</td>\n",
              "      <td>0</td>\n",
              "      <td>0</td>\n",
              "      <td>...</td>\n",
              "      <td>Campinas</td>\n",
              "      <td>3</td>\n",
              "      <td>18374</td>\n",
              "      <td>3275</td>\n",
              "      <td>6013</td>\n",
              "      <td>0.0</td>\n",
              "      <td>8.0</td>\n",
              "      <td>-22.4733</td>\n",
              "      <td>-46.6314</td>\n",
              "      <td>9</td>\n",
              "    </tr>\n",
              "  </tbody>\n",
              "</table>\n",
              "<p>5 rows × 26 columns</p>\n",
              "</div>\n",
              "    <div class=\"colab-df-buttons\">\n",
              "\n",
              "  <div class=\"colab-df-container\">\n",
              "    <button class=\"colab-df-convert\" onclick=\"convertToInteractive('df-35a1c7b7-8fc0-43c2-b2cd-0ae7d7822c67')\"\n",
              "            title=\"Convert this dataframe to an interactive table.\"\n",
              "            style=\"display:none;\">\n",
              "\n",
              "  <svg xmlns=\"http://www.w3.org/2000/svg\" height=\"24px\" viewBox=\"0 -960 960 960\">\n",
              "    <path d=\"M120-120v-720h720v720H120Zm60-500h600v-160H180v160Zm220 220h160v-160H400v160Zm0 220h160v-160H400v160ZM180-400h160v-160H180v160Zm440 0h160v-160H620v160ZM180-180h160v-160H180v160Zm440 0h160v-160H620v160Z\"/>\n",
              "  </svg>\n",
              "    </button>\n",
              "\n",
              "  <style>\n",
              "    .colab-df-container {\n",
              "      display:flex;\n",
              "      gap: 12px;\n",
              "    }\n",
              "\n",
              "    .colab-df-convert {\n",
              "      background-color: #E8F0FE;\n",
              "      border: none;\n",
              "      border-radius: 50%;\n",
              "      cursor: pointer;\n",
              "      display: none;\n",
              "      fill: #1967D2;\n",
              "      height: 32px;\n",
              "      padding: 0 0 0 0;\n",
              "      width: 32px;\n",
              "    }\n",
              "\n",
              "    .colab-df-convert:hover {\n",
              "      background-color: #E2EBFA;\n",
              "      box-shadow: 0px 1px 2px rgba(60, 64, 67, 0.3), 0px 1px 3px 1px rgba(60, 64, 67, 0.15);\n",
              "      fill: #174EA6;\n",
              "    }\n",
              "\n",
              "    .colab-df-buttons div {\n",
              "      margin-bottom: 4px;\n",
              "    }\n",
              "\n",
              "    [theme=dark] .colab-df-convert {\n",
              "      background-color: #3B4455;\n",
              "      fill: #D2E3FC;\n",
              "    }\n",
              "\n",
              "    [theme=dark] .colab-df-convert:hover {\n",
              "      background-color: #434B5C;\n",
              "      box-shadow: 0px 1px 3px 1px rgba(0, 0, 0, 0.15);\n",
              "      filter: drop-shadow(0px 1px 2px rgba(0, 0, 0, 0.3));\n",
              "      fill: #FFFFFF;\n",
              "    }\n",
              "  </style>\n",
              "\n",
              "    <script>\n",
              "      const buttonEl =\n",
              "        document.querySelector('#df-35a1c7b7-8fc0-43c2-b2cd-0ae7d7822c67 button.colab-df-convert');\n",
              "      buttonEl.style.display =\n",
              "        google.colab.kernel.accessAllowed ? 'block' : 'none';\n",
              "\n",
              "      async function convertToInteractive(key) {\n",
              "        const element = document.querySelector('#df-35a1c7b7-8fc0-43c2-b2cd-0ae7d7822c67');\n",
              "        const dataTable =\n",
              "          await google.colab.kernel.invokeFunction('convertToInteractive',\n",
              "                                                    [key], {});\n",
              "        if (!dataTable) return;\n",
              "\n",
              "        const docLinkHtml = 'Like what you see? Visit the ' +\n",
              "          '<a target=\"_blank\" href=https://colab.research.google.com/notebooks/data_table.ipynb>data table notebook</a>'\n",
              "          + ' to learn more about interactive tables.';\n",
              "        element.innerHTML = '';\n",
              "        dataTable['output_type'] = 'display_data';\n",
              "        await google.colab.output.renderOutput(dataTable, element);\n",
              "        const docLink = document.createElement('div');\n",
              "        docLink.innerHTML = docLinkHtml;\n",
              "        element.appendChild(docLink);\n",
              "      }\n",
              "    </script>\n",
              "  </div>\n",
              "\n",
              "\n",
              "    <div id=\"df-6adfb386-ec2d-4ccd-90ad-3609c26faabf\">\n",
              "      <button class=\"colab-df-quickchart\" onclick=\"quickchart('df-6adfb386-ec2d-4ccd-90ad-3609c26faabf')\"\n",
              "                title=\"Suggest charts\"\n",
              "                style=\"display:none;\">\n",
              "\n",
              "<svg xmlns=\"http://www.w3.org/2000/svg\" height=\"24px\"viewBox=\"0 0 24 24\"\n",
              "     width=\"24px\">\n",
              "    <g>\n",
              "        <path d=\"M19 3H5c-1.1 0-2 .9-2 2v14c0 1.1.9 2 2 2h14c1.1 0 2-.9 2-2V5c0-1.1-.9-2-2-2zM9 17H7v-7h2v7zm4 0h-2V7h2v10zm4 0h-2v-4h2v4z\"/>\n",
              "    </g>\n",
              "</svg>\n",
              "      </button>\n",
              "\n",
              "<style>\n",
              "  .colab-df-quickchart {\n",
              "      --bg-color: #E8F0FE;\n",
              "      --fill-color: #1967D2;\n",
              "      --hover-bg-color: #E2EBFA;\n",
              "      --hover-fill-color: #174EA6;\n",
              "      --disabled-fill-color: #AAA;\n",
              "      --disabled-bg-color: #DDD;\n",
              "  }\n",
              "\n",
              "  [theme=dark] .colab-df-quickchart {\n",
              "      --bg-color: #3B4455;\n",
              "      --fill-color: #D2E3FC;\n",
              "      --hover-bg-color: #434B5C;\n",
              "      --hover-fill-color: #FFFFFF;\n",
              "      --disabled-bg-color: #3B4455;\n",
              "      --disabled-fill-color: #666;\n",
              "  }\n",
              "\n",
              "  .colab-df-quickchart {\n",
              "    background-color: var(--bg-color);\n",
              "    border: none;\n",
              "    border-radius: 50%;\n",
              "    cursor: pointer;\n",
              "    display: none;\n",
              "    fill: var(--fill-color);\n",
              "    height: 32px;\n",
              "    padding: 0;\n",
              "    width: 32px;\n",
              "  }\n",
              "\n",
              "  .colab-df-quickchart:hover {\n",
              "    background-color: var(--hover-bg-color);\n",
              "    box-shadow: 0 1px 2px rgba(60, 64, 67, 0.3), 0 1px 3px 1px rgba(60, 64, 67, 0.15);\n",
              "    fill: var(--button-hover-fill-color);\n",
              "  }\n",
              "\n",
              "  .colab-df-quickchart-complete:disabled,\n",
              "  .colab-df-quickchart-complete:disabled:hover {\n",
              "    background-color: var(--disabled-bg-color);\n",
              "    fill: var(--disabled-fill-color);\n",
              "    box-shadow: none;\n",
              "  }\n",
              "\n",
              "  .colab-df-spinner {\n",
              "    border: 2px solid var(--fill-color);\n",
              "    border-color: transparent;\n",
              "    border-bottom-color: var(--fill-color);\n",
              "    animation:\n",
              "      spin 1s steps(1) infinite;\n",
              "  }\n",
              "\n",
              "  @keyframes spin {\n",
              "    0% {\n",
              "      border-color: transparent;\n",
              "      border-bottom-color: var(--fill-color);\n",
              "      border-left-color: var(--fill-color);\n",
              "    }\n",
              "    20% {\n",
              "      border-color: transparent;\n",
              "      border-left-color: var(--fill-color);\n",
              "      border-top-color: var(--fill-color);\n",
              "    }\n",
              "    30% {\n",
              "      border-color: transparent;\n",
              "      border-left-color: var(--fill-color);\n",
              "      border-top-color: var(--fill-color);\n",
              "      border-right-color: var(--fill-color);\n",
              "    }\n",
              "    40% {\n",
              "      border-color: transparent;\n",
              "      border-right-color: var(--fill-color);\n",
              "      border-top-color: var(--fill-color);\n",
              "    }\n",
              "    60% {\n",
              "      border-color: transparent;\n",
              "      border-right-color: var(--fill-color);\n",
              "    }\n",
              "    80% {\n",
              "      border-color: transparent;\n",
              "      border-right-color: var(--fill-color);\n",
              "      border-bottom-color: var(--fill-color);\n",
              "    }\n",
              "    90% {\n",
              "      border-color: transparent;\n",
              "      border-bottom-color: var(--fill-color);\n",
              "    }\n",
              "  }\n",
              "</style>\n",
              "\n",
              "      <script>\n",
              "        async function quickchart(key) {\n",
              "          const quickchartButtonEl =\n",
              "            document.querySelector('#' + key + ' button');\n",
              "          quickchartButtonEl.disabled = true;  // To prevent multiple clicks.\n",
              "          quickchartButtonEl.classList.add('colab-df-spinner');\n",
              "          try {\n",
              "            const charts = await google.colab.kernel.invokeFunction(\n",
              "                'suggestCharts', [key], {});\n",
              "          } catch (error) {\n",
              "            console.error('Error during call to suggestCharts:', error);\n",
              "          }\n",
              "          quickchartButtonEl.classList.remove('colab-df-spinner');\n",
              "          quickchartButtonEl.classList.add('colab-df-quickchart-complete');\n",
              "        }\n",
              "        (() => {\n",
              "          let quickchartButtonEl =\n",
              "            document.querySelector('#df-6adfb386-ec2d-4ccd-90ad-3609c26faabf button');\n",
              "          quickchartButtonEl.style.display =\n",
              "            google.colab.kernel.accessAllowed ? 'block' : 'none';\n",
              "        })();\n",
              "      </script>\n",
              "    </div>\n",
              "\n",
              "    </div>\n",
              "  </div>\n"
            ],
            "application/vnd.google.colaboratory.intrinsic+json": {
              "type": "dataframe",
              "variable_name": "covid_sp2"
            }
          },
          "metadata": {},
          "execution_count": 9
        }
      ]
    },
    {
      "cell_type": "code",
      "metadata": {
        "id": "07lj_DIZTCpq",
        "colab": {
          "base_uri": "https://localhost:8080/"
        },
        "outputId": "feca136b-8edf-41a9-f1f4-fd357b4681ba"
      },
      "source": [
        "covid_sp2.shape"
      ],
      "execution_count": 10,
      "outputs": [
        {
          "output_type": "execute_result",
          "data": {
            "text/plain": [
              "(374034, 26)"
            ]
          },
          "metadata": {},
          "execution_count": 10
        }
      ]
    },
    {
      "cell_type": "markdown",
      "metadata": {
        "id": "v3ujXUrkO0-W"
      },
      "source": [
        "### **Importação através de uma url**"
      ]
    },
    {
      "cell_type": "code",
      "metadata": {
        "id": "TEXrpaI3KuvI"
      },
      "source": [
        "url = \"https://archive.ics.uci.edu/ml/machine-learning-databases/iris/iris.data\""
      ],
      "execution_count": null,
      "outputs": []
    },
    {
      "cell_type": "code",
      "metadata": {
        "id": "K2wMDUbrLros"
      },
      "source": [
        "colnames = ['sepal-length', 'sepal-width', 'petal-length', 'petal-width', 'Class']"
      ],
      "execution_count": null,
      "outputs": []
    },
    {
      "cell_type": "code",
      "metadata": {
        "id": "PeekFofML05r"
      },
      "source": [
        "iris = pd.read_csv(url, names=colnames)"
      ],
      "execution_count": null,
      "outputs": []
    },
    {
      "cell_type": "code",
      "metadata": {
        "id": "l-6E9g5fL5CD"
      },
      "source": [
        "iris.head(10)"
      ],
      "execution_count": null,
      "outputs": []
    },
    {
      "cell_type": "code",
      "metadata": {
        "id": "GjOz5NH75CQL"
      },
      "source": [
        "type(iris)"
      ],
      "execution_count": null,
      "outputs": []
    },
    {
      "cell_type": "code",
      "metadata": {
        "id": "OISm0QkT5JB7"
      },
      "source": [
        "iris.shape"
      ],
      "execution_count": null,
      "outputs": []
    },
    {
      "cell_type": "code",
      "metadata": {
        "id": "1TPw2-PIKEKd"
      },
      "source": [
        "len(iris.Class)"
      ],
      "execution_count": null,
      "outputs": []
    },
    {
      "cell_type": "markdown",
      "metadata": {
        "id": "io2V9Hvd5O80"
      },
      "source": [
        "### **Datasets das bibliotecas do Python**"
      ]
    },
    {
      "cell_type": "markdown",
      "metadata": {
        "id": "2L0c8J5z-baT"
      },
      "source": [
        "https://www.statsmodels.org/stable/datasets/index.html"
      ]
    },
    {
      "cell_type": "code",
      "metadata": {
        "id": "Va4DDXtE5OPk"
      },
      "source": [
        "import statsmodels.api as sm"
      ],
      "execution_count": null,
      "outputs": []
    },
    {
      "cell_type": "code",
      "metadata": {
        "id": "3t3VgAAJ5rqb"
      },
      "source": [
        "cancer = sm.datasets.cancer.load_pandas().data\n",
        "cancer.head()"
      ],
      "execution_count": null,
      "outputs": []
    },
    {
      "cell_type": "code",
      "metadata": {
        "id": "fL5OFTSy_dJq"
      },
      "source": [
        "type(cancer)"
      ],
      "execution_count": null,
      "outputs": []
    },
    {
      "cell_type": "code",
      "metadata": {
        "id": "KN9l6f2bAaSv"
      },
      "source": [
        "cancer.shape"
      ],
      "execution_count": null,
      "outputs": []
    },
    {
      "cell_type": "markdown",
      "metadata": {
        "id": "3vqQVLSC7URF"
      },
      "source": [
        "https://scikit-learn.org/stable/datasets/toy_dataset.html"
      ]
    },
    {
      "cell_type": "code",
      "metadata": {
        "id": "OZkP3UQV6VT4"
      },
      "source": [
        "import sklearn"
      ],
      "execution_count": null,
      "outputs": []
    },
    {
      "cell_type": "code",
      "metadata": {
        "id": "zAxXKrTo6Txx"
      },
      "source": [
        "from sklearn import datasets"
      ],
      "execution_count": null,
      "outputs": []
    },
    {
      "cell_type": "code",
      "metadata": {
        "id": "zxrAnueo6tV9"
      },
      "source": [
        "iris = datasets.load_iris()\n",
        "iris"
      ],
      "execution_count": null,
      "outputs": []
    },
    {
      "cell_type": "code",
      "metadata": {
        "id": "FedyhHWA8Jx8"
      },
      "source": [
        "iris.data"
      ],
      "execution_count": null,
      "outputs": []
    },
    {
      "cell_type": "code",
      "metadata": {
        "id": "O3VFtmo88vfQ"
      },
      "source": [
        "iris.target"
      ],
      "execution_count": null,
      "outputs": []
    },
    {
      "cell_type": "code",
      "metadata": {
        "id": "lg5EM0QG9YQf"
      },
      "source": [
        "iris.target_names"
      ],
      "execution_count": null,
      "outputs": []
    },
    {
      "cell_type": "markdown",
      "metadata": {
        "id": "oKrNiwgYQmvK"
      },
      "source": [
        "## **Organização dos dados**"
      ]
    },
    {
      "cell_type": "markdown",
      "metadata": {
        "id": "SxPQLU905oOZ"
      },
      "source": [
        "### **Renomeando variáveis (colunas)**"
      ]
    },
    {
      "cell_type": "code",
      "metadata": {
        "id": "Cx4YKcVNELdD"
      },
      "source": [
        "covid_sp.head(3)"
      ],
      "execution_count": null,
      "outputs": []
    },
    {
      "cell_type": "code",
      "metadata": {
        "id": "vqOtFM0K4uAV"
      },
      "source": [
        "covid_sp = covid_sp.rename(columns={'nome_munic': 'municipio'})"
      ],
      "execution_count": null,
      "outputs": []
    },
    {
      "cell_type": "code",
      "metadata": {
        "id": "lkZ-V7Oy5DyX"
      },
      "source": [
        "covid_sp.head(3)"
      ],
      "execution_count": null,
      "outputs": []
    },
    {
      "cell_type": "code",
      "metadata": {
        "id": "rLJ1sjR15Pil"
      },
      "source": [
        "covid_sp.rename(columns={'datahora': 'data'}, inplace=True)"
      ],
      "execution_count": null,
      "outputs": []
    },
    {
      "cell_type": "code",
      "metadata": {
        "id": "L751EFou5y2H"
      },
      "source": [
        "covid_sp.rename(columns={'map_leg': 'rotulo_mapa','map_leg_s':'codigo_mapa'},inplace=True)"
      ],
      "execution_count": null,
      "outputs": []
    },
    {
      "cell_type": "code",
      "metadata": {
        "id": "5P6OcnfdFpg4"
      },
      "source": [
        "covid_sp.head(3)"
      ],
      "execution_count": null,
      "outputs": []
    },
    {
      "cell_type": "markdown",
      "metadata": {
        "id": "CukcIuBjdXG8"
      },
      "source": [
        "### **Excluindo variáveis (colunas)**"
      ]
    },
    {
      "cell_type": "code",
      "metadata": {
        "id": "TdLEolbK6xeV"
      },
      "source": [
        "# Excluir por nome\n",
        "covid_sp_alterado = covid_sp.drop(columns=['cod_ra'])"
      ],
      "execution_count": null,
      "outputs": []
    },
    {
      "cell_type": "code",
      "metadata": {
        "id": "ilBBSHhZ7KPi"
      },
      "source": [
        "covid_sp_alterado.head(2)"
      ],
      "execution_count": null,
      "outputs": []
    },
    {
      "cell_type": "code",
      "metadata": {
        "id": "9lCJKy9L7TYQ"
      },
      "source": [
        "covid_sp_alterado.shape"
      ],
      "execution_count": null,
      "outputs": []
    },
    {
      "cell_type": "code",
      "metadata": {
        "id": "w0DDqYAn7lfv"
      },
      "source": [
        "# Excluir por número\n",
        "covid_sp_alterado = covid_sp_alterado.drop(covid_sp_alterado.columns[[1]],axis=1)"
      ],
      "execution_count": null,
      "outputs": []
    },
    {
      "cell_type": "code",
      "metadata": {
        "id": "1vRFMwrf-iCY"
      },
      "source": [
        "# Excluir mais de uma variável\n",
        "covid_sp_alterado.drop(columns=['rotulo_mapa','codigo_mapa','cod_drs'],inplace=True)"
      ],
      "execution_count": null,
      "outputs": []
    },
    {
      "cell_type": "code",
      "metadata": {
        "id": "jpsCdaoq_YVG"
      },
      "source": [
        "covid_sp_alterado.head()"
      ],
      "execution_count": null,
      "outputs": []
    },
    {
      "cell_type": "code",
      "metadata": {
        "id": "11LpESyP_ztE"
      },
      "source": [
        "covid_sp_alterado.drop(covid_sp_alterado.columns[[13,14,18,19]],axis=1, inplace=True)\n"
      ],
      "execution_count": null,
      "outputs": []
    },
    {
      "cell_type": "code",
      "metadata": {
        "id": "cvjDL487AQHj"
      },
      "source": [
        "covid_sp_alterado.shape"
      ],
      "execution_count": null,
      "outputs": []
    },
    {
      "cell_type": "markdown",
      "metadata": {
        "id": "Tf4qv1CABiz8"
      },
      "source": [
        "### **Criando e alterando valores das colunas (Variáveis)**"
      ]
    },
    {
      "cell_type": "code",
      "metadata": {
        "id": "XNEYlvnlFp15"
      },
      "source": [
        "covid_sp_alterado.head(3)"
      ],
      "execution_count": null,
      "outputs": []
    },
    {
      "cell_type": "code",
      "metadata": {
        "id": "GEAnDS6dBdUs"
      },
      "source": [
        "covid_sp_alterado['area'] = covid_sp_alterado['area']/100\n",
        "# ou\n",
        "# covid_sp_alterado['area'] = covid_sp_alterado.area/100"
      ],
      "execution_count": null,
      "outputs": []
    },
    {
      "cell_type": "code",
      "metadata": {
        "id": "ka7ZibFkF91c"
      },
      "source": [
        "# Criação de uma coluna com a densidade demográfica (hab/km2)\n",
        "covid_sp_alterado['densidade'] = covid_sp_alterado['pop'] / covid_sp_alterado['area']"
      ],
      "execution_count": null,
      "outputs": []
    },
    {
      "cell_type": "code",
      "metadata": {
        "id": "mJJYZWBJcWgM"
      },
      "source": [
        "covid_sp_alterado.shape"
      ],
      "execution_count": null,
      "outputs": []
    },
    {
      "cell_type": "code",
      "metadata": {
        "id": "fVrngl_zKvrj"
      },
      "source": [
        "# Criação de uma coluna com índices\n",
        "lista = list(range(1,374035))\n",
        "lista"
      ],
      "execution_count": null,
      "outputs": []
    },
    {
      "cell_type": "code",
      "metadata": {
        "id": "jp2Ce2mKLXfb"
      },
      "source": [
        "df = pd.DataFrame(lista,columns=['indice'])\n",
        "df"
      ],
      "execution_count": null,
      "outputs": []
    },
    {
      "cell_type": "code",
      "metadata": {
        "id": "j07-LLkRMQhh"
      },
      "source": [
        "# Juntando dois DataFrames\n",
        "covid_sp_alterado = pd.concat([covid_sp_alterado,df],axis=1)\n",
        "covid_sp_alterado.head()"
      ],
      "execution_count": null,
      "outputs": []
    },
    {
      "cell_type": "code",
      "metadata": {
        "id": "vJ5gBx18Ouxi"
      },
      "source": [
        "covid_sp_alterado = covid_sp_alterado.reindex(columns=['indice'] + list(covid_sp_alterado.columns[:-1]))\n",
        "covid_sp_alterado.head()"
      ],
      "execution_count": null,
      "outputs": []
    },
    {
      "cell_type": "markdown",
      "metadata": {
        "id": "b5wGXbZ3IJ1W"
      },
      "source": [
        "### **Contagem de Registros das Variáveis (Colunas)**"
      ]
    },
    {
      "cell_type": "code",
      "metadata": {
        "id": "xIQz0mSvIQCE"
      },
      "source": [
        "covid_sp_alterado['semana_epidem'].value_counts()"
      ],
      "execution_count": null,
      "outputs": []
    },
    {
      "cell_type": "code",
      "metadata": {
        "id": "IGO7Gc5pJMWr"
      },
      "source": [
        "covid_sp_alterado['semana_epidem'].value_counts().sort_index()"
      ],
      "execution_count": null,
      "outputs": []
    },
    {
      "cell_type": "code",
      "metadata": {
        "id": "QqUsl-DwJhFE"
      },
      "source": [
        "from collections import Counter\n",
        "Counter(covid_sp_alterado.semana_epidem)"
      ],
      "execution_count": null,
      "outputs": []
    },
    {
      "cell_type": "code",
      "metadata": {
        "id": "VN1PUng2PUl0"
      },
      "source": [
        "covid_sp_alterado.query('obitos_novos > 50')['municipio'].value_counts()"
      ],
      "execution_count": null,
      "outputs": []
    },
    {
      "cell_type": "markdown",
      "metadata": {
        "id": "PSe3RrIBSgNb"
      },
      "source": [
        "### **Selecionar Variáveis (Colunas) por Índices**"
      ]
    },
    {
      "cell_type": "code",
      "metadata": {
        "id": "Vhs31bI_k8Ia"
      },
      "source": [
        "covid_sp_alterado"
      ],
      "execution_count": null,
      "outputs": []
    },
    {
      "cell_type": "code",
      "metadata": {
        "id": "AWebauvHSpgT"
      },
      "source": [
        "x = covid_sp_alterado.iloc[: , 5:13]\n",
        "x"
      ],
      "execution_count": null,
      "outputs": []
    },
    {
      "cell_type": "code",
      "metadata": {
        "id": "RbMLM4zmumKD"
      },
      "source": [
        "type(x)"
      ],
      "execution_count": null,
      "outputs": []
    },
    {
      "cell_type": "code",
      "metadata": {
        "id": "KnDEIx2Nuqb0"
      },
      "source": [
        "y = covid_sp_alterado.iloc[:,1]\n",
        "y"
      ],
      "execution_count": null,
      "outputs": []
    },
    {
      "cell_type": "code",
      "metadata": {
        "id": "1ySf3bLnu7kn"
      },
      "source": [
        "type(y)"
      ],
      "execution_count": null,
      "outputs": []
    },
    {
      "cell_type": "code",
      "metadata": {
        "id": "5g8YY5P5vBg2"
      },
      "source": [
        "y = covid_sp_alterado.iloc[:,1].values\n",
        "y"
      ],
      "execution_count": null,
      "outputs": []
    },
    {
      "cell_type": "code",
      "metadata": {
        "id": "8JQOkamfvwqP"
      },
      "source": [
        "lista_y = list(y.flatten())\n",
        "lista_y"
      ],
      "execution_count": null,
      "outputs": []
    },
    {
      "cell_type": "code",
      "metadata": {
        "id": "ycc_nb--uWlL"
      },
      "source": [
        "type(lista_y)"
      ],
      "execution_count": null,
      "outputs": []
    },
    {
      "cell_type": "code",
      "metadata": {
        "id": "9Tw9d48awQWG"
      },
      "source": [
        "df = pd.DataFrame(lista_y,columns=['municipio'])\n",
        "df"
      ],
      "execution_count": null,
      "outputs": []
    },
    {
      "cell_type": "markdown",
      "metadata": {
        "id": "2LeDX2Xhd1zX"
      },
      "source": [
        "### **Excluindo, Filtrando e Substituindo Registros (Linhas)**"
      ]
    },
    {
      "cell_type": "code",
      "metadata": {
        "id": "g-FOMoa4g0m2"
      },
      "source": [
        "# Excluindo linhas por índices (valores absolutos)\n",
        "covid_sp_alterado2 = covid_sp_alterado.drop(covid_sp_alterado.index[[1,3]])\n",
        "covid_sp_alterado2"
      ],
      "execution_count": null,
      "outputs": []
    },
    {
      "cell_type": "code",
      "metadata": {
        "id": "VKtRxdlm2Jha"
      },
      "source": [
        "# Excluindo linhas por índices (intervalo de valores)\n",
        "covid_sp_alterado2 = covid_sp_alterado2.drop(covid_sp_alterado.index[4:7])\n",
        "covid_sp_alterado2"
      ],
      "execution_count": null,
      "outputs": []
    },
    {
      "cell_type": "code",
      "metadata": {
        "id": "jUdZeZrk3OVs"
      },
      "source": [
        "# Reordenar (resetar) índices\n",
        "covid_sp_alterado2 = covid_sp_alterado2.reset_index(drop=True) # drop é para excluir índice anterior\n",
        "covid_sp_alterado2"
      ],
      "execution_count": null,
      "outputs": []
    },
    {
      "cell_type": "code",
      "metadata": {
        "id": "WLpK4cQh2igb"
      },
      "source": [
        "ignorado = covid_sp_alterado.loc[covid_sp_alterado.municipio == 'Ignorado']\n",
        "ignorado"
      ],
      "execution_count": null,
      "outputs": []
    },
    {
      "cell_type": "code",
      "metadata": {
        "id": "MbjQl8jk3nr5"
      },
      "source": [
        "ignorado.shape"
      ],
      "execution_count": null,
      "outputs": []
    },
    {
      "cell_type": "code",
      "metadata": {
        "id": "S-i01tcy3tEu"
      },
      "source": [
        "covid_sp_alterado = covid_sp_alterado.loc[covid_sp_alterado.municipio != 'Ignorado']\n",
        "covid_sp_alterado"
      ],
      "execution_count": null,
      "outputs": []
    },
    {
      "cell_type": "code",
      "metadata": {
        "id": "usVf63hl4d5W"
      },
      "source": [
        "guarulhos = covid_sp_alterado.loc[covid_sp_alterado.municipio == 'Guarulhos']\n",
        "guarulhos"
      ],
      "execution_count": null,
      "outputs": []
    },
    {
      "cell_type": "code",
      "metadata": {
        "id": "EHRd8ubR6ZXD"
      },
      "source": [
        "guarulhos.drop(columns=['data','municipio'],inplace=True)\n",
        "guarulhos.head()"
      ],
      "execution_count": null,
      "outputs": []
    },
    {
      "cell_type": "code",
      "metadata": {
        "id": "3FZ-JFNE7RFy"
      },
      "source": [
        "guarulhos['semana_epidem']=guarulhos['semana_epidem'].replace({9:'nove', 10: 'dez'})\n",
        "guarulhos.head(10)"
      ],
      "execution_count": null,
      "outputs": []
    },
    {
      "cell_type": "code",
      "metadata": {
        "id": "shAJUBMh7zFS"
      },
      "source": [
        "guarulhos['semana_epidem']=guarulhos['semana_epidem'].replace([11,12,13],['onze','doze','treze'])\n",
        "guarulhos.head(30)"
      ],
      "execution_count": null,
      "outputs": []
    },
    {
      "cell_type": "code",
      "metadata": {
        "id": "hKHL-Ebv8jwn"
      },
      "source": [
        "guarulhos['casos_pc'] = guarulhos['casos_pc'].apply(lambda x: x.replace(',','.'))\n",
        "guarulhos"
      ],
      "execution_count": null,
      "outputs": []
    },
    {
      "cell_type": "code",
      "metadata": {
        "id": "8tvOQdrP-2LU"
      },
      "source": [
        "guarulhos.shape"
      ],
      "execution_count": null,
      "outputs": []
    },
    {
      "cell_type": "code",
      "metadata": {
        "id": "Cc7x9847-_FT"
      },
      "source": [
        "# Criar coluna com datas\n",
        "import datetime"
      ],
      "execution_count": null,
      "outputs": []
    },
    {
      "cell_type": "code",
      "metadata": {
        "id": "DISV1m8n_V0T"
      },
      "source": [
        "data = np.array('2020-02-25', dtype = np.datetime64())\n",
        "data"
      ],
      "execution_count": null,
      "outputs": []
    },
    {
      "cell_type": "code",
      "metadata": {
        "id": "R_jn7agjBVHX"
      },
      "source": [
        "data = data + np.arange(579)\n",
        "data"
      ],
      "execution_count": null,
      "outputs": []
    },
    {
      "cell_type": "code",
      "metadata": {
        "id": "ScVLDy98BhtH"
      },
      "source": [
        "data = pd.DataFrame(data)\n",
        "data"
      ],
      "execution_count": null,
      "outputs": []
    },
    {
      "cell_type": "code",
      "metadata": {
        "id": "QtUiV7RfBmdt"
      },
      "source": [
        "data.columns = ['data']\n",
        "data.head()"
      ],
      "execution_count": null,
      "outputs": []
    },
    {
      "cell_type": "code",
      "metadata": {
        "id": "yypk7iMMB0zU"
      },
      "source": [
        "guarulhos2 = pd.concat([data,guarulhos],axis=1)\n",
        "guarulhos2.head()"
      ],
      "execution_count": null,
      "outputs": []
    },
    {
      "cell_type": "code",
      "metadata": {
        "id": "JxopmrAxCLVk"
      },
      "source": [
        "# Reordenar (resetar) índices\n",
        "guarulhos = guarulhos.reset_index(drop=True) # drop é para excluir índice anterior\n",
        "guarulhos"
      ],
      "execution_count": null,
      "outputs": []
    },
    {
      "cell_type": "code",
      "metadata": {
        "id": "4A0p3_o7DJrQ"
      },
      "source": [
        "guarulhos2 = pd.concat([data,guarulhos],axis=1)\n",
        "guarulhos2.head()"
      ],
      "execution_count": null,
      "outputs": []
    },
    {
      "cell_type": "code",
      "metadata": {
        "id": "Pptohv7W71Dw"
      },
      "source": [
        "guarulhos2.shape"
      ],
      "execution_count": null,
      "outputs": []
    },
    {
      "cell_type": "markdown",
      "metadata": {
        "id": "3lk5kf4eZ_sL"
      },
      "source": [
        "### **Valores Missing (NAN)**"
      ]
    },
    {
      "cell_type": "code",
      "metadata": {
        "id": "A24U7d5QYPaV"
      },
      "source": [
        "# RELAÇÃO DA QUANTIDADE\n",
        "covid_sp_alterado.isnull().sum()"
      ],
      "execution_count": null,
      "outputs": []
    },
    {
      "cell_type": "code",
      "metadata": {
        "id": "yNs-afQSHOKB"
      },
      "source": [
        "covid_sp_alterado['casos'].isnull().sum()"
      ],
      "execution_count": null,
      "outputs": []
    },
    {
      "cell_type": "code",
      "metadata": {
        "id": "6rAfwj3OHZeT"
      },
      "source": [
        "# RELAÇÃO DA QUANTIDADE\n",
        "covid_sp.isnull().sum()"
      ],
      "execution_count": null,
      "outputs": []
    },
    {
      "cell_type": "code",
      "metadata": {
        "id": "pnSPd6vJHqga"
      },
      "source": [
        "# EXCLUIR TODOS OS VALORES MISSING\n",
        "covid_sp2 = covid_sp.dropna()"
      ],
      "execution_count": null,
      "outputs": []
    },
    {
      "cell_type": "code",
      "metadata": {
        "id": "6v-_9hVrH07g"
      },
      "source": [
        "covid_sp2.isnull().sum()"
      ],
      "execution_count": null,
      "outputs": []
    },
    {
      "cell_type": "code",
      "metadata": {
        "id": "71O5lhseH4If"
      },
      "source": [
        "# SUBSTITUIR OS VALORES MISSING PELA MEDIANA\n",
        "covid_sp['obitos_novos'].fillna(covid_sp['obitos_novos'].median(), inplace=True)"
      ],
      "execution_count": null,
      "outputs": []
    },
    {
      "cell_type": "code",
      "metadata": {
        "id": "vhvpw4QdIPnb"
      },
      "source": [
        "# SUBSTITUIR OS VALORES MISSING PELA MÉDIA\n",
        "covid_sp['obitos_novos'].fillna(covid_sp['obitos_novos'].mean(), inplace=True)"
      ],
      "execution_count": null,
      "outputs": []
    },
    {
      "cell_type": "code",
      "metadata": {
        "id": "WitNfrC6IzGI"
      },
      "source": [
        "# SUBSTITUIR OS VALORES MISSING POR QUALQUER OUTRO VALOR\n",
        "covid_sp['obitos_novos'].fillna(10, inplace=True)"
      ],
      "execution_count": null,
      "outputs": []
    },
    {
      "cell_type": "markdown",
      "metadata": {
        "id": "aJW_SP-YJnzt"
      },
      "source": [
        "### **Classificação e alteração da tipagem dos atributos**"
      ]
    },
    {
      "cell_type": "markdown",
      "metadata": {
        "id": "MkiHoDjkJ-pB"
      },
      "source": [
        "Análise dos tipos de atributos:\n",
        "\n",
        "object: strings\n",
        "\n",
        "int64: inteiros\n",
        "\n",
        "float64: reais\n",
        "\n",
        "complex: complexos\n"
      ]
    },
    {
      "cell_type": "code",
      "metadata": {
        "id": "Yw2mq0JLKBGC"
      },
      "source": [
        "covid_sp_alterado.dtypes"
      ],
      "execution_count": null,
      "outputs": []
    },
    {
      "cell_type": "code",
      "metadata": {
        "id": "_g7C8THbKjgn"
      },
      "source": [
        "covid_sp_alterado['casos_pc'] = covid_sp_alterado['casos_pc'].astype(float)"
      ],
      "execution_count": null,
      "outputs": []
    },
    {
      "cell_type": "code",
      "metadata": {
        "id": "rwq3oWLSJ3F6"
      },
      "source": [
        "covid_sp_alterado['casos_pc'] = covid_sp_alterado['casos_pc'].apply(lambda x: x.replace(',','.'))\n",
        "covid_sp_alterado"
      ],
      "execution_count": null,
      "outputs": []
    },
    {
      "cell_type": "code",
      "metadata": {
        "id": "QpdSTkWkL1DF"
      },
      "source": [
        "covid_sp_alterado['casos_pc'] = covid_sp_alterado['casos_pc'].astype(float)"
      ],
      "execution_count": null,
      "outputs": []
    },
    {
      "cell_type": "code",
      "metadata": {
        "id": "GW9JXy2eL6OE"
      },
      "source": [
        "covid_sp_alterado.dtypes"
      ],
      "execution_count": null,
      "outputs": []
    },
    {
      "cell_type": "code",
      "metadata": {
        "id": "DWHgp9NBMEHf"
      },
      "source": [
        "covid_sp_alterado['casos_mm7d'] = covid_sp_alterado['casos_mm7d'].apply(lambda x: x.replace(',','.'))"
      ],
      "execution_count": null,
      "outputs": []
    },
    {
      "cell_type": "code",
      "metadata": {
        "id": "IUet0OTWMS9i"
      },
      "source": [
        "covid_sp_alterado['obitos_pc'] = covid_sp_alterado['obitos_pc'].apply(lambda x: x.replace(',','.'))"
      ],
      "execution_count": null,
      "outputs": []
    },
    {
      "cell_type": "code",
      "metadata": {
        "id": "DT4W-xcSMaR8"
      },
      "source": [
        "covid_sp_alterado['obitos_mm7d'] = covid_sp_alterado['obitos_mm7d'].apply(lambda x: x.replace(',','.'))"
      ],
      "execution_count": null,
      "outputs": []
    },
    {
      "cell_type": "code",
      "metadata": {
        "id": "B56EVmTHMhz1"
      },
      "source": [
        "covid_sp_alterado['letalidade'] = covid_sp_alterado['letalidade'].apply(lambda x: x.replace(',','.'))"
      ],
      "execution_count": null,
      "outputs": []
    },
    {
      "cell_type": "code",
      "metadata": {
        "id": "S1kFIpEiM3uD"
      },
      "source": [
        "covid_sp_alterado.head()"
      ],
      "execution_count": null,
      "outputs": []
    },
    {
      "cell_type": "code",
      "metadata": {
        "id": "-GBoD4KsM_X0"
      },
      "source": [
        "covid_sp_alterado['casos_mm7d'] = covid_sp_alterado['casos_mm7d'].astype(float)"
      ],
      "execution_count": null,
      "outputs": []
    },
    {
      "cell_type": "code",
      "metadata": {
        "id": "8DSQ_jNKNKee"
      },
      "source": [
        "covid_sp_alterado['obitos_pc'] = covid_sp_alterado['obitos_pc'].astype(float)"
      ],
      "execution_count": null,
      "outputs": []
    },
    {
      "cell_type": "code",
      "metadata": {
        "id": "1g5fL7uZNPfp"
      },
      "source": [
        "covid_sp_alterado['obitos_mm7d'] = covid_sp_alterado['obitos_mm7d'].astype(float)"
      ],
      "execution_count": null,
      "outputs": []
    },
    {
      "cell_type": "code",
      "metadata": {
        "id": "mtujdzVaNYP5"
      },
      "source": [
        "covid_sp_alterado['letalidade'] = covid_sp_alterado['letalidade'].astype(float)"
      ],
      "execution_count": null,
      "outputs": []
    },
    {
      "cell_type": "code",
      "metadata": {
        "id": "bBDC2YjkNdGP"
      },
      "source": [
        "covid_sp_alterado.dtypes"
      ],
      "execution_count": null,
      "outputs": []
    },
    {
      "cell_type": "code",
      "metadata": {
        "id": "xlWDJNQ9N6vI"
      },
      "source": [
        "covid_sp_alterado['data'] = covid_sp_alterado['data'].astype('datetime64[D]')"
      ],
      "execution_count": null,
      "outputs": []
    },
    {
      "cell_type": "code",
      "metadata": {
        "id": "gP8UUq7lODOI"
      },
      "source": [
        "covid_sp_alterado.dtypes"
      ],
      "execution_count": null,
      "outputs": []
    },
    {
      "cell_type": "markdown",
      "metadata": {
        "id": "xJBO2DT_dykz"
      },
      "source": [
        "## **Salvando (Exportando) o Dataframe Tratado**"
      ]
    },
    {
      "cell_type": "code",
      "metadata": {
        "id": "lpVkk2e9XXuF"
      },
      "source": [
        "covid_sp_alterado.to_csv('covid_sp_tratado.csv', sep=';', encoding='utf-8', index = False)"
      ],
      "execution_count": null,
      "outputs": []
    }
  ]
}