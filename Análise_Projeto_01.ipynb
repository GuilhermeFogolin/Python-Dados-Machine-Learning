{
  "nbformat": 4,
  "nbformat_minor": 0,
  "metadata": {
    "colab": {
      "provenance": [],
      "include_colab_link": true
    },
    "kernelspec": {
      "name": "python3",
      "display_name": "Python 3"
    },
    "language_info": {
      "name": "python"
    }
  },
  "cells": [
    {
      "cell_type": "markdown",
      "metadata": {
        "id": "view-in-github",
        "colab_type": "text"
      },
      "source": [
        "<a href=\"https://colab.research.google.com/github/GuilhermeFogolin/Python-Dados-Machine-Learning/blob/main/Ana%CC%81lise_Projeto_01.ipynb\" target=\"_parent\"><img src=\"https://colab.research.google.com/assets/colab-badge.svg\" alt=\"Open In Colab\"/></a>"
      ]
    },
    {
      "cell_type": "markdown",
      "metadata": {
        "id": "fQJ5CYV9Te0X"
      },
      "source": [
        "# **Projeto Análise de dados do COVIV 19 no estado de São Paulo**"
      ]
    },
    {
      "cell_type": "markdown",
      "metadata": {
        "id": "kXFCCsVHTtTP"
      },
      "source": [
        "Este projeto analisa os dados dos casos de COVID 19 no estado de São Paulo do período de fevereiro de 2020 a setembro de 2021."
      ]
    },
    {
      "cell_type": "markdown",
      "metadata": {
        "id": "5ZQ2nYhQUc3G"
      },
      "source": [
        "Os dados estão disponíveis nos sites:\n",
        "\n",
        "https://www.seade.gov.br/coronavirus/#\n",
        "\n",
        "https://github.com/seade-R/dados-covid-sp\n",
        "\n",
        "https://www.seade.gov.br/\n"
      ]
    },
    {
      "cell_type": "markdown",
      "metadata": {
        "id": "9_XcXErv4VIU"
      },
      "source": [
        "## **Importação dos Dados**"
      ]
    },
    {
      "cell_type": "code",
      "metadata": {
        "id": "nWvIcticlCs2"
      },
      "source": [
        "import numpy as np\n",
        "import pandas as pd"
      ],
      "execution_count": 1,
      "outputs": []
    },
    {
      "cell_type": "code",
      "source": [
        "from google.colab import drive\n",
        "drive.mount('/content/drive')"
      ],
      "metadata": {
        "colab": {
          "base_uri": "https://localhost:8080/"
        },
        "id": "BLpawCoq63KB",
        "outputId": "8ce7eed8-a8ba-4020-89a4-7d3d1bda3d01"
      },
      "execution_count": 2,
      "outputs": [
        {
          "output_type": "stream",
          "name": "stdout",
          "text": [
            "Mounted at /content/drive\n"
          ]
        }
      ]
    },
    {
      "cell_type": "code",
      "metadata": {
        "id": "LRIrwcC8kUhT"
      },
      "source": [
        "covid = pd.read_csv('/content/drive/MyDrive/Python_Dados_Machine_Learning/covid_sp_tratado.csv',\n",
        "                    sep=';', encoding='utf-8')"
      ],
      "execution_count": 3,
      "outputs": []
    },
    {
      "cell_type": "code",
      "metadata": {
        "id": "GkFTnV4UmHNw",
        "colab": {
          "base_uri": "https://localhost:8080/",
          "height": 206
        },
        "outputId": "92b2905a-9f34-4fae-ffa8-3bc121a80cd9"
      },
      "source": [
        "covid.head()"
      ],
      "execution_count": 4,
      "outputs": [
        {
          "output_type": "execute_result",
          "data": {
            "text/plain": [
              "   indice         municipio  dia  mes        data  casos  casos_novos  \\\n",
              "0       1        Adamantina   25    2  2020-02-25      0            0   \n",
              "1       2            Adolfo   25    2  2020-02-25      0            0   \n",
              "2       3             Aguaí   25    2  2020-02-25      0            0   \n",
              "3       4    Águas da Prata   25    2  2020-02-25      0            0   \n",
              "4       5  Águas de Lindóia   25    2  2020-02-25      0            0   \n",
              "\n",
              "   casos_pc  casos_mm7d  obitos  obitos_novos  obitos_pc  obitos_mm7d  \\\n",
              "0       0.0         0.0       0             0        0.0          0.0   \n",
              "1       0.0         0.0       0             0        0.0          0.0   \n",
              "2       0.0         0.0       0             0        0.0          0.0   \n",
              "3       0.0         0.0       0             0        0.0          0.0   \n",
              "4       0.0         0.0       0             0        0.0          0.0   \n",
              "\n",
              "   letalidade    pop  pop_60    area  semana_epidem   densidade  \n",
              "0         0.0  33894    7398  411.99              9   82.268987  \n",
              "1         0.0   3447     761  211.06              9   16.331849  \n",
              "2         0.0  35608    5245  474.55              9   75.035297  \n",
              "3         0.0   7797    1729  142.67              9   54.650592  \n",
              "4         0.0  18374    3275   60.13              9  305.571262  "
            ],
            "text/html": [
              "\n",
              "  <div id=\"df-fc438a77-24e0-416c-9b83-a5b778e43a13\" class=\"colab-df-container\">\n",
              "    <div>\n",
              "<style scoped>\n",
              "    .dataframe tbody tr th:only-of-type {\n",
              "        vertical-align: middle;\n",
              "    }\n",
              "\n",
              "    .dataframe tbody tr th {\n",
              "        vertical-align: top;\n",
              "    }\n",
              "\n",
              "    .dataframe thead th {\n",
              "        text-align: right;\n",
              "    }\n",
              "</style>\n",
              "<table border=\"1\" class=\"dataframe\">\n",
              "  <thead>\n",
              "    <tr style=\"text-align: right;\">\n",
              "      <th></th>\n",
              "      <th>indice</th>\n",
              "      <th>municipio</th>\n",
              "      <th>dia</th>\n",
              "      <th>mes</th>\n",
              "      <th>data</th>\n",
              "      <th>casos</th>\n",
              "      <th>casos_novos</th>\n",
              "      <th>casos_pc</th>\n",
              "      <th>casos_mm7d</th>\n",
              "      <th>obitos</th>\n",
              "      <th>obitos_novos</th>\n",
              "      <th>obitos_pc</th>\n",
              "      <th>obitos_mm7d</th>\n",
              "      <th>letalidade</th>\n",
              "      <th>pop</th>\n",
              "      <th>pop_60</th>\n",
              "      <th>area</th>\n",
              "      <th>semana_epidem</th>\n",
              "      <th>densidade</th>\n",
              "    </tr>\n",
              "  </thead>\n",
              "  <tbody>\n",
              "    <tr>\n",
              "      <th>0</th>\n",
              "      <td>1</td>\n",
              "      <td>Adamantina</td>\n",
              "      <td>25</td>\n",
              "      <td>2</td>\n",
              "      <td>2020-02-25</td>\n",
              "      <td>0</td>\n",
              "      <td>0</td>\n",
              "      <td>0.0</td>\n",
              "      <td>0.0</td>\n",
              "      <td>0</td>\n",
              "      <td>0</td>\n",
              "      <td>0.0</td>\n",
              "      <td>0.0</td>\n",
              "      <td>0.0</td>\n",
              "      <td>33894</td>\n",
              "      <td>7398</td>\n",
              "      <td>411.99</td>\n",
              "      <td>9</td>\n",
              "      <td>82.268987</td>\n",
              "    </tr>\n",
              "    <tr>\n",
              "      <th>1</th>\n",
              "      <td>2</td>\n",
              "      <td>Adolfo</td>\n",
              "      <td>25</td>\n",
              "      <td>2</td>\n",
              "      <td>2020-02-25</td>\n",
              "      <td>0</td>\n",
              "      <td>0</td>\n",
              "      <td>0.0</td>\n",
              "      <td>0.0</td>\n",
              "      <td>0</td>\n",
              "      <td>0</td>\n",
              "      <td>0.0</td>\n",
              "      <td>0.0</td>\n",
              "      <td>0.0</td>\n",
              "      <td>3447</td>\n",
              "      <td>761</td>\n",
              "      <td>211.06</td>\n",
              "      <td>9</td>\n",
              "      <td>16.331849</td>\n",
              "    </tr>\n",
              "    <tr>\n",
              "      <th>2</th>\n",
              "      <td>3</td>\n",
              "      <td>Aguaí</td>\n",
              "      <td>25</td>\n",
              "      <td>2</td>\n",
              "      <td>2020-02-25</td>\n",
              "      <td>0</td>\n",
              "      <td>0</td>\n",
              "      <td>0.0</td>\n",
              "      <td>0.0</td>\n",
              "      <td>0</td>\n",
              "      <td>0</td>\n",
              "      <td>0.0</td>\n",
              "      <td>0.0</td>\n",
              "      <td>0.0</td>\n",
              "      <td>35608</td>\n",
              "      <td>5245</td>\n",
              "      <td>474.55</td>\n",
              "      <td>9</td>\n",
              "      <td>75.035297</td>\n",
              "    </tr>\n",
              "    <tr>\n",
              "      <th>3</th>\n",
              "      <td>4</td>\n",
              "      <td>Águas da Prata</td>\n",
              "      <td>25</td>\n",
              "      <td>2</td>\n",
              "      <td>2020-02-25</td>\n",
              "      <td>0</td>\n",
              "      <td>0</td>\n",
              "      <td>0.0</td>\n",
              "      <td>0.0</td>\n",
              "      <td>0</td>\n",
              "      <td>0</td>\n",
              "      <td>0.0</td>\n",
              "      <td>0.0</td>\n",
              "      <td>0.0</td>\n",
              "      <td>7797</td>\n",
              "      <td>1729</td>\n",
              "      <td>142.67</td>\n",
              "      <td>9</td>\n",
              "      <td>54.650592</td>\n",
              "    </tr>\n",
              "    <tr>\n",
              "      <th>4</th>\n",
              "      <td>5</td>\n",
              "      <td>Águas de Lindóia</td>\n",
              "      <td>25</td>\n",
              "      <td>2</td>\n",
              "      <td>2020-02-25</td>\n",
              "      <td>0</td>\n",
              "      <td>0</td>\n",
              "      <td>0.0</td>\n",
              "      <td>0.0</td>\n",
              "      <td>0</td>\n",
              "      <td>0</td>\n",
              "      <td>0.0</td>\n",
              "      <td>0.0</td>\n",
              "      <td>0.0</td>\n",
              "      <td>18374</td>\n",
              "      <td>3275</td>\n",
              "      <td>60.13</td>\n",
              "      <td>9</td>\n",
              "      <td>305.571262</td>\n",
              "    </tr>\n",
              "  </tbody>\n",
              "</table>\n",
              "</div>\n",
              "    <div class=\"colab-df-buttons\">\n",
              "\n",
              "  <div class=\"colab-df-container\">\n",
              "    <button class=\"colab-df-convert\" onclick=\"convertToInteractive('df-fc438a77-24e0-416c-9b83-a5b778e43a13')\"\n",
              "            title=\"Convert this dataframe to an interactive table.\"\n",
              "            style=\"display:none;\">\n",
              "\n",
              "  <svg xmlns=\"http://www.w3.org/2000/svg\" height=\"24px\" viewBox=\"0 -960 960 960\">\n",
              "    <path d=\"M120-120v-720h720v720H120Zm60-500h600v-160H180v160Zm220 220h160v-160H400v160Zm0 220h160v-160H400v160ZM180-400h160v-160H180v160Zm440 0h160v-160H620v160ZM180-180h160v-160H180v160Zm440 0h160v-160H620v160Z\"/>\n",
              "  </svg>\n",
              "    </button>\n",
              "\n",
              "  <style>\n",
              "    .colab-df-container {\n",
              "      display:flex;\n",
              "      gap: 12px;\n",
              "    }\n",
              "\n",
              "    .colab-df-convert {\n",
              "      background-color: #E8F0FE;\n",
              "      border: none;\n",
              "      border-radius: 50%;\n",
              "      cursor: pointer;\n",
              "      display: none;\n",
              "      fill: #1967D2;\n",
              "      height: 32px;\n",
              "      padding: 0 0 0 0;\n",
              "      width: 32px;\n",
              "    }\n",
              "\n",
              "    .colab-df-convert:hover {\n",
              "      background-color: #E2EBFA;\n",
              "      box-shadow: 0px 1px 2px rgba(60, 64, 67, 0.3), 0px 1px 3px 1px rgba(60, 64, 67, 0.15);\n",
              "      fill: #174EA6;\n",
              "    }\n",
              "\n",
              "    .colab-df-buttons div {\n",
              "      margin-bottom: 4px;\n",
              "    }\n",
              "\n",
              "    [theme=dark] .colab-df-convert {\n",
              "      background-color: #3B4455;\n",
              "      fill: #D2E3FC;\n",
              "    }\n",
              "\n",
              "    [theme=dark] .colab-df-convert:hover {\n",
              "      background-color: #434B5C;\n",
              "      box-shadow: 0px 1px 3px 1px rgba(0, 0, 0, 0.15);\n",
              "      filter: drop-shadow(0px 1px 2px rgba(0, 0, 0, 0.3));\n",
              "      fill: #FFFFFF;\n",
              "    }\n",
              "  </style>\n",
              "\n",
              "    <script>\n",
              "      const buttonEl =\n",
              "        document.querySelector('#df-fc438a77-24e0-416c-9b83-a5b778e43a13 button.colab-df-convert');\n",
              "      buttonEl.style.display =\n",
              "        google.colab.kernel.accessAllowed ? 'block' : 'none';\n",
              "\n",
              "      async function convertToInteractive(key) {\n",
              "        const element = document.querySelector('#df-fc438a77-24e0-416c-9b83-a5b778e43a13');\n",
              "        const dataTable =\n",
              "          await google.colab.kernel.invokeFunction('convertToInteractive',\n",
              "                                                    [key], {});\n",
              "        if (!dataTable) return;\n",
              "\n",
              "        const docLinkHtml = 'Like what you see? Visit the ' +\n",
              "          '<a target=\"_blank\" href=https://colab.research.google.com/notebooks/data_table.ipynb>data table notebook</a>'\n",
              "          + ' to learn more about interactive tables.';\n",
              "        element.innerHTML = '';\n",
              "        dataTable['output_type'] = 'display_data';\n",
              "        await google.colab.output.renderOutput(dataTable, element);\n",
              "        const docLink = document.createElement('div');\n",
              "        docLink.innerHTML = docLinkHtml;\n",
              "        element.appendChild(docLink);\n",
              "      }\n",
              "    </script>\n",
              "  </div>\n",
              "\n",
              "\n",
              "    <div id=\"df-491859c8-c606-4d50-b6dd-575652891ebf\">\n",
              "      <button class=\"colab-df-quickchart\" onclick=\"quickchart('df-491859c8-c606-4d50-b6dd-575652891ebf')\"\n",
              "                title=\"Suggest charts\"\n",
              "                style=\"display:none;\">\n",
              "\n",
              "<svg xmlns=\"http://www.w3.org/2000/svg\" height=\"24px\"viewBox=\"0 0 24 24\"\n",
              "     width=\"24px\">\n",
              "    <g>\n",
              "        <path d=\"M19 3H5c-1.1 0-2 .9-2 2v14c0 1.1.9 2 2 2h14c1.1 0 2-.9 2-2V5c0-1.1-.9-2-2-2zM9 17H7v-7h2v7zm4 0h-2V7h2v10zm4 0h-2v-4h2v4z\"/>\n",
              "    </g>\n",
              "</svg>\n",
              "      </button>\n",
              "\n",
              "<style>\n",
              "  .colab-df-quickchart {\n",
              "      --bg-color: #E8F0FE;\n",
              "      --fill-color: #1967D2;\n",
              "      --hover-bg-color: #E2EBFA;\n",
              "      --hover-fill-color: #174EA6;\n",
              "      --disabled-fill-color: #AAA;\n",
              "      --disabled-bg-color: #DDD;\n",
              "  }\n",
              "\n",
              "  [theme=dark] .colab-df-quickchart {\n",
              "      --bg-color: #3B4455;\n",
              "      --fill-color: #D2E3FC;\n",
              "      --hover-bg-color: #434B5C;\n",
              "      --hover-fill-color: #FFFFFF;\n",
              "      --disabled-bg-color: #3B4455;\n",
              "      --disabled-fill-color: #666;\n",
              "  }\n",
              "\n",
              "  .colab-df-quickchart {\n",
              "    background-color: var(--bg-color);\n",
              "    border: none;\n",
              "    border-radius: 50%;\n",
              "    cursor: pointer;\n",
              "    display: none;\n",
              "    fill: var(--fill-color);\n",
              "    height: 32px;\n",
              "    padding: 0;\n",
              "    width: 32px;\n",
              "  }\n",
              "\n",
              "  .colab-df-quickchart:hover {\n",
              "    background-color: var(--hover-bg-color);\n",
              "    box-shadow: 0 1px 2px rgba(60, 64, 67, 0.3), 0 1px 3px 1px rgba(60, 64, 67, 0.15);\n",
              "    fill: var(--button-hover-fill-color);\n",
              "  }\n",
              "\n",
              "  .colab-df-quickchart-complete:disabled,\n",
              "  .colab-df-quickchart-complete:disabled:hover {\n",
              "    background-color: var(--disabled-bg-color);\n",
              "    fill: var(--disabled-fill-color);\n",
              "    box-shadow: none;\n",
              "  }\n",
              "\n",
              "  .colab-df-spinner {\n",
              "    border: 2px solid var(--fill-color);\n",
              "    border-color: transparent;\n",
              "    border-bottom-color: var(--fill-color);\n",
              "    animation:\n",
              "      spin 1s steps(1) infinite;\n",
              "  }\n",
              "\n",
              "  @keyframes spin {\n",
              "    0% {\n",
              "      border-color: transparent;\n",
              "      border-bottom-color: var(--fill-color);\n",
              "      border-left-color: var(--fill-color);\n",
              "    }\n",
              "    20% {\n",
              "      border-color: transparent;\n",
              "      border-left-color: var(--fill-color);\n",
              "      border-top-color: var(--fill-color);\n",
              "    }\n",
              "    30% {\n",
              "      border-color: transparent;\n",
              "      border-left-color: var(--fill-color);\n",
              "      border-top-color: var(--fill-color);\n",
              "      border-right-color: var(--fill-color);\n",
              "    }\n",
              "    40% {\n",
              "      border-color: transparent;\n",
              "      border-right-color: var(--fill-color);\n",
              "      border-top-color: var(--fill-color);\n",
              "    }\n",
              "    60% {\n",
              "      border-color: transparent;\n",
              "      border-right-color: var(--fill-color);\n",
              "    }\n",
              "    80% {\n",
              "      border-color: transparent;\n",
              "      border-right-color: var(--fill-color);\n",
              "      border-bottom-color: var(--fill-color);\n",
              "    }\n",
              "    90% {\n",
              "      border-color: transparent;\n",
              "      border-bottom-color: var(--fill-color);\n",
              "    }\n",
              "  }\n",
              "</style>\n",
              "\n",
              "      <script>\n",
              "        async function quickchart(key) {\n",
              "          const quickchartButtonEl =\n",
              "            document.querySelector('#' + key + ' button');\n",
              "          quickchartButtonEl.disabled = true;  // To prevent multiple clicks.\n",
              "          quickchartButtonEl.classList.add('colab-df-spinner');\n",
              "          try {\n",
              "            const charts = await google.colab.kernel.invokeFunction(\n",
              "                'suggestCharts', [key], {});\n",
              "          } catch (error) {\n",
              "            console.error('Error during call to suggestCharts:', error);\n",
              "          }\n",
              "          quickchartButtonEl.classList.remove('colab-df-spinner');\n",
              "          quickchartButtonEl.classList.add('colab-df-quickchart-complete');\n",
              "        }\n",
              "        (() => {\n",
              "          let quickchartButtonEl =\n",
              "            document.querySelector('#df-491859c8-c606-4d50-b6dd-575652891ebf button');\n",
              "          quickchartButtonEl.style.display =\n",
              "            google.colab.kernel.accessAllowed ? 'block' : 'none';\n",
              "        })();\n",
              "      </script>\n",
              "    </div>\n",
              "\n",
              "    </div>\n",
              "  </div>\n"
            ],
            "application/vnd.google.colaboratory.intrinsic+json": {
              "type": "dataframe",
              "variable_name": "covid"
            }
          },
          "metadata": {},
          "execution_count": 4
        }
      ]
    },
    {
      "cell_type": "code",
      "metadata": {
        "id": "6pnxBXvi4WVL",
        "colab": {
          "base_uri": "https://localhost:8080/"
        },
        "outputId": "88fc45b4-8c99-4786-c264-8c6d7c136901"
      },
      "source": [
        "covid.shape"
      ],
      "execution_count": 5,
      "outputs": [
        {
          "output_type": "execute_result",
          "data": {
            "text/plain": [
              "(373455, 19)"
            ]
          },
          "metadata": {},
          "execution_count": 5
        }
      ]
    },
    {
      "cell_type": "code",
      "metadata": {
        "id": "k-h3oN5lYlbP",
        "colab": {
          "base_uri": "https://localhost:8080/",
          "height": 680
        },
        "outputId": "2371070f-46f6-4ecd-c198-9e49162e43ec"
      },
      "source": [
        "# Análise dos atributos\n",
        "covid.dtypes"
      ],
      "execution_count": 6,
      "outputs": [
        {
          "output_type": "execute_result",
          "data": {
            "text/plain": [
              "indice             int64\n",
              "municipio         object\n",
              "dia                int64\n",
              "mes                int64\n",
              "data              object\n",
              "casos              int64\n",
              "casos_novos        int64\n",
              "casos_pc         float64\n",
              "casos_mm7d       float64\n",
              "obitos             int64\n",
              "obitos_novos       int64\n",
              "obitos_pc        float64\n",
              "obitos_mm7d      float64\n",
              "letalidade       float64\n",
              "pop                int64\n",
              "pop_60             int64\n",
              "area             float64\n",
              "semana_epidem      int64\n",
              "densidade        float64\n",
              "dtype: object"
            ],
            "text/html": [
              "<div>\n",
              "<style scoped>\n",
              "    .dataframe tbody tr th:only-of-type {\n",
              "        vertical-align: middle;\n",
              "    }\n",
              "\n",
              "    .dataframe tbody tr th {\n",
              "        vertical-align: top;\n",
              "    }\n",
              "\n",
              "    .dataframe thead th {\n",
              "        text-align: right;\n",
              "    }\n",
              "</style>\n",
              "<table border=\"1\" class=\"dataframe\">\n",
              "  <thead>\n",
              "    <tr style=\"text-align: right;\">\n",
              "      <th></th>\n",
              "      <th>0</th>\n",
              "    </tr>\n",
              "  </thead>\n",
              "  <tbody>\n",
              "    <tr>\n",
              "      <th>indice</th>\n",
              "      <td>int64</td>\n",
              "    </tr>\n",
              "    <tr>\n",
              "      <th>municipio</th>\n",
              "      <td>object</td>\n",
              "    </tr>\n",
              "    <tr>\n",
              "      <th>dia</th>\n",
              "      <td>int64</td>\n",
              "    </tr>\n",
              "    <tr>\n",
              "      <th>mes</th>\n",
              "      <td>int64</td>\n",
              "    </tr>\n",
              "    <tr>\n",
              "      <th>data</th>\n",
              "      <td>object</td>\n",
              "    </tr>\n",
              "    <tr>\n",
              "      <th>casos</th>\n",
              "      <td>int64</td>\n",
              "    </tr>\n",
              "    <tr>\n",
              "      <th>casos_novos</th>\n",
              "      <td>int64</td>\n",
              "    </tr>\n",
              "    <tr>\n",
              "      <th>casos_pc</th>\n",
              "      <td>float64</td>\n",
              "    </tr>\n",
              "    <tr>\n",
              "      <th>casos_mm7d</th>\n",
              "      <td>float64</td>\n",
              "    </tr>\n",
              "    <tr>\n",
              "      <th>obitos</th>\n",
              "      <td>int64</td>\n",
              "    </tr>\n",
              "    <tr>\n",
              "      <th>obitos_novos</th>\n",
              "      <td>int64</td>\n",
              "    </tr>\n",
              "    <tr>\n",
              "      <th>obitos_pc</th>\n",
              "      <td>float64</td>\n",
              "    </tr>\n",
              "    <tr>\n",
              "      <th>obitos_mm7d</th>\n",
              "      <td>float64</td>\n",
              "    </tr>\n",
              "    <tr>\n",
              "      <th>letalidade</th>\n",
              "      <td>float64</td>\n",
              "    </tr>\n",
              "    <tr>\n",
              "      <th>pop</th>\n",
              "      <td>int64</td>\n",
              "    </tr>\n",
              "    <tr>\n",
              "      <th>pop_60</th>\n",
              "      <td>int64</td>\n",
              "    </tr>\n",
              "    <tr>\n",
              "      <th>area</th>\n",
              "      <td>float64</td>\n",
              "    </tr>\n",
              "    <tr>\n",
              "      <th>semana_epidem</th>\n",
              "      <td>int64</td>\n",
              "    </tr>\n",
              "    <tr>\n",
              "      <th>densidade</th>\n",
              "      <td>float64</td>\n",
              "    </tr>\n",
              "  </tbody>\n",
              "</table>\n",
              "</div><br><label><b>dtype:</b> object</label>"
            ]
          },
          "metadata": {},
          "execution_count": 6
        }
      ]
    },
    {
      "cell_type": "markdown",
      "metadata": {
        "id": "vbJVyveHZK52"
      },
      "source": [
        "## Filtrando duas cidades: Campinas e Guarulhos"
      ]
    },
    {
      "cell_type": "code",
      "metadata": {
        "id": "gs74ePudY2d3",
        "colab": {
          "base_uri": "https://localhost:8080/",
          "height": 143
        },
        "outputId": "7266b029-f946-4df6-e2d1-3b81f074e56f"
      },
      "source": [
        "covid_campinas = covid.loc[covid.municipio == 'Campinas']\n",
        "covid_campinas.head(3)"
      ],
      "execution_count": 7,
      "outputs": [
        {
          "output_type": "execute_result",
          "data": {
            "text/plain": [
              "      indice municipio  dia  mes        data  casos  casos_novos  casos_pc  \\\n",
              "108      109  Campinas   25    2  2020-02-25      0            0       0.0   \n",
              "753      754  Campinas   26    2  2020-02-26      0            0       0.0   \n",
              "1398    1399  Campinas   27    2  2020-02-27      0            0       0.0   \n",
              "\n",
              "      casos_mm7d  obitos  obitos_novos  obitos_pc  obitos_mm7d  letalidade  \\\n",
              "108          0.0       0             0        0.0          0.0         0.0   \n",
              "753          0.0       0             0        0.0          0.0         0.0   \n",
              "1398         0.0       0             0        0.0          0.0         0.0   \n",
              "\n",
              "          pop  pop_60    area  semana_epidem    densidade  \n",
              "108   1175501  192796  794.57              9  1479.417798  \n",
              "753   1175501  192796  794.57              9  1479.417798  \n",
              "1398  1175501  192796  794.57              9  1479.417798  "
            ],
            "text/html": [
              "\n",
              "  <div id=\"df-788e485f-0fc2-4d8c-969b-00b53b187efd\" class=\"colab-df-container\">\n",
              "    <div>\n",
              "<style scoped>\n",
              "    .dataframe tbody tr th:only-of-type {\n",
              "        vertical-align: middle;\n",
              "    }\n",
              "\n",
              "    .dataframe tbody tr th {\n",
              "        vertical-align: top;\n",
              "    }\n",
              "\n",
              "    .dataframe thead th {\n",
              "        text-align: right;\n",
              "    }\n",
              "</style>\n",
              "<table border=\"1\" class=\"dataframe\">\n",
              "  <thead>\n",
              "    <tr style=\"text-align: right;\">\n",
              "      <th></th>\n",
              "      <th>indice</th>\n",
              "      <th>municipio</th>\n",
              "      <th>dia</th>\n",
              "      <th>mes</th>\n",
              "      <th>data</th>\n",
              "      <th>casos</th>\n",
              "      <th>casos_novos</th>\n",
              "      <th>casos_pc</th>\n",
              "      <th>casos_mm7d</th>\n",
              "      <th>obitos</th>\n",
              "      <th>obitos_novos</th>\n",
              "      <th>obitos_pc</th>\n",
              "      <th>obitos_mm7d</th>\n",
              "      <th>letalidade</th>\n",
              "      <th>pop</th>\n",
              "      <th>pop_60</th>\n",
              "      <th>area</th>\n",
              "      <th>semana_epidem</th>\n",
              "      <th>densidade</th>\n",
              "    </tr>\n",
              "  </thead>\n",
              "  <tbody>\n",
              "    <tr>\n",
              "      <th>108</th>\n",
              "      <td>109</td>\n",
              "      <td>Campinas</td>\n",
              "      <td>25</td>\n",
              "      <td>2</td>\n",
              "      <td>2020-02-25</td>\n",
              "      <td>0</td>\n",
              "      <td>0</td>\n",
              "      <td>0.0</td>\n",
              "      <td>0.0</td>\n",
              "      <td>0</td>\n",
              "      <td>0</td>\n",
              "      <td>0.0</td>\n",
              "      <td>0.0</td>\n",
              "      <td>0.0</td>\n",
              "      <td>1175501</td>\n",
              "      <td>192796</td>\n",
              "      <td>794.57</td>\n",
              "      <td>9</td>\n",
              "      <td>1479.417798</td>\n",
              "    </tr>\n",
              "    <tr>\n",
              "      <th>753</th>\n",
              "      <td>754</td>\n",
              "      <td>Campinas</td>\n",
              "      <td>26</td>\n",
              "      <td>2</td>\n",
              "      <td>2020-02-26</td>\n",
              "      <td>0</td>\n",
              "      <td>0</td>\n",
              "      <td>0.0</td>\n",
              "      <td>0.0</td>\n",
              "      <td>0</td>\n",
              "      <td>0</td>\n",
              "      <td>0.0</td>\n",
              "      <td>0.0</td>\n",
              "      <td>0.0</td>\n",
              "      <td>1175501</td>\n",
              "      <td>192796</td>\n",
              "      <td>794.57</td>\n",
              "      <td>9</td>\n",
              "      <td>1479.417798</td>\n",
              "    </tr>\n",
              "    <tr>\n",
              "      <th>1398</th>\n",
              "      <td>1399</td>\n",
              "      <td>Campinas</td>\n",
              "      <td>27</td>\n",
              "      <td>2</td>\n",
              "      <td>2020-02-27</td>\n",
              "      <td>0</td>\n",
              "      <td>0</td>\n",
              "      <td>0.0</td>\n",
              "      <td>0.0</td>\n",
              "      <td>0</td>\n",
              "      <td>0</td>\n",
              "      <td>0.0</td>\n",
              "      <td>0.0</td>\n",
              "      <td>0.0</td>\n",
              "      <td>1175501</td>\n",
              "      <td>192796</td>\n",
              "      <td>794.57</td>\n",
              "      <td>9</td>\n",
              "      <td>1479.417798</td>\n",
              "    </tr>\n",
              "  </tbody>\n",
              "</table>\n",
              "</div>\n",
              "    <div class=\"colab-df-buttons\">\n",
              "\n",
              "  <div class=\"colab-df-container\">\n",
              "    <button class=\"colab-df-convert\" onclick=\"convertToInteractive('df-788e485f-0fc2-4d8c-969b-00b53b187efd')\"\n",
              "            title=\"Convert this dataframe to an interactive table.\"\n",
              "            style=\"display:none;\">\n",
              "\n",
              "  <svg xmlns=\"http://www.w3.org/2000/svg\" height=\"24px\" viewBox=\"0 -960 960 960\">\n",
              "    <path d=\"M120-120v-720h720v720H120Zm60-500h600v-160H180v160Zm220 220h160v-160H400v160Zm0 220h160v-160H400v160ZM180-400h160v-160H180v160Zm440 0h160v-160H620v160ZM180-180h160v-160H180v160Zm440 0h160v-160H620v160Z\"/>\n",
              "  </svg>\n",
              "    </button>\n",
              "\n",
              "  <style>\n",
              "    .colab-df-container {\n",
              "      display:flex;\n",
              "      gap: 12px;\n",
              "    }\n",
              "\n",
              "    .colab-df-convert {\n",
              "      background-color: #E8F0FE;\n",
              "      border: none;\n",
              "      border-radius: 50%;\n",
              "      cursor: pointer;\n",
              "      display: none;\n",
              "      fill: #1967D2;\n",
              "      height: 32px;\n",
              "      padding: 0 0 0 0;\n",
              "      width: 32px;\n",
              "    }\n",
              "\n",
              "    .colab-df-convert:hover {\n",
              "      background-color: #E2EBFA;\n",
              "      box-shadow: 0px 1px 2px rgba(60, 64, 67, 0.3), 0px 1px 3px 1px rgba(60, 64, 67, 0.15);\n",
              "      fill: #174EA6;\n",
              "    }\n",
              "\n",
              "    .colab-df-buttons div {\n",
              "      margin-bottom: 4px;\n",
              "    }\n",
              "\n",
              "    [theme=dark] .colab-df-convert {\n",
              "      background-color: #3B4455;\n",
              "      fill: #D2E3FC;\n",
              "    }\n",
              "\n",
              "    [theme=dark] .colab-df-convert:hover {\n",
              "      background-color: #434B5C;\n",
              "      box-shadow: 0px 1px 3px 1px rgba(0, 0, 0, 0.15);\n",
              "      filter: drop-shadow(0px 1px 2px rgba(0, 0, 0, 0.3));\n",
              "      fill: #FFFFFF;\n",
              "    }\n",
              "  </style>\n",
              "\n",
              "    <script>\n",
              "      const buttonEl =\n",
              "        document.querySelector('#df-788e485f-0fc2-4d8c-969b-00b53b187efd button.colab-df-convert');\n",
              "      buttonEl.style.display =\n",
              "        google.colab.kernel.accessAllowed ? 'block' : 'none';\n",
              "\n",
              "      async function convertToInteractive(key) {\n",
              "        const element = document.querySelector('#df-788e485f-0fc2-4d8c-969b-00b53b187efd');\n",
              "        const dataTable =\n",
              "          await google.colab.kernel.invokeFunction('convertToInteractive',\n",
              "                                                    [key], {});\n",
              "        if (!dataTable) return;\n",
              "\n",
              "        const docLinkHtml = 'Like what you see? Visit the ' +\n",
              "          '<a target=\"_blank\" href=https://colab.research.google.com/notebooks/data_table.ipynb>data table notebook</a>'\n",
              "          + ' to learn more about interactive tables.';\n",
              "        element.innerHTML = '';\n",
              "        dataTable['output_type'] = 'display_data';\n",
              "        await google.colab.output.renderOutput(dataTable, element);\n",
              "        const docLink = document.createElement('div');\n",
              "        docLink.innerHTML = docLinkHtml;\n",
              "        element.appendChild(docLink);\n",
              "      }\n",
              "    </script>\n",
              "  </div>\n",
              "\n",
              "\n",
              "    <div id=\"df-977df273-0bc2-4e64-b5e7-94cd12216bd4\">\n",
              "      <button class=\"colab-df-quickchart\" onclick=\"quickchart('df-977df273-0bc2-4e64-b5e7-94cd12216bd4')\"\n",
              "                title=\"Suggest charts\"\n",
              "                style=\"display:none;\">\n",
              "\n",
              "<svg xmlns=\"http://www.w3.org/2000/svg\" height=\"24px\"viewBox=\"0 0 24 24\"\n",
              "     width=\"24px\">\n",
              "    <g>\n",
              "        <path d=\"M19 3H5c-1.1 0-2 .9-2 2v14c0 1.1.9 2 2 2h14c1.1 0 2-.9 2-2V5c0-1.1-.9-2-2-2zM9 17H7v-7h2v7zm4 0h-2V7h2v10zm4 0h-2v-4h2v4z\"/>\n",
              "    </g>\n",
              "</svg>\n",
              "      </button>\n",
              "\n",
              "<style>\n",
              "  .colab-df-quickchart {\n",
              "      --bg-color: #E8F0FE;\n",
              "      --fill-color: #1967D2;\n",
              "      --hover-bg-color: #E2EBFA;\n",
              "      --hover-fill-color: #174EA6;\n",
              "      --disabled-fill-color: #AAA;\n",
              "      --disabled-bg-color: #DDD;\n",
              "  }\n",
              "\n",
              "  [theme=dark] .colab-df-quickchart {\n",
              "      --bg-color: #3B4455;\n",
              "      --fill-color: #D2E3FC;\n",
              "      --hover-bg-color: #434B5C;\n",
              "      --hover-fill-color: #FFFFFF;\n",
              "      --disabled-bg-color: #3B4455;\n",
              "      --disabled-fill-color: #666;\n",
              "  }\n",
              "\n",
              "  .colab-df-quickchart {\n",
              "    background-color: var(--bg-color);\n",
              "    border: none;\n",
              "    border-radius: 50%;\n",
              "    cursor: pointer;\n",
              "    display: none;\n",
              "    fill: var(--fill-color);\n",
              "    height: 32px;\n",
              "    padding: 0;\n",
              "    width: 32px;\n",
              "  }\n",
              "\n",
              "  .colab-df-quickchart:hover {\n",
              "    background-color: var(--hover-bg-color);\n",
              "    box-shadow: 0 1px 2px rgba(60, 64, 67, 0.3), 0 1px 3px 1px rgba(60, 64, 67, 0.15);\n",
              "    fill: var(--button-hover-fill-color);\n",
              "  }\n",
              "\n",
              "  .colab-df-quickchart-complete:disabled,\n",
              "  .colab-df-quickchart-complete:disabled:hover {\n",
              "    background-color: var(--disabled-bg-color);\n",
              "    fill: var(--disabled-fill-color);\n",
              "    box-shadow: none;\n",
              "  }\n",
              "\n",
              "  .colab-df-spinner {\n",
              "    border: 2px solid var(--fill-color);\n",
              "    border-color: transparent;\n",
              "    border-bottom-color: var(--fill-color);\n",
              "    animation:\n",
              "      spin 1s steps(1) infinite;\n",
              "  }\n",
              "\n",
              "  @keyframes spin {\n",
              "    0% {\n",
              "      border-color: transparent;\n",
              "      border-bottom-color: var(--fill-color);\n",
              "      border-left-color: var(--fill-color);\n",
              "    }\n",
              "    20% {\n",
              "      border-color: transparent;\n",
              "      border-left-color: var(--fill-color);\n",
              "      border-top-color: var(--fill-color);\n",
              "    }\n",
              "    30% {\n",
              "      border-color: transparent;\n",
              "      border-left-color: var(--fill-color);\n",
              "      border-top-color: var(--fill-color);\n",
              "      border-right-color: var(--fill-color);\n",
              "    }\n",
              "    40% {\n",
              "      border-color: transparent;\n",
              "      border-right-color: var(--fill-color);\n",
              "      border-top-color: var(--fill-color);\n",
              "    }\n",
              "    60% {\n",
              "      border-color: transparent;\n",
              "      border-right-color: var(--fill-color);\n",
              "    }\n",
              "    80% {\n",
              "      border-color: transparent;\n",
              "      border-right-color: var(--fill-color);\n",
              "      border-bottom-color: var(--fill-color);\n",
              "    }\n",
              "    90% {\n",
              "      border-color: transparent;\n",
              "      border-bottom-color: var(--fill-color);\n",
              "    }\n",
              "  }\n",
              "</style>\n",
              "\n",
              "      <script>\n",
              "        async function quickchart(key) {\n",
              "          const quickchartButtonEl =\n",
              "            document.querySelector('#' + key + ' button');\n",
              "          quickchartButtonEl.disabled = true;  // To prevent multiple clicks.\n",
              "          quickchartButtonEl.classList.add('colab-df-spinner');\n",
              "          try {\n",
              "            const charts = await google.colab.kernel.invokeFunction(\n",
              "                'suggestCharts', [key], {});\n",
              "          } catch (error) {\n",
              "            console.error('Error during call to suggestCharts:', error);\n",
              "          }\n",
              "          quickchartButtonEl.classList.remove('colab-df-spinner');\n",
              "          quickchartButtonEl.classList.add('colab-df-quickchart-complete');\n",
              "        }\n",
              "        (() => {\n",
              "          let quickchartButtonEl =\n",
              "            document.querySelector('#df-977df273-0bc2-4e64-b5e7-94cd12216bd4 button');\n",
              "          quickchartButtonEl.style.display =\n",
              "            google.colab.kernel.accessAllowed ? 'block' : 'none';\n",
              "        })();\n",
              "      </script>\n",
              "    </div>\n",
              "\n",
              "    </div>\n",
              "  </div>\n"
            ],
            "application/vnd.google.colaboratory.intrinsic+json": {
              "type": "dataframe",
              "variable_name": "covid_campinas",
              "repr_error": "0"
            }
          },
          "metadata": {},
          "execution_count": 7
        }
      ]
    },
    {
      "cell_type": "code",
      "metadata": {
        "id": "BfzikN6TZ8LZ",
        "colab": {
          "base_uri": "https://localhost:8080/",
          "height": 323
        },
        "outputId": "dc6823bc-d195-4104-ccef-f826667d1e66"
      },
      "source": [
        "# Criação de uma coluna com a porcentagem de idosos\n",
        "covid_campinas['porcentagem_idosos'] = 100*covid_campinas['pop_60'] / covid_campinas['pop']\n",
        "covid_campinas.head(3)"
      ],
      "execution_count": 8,
      "outputs": [
        {
          "output_type": "stream",
          "name": "stderr",
          "text": [
            "<ipython-input-8-68ed0c360883>:2: SettingWithCopyWarning: \n",
            "A value is trying to be set on a copy of a slice from a DataFrame.\n",
            "Try using .loc[row_indexer,col_indexer] = value instead\n",
            "\n",
            "See the caveats in the documentation: https://pandas.pydata.org/pandas-docs/stable/user_guide/indexing.html#returning-a-view-versus-a-copy\n",
            "  covid_campinas['porcentagem_idosos'] = 100*covid_campinas['pop_60'] / covid_campinas['pop']\n"
          ]
        },
        {
          "output_type": "execute_result",
          "data": {
            "text/plain": [
              "      indice municipio  dia  mes        data  casos  casos_novos  casos_pc  \\\n",
              "108      109  Campinas   25    2  2020-02-25      0            0       0.0   \n",
              "753      754  Campinas   26    2  2020-02-26      0            0       0.0   \n",
              "1398    1399  Campinas   27    2  2020-02-27      0            0       0.0   \n",
              "\n",
              "      casos_mm7d  obitos  obitos_novos  obitos_pc  obitos_mm7d  letalidade  \\\n",
              "108          0.0       0             0        0.0          0.0         0.0   \n",
              "753          0.0       0             0        0.0          0.0         0.0   \n",
              "1398         0.0       0             0        0.0          0.0         0.0   \n",
              "\n",
              "          pop  pop_60    area  semana_epidem    densidade  porcentagem_idosos  \n",
              "108   1175501  192796  794.57              9  1479.417798           16.401177  \n",
              "753   1175501  192796  794.57              9  1479.417798           16.401177  \n",
              "1398  1175501  192796  794.57              9  1479.417798           16.401177  "
            ],
            "text/html": [
              "\n",
              "  <div id=\"df-ddf10cca-bc6a-40d9-adca-afc4d3223557\" class=\"colab-df-container\">\n",
              "    <div>\n",
              "<style scoped>\n",
              "    .dataframe tbody tr th:only-of-type {\n",
              "        vertical-align: middle;\n",
              "    }\n",
              "\n",
              "    .dataframe tbody tr th {\n",
              "        vertical-align: top;\n",
              "    }\n",
              "\n",
              "    .dataframe thead th {\n",
              "        text-align: right;\n",
              "    }\n",
              "</style>\n",
              "<table border=\"1\" class=\"dataframe\">\n",
              "  <thead>\n",
              "    <tr style=\"text-align: right;\">\n",
              "      <th></th>\n",
              "      <th>indice</th>\n",
              "      <th>municipio</th>\n",
              "      <th>dia</th>\n",
              "      <th>mes</th>\n",
              "      <th>data</th>\n",
              "      <th>casos</th>\n",
              "      <th>casos_novos</th>\n",
              "      <th>casos_pc</th>\n",
              "      <th>casos_mm7d</th>\n",
              "      <th>obitos</th>\n",
              "      <th>obitos_novos</th>\n",
              "      <th>obitos_pc</th>\n",
              "      <th>obitos_mm7d</th>\n",
              "      <th>letalidade</th>\n",
              "      <th>pop</th>\n",
              "      <th>pop_60</th>\n",
              "      <th>area</th>\n",
              "      <th>semana_epidem</th>\n",
              "      <th>densidade</th>\n",
              "      <th>porcentagem_idosos</th>\n",
              "    </tr>\n",
              "  </thead>\n",
              "  <tbody>\n",
              "    <tr>\n",
              "      <th>108</th>\n",
              "      <td>109</td>\n",
              "      <td>Campinas</td>\n",
              "      <td>25</td>\n",
              "      <td>2</td>\n",
              "      <td>2020-02-25</td>\n",
              "      <td>0</td>\n",
              "      <td>0</td>\n",
              "      <td>0.0</td>\n",
              "      <td>0.0</td>\n",
              "      <td>0</td>\n",
              "      <td>0</td>\n",
              "      <td>0.0</td>\n",
              "      <td>0.0</td>\n",
              "      <td>0.0</td>\n",
              "      <td>1175501</td>\n",
              "      <td>192796</td>\n",
              "      <td>794.57</td>\n",
              "      <td>9</td>\n",
              "      <td>1479.417798</td>\n",
              "      <td>16.401177</td>\n",
              "    </tr>\n",
              "    <tr>\n",
              "      <th>753</th>\n",
              "      <td>754</td>\n",
              "      <td>Campinas</td>\n",
              "      <td>26</td>\n",
              "      <td>2</td>\n",
              "      <td>2020-02-26</td>\n",
              "      <td>0</td>\n",
              "      <td>0</td>\n",
              "      <td>0.0</td>\n",
              "      <td>0.0</td>\n",
              "      <td>0</td>\n",
              "      <td>0</td>\n",
              "      <td>0.0</td>\n",
              "      <td>0.0</td>\n",
              "      <td>0.0</td>\n",
              "      <td>1175501</td>\n",
              "      <td>192796</td>\n",
              "      <td>794.57</td>\n",
              "      <td>9</td>\n",
              "      <td>1479.417798</td>\n",
              "      <td>16.401177</td>\n",
              "    </tr>\n",
              "    <tr>\n",
              "      <th>1398</th>\n",
              "      <td>1399</td>\n",
              "      <td>Campinas</td>\n",
              "      <td>27</td>\n",
              "      <td>2</td>\n",
              "      <td>2020-02-27</td>\n",
              "      <td>0</td>\n",
              "      <td>0</td>\n",
              "      <td>0.0</td>\n",
              "      <td>0.0</td>\n",
              "      <td>0</td>\n",
              "      <td>0</td>\n",
              "      <td>0.0</td>\n",
              "      <td>0.0</td>\n",
              "      <td>0.0</td>\n",
              "      <td>1175501</td>\n",
              "      <td>192796</td>\n",
              "      <td>794.57</td>\n",
              "      <td>9</td>\n",
              "      <td>1479.417798</td>\n",
              "      <td>16.401177</td>\n",
              "    </tr>\n",
              "  </tbody>\n",
              "</table>\n",
              "</div>\n",
              "    <div class=\"colab-df-buttons\">\n",
              "\n",
              "  <div class=\"colab-df-container\">\n",
              "    <button class=\"colab-df-convert\" onclick=\"convertToInteractive('df-ddf10cca-bc6a-40d9-adca-afc4d3223557')\"\n",
              "            title=\"Convert this dataframe to an interactive table.\"\n",
              "            style=\"display:none;\">\n",
              "\n",
              "  <svg xmlns=\"http://www.w3.org/2000/svg\" height=\"24px\" viewBox=\"0 -960 960 960\">\n",
              "    <path d=\"M120-120v-720h720v720H120Zm60-500h600v-160H180v160Zm220 220h160v-160H400v160Zm0 220h160v-160H400v160ZM180-400h160v-160H180v160Zm440 0h160v-160H620v160ZM180-180h160v-160H180v160Zm440 0h160v-160H620v160Z\"/>\n",
              "  </svg>\n",
              "    </button>\n",
              "\n",
              "  <style>\n",
              "    .colab-df-container {\n",
              "      display:flex;\n",
              "      gap: 12px;\n",
              "    }\n",
              "\n",
              "    .colab-df-convert {\n",
              "      background-color: #E8F0FE;\n",
              "      border: none;\n",
              "      border-radius: 50%;\n",
              "      cursor: pointer;\n",
              "      display: none;\n",
              "      fill: #1967D2;\n",
              "      height: 32px;\n",
              "      padding: 0 0 0 0;\n",
              "      width: 32px;\n",
              "    }\n",
              "\n",
              "    .colab-df-convert:hover {\n",
              "      background-color: #E2EBFA;\n",
              "      box-shadow: 0px 1px 2px rgba(60, 64, 67, 0.3), 0px 1px 3px 1px rgba(60, 64, 67, 0.15);\n",
              "      fill: #174EA6;\n",
              "    }\n",
              "\n",
              "    .colab-df-buttons div {\n",
              "      margin-bottom: 4px;\n",
              "    }\n",
              "\n",
              "    [theme=dark] .colab-df-convert {\n",
              "      background-color: #3B4455;\n",
              "      fill: #D2E3FC;\n",
              "    }\n",
              "\n",
              "    [theme=dark] .colab-df-convert:hover {\n",
              "      background-color: #434B5C;\n",
              "      box-shadow: 0px 1px 3px 1px rgba(0, 0, 0, 0.15);\n",
              "      filter: drop-shadow(0px 1px 2px rgba(0, 0, 0, 0.3));\n",
              "      fill: #FFFFFF;\n",
              "    }\n",
              "  </style>\n",
              "\n",
              "    <script>\n",
              "      const buttonEl =\n",
              "        document.querySelector('#df-ddf10cca-bc6a-40d9-adca-afc4d3223557 button.colab-df-convert');\n",
              "      buttonEl.style.display =\n",
              "        google.colab.kernel.accessAllowed ? 'block' : 'none';\n",
              "\n",
              "      async function convertToInteractive(key) {\n",
              "        const element = document.querySelector('#df-ddf10cca-bc6a-40d9-adca-afc4d3223557');\n",
              "        const dataTable =\n",
              "          await google.colab.kernel.invokeFunction('convertToInteractive',\n",
              "                                                    [key], {});\n",
              "        if (!dataTable) return;\n",
              "\n",
              "        const docLinkHtml = 'Like what you see? Visit the ' +\n",
              "          '<a target=\"_blank\" href=https://colab.research.google.com/notebooks/data_table.ipynb>data table notebook</a>'\n",
              "          + ' to learn more about interactive tables.';\n",
              "        element.innerHTML = '';\n",
              "        dataTable['output_type'] = 'display_data';\n",
              "        await google.colab.output.renderOutput(dataTable, element);\n",
              "        const docLink = document.createElement('div');\n",
              "        docLink.innerHTML = docLinkHtml;\n",
              "        element.appendChild(docLink);\n",
              "      }\n",
              "    </script>\n",
              "  </div>\n",
              "\n",
              "\n",
              "    <div id=\"df-0d573c2e-fdcc-4189-8ba8-3482f9d4a17d\">\n",
              "      <button class=\"colab-df-quickchart\" onclick=\"quickchart('df-0d573c2e-fdcc-4189-8ba8-3482f9d4a17d')\"\n",
              "                title=\"Suggest charts\"\n",
              "                style=\"display:none;\">\n",
              "\n",
              "<svg xmlns=\"http://www.w3.org/2000/svg\" height=\"24px\"viewBox=\"0 0 24 24\"\n",
              "     width=\"24px\">\n",
              "    <g>\n",
              "        <path d=\"M19 3H5c-1.1 0-2 .9-2 2v14c0 1.1.9 2 2 2h14c1.1 0 2-.9 2-2V5c0-1.1-.9-2-2-2zM9 17H7v-7h2v7zm4 0h-2V7h2v10zm4 0h-2v-4h2v4z\"/>\n",
              "    </g>\n",
              "</svg>\n",
              "      </button>\n",
              "\n",
              "<style>\n",
              "  .colab-df-quickchart {\n",
              "      --bg-color: #E8F0FE;\n",
              "      --fill-color: #1967D2;\n",
              "      --hover-bg-color: #E2EBFA;\n",
              "      --hover-fill-color: #174EA6;\n",
              "      --disabled-fill-color: #AAA;\n",
              "      --disabled-bg-color: #DDD;\n",
              "  }\n",
              "\n",
              "  [theme=dark] .colab-df-quickchart {\n",
              "      --bg-color: #3B4455;\n",
              "      --fill-color: #D2E3FC;\n",
              "      --hover-bg-color: #434B5C;\n",
              "      --hover-fill-color: #FFFFFF;\n",
              "      --disabled-bg-color: #3B4455;\n",
              "      --disabled-fill-color: #666;\n",
              "  }\n",
              "\n",
              "  .colab-df-quickchart {\n",
              "    background-color: var(--bg-color);\n",
              "    border: none;\n",
              "    border-radius: 50%;\n",
              "    cursor: pointer;\n",
              "    display: none;\n",
              "    fill: var(--fill-color);\n",
              "    height: 32px;\n",
              "    padding: 0;\n",
              "    width: 32px;\n",
              "  }\n",
              "\n",
              "  .colab-df-quickchart:hover {\n",
              "    background-color: var(--hover-bg-color);\n",
              "    box-shadow: 0 1px 2px rgba(60, 64, 67, 0.3), 0 1px 3px 1px rgba(60, 64, 67, 0.15);\n",
              "    fill: var(--button-hover-fill-color);\n",
              "  }\n",
              "\n",
              "  .colab-df-quickchart-complete:disabled,\n",
              "  .colab-df-quickchart-complete:disabled:hover {\n",
              "    background-color: var(--disabled-bg-color);\n",
              "    fill: var(--disabled-fill-color);\n",
              "    box-shadow: none;\n",
              "  }\n",
              "\n",
              "  .colab-df-spinner {\n",
              "    border: 2px solid var(--fill-color);\n",
              "    border-color: transparent;\n",
              "    border-bottom-color: var(--fill-color);\n",
              "    animation:\n",
              "      spin 1s steps(1) infinite;\n",
              "  }\n",
              "\n",
              "  @keyframes spin {\n",
              "    0% {\n",
              "      border-color: transparent;\n",
              "      border-bottom-color: var(--fill-color);\n",
              "      border-left-color: var(--fill-color);\n",
              "    }\n",
              "    20% {\n",
              "      border-color: transparent;\n",
              "      border-left-color: var(--fill-color);\n",
              "      border-top-color: var(--fill-color);\n",
              "    }\n",
              "    30% {\n",
              "      border-color: transparent;\n",
              "      border-left-color: var(--fill-color);\n",
              "      border-top-color: var(--fill-color);\n",
              "      border-right-color: var(--fill-color);\n",
              "    }\n",
              "    40% {\n",
              "      border-color: transparent;\n",
              "      border-right-color: var(--fill-color);\n",
              "      border-top-color: var(--fill-color);\n",
              "    }\n",
              "    60% {\n",
              "      border-color: transparent;\n",
              "      border-right-color: var(--fill-color);\n",
              "    }\n",
              "    80% {\n",
              "      border-color: transparent;\n",
              "      border-right-color: var(--fill-color);\n",
              "      border-bottom-color: var(--fill-color);\n",
              "    }\n",
              "    90% {\n",
              "      border-color: transparent;\n",
              "      border-bottom-color: var(--fill-color);\n",
              "    }\n",
              "  }\n",
              "</style>\n",
              "\n",
              "      <script>\n",
              "        async function quickchart(key) {\n",
              "          const quickchartButtonEl =\n",
              "            document.querySelector('#' + key + ' button');\n",
              "          quickchartButtonEl.disabled = true;  // To prevent multiple clicks.\n",
              "          quickchartButtonEl.classList.add('colab-df-spinner');\n",
              "          try {\n",
              "            const charts = await google.colab.kernel.invokeFunction(\n",
              "                'suggestCharts', [key], {});\n",
              "          } catch (error) {\n",
              "            console.error('Error during call to suggestCharts:', error);\n",
              "          }\n",
              "          quickchartButtonEl.classList.remove('colab-df-spinner');\n",
              "          quickchartButtonEl.classList.add('colab-df-quickchart-complete');\n",
              "        }\n",
              "        (() => {\n",
              "          let quickchartButtonEl =\n",
              "            document.querySelector('#df-0d573c2e-fdcc-4189-8ba8-3482f9d4a17d button');\n",
              "          quickchartButtonEl.style.display =\n",
              "            google.colab.kernel.accessAllowed ? 'block' : 'none';\n",
              "        })();\n",
              "      </script>\n",
              "    </div>\n",
              "\n",
              "    </div>\n",
              "  </div>\n"
            ],
            "application/vnd.google.colaboratory.intrinsic+json": {
              "type": "dataframe",
              "variable_name": "covid_campinas",
              "repr_error": "0"
            }
          },
          "metadata": {},
          "execution_count": 8
        }
      ]
    },
    {
      "cell_type": "code",
      "metadata": {
        "id": "JyBawOqMZqjD",
        "colab": {
          "base_uri": "https://localhost:8080/",
          "height": 143
        },
        "outputId": "33e4bb7b-71e7-4933-dc9d-024617def5e3"
      },
      "source": [
        "covid_guarulhos = covid.loc[covid.municipio == 'Guarulhos']\n",
        "covid_guarulhos.head(3)"
      ],
      "execution_count": 9,
      "outputs": [
        {
          "output_type": "execute_result",
          "data": {
            "text/plain": [
              "      indice  municipio  dia  mes        data  casos  casos_novos  casos_pc  \\\n",
              "212      213  Guarulhos   25    2  2020-02-25      0            0       0.0   \n",
              "857      858  Guarulhos   26    2  2020-02-26      0            0       0.0   \n",
              "1502    1503  Guarulhos   27    2  2020-02-27      0            0       0.0   \n",
              "\n",
              "      casos_mm7d  obitos  obitos_novos  obitos_pc  obitos_mm7d  letalidade  \\\n",
              "212          0.0       0             0        0.0          0.0         0.0   \n",
              "857          0.0       0             0        0.0          0.0         0.0   \n",
              "1502         0.0       0             0        0.0          0.0         0.0   \n",
              "\n",
              "          pop  pop_60    area  semana_epidem    densidade  \n",
              "212   1351275  162662  318.68              9  4240.225304  \n",
              "857   1351275  162662  318.68              9  4240.225304  \n",
              "1502  1351275  162662  318.68              9  4240.225304  "
            ],
            "text/html": [
              "\n",
              "  <div id=\"df-b44ab559-85d8-4942-b080-d35ba1f59dec\" class=\"colab-df-container\">\n",
              "    <div>\n",
              "<style scoped>\n",
              "    .dataframe tbody tr th:only-of-type {\n",
              "        vertical-align: middle;\n",
              "    }\n",
              "\n",
              "    .dataframe tbody tr th {\n",
              "        vertical-align: top;\n",
              "    }\n",
              "\n",
              "    .dataframe thead th {\n",
              "        text-align: right;\n",
              "    }\n",
              "</style>\n",
              "<table border=\"1\" class=\"dataframe\">\n",
              "  <thead>\n",
              "    <tr style=\"text-align: right;\">\n",
              "      <th></th>\n",
              "      <th>indice</th>\n",
              "      <th>municipio</th>\n",
              "      <th>dia</th>\n",
              "      <th>mes</th>\n",
              "      <th>data</th>\n",
              "      <th>casos</th>\n",
              "      <th>casos_novos</th>\n",
              "      <th>casos_pc</th>\n",
              "      <th>casos_mm7d</th>\n",
              "      <th>obitos</th>\n",
              "      <th>obitos_novos</th>\n",
              "      <th>obitos_pc</th>\n",
              "      <th>obitos_mm7d</th>\n",
              "      <th>letalidade</th>\n",
              "      <th>pop</th>\n",
              "      <th>pop_60</th>\n",
              "      <th>area</th>\n",
              "      <th>semana_epidem</th>\n",
              "      <th>densidade</th>\n",
              "    </tr>\n",
              "  </thead>\n",
              "  <tbody>\n",
              "    <tr>\n",
              "      <th>212</th>\n",
              "      <td>213</td>\n",
              "      <td>Guarulhos</td>\n",
              "      <td>25</td>\n",
              "      <td>2</td>\n",
              "      <td>2020-02-25</td>\n",
              "      <td>0</td>\n",
              "      <td>0</td>\n",
              "      <td>0.0</td>\n",
              "      <td>0.0</td>\n",
              "      <td>0</td>\n",
              "      <td>0</td>\n",
              "      <td>0.0</td>\n",
              "      <td>0.0</td>\n",
              "      <td>0.0</td>\n",
              "      <td>1351275</td>\n",
              "      <td>162662</td>\n",
              "      <td>318.68</td>\n",
              "      <td>9</td>\n",
              "      <td>4240.225304</td>\n",
              "    </tr>\n",
              "    <tr>\n",
              "      <th>857</th>\n",
              "      <td>858</td>\n",
              "      <td>Guarulhos</td>\n",
              "      <td>26</td>\n",
              "      <td>2</td>\n",
              "      <td>2020-02-26</td>\n",
              "      <td>0</td>\n",
              "      <td>0</td>\n",
              "      <td>0.0</td>\n",
              "      <td>0.0</td>\n",
              "      <td>0</td>\n",
              "      <td>0</td>\n",
              "      <td>0.0</td>\n",
              "      <td>0.0</td>\n",
              "      <td>0.0</td>\n",
              "      <td>1351275</td>\n",
              "      <td>162662</td>\n",
              "      <td>318.68</td>\n",
              "      <td>9</td>\n",
              "      <td>4240.225304</td>\n",
              "    </tr>\n",
              "    <tr>\n",
              "      <th>1502</th>\n",
              "      <td>1503</td>\n",
              "      <td>Guarulhos</td>\n",
              "      <td>27</td>\n",
              "      <td>2</td>\n",
              "      <td>2020-02-27</td>\n",
              "      <td>0</td>\n",
              "      <td>0</td>\n",
              "      <td>0.0</td>\n",
              "      <td>0.0</td>\n",
              "      <td>0</td>\n",
              "      <td>0</td>\n",
              "      <td>0.0</td>\n",
              "      <td>0.0</td>\n",
              "      <td>0.0</td>\n",
              "      <td>1351275</td>\n",
              "      <td>162662</td>\n",
              "      <td>318.68</td>\n",
              "      <td>9</td>\n",
              "      <td>4240.225304</td>\n",
              "    </tr>\n",
              "  </tbody>\n",
              "</table>\n",
              "</div>\n",
              "    <div class=\"colab-df-buttons\">\n",
              "\n",
              "  <div class=\"colab-df-container\">\n",
              "    <button class=\"colab-df-convert\" onclick=\"convertToInteractive('df-b44ab559-85d8-4942-b080-d35ba1f59dec')\"\n",
              "            title=\"Convert this dataframe to an interactive table.\"\n",
              "            style=\"display:none;\">\n",
              "\n",
              "  <svg xmlns=\"http://www.w3.org/2000/svg\" height=\"24px\" viewBox=\"0 -960 960 960\">\n",
              "    <path d=\"M120-120v-720h720v720H120Zm60-500h600v-160H180v160Zm220 220h160v-160H400v160Zm0 220h160v-160H400v160ZM180-400h160v-160H180v160Zm440 0h160v-160H620v160ZM180-180h160v-160H180v160Zm440 0h160v-160H620v160Z\"/>\n",
              "  </svg>\n",
              "    </button>\n",
              "\n",
              "  <style>\n",
              "    .colab-df-container {\n",
              "      display:flex;\n",
              "      gap: 12px;\n",
              "    }\n",
              "\n",
              "    .colab-df-convert {\n",
              "      background-color: #E8F0FE;\n",
              "      border: none;\n",
              "      border-radius: 50%;\n",
              "      cursor: pointer;\n",
              "      display: none;\n",
              "      fill: #1967D2;\n",
              "      height: 32px;\n",
              "      padding: 0 0 0 0;\n",
              "      width: 32px;\n",
              "    }\n",
              "\n",
              "    .colab-df-convert:hover {\n",
              "      background-color: #E2EBFA;\n",
              "      box-shadow: 0px 1px 2px rgba(60, 64, 67, 0.3), 0px 1px 3px 1px rgba(60, 64, 67, 0.15);\n",
              "      fill: #174EA6;\n",
              "    }\n",
              "\n",
              "    .colab-df-buttons div {\n",
              "      margin-bottom: 4px;\n",
              "    }\n",
              "\n",
              "    [theme=dark] .colab-df-convert {\n",
              "      background-color: #3B4455;\n",
              "      fill: #D2E3FC;\n",
              "    }\n",
              "\n",
              "    [theme=dark] .colab-df-convert:hover {\n",
              "      background-color: #434B5C;\n",
              "      box-shadow: 0px 1px 3px 1px rgba(0, 0, 0, 0.15);\n",
              "      filter: drop-shadow(0px 1px 2px rgba(0, 0, 0, 0.3));\n",
              "      fill: #FFFFFF;\n",
              "    }\n",
              "  </style>\n",
              "\n",
              "    <script>\n",
              "      const buttonEl =\n",
              "        document.querySelector('#df-b44ab559-85d8-4942-b080-d35ba1f59dec button.colab-df-convert');\n",
              "      buttonEl.style.display =\n",
              "        google.colab.kernel.accessAllowed ? 'block' : 'none';\n",
              "\n",
              "      async function convertToInteractive(key) {\n",
              "        const element = document.querySelector('#df-b44ab559-85d8-4942-b080-d35ba1f59dec');\n",
              "        const dataTable =\n",
              "          await google.colab.kernel.invokeFunction('convertToInteractive',\n",
              "                                                    [key], {});\n",
              "        if (!dataTable) return;\n",
              "\n",
              "        const docLinkHtml = 'Like what you see? Visit the ' +\n",
              "          '<a target=\"_blank\" href=https://colab.research.google.com/notebooks/data_table.ipynb>data table notebook</a>'\n",
              "          + ' to learn more about interactive tables.';\n",
              "        element.innerHTML = '';\n",
              "        dataTable['output_type'] = 'display_data';\n",
              "        await google.colab.output.renderOutput(dataTable, element);\n",
              "        const docLink = document.createElement('div');\n",
              "        docLink.innerHTML = docLinkHtml;\n",
              "        element.appendChild(docLink);\n",
              "      }\n",
              "    </script>\n",
              "  </div>\n",
              "\n",
              "\n",
              "    <div id=\"df-a8cb0a50-3e16-4d4f-9740-1c15e3614223\">\n",
              "      <button class=\"colab-df-quickchart\" onclick=\"quickchart('df-a8cb0a50-3e16-4d4f-9740-1c15e3614223')\"\n",
              "                title=\"Suggest charts\"\n",
              "                style=\"display:none;\">\n",
              "\n",
              "<svg xmlns=\"http://www.w3.org/2000/svg\" height=\"24px\"viewBox=\"0 0 24 24\"\n",
              "     width=\"24px\">\n",
              "    <g>\n",
              "        <path d=\"M19 3H5c-1.1 0-2 .9-2 2v14c0 1.1.9 2 2 2h14c1.1 0 2-.9 2-2V5c0-1.1-.9-2-2-2zM9 17H7v-7h2v7zm4 0h-2V7h2v10zm4 0h-2v-4h2v4z\"/>\n",
              "    </g>\n",
              "</svg>\n",
              "      </button>\n",
              "\n",
              "<style>\n",
              "  .colab-df-quickchart {\n",
              "      --bg-color: #E8F0FE;\n",
              "      --fill-color: #1967D2;\n",
              "      --hover-bg-color: #E2EBFA;\n",
              "      --hover-fill-color: #174EA6;\n",
              "      --disabled-fill-color: #AAA;\n",
              "      --disabled-bg-color: #DDD;\n",
              "  }\n",
              "\n",
              "  [theme=dark] .colab-df-quickchart {\n",
              "      --bg-color: #3B4455;\n",
              "      --fill-color: #D2E3FC;\n",
              "      --hover-bg-color: #434B5C;\n",
              "      --hover-fill-color: #FFFFFF;\n",
              "      --disabled-bg-color: #3B4455;\n",
              "      --disabled-fill-color: #666;\n",
              "  }\n",
              "\n",
              "  .colab-df-quickchart {\n",
              "    background-color: var(--bg-color);\n",
              "    border: none;\n",
              "    border-radius: 50%;\n",
              "    cursor: pointer;\n",
              "    display: none;\n",
              "    fill: var(--fill-color);\n",
              "    height: 32px;\n",
              "    padding: 0;\n",
              "    width: 32px;\n",
              "  }\n",
              "\n",
              "  .colab-df-quickchart:hover {\n",
              "    background-color: var(--hover-bg-color);\n",
              "    box-shadow: 0 1px 2px rgba(60, 64, 67, 0.3), 0 1px 3px 1px rgba(60, 64, 67, 0.15);\n",
              "    fill: var(--button-hover-fill-color);\n",
              "  }\n",
              "\n",
              "  .colab-df-quickchart-complete:disabled,\n",
              "  .colab-df-quickchart-complete:disabled:hover {\n",
              "    background-color: var(--disabled-bg-color);\n",
              "    fill: var(--disabled-fill-color);\n",
              "    box-shadow: none;\n",
              "  }\n",
              "\n",
              "  .colab-df-spinner {\n",
              "    border: 2px solid var(--fill-color);\n",
              "    border-color: transparent;\n",
              "    border-bottom-color: var(--fill-color);\n",
              "    animation:\n",
              "      spin 1s steps(1) infinite;\n",
              "  }\n",
              "\n",
              "  @keyframes spin {\n",
              "    0% {\n",
              "      border-color: transparent;\n",
              "      border-bottom-color: var(--fill-color);\n",
              "      border-left-color: var(--fill-color);\n",
              "    }\n",
              "    20% {\n",
              "      border-color: transparent;\n",
              "      border-left-color: var(--fill-color);\n",
              "      border-top-color: var(--fill-color);\n",
              "    }\n",
              "    30% {\n",
              "      border-color: transparent;\n",
              "      border-left-color: var(--fill-color);\n",
              "      border-top-color: var(--fill-color);\n",
              "      border-right-color: var(--fill-color);\n",
              "    }\n",
              "    40% {\n",
              "      border-color: transparent;\n",
              "      border-right-color: var(--fill-color);\n",
              "      border-top-color: var(--fill-color);\n",
              "    }\n",
              "    60% {\n",
              "      border-color: transparent;\n",
              "      border-right-color: var(--fill-color);\n",
              "    }\n",
              "    80% {\n",
              "      border-color: transparent;\n",
              "      border-right-color: var(--fill-color);\n",
              "      border-bottom-color: var(--fill-color);\n",
              "    }\n",
              "    90% {\n",
              "      border-color: transparent;\n",
              "      border-bottom-color: var(--fill-color);\n",
              "    }\n",
              "  }\n",
              "</style>\n",
              "\n",
              "      <script>\n",
              "        async function quickchart(key) {\n",
              "          const quickchartButtonEl =\n",
              "            document.querySelector('#' + key + ' button');\n",
              "          quickchartButtonEl.disabled = true;  // To prevent multiple clicks.\n",
              "          quickchartButtonEl.classList.add('colab-df-spinner');\n",
              "          try {\n",
              "            const charts = await google.colab.kernel.invokeFunction(\n",
              "                'suggestCharts', [key], {});\n",
              "          } catch (error) {\n",
              "            console.error('Error during call to suggestCharts:', error);\n",
              "          }\n",
              "          quickchartButtonEl.classList.remove('colab-df-spinner');\n",
              "          quickchartButtonEl.classList.add('colab-df-quickchart-complete');\n",
              "        }\n",
              "        (() => {\n",
              "          let quickchartButtonEl =\n",
              "            document.querySelector('#df-a8cb0a50-3e16-4d4f-9740-1c15e3614223 button');\n",
              "          quickchartButtonEl.style.display =\n",
              "            google.colab.kernel.accessAllowed ? 'block' : 'none';\n",
              "        })();\n",
              "      </script>\n",
              "    </div>\n",
              "\n",
              "    </div>\n",
              "  </div>\n"
            ],
            "application/vnd.google.colaboratory.intrinsic+json": {
              "type": "dataframe",
              "variable_name": "covid_guarulhos",
              "repr_error": "0"
            }
          },
          "metadata": {},
          "execution_count": 9
        }
      ]
    },
    {
      "cell_type": "code",
      "metadata": {
        "id": "WA7kyrC6adZ7",
        "colab": {
          "base_uri": "https://localhost:8080/",
          "height": 323
        },
        "outputId": "a780c72a-622a-47cc-9313-c379c5ad238a"
      },
      "source": [
        "# Criação de uma coluna com a porcentagem de idosos\n",
        "covid_guarulhos['porcentagem_idosos'] = 100*covid_guarulhos['pop_60'] / covid_guarulhos['pop']\n",
        "covid_guarulhos.head(3)"
      ],
      "execution_count": 10,
      "outputs": [
        {
          "output_type": "stream",
          "name": "stderr",
          "text": [
            "<ipython-input-10-0576f802350e>:2: SettingWithCopyWarning: \n",
            "A value is trying to be set on a copy of a slice from a DataFrame.\n",
            "Try using .loc[row_indexer,col_indexer] = value instead\n",
            "\n",
            "See the caveats in the documentation: https://pandas.pydata.org/pandas-docs/stable/user_guide/indexing.html#returning-a-view-versus-a-copy\n",
            "  covid_guarulhos['porcentagem_idosos'] = 100*covid_guarulhos['pop_60'] / covid_guarulhos['pop']\n"
          ]
        },
        {
          "output_type": "execute_result",
          "data": {
            "text/plain": [
              "      indice  municipio  dia  mes        data  casos  casos_novos  casos_pc  \\\n",
              "212      213  Guarulhos   25    2  2020-02-25      0            0       0.0   \n",
              "857      858  Guarulhos   26    2  2020-02-26      0            0       0.0   \n",
              "1502    1503  Guarulhos   27    2  2020-02-27      0            0       0.0   \n",
              "\n",
              "      casos_mm7d  obitos  obitos_novos  obitos_pc  obitos_mm7d  letalidade  \\\n",
              "212          0.0       0             0        0.0          0.0         0.0   \n",
              "857          0.0       0             0        0.0          0.0         0.0   \n",
              "1502         0.0       0             0        0.0          0.0         0.0   \n",
              "\n",
              "          pop  pop_60    area  semana_epidem    densidade  porcentagem_idosos  \n",
              "212   1351275  162662  318.68              9  4240.225304           12.037668  \n",
              "857   1351275  162662  318.68              9  4240.225304           12.037668  \n",
              "1502  1351275  162662  318.68              9  4240.225304           12.037668  "
            ],
            "text/html": [
              "\n",
              "  <div id=\"df-e432b40d-2a5e-495c-a4e6-81a0b61730eb\" class=\"colab-df-container\">\n",
              "    <div>\n",
              "<style scoped>\n",
              "    .dataframe tbody tr th:only-of-type {\n",
              "        vertical-align: middle;\n",
              "    }\n",
              "\n",
              "    .dataframe tbody tr th {\n",
              "        vertical-align: top;\n",
              "    }\n",
              "\n",
              "    .dataframe thead th {\n",
              "        text-align: right;\n",
              "    }\n",
              "</style>\n",
              "<table border=\"1\" class=\"dataframe\">\n",
              "  <thead>\n",
              "    <tr style=\"text-align: right;\">\n",
              "      <th></th>\n",
              "      <th>indice</th>\n",
              "      <th>municipio</th>\n",
              "      <th>dia</th>\n",
              "      <th>mes</th>\n",
              "      <th>data</th>\n",
              "      <th>casos</th>\n",
              "      <th>casos_novos</th>\n",
              "      <th>casos_pc</th>\n",
              "      <th>casos_mm7d</th>\n",
              "      <th>obitos</th>\n",
              "      <th>obitos_novos</th>\n",
              "      <th>obitos_pc</th>\n",
              "      <th>obitos_mm7d</th>\n",
              "      <th>letalidade</th>\n",
              "      <th>pop</th>\n",
              "      <th>pop_60</th>\n",
              "      <th>area</th>\n",
              "      <th>semana_epidem</th>\n",
              "      <th>densidade</th>\n",
              "      <th>porcentagem_idosos</th>\n",
              "    </tr>\n",
              "  </thead>\n",
              "  <tbody>\n",
              "    <tr>\n",
              "      <th>212</th>\n",
              "      <td>213</td>\n",
              "      <td>Guarulhos</td>\n",
              "      <td>25</td>\n",
              "      <td>2</td>\n",
              "      <td>2020-02-25</td>\n",
              "      <td>0</td>\n",
              "      <td>0</td>\n",
              "      <td>0.0</td>\n",
              "      <td>0.0</td>\n",
              "      <td>0</td>\n",
              "      <td>0</td>\n",
              "      <td>0.0</td>\n",
              "      <td>0.0</td>\n",
              "      <td>0.0</td>\n",
              "      <td>1351275</td>\n",
              "      <td>162662</td>\n",
              "      <td>318.68</td>\n",
              "      <td>9</td>\n",
              "      <td>4240.225304</td>\n",
              "      <td>12.037668</td>\n",
              "    </tr>\n",
              "    <tr>\n",
              "      <th>857</th>\n",
              "      <td>858</td>\n",
              "      <td>Guarulhos</td>\n",
              "      <td>26</td>\n",
              "      <td>2</td>\n",
              "      <td>2020-02-26</td>\n",
              "      <td>0</td>\n",
              "      <td>0</td>\n",
              "      <td>0.0</td>\n",
              "      <td>0.0</td>\n",
              "      <td>0</td>\n",
              "      <td>0</td>\n",
              "      <td>0.0</td>\n",
              "      <td>0.0</td>\n",
              "      <td>0.0</td>\n",
              "      <td>1351275</td>\n",
              "      <td>162662</td>\n",
              "      <td>318.68</td>\n",
              "      <td>9</td>\n",
              "      <td>4240.225304</td>\n",
              "      <td>12.037668</td>\n",
              "    </tr>\n",
              "    <tr>\n",
              "      <th>1502</th>\n",
              "      <td>1503</td>\n",
              "      <td>Guarulhos</td>\n",
              "      <td>27</td>\n",
              "      <td>2</td>\n",
              "      <td>2020-02-27</td>\n",
              "      <td>0</td>\n",
              "      <td>0</td>\n",
              "      <td>0.0</td>\n",
              "      <td>0.0</td>\n",
              "      <td>0</td>\n",
              "      <td>0</td>\n",
              "      <td>0.0</td>\n",
              "      <td>0.0</td>\n",
              "      <td>0.0</td>\n",
              "      <td>1351275</td>\n",
              "      <td>162662</td>\n",
              "      <td>318.68</td>\n",
              "      <td>9</td>\n",
              "      <td>4240.225304</td>\n",
              "      <td>12.037668</td>\n",
              "    </tr>\n",
              "  </tbody>\n",
              "</table>\n",
              "</div>\n",
              "    <div class=\"colab-df-buttons\">\n",
              "\n",
              "  <div class=\"colab-df-container\">\n",
              "    <button class=\"colab-df-convert\" onclick=\"convertToInteractive('df-e432b40d-2a5e-495c-a4e6-81a0b61730eb')\"\n",
              "            title=\"Convert this dataframe to an interactive table.\"\n",
              "            style=\"display:none;\">\n",
              "\n",
              "  <svg xmlns=\"http://www.w3.org/2000/svg\" height=\"24px\" viewBox=\"0 -960 960 960\">\n",
              "    <path d=\"M120-120v-720h720v720H120Zm60-500h600v-160H180v160Zm220 220h160v-160H400v160Zm0 220h160v-160H400v160ZM180-400h160v-160H180v160Zm440 0h160v-160H620v160ZM180-180h160v-160H180v160Zm440 0h160v-160H620v160Z\"/>\n",
              "  </svg>\n",
              "    </button>\n",
              "\n",
              "  <style>\n",
              "    .colab-df-container {\n",
              "      display:flex;\n",
              "      gap: 12px;\n",
              "    }\n",
              "\n",
              "    .colab-df-convert {\n",
              "      background-color: #E8F0FE;\n",
              "      border: none;\n",
              "      border-radius: 50%;\n",
              "      cursor: pointer;\n",
              "      display: none;\n",
              "      fill: #1967D2;\n",
              "      height: 32px;\n",
              "      padding: 0 0 0 0;\n",
              "      width: 32px;\n",
              "    }\n",
              "\n",
              "    .colab-df-convert:hover {\n",
              "      background-color: #E2EBFA;\n",
              "      box-shadow: 0px 1px 2px rgba(60, 64, 67, 0.3), 0px 1px 3px 1px rgba(60, 64, 67, 0.15);\n",
              "      fill: #174EA6;\n",
              "    }\n",
              "\n",
              "    .colab-df-buttons div {\n",
              "      margin-bottom: 4px;\n",
              "    }\n",
              "\n",
              "    [theme=dark] .colab-df-convert {\n",
              "      background-color: #3B4455;\n",
              "      fill: #D2E3FC;\n",
              "    }\n",
              "\n",
              "    [theme=dark] .colab-df-convert:hover {\n",
              "      background-color: #434B5C;\n",
              "      box-shadow: 0px 1px 3px 1px rgba(0, 0, 0, 0.15);\n",
              "      filter: drop-shadow(0px 1px 2px rgba(0, 0, 0, 0.3));\n",
              "      fill: #FFFFFF;\n",
              "    }\n",
              "  </style>\n",
              "\n",
              "    <script>\n",
              "      const buttonEl =\n",
              "        document.querySelector('#df-e432b40d-2a5e-495c-a4e6-81a0b61730eb button.colab-df-convert');\n",
              "      buttonEl.style.display =\n",
              "        google.colab.kernel.accessAllowed ? 'block' : 'none';\n",
              "\n",
              "      async function convertToInteractive(key) {\n",
              "        const element = document.querySelector('#df-e432b40d-2a5e-495c-a4e6-81a0b61730eb');\n",
              "        const dataTable =\n",
              "          await google.colab.kernel.invokeFunction('convertToInteractive',\n",
              "                                                    [key], {});\n",
              "        if (!dataTable) return;\n",
              "\n",
              "        const docLinkHtml = 'Like what you see? Visit the ' +\n",
              "          '<a target=\"_blank\" href=https://colab.research.google.com/notebooks/data_table.ipynb>data table notebook</a>'\n",
              "          + ' to learn more about interactive tables.';\n",
              "        element.innerHTML = '';\n",
              "        dataTable['output_type'] = 'display_data';\n",
              "        await google.colab.output.renderOutput(dataTable, element);\n",
              "        const docLink = document.createElement('div');\n",
              "        docLink.innerHTML = docLinkHtml;\n",
              "        element.appendChild(docLink);\n",
              "      }\n",
              "    </script>\n",
              "  </div>\n",
              "\n",
              "\n",
              "    <div id=\"df-d7be1257-031d-4045-b60f-65e19d3e23cf\">\n",
              "      <button class=\"colab-df-quickchart\" onclick=\"quickchart('df-d7be1257-031d-4045-b60f-65e19d3e23cf')\"\n",
              "                title=\"Suggest charts\"\n",
              "                style=\"display:none;\">\n",
              "\n",
              "<svg xmlns=\"http://www.w3.org/2000/svg\" height=\"24px\"viewBox=\"0 0 24 24\"\n",
              "     width=\"24px\">\n",
              "    <g>\n",
              "        <path d=\"M19 3H5c-1.1 0-2 .9-2 2v14c0 1.1.9 2 2 2h14c1.1 0 2-.9 2-2V5c0-1.1-.9-2-2-2zM9 17H7v-7h2v7zm4 0h-2V7h2v10zm4 0h-2v-4h2v4z\"/>\n",
              "    </g>\n",
              "</svg>\n",
              "      </button>\n",
              "\n",
              "<style>\n",
              "  .colab-df-quickchart {\n",
              "      --bg-color: #E8F0FE;\n",
              "      --fill-color: #1967D2;\n",
              "      --hover-bg-color: #E2EBFA;\n",
              "      --hover-fill-color: #174EA6;\n",
              "      --disabled-fill-color: #AAA;\n",
              "      --disabled-bg-color: #DDD;\n",
              "  }\n",
              "\n",
              "  [theme=dark] .colab-df-quickchart {\n",
              "      --bg-color: #3B4455;\n",
              "      --fill-color: #D2E3FC;\n",
              "      --hover-bg-color: #434B5C;\n",
              "      --hover-fill-color: #FFFFFF;\n",
              "      --disabled-bg-color: #3B4455;\n",
              "      --disabled-fill-color: #666;\n",
              "  }\n",
              "\n",
              "  .colab-df-quickchart {\n",
              "    background-color: var(--bg-color);\n",
              "    border: none;\n",
              "    border-radius: 50%;\n",
              "    cursor: pointer;\n",
              "    display: none;\n",
              "    fill: var(--fill-color);\n",
              "    height: 32px;\n",
              "    padding: 0;\n",
              "    width: 32px;\n",
              "  }\n",
              "\n",
              "  .colab-df-quickchart:hover {\n",
              "    background-color: var(--hover-bg-color);\n",
              "    box-shadow: 0 1px 2px rgba(60, 64, 67, 0.3), 0 1px 3px 1px rgba(60, 64, 67, 0.15);\n",
              "    fill: var(--button-hover-fill-color);\n",
              "  }\n",
              "\n",
              "  .colab-df-quickchart-complete:disabled,\n",
              "  .colab-df-quickchart-complete:disabled:hover {\n",
              "    background-color: var(--disabled-bg-color);\n",
              "    fill: var(--disabled-fill-color);\n",
              "    box-shadow: none;\n",
              "  }\n",
              "\n",
              "  .colab-df-spinner {\n",
              "    border: 2px solid var(--fill-color);\n",
              "    border-color: transparent;\n",
              "    border-bottom-color: var(--fill-color);\n",
              "    animation:\n",
              "      spin 1s steps(1) infinite;\n",
              "  }\n",
              "\n",
              "  @keyframes spin {\n",
              "    0% {\n",
              "      border-color: transparent;\n",
              "      border-bottom-color: var(--fill-color);\n",
              "      border-left-color: var(--fill-color);\n",
              "    }\n",
              "    20% {\n",
              "      border-color: transparent;\n",
              "      border-left-color: var(--fill-color);\n",
              "      border-top-color: var(--fill-color);\n",
              "    }\n",
              "    30% {\n",
              "      border-color: transparent;\n",
              "      border-left-color: var(--fill-color);\n",
              "      border-top-color: var(--fill-color);\n",
              "      border-right-color: var(--fill-color);\n",
              "    }\n",
              "    40% {\n",
              "      border-color: transparent;\n",
              "      border-right-color: var(--fill-color);\n",
              "      border-top-color: var(--fill-color);\n",
              "    }\n",
              "    60% {\n",
              "      border-color: transparent;\n",
              "      border-right-color: var(--fill-color);\n",
              "    }\n",
              "    80% {\n",
              "      border-color: transparent;\n",
              "      border-right-color: var(--fill-color);\n",
              "      border-bottom-color: var(--fill-color);\n",
              "    }\n",
              "    90% {\n",
              "      border-color: transparent;\n",
              "      border-bottom-color: var(--fill-color);\n",
              "    }\n",
              "  }\n",
              "</style>\n",
              "\n",
              "      <script>\n",
              "        async function quickchart(key) {\n",
              "          const quickchartButtonEl =\n",
              "            document.querySelector('#' + key + ' button');\n",
              "          quickchartButtonEl.disabled = true;  // To prevent multiple clicks.\n",
              "          quickchartButtonEl.classList.add('colab-df-spinner');\n",
              "          try {\n",
              "            const charts = await google.colab.kernel.invokeFunction(\n",
              "                'suggestCharts', [key], {});\n",
              "          } catch (error) {\n",
              "            console.error('Error during call to suggestCharts:', error);\n",
              "          }\n",
              "          quickchartButtonEl.classList.remove('colab-df-spinner');\n",
              "          quickchartButtonEl.classList.add('colab-df-quickchart-complete');\n",
              "        }\n",
              "        (() => {\n",
              "          let quickchartButtonEl =\n",
              "            document.querySelector('#df-d7be1257-031d-4045-b60f-65e19d3e23cf button');\n",
              "          quickchartButtonEl.style.display =\n",
              "            google.colab.kernel.accessAllowed ? 'block' : 'none';\n",
              "        })();\n",
              "      </script>\n",
              "    </div>\n",
              "\n",
              "    </div>\n",
              "  </div>\n"
            ],
            "application/vnd.google.colaboratory.intrinsic+json": {
              "type": "dataframe",
              "variable_name": "covid_guarulhos",
              "repr_error": "0"
            }
          },
          "metadata": {},
          "execution_count": 10
        }
      ]
    },
    {
      "cell_type": "code",
      "metadata": {
        "id": "s6vqeMJ6wScu",
        "colab": {
          "base_uri": "https://localhost:8080/"
        },
        "outputId": "888ec0a8-08f7-4e75-99f4-4066f2a56af3"
      },
      "source": [
        "covid_campinas.shape"
      ],
      "execution_count": 11,
      "outputs": [
        {
          "output_type": "execute_result",
          "data": {
            "text/plain": [
              "(579, 20)"
            ]
          },
          "metadata": {},
          "execution_count": 11
        }
      ]
    },
    {
      "cell_type": "code",
      "metadata": {
        "id": "Go16RtCMwVp-",
        "colab": {
          "base_uri": "https://localhost:8080/"
        },
        "outputId": "2e2eab45-e7d8-4268-a60a-223aaaff4b04"
      },
      "source": [
        "covid_guarulhos.shape"
      ],
      "execution_count": 12,
      "outputs": [
        {
          "output_type": "execute_result",
          "data": {
            "text/plain": [
              "(579, 20)"
            ]
          },
          "metadata": {},
          "execution_count": 12
        }
      ]
    },
    {
      "cell_type": "markdown",
      "metadata": {
        "id": "7K1jPcydRbxV"
      },
      "source": [
        "## **Medidas de Centralidade**"
      ]
    },
    {
      "cell_type": "markdown",
      "metadata": {
        "id": "_8hMwX4HU7Um"
      },
      "source": [
        "### Média"
      ]
    },
    {
      "cell_type": "markdown",
      "metadata": {
        "id": "0lFtgTiaSyAj"
      },
      "source": [
        "Campinas"
      ]
    },
    {
      "cell_type": "code",
      "metadata": {
        "id": "nO5fPJF8xIsj",
        "colab": {
          "base_uri": "https://localhost:8080/"
        },
        "outputId": "9cbef2e0-2da1-4cd6-ddd3-3edc1b5e304d"
      },
      "source": [
        "covid_campinas['obitos_novos'].mean()"
      ],
      "execution_count": 13,
      "outputs": [
        {
          "output_type": "execute_result",
          "data": {
            "text/plain": [
              "np.float64(7.721934369602764)"
            ]
          },
          "metadata": {},
          "execution_count": 13
        }
      ]
    },
    {
      "cell_type": "code",
      "metadata": {
        "id": "ZWkJ3khIyh4U",
        "colab": {
          "base_uri": "https://localhost:8080/"
        },
        "outputId": "8740f43a-3f13-4663-859c-cf988a898a94"
      },
      "source": [
        "covid_campinas.casos_novos.mean()"
      ],
      "execution_count": 14,
      "outputs": [
        {
          "output_type": "execute_result",
          "data": {
            "text/plain": [
              "np.float64(194.88946459412782)"
            ]
          },
          "metadata": {},
          "execution_count": 14
        }
      ]
    },
    {
      "cell_type": "markdown",
      "metadata": {
        "id": "0_gRt23BS05b"
      },
      "source": [
        "Guarulhos"
      ]
    },
    {
      "cell_type": "code",
      "metadata": {
        "id": "rLoQDVACy4xW",
        "colab": {
          "base_uri": "https://localhost:8080/"
        },
        "outputId": "c75ab1f2-718f-4814-c541-b5e4d8700095"
      },
      "source": [
        "round(covid_guarulhos['obitos_novos'].mean(),4)"
      ],
      "execution_count": 15,
      "outputs": [
        {
          "output_type": "execute_result",
          "data": {
            "text/plain": [
              "np.float64(8.4041)"
            ]
          },
          "metadata": {},
          "execution_count": 15
        }
      ]
    },
    {
      "cell_type": "code",
      "metadata": {
        "id": "N507aif4zjDS",
        "colab": {
          "base_uri": "https://localhost:8080/"
        },
        "outputId": "52e847c0-5b9f-4d7f-d2ac-080754e501ad"
      },
      "source": [
        "covid_guarulhos.casos_novos.mean()"
      ],
      "execution_count": 16,
      "outputs": [
        {
          "output_type": "execute_result",
          "data": {
            "text/plain": [
              "np.float64(109.49568221070811)"
            ]
          },
          "metadata": {},
          "execution_count": 16
        }
      ]
    },
    {
      "cell_type": "markdown",
      "metadata": {
        "id": "fvQA7m7jVA0d"
      },
      "source": [
        "### Mediana"
      ]
    },
    {
      "cell_type": "markdown",
      "metadata": {
        "id": "iAuNSWgEVIVh"
      },
      "source": [
        "Campinas"
      ]
    },
    {
      "cell_type": "code",
      "metadata": {
        "id": "NJQPpwJXCT68",
        "colab": {
          "base_uri": "https://localhost:8080/"
        },
        "outputId": "913b44b9-2c01-419c-927c-d2c718c37c33"
      },
      "source": [
        "covid_campinas['obitos_novos'].median()"
      ],
      "execution_count": 17,
      "outputs": [
        {
          "output_type": "execute_result",
          "data": {
            "text/plain": [
              "5.0"
            ]
          },
          "metadata": {},
          "execution_count": 17
        }
      ]
    },
    {
      "cell_type": "code",
      "metadata": {
        "id": "tG9RXK7CCyDp",
        "colab": {
          "base_uri": "https://localhost:8080/"
        },
        "outputId": "e675112c-8803-4f24-81db-0b5f256028e5"
      },
      "source": [
        "covid_campinas.casos_novos.median()"
      ],
      "execution_count": 18,
      "outputs": [
        {
          "output_type": "execute_result",
          "data": {
            "text/plain": [
              "148.0"
            ]
          },
          "metadata": {},
          "execution_count": 18
        }
      ]
    },
    {
      "cell_type": "markdown",
      "metadata": {
        "id": "jMIQH1qoVJrX"
      },
      "source": [
        "Guarulhos"
      ]
    },
    {
      "cell_type": "code",
      "metadata": {
        "id": "AhVmIAx-C6Ro",
        "colab": {
          "base_uri": "https://localhost:8080/"
        },
        "outputId": "aff1e4ec-b55e-4089-fd8a-4019eb08d6ef"
      },
      "source": [
        "covid_guarulhos['obitos_novos'].median()\n"
      ],
      "execution_count": 19,
      "outputs": [
        {
          "output_type": "execute_result",
          "data": {
            "text/plain": [
              "4.0"
            ]
          },
          "metadata": {},
          "execution_count": 19
        }
      ]
    },
    {
      "cell_type": "code",
      "metadata": {
        "id": "9SDRI7wODKOp",
        "colab": {
          "base_uri": "https://localhost:8080/"
        },
        "outputId": "2254e3f0-c40b-4cc9-e703-311a7a7a937a"
      },
      "source": [
        "covid_guarulhos['casos_novos'].median()"
      ],
      "execution_count": 20,
      "outputs": [
        {
          "output_type": "execute_result",
          "data": {
            "text/plain": [
              "87.0"
            ]
          },
          "metadata": {},
          "execution_count": 20
        }
      ]
    },
    {
      "cell_type": "markdown",
      "metadata": {
        "id": "w-mFvecoVJXK"
      },
      "source": [
        "### Moda"
      ]
    },
    {
      "cell_type": "code",
      "metadata": {
        "id": "Kvesg03XNF2d",
        "colab": {
          "base_uri": "https://localhost:8080/",
          "height": 115
        },
        "outputId": "51ce0ec8-78e0-4b93-e64e-ea4b7d3bd8ad"
      },
      "source": [
        "covid_guarulhos['obitos_novos'].mode()"
      ],
      "execution_count": 21,
      "outputs": [
        {
          "output_type": "execute_result",
          "data": {
            "text/plain": [
              "0    0\n",
              "Name: obitos_novos, dtype: int64"
            ],
            "text/html": [
              "<div>\n",
              "<style scoped>\n",
              "    .dataframe tbody tr th:only-of-type {\n",
              "        vertical-align: middle;\n",
              "    }\n",
              "\n",
              "    .dataframe tbody tr th {\n",
              "        vertical-align: top;\n",
              "    }\n",
              "\n",
              "    .dataframe thead th {\n",
              "        text-align: right;\n",
              "    }\n",
              "</style>\n",
              "<table border=\"1\" class=\"dataframe\">\n",
              "  <thead>\n",
              "    <tr style=\"text-align: right;\">\n",
              "      <th></th>\n",
              "      <th>obitos_novos</th>\n",
              "    </tr>\n",
              "  </thead>\n",
              "  <tbody>\n",
              "    <tr>\n",
              "      <th>0</th>\n",
              "      <td>0</td>\n",
              "    </tr>\n",
              "  </tbody>\n",
              "</table>\n",
              "</div><br><label><b>dtype:</b> int64</label>"
            ]
          },
          "metadata": {},
          "execution_count": 21
        }
      ]
    },
    {
      "cell_type": "code",
      "metadata": {
        "id": "XDI1PpSJNKXJ",
        "colab": {
          "base_uri": "https://localhost:8080/",
          "height": 115
        },
        "outputId": "e282895d-74aa-4685-a2bd-0dc3afb1a8da"
      },
      "source": [
        "covid_guarulhos['dia'].mode()"
      ],
      "execution_count": 22,
      "outputs": [
        {
          "output_type": "execute_result",
          "data": {
            "text/plain": [
              "0    25\n",
              "Name: dia, dtype: int64"
            ],
            "text/html": [
              "<div>\n",
              "<style scoped>\n",
              "    .dataframe tbody tr th:only-of-type {\n",
              "        vertical-align: middle;\n",
              "    }\n",
              "\n",
              "    .dataframe tbody tr th {\n",
              "        vertical-align: top;\n",
              "    }\n",
              "\n",
              "    .dataframe thead th {\n",
              "        text-align: right;\n",
              "    }\n",
              "</style>\n",
              "<table border=\"1\" class=\"dataframe\">\n",
              "  <thead>\n",
              "    <tr style=\"text-align: right;\">\n",
              "      <th></th>\n",
              "      <th>dia</th>\n",
              "    </tr>\n",
              "  </thead>\n",
              "  <tbody>\n",
              "    <tr>\n",
              "      <th>0</th>\n",
              "      <td>25</td>\n",
              "    </tr>\n",
              "  </tbody>\n",
              "</table>\n",
              "</div><br><label><b>dtype:</b> int64</label>"
            ]
          },
          "metadata": {},
          "execution_count": 22
        }
      ]
    },
    {
      "cell_type": "code",
      "metadata": {
        "id": "R0fgVGeZW0bz",
        "colab": {
          "base_uri": "https://localhost:8080/",
          "height": 115
        },
        "outputId": "a63708ea-939a-4619-89c2-bbdc7b309208"
      },
      "source": [
        "covid_campinas['dia'].mode()"
      ],
      "execution_count": 23,
      "outputs": [
        {
          "output_type": "execute_result",
          "data": {
            "text/plain": [
              "0    25\n",
              "Name: dia, dtype: int64"
            ],
            "text/html": [
              "<div>\n",
              "<style scoped>\n",
              "    .dataframe tbody tr th:only-of-type {\n",
              "        vertical-align: middle;\n",
              "    }\n",
              "\n",
              "    .dataframe tbody tr th {\n",
              "        vertical-align: top;\n",
              "    }\n",
              "\n",
              "    .dataframe thead th {\n",
              "        text-align: right;\n",
              "    }\n",
              "</style>\n",
              "<table border=\"1\" class=\"dataframe\">\n",
              "  <thead>\n",
              "    <tr style=\"text-align: right;\">\n",
              "      <th></th>\n",
              "      <th>dia</th>\n",
              "    </tr>\n",
              "  </thead>\n",
              "  <tbody>\n",
              "    <tr>\n",
              "      <th>0</th>\n",
              "      <td>25</td>\n",
              "    </tr>\n",
              "  </tbody>\n",
              "</table>\n",
              "</div><br><label><b>dtype:</b> int64</label>"
            ]
          },
          "metadata": {},
          "execution_count": 23
        }
      ]
    },
    {
      "cell_type": "code",
      "metadata": {
        "id": "vwODznunW62D",
        "colab": {
          "base_uri": "https://localhost:8080/",
          "height": 210
        },
        "outputId": "c40b60b4-e3ff-461c-a3f3-24ba529709ec"
      },
      "source": [
        "covid_campinas.mes.mode()"
      ],
      "execution_count": 24,
      "outputs": [
        {
          "output_type": "execute_result",
          "data": {
            "text/plain": [
              "0    3\n",
              "1    5\n",
              "2    7\n",
              "3    8\n",
              "Name: mes, dtype: int64"
            ],
            "text/html": [
              "<div>\n",
              "<style scoped>\n",
              "    .dataframe tbody tr th:only-of-type {\n",
              "        vertical-align: middle;\n",
              "    }\n",
              "\n",
              "    .dataframe tbody tr th {\n",
              "        vertical-align: top;\n",
              "    }\n",
              "\n",
              "    .dataframe thead th {\n",
              "        text-align: right;\n",
              "    }\n",
              "</style>\n",
              "<table border=\"1\" class=\"dataframe\">\n",
              "  <thead>\n",
              "    <tr style=\"text-align: right;\">\n",
              "      <th></th>\n",
              "      <th>mes</th>\n",
              "    </tr>\n",
              "  </thead>\n",
              "  <tbody>\n",
              "    <tr>\n",
              "      <th>0</th>\n",
              "      <td>3</td>\n",
              "    </tr>\n",
              "    <tr>\n",
              "      <th>1</th>\n",
              "      <td>5</td>\n",
              "    </tr>\n",
              "    <tr>\n",
              "      <th>2</th>\n",
              "      <td>7</td>\n",
              "    </tr>\n",
              "    <tr>\n",
              "      <th>3</th>\n",
              "      <td>8</td>\n",
              "    </tr>\n",
              "  </tbody>\n",
              "</table>\n",
              "</div><br><label><b>dtype:</b> int64</label>"
            ]
          },
          "metadata": {},
          "execution_count": 24
        }
      ]
    },
    {
      "cell_type": "markdown",
      "metadata": {
        "id": "wnLpFzsRWHrE"
      },
      "source": [
        "### Descrição Geral"
      ]
    },
    {
      "cell_type": "code",
      "metadata": {
        "id": "k-m0aRXUuRAN",
        "colab": {
          "base_uri": "https://localhost:8080/",
          "height": 320
        },
        "outputId": "b7225b97-e047-47a4-fecd-8d0911d85d87"
      },
      "source": [
        "covid_campinas.describe()"
      ],
      "execution_count": 25,
      "outputs": [
        {
          "output_type": "execute_result",
          "data": {
            "text/plain": [
              "              indice         dia         mes          casos  casos_novos  \\\n",
              "count     579.000000  579.000000  579.000000     579.000000   579.000000   \n",
              "mean   186514.000000   15.737478    6.269430   46549.331606   194.889465   \n",
              "std    107900.229958    8.803909    3.024688   36212.354082   173.933661   \n",
              "min       109.000000    1.000000    1.000000       0.000000     0.000000   \n",
              "25%     93311.500000    8.000000    4.000000   12926.000000    39.000000   \n",
              "50%    186514.000000   16.000000    6.000000   39112.000000   148.000000   \n",
              "75%    279716.500000   23.000000    9.000000   77445.500000   326.000000   \n",
              "max    372919.000000   31.000000   12.000000  112841.000000  1080.000000   \n",
              "\n",
              "          casos_pc  casos_mm7d       obitos  obitos_novos   obitos_pc  \\\n",
              "count   579.000000  579.000000   579.000000    579.000000  579.000000   \n",
              "mean   3959.956785  194.434986  1763.333333      7.721934  150.006962   \n",
              "std    3080.588964  115.727627  1427.149566      8.957631  121.407771   \n",
              "min       0.000000    0.000000     0.000000      0.000000    0.000000   \n",
              "25%    1099.616249   91.642857   540.500000      1.000000   45.980395   \n",
              "50%    3327.262163  216.714286  1407.000000      5.000000  119.693646   \n",
              "75%    6588.297245  283.357143  3048.500000     12.000000  259.336232   \n",
              "max    9599.396342  442.428571  4471.000000     67.000000  380.348464   \n",
              "\n",
              "       obitos_mm7d  letalidade        pop    pop_60          area  \\\n",
              "count   579.000000  579.000000      579.0     579.0  5.790000e+02   \n",
              "mean      7.698988    0.036734  1175501.0  192796.0  7.945700e+02   \n",
              "std       5.987238    0.013015        0.0       0.0  5.803042e-12   \n",
              "min       0.000000    0.000000  1175501.0  192796.0  7.945700e+02   \n",
              "25%       2.571429    0.035663  1175501.0  192796.0  7.945700e+02   \n",
              "50%       7.428571    0.039007  1175501.0  192796.0  7.945700e+02   \n",
              "75%      11.000000    0.039628  1175501.0  192796.0  7.945700e+02   \n",
              "max      29.285714    0.153846  1175501.0  192796.0  7.945700e+02   \n",
              "\n",
              "       semana_epidem     densidade  porcentagem_idosos  \n",
              "count     579.000000  5.790000e+02        5.790000e+02  \n",
              "mean       25.792746  1.479418e+03        1.640118e+01  \n",
              "std        13.389761  1.547478e-11        8.533886e-14  \n",
              "min         1.000000  1.479418e+03        1.640118e+01  \n",
              "25%        15.000000  1.479418e+03        1.640118e+01  \n",
              "50%        25.000000  1.479418e+03        1.640118e+01  \n",
              "75%        36.000000  1.479418e+03        1.640118e+01  \n",
              "max        53.000000  1.479418e+03        1.640118e+01  "
            ],
            "text/html": [
              "\n",
              "  <div id=\"df-5784991d-6c9b-4ae9-9da8-68c98aaa122a\" class=\"colab-df-container\">\n",
              "    <div>\n",
              "<style scoped>\n",
              "    .dataframe tbody tr th:only-of-type {\n",
              "        vertical-align: middle;\n",
              "    }\n",
              "\n",
              "    .dataframe tbody tr th {\n",
              "        vertical-align: top;\n",
              "    }\n",
              "\n",
              "    .dataframe thead th {\n",
              "        text-align: right;\n",
              "    }\n",
              "</style>\n",
              "<table border=\"1\" class=\"dataframe\">\n",
              "  <thead>\n",
              "    <tr style=\"text-align: right;\">\n",
              "      <th></th>\n",
              "      <th>indice</th>\n",
              "      <th>dia</th>\n",
              "      <th>mes</th>\n",
              "      <th>casos</th>\n",
              "      <th>casos_novos</th>\n",
              "      <th>casos_pc</th>\n",
              "      <th>casos_mm7d</th>\n",
              "      <th>obitos</th>\n",
              "      <th>obitos_novos</th>\n",
              "      <th>obitos_pc</th>\n",
              "      <th>obitos_mm7d</th>\n",
              "      <th>letalidade</th>\n",
              "      <th>pop</th>\n",
              "      <th>pop_60</th>\n",
              "      <th>area</th>\n",
              "      <th>semana_epidem</th>\n",
              "      <th>densidade</th>\n",
              "      <th>porcentagem_idosos</th>\n",
              "    </tr>\n",
              "  </thead>\n",
              "  <tbody>\n",
              "    <tr>\n",
              "      <th>count</th>\n",
              "      <td>579.000000</td>\n",
              "      <td>579.000000</td>\n",
              "      <td>579.000000</td>\n",
              "      <td>579.000000</td>\n",
              "      <td>579.000000</td>\n",
              "      <td>579.000000</td>\n",
              "      <td>579.000000</td>\n",
              "      <td>579.000000</td>\n",
              "      <td>579.000000</td>\n",
              "      <td>579.000000</td>\n",
              "      <td>579.000000</td>\n",
              "      <td>579.000000</td>\n",
              "      <td>579.0</td>\n",
              "      <td>579.0</td>\n",
              "      <td>5.790000e+02</td>\n",
              "      <td>579.000000</td>\n",
              "      <td>5.790000e+02</td>\n",
              "      <td>5.790000e+02</td>\n",
              "    </tr>\n",
              "    <tr>\n",
              "      <th>mean</th>\n",
              "      <td>186514.000000</td>\n",
              "      <td>15.737478</td>\n",
              "      <td>6.269430</td>\n",
              "      <td>46549.331606</td>\n",
              "      <td>194.889465</td>\n",
              "      <td>3959.956785</td>\n",
              "      <td>194.434986</td>\n",
              "      <td>1763.333333</td>\n",
              "      <td>7.721934</td>\n",
              "      <td>150.006962</td>\n",
              "      <td>7.698988</td>\n",
              "      <td>0.036734</td>\n",
              "      <td>1175501.0</td>\n",
              "      <td>192796.0</td>\n",
              "      <td>7.945700e+02</td>\n",
              "      <td>25.792746</td>\n",
              "      <td>1.479418e+03</td>\n",
              "      <td>1.640118e+01</td>\n",
              "    </tr>\n",
              "    <tr>\n",
              "      <th>std</th>\n",
              "      <td>107900.229958</td>\n",
              "      <td>8.803909</td>\n",
              "      <td>3.024688</td>\n",
              "      <td>36212.354082</td>\n",
              "      <td>173.933661</td>\n",
              "      <td>3080.588964</td>\n",
              "      <td>115.727627</td>\n",
              "      <td>1427.149566</td>\n",
              "      <td>8.957631</td>\n",
              "      <td>121.407771</td>\n",
              "      <td>5.987238</td>\n",
              "      <td>0.013015</td>\n",
              "      <td>0.0</td>\n",
              "      <td>0.0</td>\n",
              "      <td>5.803042e-12</td>\n",
              "      <td>13.389761</td>\n",
              "      <td>1.547478e-11</td>\n",
              "      <td>8.533886e-14</td>\n",
              "    </tr>\n",
              "    <tr>\n",
              "      <th>min</th>\n",
              "      <td>109.000000</td>\n",
              "      <td>1.000000</td>\n",
              "      <td>1.000000</td>\n",
              "      <td>0.000000</td>\n",
              "      <td>0.000000</td>\n",
              "      <td>0.000000</td>\n",
              "      <td>0.000000</td>\n",
              "      <td>0.000000</td>\n",
              "      <td>0.000000</td>\n",
              "      <td>0.000000</td>\n",
              "      <td>0.000000</td>\n",
              "      <td>0.000000</td>\n",
              "      <td>1175501.0</td>\n",
              "      <td>192796.0</td>\n",
              "      <td>7.945700e+02</td>\n",
              "      <td>1.000000</td>\n",
              "      <td>1.479418e+03</td>\n",
              "      <td>1.640118e+01</td>\n",
              "    </tr>\n",
              "    <tr>\n",
              "      <th>25%</th>\n",
              "      <td>93311.500000</td>\n",
              "      <td>8.000000</td>\n",
              "      <td>4.000000</td>\n",
              "      <td>12926.000000</td>\n",
              "      <td>39.000000</td>\n",
              "      <td>1099.616249</td>\n",
              "      <td>91.642857</td>\n",
              "      <td>540.500000</td>\n",
              "      <td>1.000000</td>\n",
              "      <td>45.980395</td>\n",
              "      <td>2.571429</td>\n",
              "      <td>0.035663</td>\n",
              "      <td>1175501.0</td>\n",
              "      <td>192796.0</td>\n",
              "      <td>7.945700e+02</td>\n",
              "      <td>15.000000</td>\n",
              "      <td>1.479418e+03</td>\n",
              "      <td>1.640118e+01</td>\n",
              "    </tr>\n",
              "    <tr>\n",
              "      <th>50%</th>\n",
              "      <td>186514.000000</td>\n",
              "      <td>16.000000</td>\n",
              "      <td>6.000000</td>\n",
              "      <td>39112.000000</td>\n",
              "      <td>148.000000</td>\n",
              "      <td>3327.262163</td>\n",
              "      <td>216.714286</td>\n",
              "      <td>1407.000000</td>\n",
              "      <td>5.000000</td>\n",
              "      <td>119.693646</td>\n",
              "      <td>7.428571</td>\n",
              "      <td>0.039007</td>\n",
              "      <td>1175501.0</td>\n",
              "      <td>192796.0</td>\n",
              "      <td>7.945700e+02</td>\n",
              "      <td>25.000000</td>\n",
              "      <td>1.479418e+03</td>\n",
              "      <td>1.640118e+01</td>\n",
              "    </tr>\n",
              "    <tr>\n",
              "      <th>75%</th>\n",
              "      <td>279716.500000</td>\n",
              "      <td>23.000000</td>\n",
              "      <td>9.000000</td>\n",
              "      <td>77445.500000</td>\n",
              "      <td>326.000000</td>\n",
              "      <td>6588.297245</td>\n",
              "      <td>283.357143</td>\n",
              "      <td>3048.500000</td>\n",
              "      <td>12.000000</td>\n",
              "      <td>259.336232</td>\n",
              "      <td>11.000000</td>\n",
              "      <td>0.039628</td>\n",
              "      <td>1175501.0</td>\n",
              "      <td>192796.0</td>\n",
              "      <td>7.945700e+02</td>\n",
              "      <td>36.000000</td>\n",
              "      <td>1.479418e+03</td>\n",
              "      <td>1.640118e+01</td>\n",
              "    </tr>\n",
              "    <tr>\n",
              "      <th>max</th>\n",
              "      <td>372919.000000</td>\n",
              "      <td>31.000000</td>\n",
              "      <td>12.000000</td>\n",
              "      <td>112841.000000</td>\n",
              "      <td>1080.000000</td>\n",
              "      <td>9599.396342</td>\n",
              "      <td>442.428571</td>\n",
              "      <td>4471.000000</td>\n",
              "      <td>67.000000</td>\n",
              "      <td>380.348464</td>\n",
              "      <td>29.285714</td>\n",
              "      <td>0.153846</td>\n",
              "      <td>1175501.0</td>\n",
              "      <td>192796.0</td>\n",
              "      <td>7.945700e+02</td>\n",
              "      <td>53.000000</td>\n",
              "      <td>1.479418e+03</td>\n",
              "      <td>1.640118e+01</td>\n",
              "    </tr>\n",
              "  </tbody>\n",
              "</table>\n",
              "</div>\n",
              "    <div class=\"colab-df-buttons\">\n",
              "\n",
              "  <div class=\"colab-df-container\">\n",
              "    <button class=\"colab-df-convert\" onclick=\"convertToInteractive('df-5784991d-6c9b-4ae9-9da8-68c98aaa122a')\"\n",
              "            title=\"Convert this dataframe to an interactive table.\"\n",
              "            style=\"display:none;\">\n",
              "\n",
              "  <svg xmlns=\"http://www.w3.org/2000/svg\" height=\"24px\" viewBox=\"0 -960 960 960\">\n",
              "    <path d=\"M120-120v-720h720v720H120Zm60-500h600v-160H180v160Zm220 220h160v-160H400v160Zm0 220h160v-160H400v160ZM180-400h160v-160H180v160Zm440 0h160v-160H620v160ZM180-180h160v-160H180v160Zm440 0h160v-160H620v160Z\"/>\n",
              "  </svg>\n",
              "    </button>\n",
              "\n",
              "  <style>\n",
              "    .colab-df-container {\n",
              "      display:flex;\n",
              "      gap: 12px;\n",
              "    }\n",
              "\n",
              "    .colab-df-convert {\n",
              "      background-color: #E8F0FE;\n",
              "      border: none;\n",
              "      border-radius: 50%;\n",
              "      cursor: pointer;\n",
              "      display: none;\n",
              "      fill: #1967D2;\n",
              "      height: 32px;\n",
              "      padding: 0 0 0 0;\n",
              "      width: 32px;\n",
              "    }\n",
              "\n",
              "    .colab-df-convert:hover {\n",
              "      background-color: #E2EBFA;\n",
              "      box-shadow: 0px 1px 2px rgba(60, 64, 67, 0.3), 0px 1px 3px 1px rgba(60, 64, 67, 0.15);\n",
              "      fill: #174EA6;\n",
              "    }\n",
              "\n",
              "    .colab-df-buttons div {\n",
              "      margin-bottom: 4px;\n",
              "    }\n",
              "\n",
              "    [theme=dark] .colab-df-convert {\n",
              "      background-color: #3B4455;\n",
              "      fill: #D2E3FC;\n",
              "    }\n",
              "\n",
              "    [theme=dark] .colab-df-convert:hover {\n",
              "      background-color: #434B5C;\n",
              "      box-shadow: 0px 1px 3px 1px rgba(0, 0, 0, 0.15);\n",
              "      filter: drop-shadow(0px 1px 2px rgba(0, 0, 0, 0.3));\n",
              "      fill: #FFFFFF;\n",
              "    }\n",
              "  </style>\n",
              "\n",
              "    <script>\n",
              "      const buttonEl =\n",
              "        document.querySelector('#df-5784991d-6c9b-4ae9-9da8-68c98aaa122a button.colab-df-convert');\n",
              "      buttonEl.style.display =\n",
              "        google.colab.kernel.accessAllowed ? 'block' : 'none';\n",
              "\n",
              "      async function convertToInteractive(key) {\n",
              "        const element = document.querySelector('#df-5784991d-6c9b-4ae9-9da8-68c98aaa122a');\n",
              "        const dataTable =\n",
              "          await google.colab.kernel.invokeFunction('convertToInteractive',\n",
              "                                                    [key], {});\n",
              "        if (!dataTable) return;\n",
              "\n",
              "        const docLinkHtml = 'Like what you see? Visit the ' +\n",
              "          '<a target=\"_blank\" href=https://colab.research.google.com/notebooks/data_table.ipynb>data table notebook</a>'\n",
              "          + ' to learn more about interactive tables.';\n",
              "        element.innerHTML = '';\n",
              "        dataTable['output_type'] = 'display_data';\n",
              "        await google.colab.output.renderOutput(dataTable, element);\n",
              "        const docLink = document.createElement('div');\n",
              "        docLink.innerHTML = docLinkHtml;\n",
              "        element.appendChild(docLink);\n",
              "      }\n",
              "    </script>\n",
              "  </div>\n",
              "\n",
              "\n",
              "    <div id=\"df-489f5ce0-7454-42d0-9065-7f4dde353411\">\n",
              "      <button class=\"colab-df-quickchart\" onclick=\"quickchart('df-489f5ce0-7454-42d0-9065-7f4dde353411')\"\n",
              "                title=\"Suggest charts\"\n",
              "                style=\"display:none;\">\n",
              "\n",
              "<svg xmlns=\"http://www.w3.org/2000/svg\" height=\"24px\"viewBox=\"0 0 24 24\"\n",
              "     width=\"24px\">\n",
              "    <g>\n",
              "        <path d=\"M19 3H5c-1.1 0-2 .9-2 2v14c0 1.1.9 2 2 2h14c1.1 0 2-.9 2-2V5c0-1.1-.9-2-2-2zM9 17H7v-7h2v7zm4 0h-2V7h2v10zm4 0h-2v-4h2v4z\"/>\n",
              "    </g>\n",
              "</svg>\n",
              "      </button>\n",
              "\n",
              "<style>\n",
              "  .colab-df-quickchart {\n",
              "      --bg-color: #E8F0FE;\n",
              "      --fill-color: #1967D2;\n",
              "      --hover-bg-color: #E2EBFA;\n",
              "      --hover-fill-color: #174EA6;\n",
              "      --disabled-fill-color: #AAA;\n",
              "      --disabled-bg-color: #DDD;\n",
              "  }\n",
              "\n",
              "  [theme=dark] .colab-df-quickchart {\n",
              "      --bg-color: #3B4455;\n",
              "      --fill-color: #D2E3FC;\n",
              "      --hover-bg-color: #434B5C;\n",
              "      --hover-fill-color: #FFFFFF;\n",
              "      --disabled-bg-color: #3B4455;\n",
              "      --disabled-fill-color: #666;\n",
              "  }\n",
              "\n",
              "  .colab-df-quickchart {\n",
              "    background-color: var(--bg-color);\n",
              "    border: none;\n",
              "    border-radius: 50%;\n",
              "    cursor: pointer;\n",
              "    display: none;\n",
              "    fill: var(--fill-color);\n",
              "    height: 32px;\n",
              "    padding: 0;\n",
              "    width: 32px;\n",
              "  }\n",
              "\n",
              "  .colab-df-quickchart:hover {\n",
              "    background-color: var(--hover-bg-color);\n",
              "    box-shadow: 0 1px 2px rgba(60, 64, 67, 0.3), 0 1px 3px 1px rgba(60, 64, 67, 0.15);\n",
              "    fill: var(--button-hover-fill-color);\n",
              "  }\n",
              "\n",
              "  .colab-df-quickchart-complete:disabled,\n",
              "  .colab-df-quickchart-complete:disabled:hover {\n",
              "    background-color: var(--disabled-bg-color);\n",
              "    fill: var(--disabled-fill-color);\n",
              "    box-shadow: none;\n",
              "  }\n",
              "\n",
              "  .colab-df-spinner {\n",
              "    border: 2px solid var(--fill-color);\n",
              "    border-color: transparent;\n",
              "    border-bottom-color: var(--fill-color);\n",
              "    animation:\n",
              "      spin 1s steps(1) infinite;\n",
              "  }\n",
              "\n",
              "  @keyframes spin {\n",
              "    0% {\n",
              "      border-color: transparent;\n",
              "      border-bottom-color: var(--fill-color);\n",
              "      border-left-color: var(--fill-color);\n",
              "    }\n",
              "    20% {\n",
              "      border-color: transparent;\n",
              "      border-left-color: var(--fill-color);\n",
              "      border-top-color: var(--fill-color);\n",
              "    }\n",
              "    30% {\n",
              "      border-color: transparent;\n",
              "      border-left-color: var(--fill-color);\n",
              "      border-top-color: var(--fill-color);\n",
              "      border-right-color: var(--fill-color);\n",
              "    }\n",
              "    40% {\n",
              "      border-color: transparent;\n",
              "      border-right-color: var(--fill-color);\n",
              "      border-top-color: var(--fill-color);\n",
              "    }\n",
              "    60% {\n",
              "      border-color: transparent;\n",
              "      border-right-color: var(--fill-color);\n",
              "    }\n",
              "    80% {\n",
              "      border-color: transparent;\n",
              "      border-right-color: var(--fill-color);\n",
              "      border-bottom-color: var(--fill-color);\n",
              "    }\n",
              "    90% {\n",
              "      border-color: transparent;\n",
              "      border-bottom-color: var(--fill-color);\n",
              "    }\n",
              "  }\n",
              "</style>\n",
              "\n",
              "      <script>\n",
              "        async function quickchart(key) {\n",
              "          const quickchartButtonEl =\n",
              "            document.querySelector('#' + key + ' button');\n",
              "          quickchartButtonEl.disabled = true;  // To prevent multiple clicks.\n",
              "          quickchartButtonEl.classList.add('colab-df-spinner');\n",
              "          try {\n",
              "            const charts = await google.colab.kernel.invokeFunction(\n",
              "                'suggestCharts', [key], {});\n",
              "          } catch (error) {\n",
              "            console.error('Error during call to suggestCharts:', error);\n",
              "          }\n",
              "          quickchartButtonEl.classList.remove('colab-df-spinner');\n",
              "          quickchartButtonEl.classList.add('colab-df-quickchart-complete');\n",
              "        }\n",
              "        (() => {\n",
              "          let quickchartButtonEl =\n",
              "            document.querySelector('#df-489f5ce0-7454-42d0-9065-7f4dde353411 button');\n",
              "          quickchartButtonEl.style.display =\n",
              "            google.colab.kernel.accessAllowed ? 'block' : 'none';\n",
              "        })();\n",
              "      </script>\n",
              "    </div>\n",
              "\n",
              "    </div>\n",
              "  </div>\n"
            ],
            "application/vnd.google.colaboratory.intrinsic+json": {
              "type": "dataframe",
              "summary": "{\n  \"name\": \"covid_campinas\",\n  \"rows\": 8,\n  \"fields\": [\n    {\n      \"column\": \"indice\",\n      \"properties\": {\n        \"dtype\": \"number\",\n        \"std\": 130313.2230223834,\n        \"min\": 109.0,\n        \"max\": 372919.0,\n        \"num_unique_values\": 7,\n        \"samples\": [\n          579.0,\n          186514.0,\n          279716.5\n        ],\n        \"semantic_type\": \"\",\n        \"description\": \"\"\n      }\n    },\n    {\n      \"column\": \"dia\",\n      \"properties\": {\n        \"dtype\": \"number\",\n        \"std\": 199.69417110494473,\n        \"min\": 1.0,\n        \"max\": 579.0,\n        \"num_unique_values\": 8,\n        \"samples\": [\n          15.73747841105354,\n          16.0,\n          579.0\n        ],\n        \"semantic_type\": \"\",\n        \"description\": \"\"\n      }\n    },\n    {\n      \"column\": \"mes\",\n      \"properties\": {\n        \"dtype\": \"number\",\n        \"std\": 202.65095094679847,\n        \"min\": 1.0,\n        \"max\": 579.0,\n        \"num_unique_values\": 8,\n        \"samples\": [\n          6.269430051813472,\n          6.0,\n          579.0\n        ],\n        \"semantic_type\": \"\",\n        \"description\": \"\"\n      }\n    },\n    {\n      \"column\": \"casos\",\n      \"properties\": {\n        \"dtype\": \"number\",\n        \"std\": 39003.68156107987,\n        \"min\": 0.0,\n        \"max\": 112841.0,\n        \"num_unique_values\": 8,\n        \"samples\": [\n          46549.331606217616,\n          39112.0,\n          579.0\n        ],\n        \"semantic_type\": \"\",\n        \"description\": \"\"\n      }\n    },\n    {\n      \"column\": \"casos_novos\",\n      \"properties\": {\n        \"dtype\": \"number\",\n        \"std\": 357.09223544162353,\n        \"min\": 0.0,\n        \"max\": 1080.0,\n        \"num_unique_values\": 8,\n        \"samples\": [\n          194.88946459412782,\n          148.0,\n          579.0\n        ],\n        \"semantic_type\": \"\",\n        \"description\": \"\"\n      }\n    },\n    {\n      \"column\": \"casos_pc\",\n      \"properties\": {\n        \"dtype\": \"number\",\n        \"std\": 3244.660484149341,\n        \"min\": 0.0,\n        \"max\": 9599.39634249567,\n        \"num_unique_values\": 8,\n        \"samples\": [\n          3959.956784912784,\n          3327.26216311173,\n          579.0\n        ],\n        \"semantic_type\": \"\",\n        \"description\": \"\"\n      }\n    },\n    {\n      \"column\": \"casos_mm7d\",\n      \"properties\": {\n        \"dtype\": \"number\",\n        \"std\": 191.03053685473336,\n        \"min\": 0.0,\n        \"max\": 579.0,\n        \"num_unique_values\": 8,\n        \"samples\": [\n          194.43498642980512,\n          216.7142857142857,\n          579.0\n        ],\n        \"semantic_type\": \"\",\n        \"description\": \"\"\n      }\n    },\n    {\n      \"column\": \"obitos\",\n      \"properties\": {\n        \"dtype\": \"number\",\n        \"std\": 1470.4597864599912,\n        \"min\": 0.0,\n        \"max\": 4471.0,\n        \"num_unique_values\": 8,\n        \"samples\": [\n          1763.3333333333333,\n          1407.0,\n          579.0\n        ],\n        \"semantic_type\": \"\",\n        \"description\": \"\"\n      }\n    },\n    {\n      \"column\": \"obitos_novos\",\n      \"properties\": {\n        \"dtype\": \"number\",\n        \"std\": 200.75723917600394,\n        \"min\": 0.0,\n        \"max\": 579.0,\n        \"num_unique_values\": 8,\n        \"samples\": [\n          7.721934369602764,\n          5.0,\n          579.0\n        ],\n        \"semantic_type\": \"\",\n        \"description\": \"\"\n      }\n    },\n    {\n      \"column\": \"obitos_pc\",\n      \"properties\": {\n        \"dtype\": \"number\",\n        \"std\": 192.036348362617,\n        \"min\": 0.0,\n        \"max\": 579.0,\n        \"num_unique_values\": 8,\n        \"samples\": [\n          150.00696157071187,\n          119.693645517954,\n          579.0\n        ],\n        \"semantic_type\": \"\",\n        \"description\": \"\"\n      }\n    },\n    {\n      \"column\": \"obitos_mm7d\",\n      \"properties\": {\n        \"dtype\": \"number\",\n        \"std\": 201.67157028058628,\n        \"min\": 0.0,\n        \"max\": 579.0,\n        \"num_unique_values\": 8,\n        \"samples\": [\n          7.698988403651615,\n          7.428571428571429,\n          579.0\n        ],\n        \"semantic_type\": \"\",\n        \"description\": \"\"\n      }\n    },\n    {\n      \"column\": \"letalidade\",\n      \"properties\": {\n        \"dtype\": \"number\",\n        \"std\": 204.69136236657724,\n        \"min\": 0.0,\n        \"max\": 579.0,\n        \"num_unique_values\": 8,\n        \"samples\": [\n          0.036734140517119644,\n          0.0390074035056916,\n          579.0\n        ],\n        \"semantic_type\": \"\",\n        \"description\": \"\"\n      }\n    },\n    {\n      \"column\": \"pop\",\n      \"properties\": {\n        \"dtype\": \"number\",\n        \"std\": 544017.2361002223,\n        \"min\": 0.0,\n        \"max\": 1175501.0,\n        \"num_unique_values\": 3,\n        \"samples\": [\n          579.0,\n          1175501.0,\n          0.0\n        ],\n        \"semantic_type\": \"\",\n        \"description\": \"\"\n      }\n    },\n    {\n      \"column\": \"pop_60\",\n      \"properties\": {\n        \"dtype\": \"number\",\n        \"std\": 89113.32787433811,\n        \"min\": 0.0,\n        \"max\": 192796.0,\n        \"num_unique_values\": 3,\n        \"samples\": [\n          579.0,\n          192796.0,\n          0.0\n        ],\n        \"semantic_type\": \"\",\n        \"description\": \"\"\n      }\n    },\n    {\n      \"column\": \"area\",\n      \"properties\": {\n        \"dtype\": \"number\",\n        \"std\": 280.3732352597139,\n        \"min\": 5.803042152083511e-12,\n        \"max\": 794.57,\n        \"num_unique_values\": 4,\n        \"samples\": [\n          794.5699999999998,\n          794.57,\n          579.0\n        ],\n        \"semantic_type\": \"\",\n        \"description\": \"\"\n      }\n    },\n    {\n      \"column\": \"semana_epidem\",\n      \"properties\": {\n        \"dtype\": \"number\",\n        \"std\": 196.7846605912526,\n        \"min\": 1.0,\n        \"max\": 579.0,\n        \"num_unique_values\": 8,\n        \"samples\": [\n          25.792746113989637,\n          25.0,\n          579.0\n        ],\n        \"semantic_type\": \"\",\n        \"description\": \"\"\n      }\n    },\n    {\n      \"column\": \"densidade\",\n      \"properties\": {\n        \"dtype\": \"number\",\n        \"std\": 572.1484635112598,\n        \"min\": 1.5474779072222695e-11,\n        \"max\": 1479.417798306002,\n        \"num_unique_values\": 3,\n        \"samples\": [\n          579.0,\n          1479.417798306002,\n          1.5474779072222695e-11\n        ],\n        \"semantic_type\": \"\",\n        \"description\": \"\"\n      }\n    },\n    {\n      \"column\": \"porcentagem_idosos\",\n      \"properties\": {\n        \"dtype\": \"number\",\n        \"std\": 199.8195438251219,\n        \"min\": 8.53388551776987e-14,\n        \"max\": 579.0,\n        \"num_unique_values\": 3,\n        \"samples\": [\n          579.0,\n          16.401177030049315,\n          8.53388551776987e-14\n        ],\n        \"semantic_type\": \"\",\n        \"description\": \"\"\n      }\n    }\n  ]\n}"
            }
          },
          "metadata": {},
          "execution_count": 25
        }
      ]
    },
    {
      "cell_type": "code",
      "metadata": {
        "id": "VlC8BDFXErKM",
        "colab": {
          "base_uri": "https://localhost:8080/",
          "height": 320
        },
        "outputId": "74f436f8-a1fa-45ef-901d-d9c9591005fe"
      },
      "source": [
        "round(covid_campinas.describe(),1)"
      ],
      "execution_count": 26,
      "outputs": [
        {
          "output_type": "execute_result",
          "data": {
            "text/plain": [
              "         indice    dia    mes     casos  casos_novos  casos_pc  casos_mm7d  \\\n",
              "count     579.0  579.0  579.0     579.0        579.0     579.0       579.0   \n",
              "mean   186514.0   15.7    6.3   46549.3        194.9    3960.0       194.4   \n",
              "std    107900.2    8.8    3.0   36212.4        173.9    3080.6       115.7   \n",
              "min       109.0    1.0    1.0       0.0          0.0       0.0         0.0   \n",
              "25%     93311.5    8.0    4.0   12926.0         39.0    1099.6        91.6   \n",
              "50%    186514.0   16.0    6.0   39112.0        148.0    3327.3       216.7   \n",
              "75%    279716.5   23.0    9.0   77445.5        326.0    6588.3       283.4   \n",
              "max    372919.0   31.0   12.0  112841.0       1080.0    9599.4       442.4   \n",
              "\n",
              "       obitos  obitos_novos  obitos_pc  obitos_mm7d  letalidade        pop  \\\n",
              "count   579.0         579.0      579.0        579.0       579.0      579.0   \n",
              "mean   1763.3           7.7      150.0          7.7         0.0  1175501.0   \n",
              "std    1427.1           9.0      121.4          6.0         0.0        0.0   \n",
              "min       0.0           0.0        0.0          0.0         0.0  1175501.0   \n",
              "25%     540.5           1.0       46.0          2.6         0.0  1175501.0   \n",
              "50%    1407.0           5.0      119.7          7.4         0.0  1175501.0   \n",
              "75%    3048.5          12.0      259.3         11.0         0.0  1175501.0   \n",
              "max    4471.0          67.0      380.3         29.3         0.2  1175501.0   \n",
              "\n",
              "         pop_60   area  semana_epidem  densidade  porcentagem_idosos  \n",
              "count     579.0  579.0          579.0      579.0               579.0  \n",
              "mean   192796.0  794.6           25.8     1479.4                16.4  \n",
              "std         0.0    0.0           13.4        0.0                 0.0  \n",
              "min    192796.0  794.6            1.0     1479.4                16.4  \n",
              "25%    192796.0  794.6           15.0     1479.4                16.4  \n",
              "50%    192796.0  794.6           25.0     1479.4                16.4  \n",
              "75%    192796.0  794.6           36.0     1479.4                16.4  \n",
              "max    192796.0  794.6           53.0     1479.4                16.4  "
            ],
            "text/html": [
              "\n",
              "  <div id=\"df-49759b04-d4b0-4aad-bd41-d35ff460a3bc\" class=\"colab-df-container\">\n",
              "    <div>\n",
              "<style scoped>\n",
              "    .dataframe tbody tr th:only-of-type {\n",
              "        vertical-align: middle;\n",
              "    }\n",
              "\n",
              "    .dataframe tbody tr th {\n",
              "        vertical-align: top;\n",
              "    }\n",
              "\n",
              "    .dataframe thead th {\n",
              "        text-align: right;\n",
              "    }\n",
              "</style>\n",
              "<table border=\"1\" class=\"dataframe\">\n",
              "  <thead>\n",
              "    <tr style=\"text-align: right;\">\n",
              "      <th></th>\n",
              "      <th>indice</th>\n",
              "      <th>dia</th>\n",
              "      <th>mes</th>\n",
              "      <th>casos</th>\n",
              "      <th>casos_novos</th>\n",
              "      <th>casos_pc</th>\n",
              "      <th>casos_mm7d</th>\n",
              "      <th>obitos</th>\n",
              "      <th>obitos_novos</th>\n",
              "      <th>obitos_pc</th>\n",
              "      <th>obitos_mm7d</th>\n",
              "      <th>letalidade</th>\n",
              "      <th>pop</th>\n",
              "      <th>pop_60</th>\n",
              "      <th>area</th>\n",
              "      <th>semana_epidem</th>\n",
              "      <th>densidade</th>\n",
              "      <th>porcentagem_idosos</th>\n",
              "    </tr>\n",
              "  </thead>\n",
              "  <tbody>\n",
              "    <tr>\n",
              "      <th>count</th>\n",
              "      <td>579.0</td>\n",
              "      <td>579.0</td>\n",
              "      <td>579.0</td>\n",
              "      <td>579.0</td>\n",
              "      <td>579.0</td>\n",
              "      <td>579.0</td>\n",
              "      <td>579.0</td>\n",
              "      <td>579.0</td>\n",
              "      <td>579.0</td>\n",
              "      <td>579.0</td>\n",
              "      <td>579.0</td>\n",
              "      <td>579.0</td>\n",
              "      <td>579.0</td>\n",
              "      <td>579.0</td>\n",
              "      <td>579.0</td>\n",
              "      <td>579.0</td>\n",
              "      <td>579.0</td>\n",
              "      <td>579.0</td>\n",
              "    </tr>\n",
              "    <tr>\n",
              "      <th>mean</th>\n",
              "      <td>186514.0</td>\n",
              "      <td>15.7</td>\n",
              "      <td>6.3</td>\n",
              "      <td>46549.3</td>\n",
              "      <td>194.9</td>\n",
              "      <td>3960.0</td>\n",
              "      <td>194.4</td>\n",
              "      <td>1763.3</td>\n",
              "      <td>7.7</td>\n",
              "      <td>150.0</td>\n",
              "      <td>7.7</td>\n",
              "      <td>0.0</td>\n",
              "      <td>1175501.0</td>\n",
              "      <td>192796.0</td>\n",
              "      <td>794.6</td>\n",
              "      <td>25.8</td>\n",
              "      <td>1479.4</td>\n",
              "      <td>16.4</td>\n",
              "    </tr>\n",
              "    <tr>\n",
              "      <th>std</th>\n",
              "      <td>107900.2</td>\n",
              "      <td>8.8</td>\n",
              "      <td>3.0</td>\n",
              "      <td>36212.4</td>\n",
              "      <td>173.9</td>\n",
              "      <td>3080.6</td>\n",
              "      <td>115.7</td>\n",
              "      <td>1427.1</td>\n",
              "      <td>9.0</td>\n",
              "      <td>121.4</td>\n",
              "      <td>6.0</td>\n",
              "      <td>0.0</td>\n",
              "      <td>0.0</td>\n",
              "      <td>0.0</td>\n",
              "      <td>0.0</td>\n",
              "      <td>13.4</td>\n",
              "      <td>0.0</td>\n",
              "      <td>0.0</td>\n",
              "    </tr>\n",
              "    <tr>\n",
              "      <th>min</th>\n",
              "      <td>109.0</td>\n",
              "      <td>1.0</td>\n",
              "      <td>1.0</td>\n",
              "      <td>0.0</td>\n",
              "      <td>0.0</td>\n",
              "      <td>0.0</td>\n",
              "      <td>0.0</td>\n",
              "      <td>0.0</td>\n",
              "      <td>0.0</td>\n",
              "      <td>0.0</td>\n",
              "      <td>0.0</td>\n",
              "      <td>0.0</td>\n",
              "      <td>1175501.0</td>\n",
              "      <td>192796.0</td>\n",
              "      <td>794.6</td>\n",
              "      <td>1.0</td>\n",
              "      <td>1479.4</td>\n",
              "      <td>16.4</td>\n",
              "    </tr>\n",
              "    <tr>\n",
              "      <th>25%</th>\n",
              "      <td>93311.5</td>\n",
              "      <td>8.0</td>\n",
              "      <td>4.0</td>\n",
              "      <td>12926.0</td>\n",
              "      <td>39.0</td>\n",
              "      <td>1099.6</td>\n",
              "      <td>91.6</td>\n",
              "      <td>540.5</td>\n",
              "      <td>1.0</td>\n",
              "      <td>46.0</td>\n",
              "      <td>2.6</td>\n",
              "      <td>0.0</td>\n",
              "      <td>1175501.0</td>\n",
              "      <td>192796.0</td>\n",
              "      <td>794.6</td>\n",
              "      <td>15.0</td>\n",
              "      <td>1479.4</td>\n",
              "      <td>16.4</td>\n",
              "    </tr>\n",
              "    <tr>\n",
              "      <th>50%</th>\n",
              "      <td>186514.0</td>\n",
              "      <td>16.0</td>\n",
              "      <td>6.0</td>\n",
              "      <td>39112.0</td>\n",
              "      <td>148.0</td>\n",
              "      <td>3327.3</td>\n",
              "      <td>216.7</td>\n",
              "      <td>1407.0</td>\n",
              "      <td>5.0</td>\n",
              "      <td>119.7</td>\n",
              "      <td>7.4</td>\n",
              "      <td>0.0</td>\n",
              "      <td>1175501.0</td>\n",
              "      <td>192796.0</td>\n",
              "      <td>794.6</td>\n",
              "      <td>25.0</td>\n",
              "      <td>1479.4</td>\n",
              "      <td>16.4</td>\n",
              "    </tr>\n",
              "    <tr>\n",
              "      <th>75%</th>\n",
              "      <td>279716.5</td>\n",
              "      <td>23.0</td>\n",
              "      <td>9.0</td>\n",
              "      <td>77445.5</td>\n",
              "      <td>326.0</td>\n",
              "      <td>6588.3</td>\n",
              "      <td>283.4</td>\n",
              "      <td>3048.5</td>\n",
              "      <td>12.0</td>\n",
              "      <td>259.3</td>\n",
              "      <td>11.0</td>\n",
              "      <td>0.0</td>\n",
              "      <td>1175501.0</td>\n",
              "      <td>192796.0</td>\n",
              "      <td>794.6</td>\n",
              "      <td>36.0</td>\n",
              "      <td>1479.4</td>\n",
              "      <td>16.4</td>\n",
              "    </tr>\n",
              "    <tr>\n",
              "      <th>max</th>\n",
              "      <td>372919.0</td>\n",
              "      <td>31.0</td>\n",
              "      <td>12.0</td>\n",
              "      <td>112841.0</td>\n",
              "      <td>1080.0</td>\n",
              "      <td>9599.4</td>\n",
              "      <td>442.4</td>\n",
              "      <td>4471.0</td>\n",
              "      <td>67.0</td>\n",
              "      <td>380.3</td>\n",
              "      <td>29.3</td>\n",
              "      <td>0.2</td>\n",
              "      <td>1175501.0</td>\n",
              "      <td>192796.0</td>\n",
              "      <td>794.6</td>\n",
              "      <td>53.0</td>\n",
              "      <td>1479.4</td>\n",
              "      <td>16.4</td>\n",
              "    </tr>\n",
              "  </tbody>\n",
              "</table>\n",
              "</div>\n",
              "    <div class=\"colab-df-buttons\">\n",
              "\n",
              "  <div class=\"colab-df-container\">\n",
              "    <button class=\"colab-df-convert\" onclick=\"convertToInteractive('df-49759b04-d4b0-4aad-bd41-d35ff460a3bc')\"\n",
              "            title=\"Convert this dataframe to an interactive table.\"\n",
              "            style=\"display:none;\">\n",
              "\n",
              "  <svg xmlns=\"http://www.w3.org/2000/svg\" height=\"24px\" viewBox=\"0 -960 960 960\">\n",
              "    <path d=\"M120-120v-720h720v720H120Zm60-500h600v-160H180v160Zm220 220h160v-160H400v160Zm0 220h160v-160H400v160ZM180-400h160v-160H180v160Zm440 0h160v-160H620v160ZM180-180h160v-160H180v160Zm440 0h160v-160H620v160Z\"/>\n",
              "  </svg>\n",
              "    </button>\n",
              "\n",
              "  <style>\n",
              "    .colab-df-container {\n",
              "      display:flex;\n",
              "      gap: 12px;\n",
              "    }\n",
              "\n",
              "    .colab-df-convert {\n",
              "      background-color: #E8F0FE;\n",
              "      border: none;\n",
              "      border-radius: 50%;\n",
              "      cursor: pointer;\n",
              "      display: none;\n",
              "      fill: #1967D2;\n",
              "      height: 32px;\n",
              "      padding: 0 0 0 0;\n",
              "      width: 32px;\n",
              "    }\n",
              "\n",
              "    .colab-df-convert:hover {\n",
              "      background-color: #E2EBFA;\n",
              "      box-shadow: 0px 1px 2px rgba(60, 64, 67, 0.3), 0px 1px 3px 1px rgba(60, 64, 67, 0.15);\n",
              "      fill: #174EA6;\n",
              "    }\n",
              "\n",
              "    .colab-df-buttons div {\n",
              "      margin-bottom: 4px;\n",
              "    }\n",
              "\n",
              "    [theme=dark] .colab-df-convert {\n",
              "      background-color: #3B4455;\n",
              "      fill: #D2E3FC;\n",
              "    }\n",
              "\n",
              "    [theme=dark] .colab-df-convert:hover {\n",
              "      background-color: #434B5C;\n",
              "      box-shadow: 0px 1px 3px 1px rgba(0, 0, 0, 0.15);\n",
              "      filter: drop-shadow(0px 1px 2px rgba(0, 0, 0, 0.3));\n",
              "      fill: #FFFFFF;\n",
              "    }\n",
              "  </style>\n",
              "\n",
              "    <script>\n",
              "      const buttonEl =\n",
              "        document.querySelector('#df-49759b04-d4b0-4aad-bd41-d35ff460a3bc button.colab-df-convert');\n",
              "      buttonEl.style.display =\n",
              "        google.colab.kernel.accessAllowed ? 'block' : 'none';\n",
              "\n",
              "      async function convertToInteractive(key) {\n",
              "        const element = document.querySelector('#df-49759b04-d4b0-4aad-bd41-d35ff460a3bc');\n",
              "        const dataTable =\n",
              "          await google.colab.kernel.invokeFunction('convertToInteractive',\n",
              "                                                    [key], {});\n",
              "        if (!dataTable) return;\n",
              "\n",
              "        const docLinkHtml = 'Like what you see? Visit the ' +\n",
              "          '<a target=\"_blank\" href=https://colab.research.google.com/notebooks/data_table.ipynb>data table notebook</a>'\n",
              "          + ' to learn more about interactive tables.';\n",
              "        element.innerHTML = '';\n",
              "        dataTable['output_type'] = 'display_data';\n",
              "        await google.colab.output.renderOutput(dataTable, element);\n",
              "        const docLink = document.createElement('div');\n",
              "        docLink.innerHTML = docLinkHtml;\n",
              "        element.appendChild(docLink);\n",
              "      }\n",
              "    </script>\n",
              "  </div>\n",
              "\n",
              "\n",
              "    <div id=\"df-114683a6-bb89-41dc-9833-b3cb181ba67d\">\n",
              "      <button class=\"colab-df-quickchart\" onclick=\"quickchart('df-114683a6-bb89-41dc-9833-b3cb181ba67d')\"\n",
              "                title=\"Suggest charts\"\n",
              "                style=\"display:none;\">\n",
              "\n",
              "<svg xmlns=\"http://www.w3.org/2000/svg\" height=\"24px\"viewBox=\"0 0 24 24\"\n",
              "     width=\"24px\">\n",
              "    <g>\n",
              "        <path d=\"M19 3H5c-1.1 0-2 .9-2 2v14c0 1.1.9 2 2 2h14c1.1 0 2-.9 2-2V5c0-1.1-.9-2-2-2zM9 17H7v-7h2v7zm4 0h-2V7h2v10zm4 0h-2v-4h2v4z\"/>\n",
              "    </g>\n",
              "</svg>\n",
              "      </button>\n",
              "\n",
              "<style>\n",
              "  .colab-df-quickchart {\n",
              "      --bg-color: #E8F0FE;\n",
              "      --fill-color: #1967D2;\n",
              "      --hover-bg-color: #E2EBFA;\n",
              "      --hover-fill-color: #174EA6;\n",
              "      --disabled-fill-color: #AAA;\n",
              "      --disabled-bg-color: #DDD;\n",
              "  }\n",
              "\n",
              "  [theme=dark] .colab-df-quickchart {\n",
              "      --bg-color: #3B4455;\n",
              "      --fill-color: #D2E3FC;\n",
              "      --hover-bg-color: #434B5C;\n",
              "      --hover-fill-color: #FFFFFF;\n",
              "      --disabled-bg-color: #3B4455;\n",
              "      --disabled-fill-color: #666;\n",
              "  }\n",
              "\n",
              "  .colab-df-quickchart {\n",
              "    background-color: var(--bg-color);\n",
              "    border: none;\n",
              "    border-radius: 50%;\n",
              "    cursor: pointer;\n",
              "    display: none;\n",
              "    fill: var(--fill-color);\n",
              "    height: 32px;\n",
              "    padding: 0;\n",
              "    width: 32px;\n",
              "  }\n",
              "\n",
              "  .colab-df-quickchart:hover {\n",
              "    background-color: var(--hover-bg-color);\n",
              "    box-shadow: 0 1px 2px rgba(60, 64, 67, 0.3), 0 1px 3px 1px rgba(60, 64, 67, 0.15);\n",
              "    fill: var(--button-hover-fill-color);\n",
              "  }\n",
              "\n",
              "  .colab-df-quickchart-complete:disabled,\n",
              "  .colab-df-quickchart-complete:disabled:hover {\n",
              "    background-color: var(--disabled-bg-color);\n",
              "    fill: var(--disabled-fill-color);\n",
              "    box-shadow: none;\n",
              "  }\n",
              "\n",
              "  .colab-df-spinner {\n",
              "    border: 2px solid var(--fill-color);\n",
              "    border-color: transparent;\n",
              "    border-bottom-color: var(--fill-color);\n",
              "    animation:\n",
              "      spin 1s steps(1) infinite;\n",
              "  }\n",
              "\n",
              "  @keyframes spin {\n",
              "    0% {\n",
              "      border-color: transparent;\n",
              "      border-bottom-color: var(--fill-color);\n",
              "      border-left-color: var(--fill-color);\n",
              "    }\n",
              "    20% {\n",
              "      border-color: transparent;\n",
              "      border-left-color: var(--fill-color);\n",
              "      border-top-color: var(--fill-color);\n",
              "    }\n",
              "    30% {\n",
              "      border-color: transparent;\n",
              "      border-left-color: var(--fill-color);\n",
              "      border-top-color: var(--fill-color);\n",
              "      border-right-color: var(--fill-color);\n",
              "    }\n",
              "    40% {\n",
              "      border-color: transparent;\n",
              "      border-right-color: var(--fill-color);\n",
              "      border-top-color: var(--fill-color);\n",
              "    }\n",
              "    60% {\n",
              "      border-color: transparent;\n",
              "      border-right-color: var(--fill-color);\n",
              "    }\n",
              "    80% {\n",
              "      border-color: transparent;\n",
              "      border-right-color: var(--fill-color);\n",
              "      border-bottom-color: var(--fill-color);\n",
              "    }\n",
              "    90% {\n",
              "      border-color: transparent;\n",
              "      border-bottom-color: var(--fill-color);\n",
              "    }\n",
              "  }\n",
              "</style>\n",
              "\n",
              "      <script>\n",
              "        async function quickchart(key) {\n",
              "          const quickchartButtonEl =\n",
              "            document.querySelector('#' + key + ' button');\n",
              "          quickchartButtonEl.disabled = true;  // To prevent multiple clicks.\n",
              "          quickchartButtonEl.classList.add('colab-df-spinner');\n",
              "          try {\n",
              "            const charts = await google.colab.kernel.invokeFunction(\n",
              "                'suggestCharts', [key], {});\n",
              "          } catch (error) {\n",
              "            console.error('Error during call to suggestCharts:', error);\n",
              "          }\n",
              "          quickchartButtonEl.classList.remove('colab-df-spinner');\n",
              "          quickchartButtonEl.classList.add('colab-df-quickchart-complete');\n",
              "        }\n",
              "        (() => {\n",
              "          let quickchartButtonEl =\n",
              "            document.querySelector('#df-114683a6-bb89-41dc-9833-b3cb181ba67d button');\n",
              "          quickchartButtonEl.style.display =\n",
              "            google.colab.kernel.accessAllowed ? 'block' : 'none';\n",
              "        })();\n",
              "      </script>\n",
              "    </div>\n",
              "\n",
              "    </div>\n",
              "  </div>\n"
            ],
            "application/vnd.google.colaboratory.intrinsic+json": {
              "type": "dataframe",
              "summary": "{\n  \"name\": \"round(covid_campinas\",\n  \"rows\": 8,\n  \"fields\": [\n    {\n      \"column\": \"indice\",\n      \"properties\": {\n        \"dtype\": \"number\",\n        \"std\": 130313.22451816952,\n        \"min\": 109.0,\n        \"max\": 372919.0,\n        \"num_unique_values\": 7,\n        \"samples\": [\n          579.0,\n          186514.0,\n          279716.5\n        ],\n        \"semantic_type\": \"\",\n        \"description\": \"\"\n      }\n    },\n    {\n      \"column\": \"dia\",\n      \"properties\": {\n        \"dtype\": \"number\",\n        \"std\": 199.69625103784855,\n        \"min\": 1.0,\n        \"max\": 579.0,\n        \"num_unique_values\": 8,\n        \"samples\": [\n          15.7,\n          16.0,\n          579.0\n        ],\n        \"semantic_type\": \"\",\n        \"description\": \"\"\n      }\n    },\n    {\n      \"column\": \"mes\",\n      \"properties\": {\n        \"dtype\": \"number\",\n        \"std\": 202.65071243398083,\n        \"min\": 1.0,\n        \"max\": 579.0,\n        \"num_unique_values\": 8,\n        \"samples\": [\n          6.3,\n          6.0,\n          579.0\n        ],\n        \"semantic_type\": \"\",\n        \"description\": \"\"\n      }\n    },\n    {\n      \"column\": \"casos\",\n      \"properties\": {\n        \"dtype\": \"number\",\n        \"std\": 39003.680128784916,\n        \"min\": 0.0,\n        \"max\": 112841.0,\n        \"num_unique_values\": 8,\n        \"samples\": [\n          46549.3,\n          39112.0,\n          579.0\n        ],\n        \"semantic_type\": \"\",\n        \"description\": \"\"\n      }\n    },\n    {\n      \"column\": \"casos_novos\",\n      \"properties\": {\n        \"dtype\": \"number\",\n        \"std\": 357.09365318198695,\n        \"min\": 0.0,\n        \"max\": 1080.0,\n        \"num_unique_values\": 8,\n        \"samples\": [\n          194.9,\n          148.0,\n          579.0\n        ],\n        \"semantic_type\": \"\",\n        \"description\": \"\"\n      }\n    },\n    {\n      \"column\": \"casos_pc\",\n      \"properties\": {\n        \"dtype\": \"number\",\n        \"std\": 3244.663835878401,\n        \"min\": 0.0,\n        \"max\": 9599.4,\n        \"num_unique_values\": 8,\n        \"samples\": [\n          3960.0,\n          3327.3,\n          579.0\n        ],\n        \"semantic_type\": \"\",\n        \"description\": \"\"\n      }\n    },\n    {\n      \"column\": \"casos_mm7d\",\n      \"properties\": {\n        \"dtype\": \"number\",\n        \"std\": 191.03639892514127,\n        \"min\": 0.0,\n        \"max\": 579.0,\n        \"num_unique_values\": 8,\n        \"samples\": [\n          194.4,\n          216.7,\n          579.0\n        ],\n        \"semantic_type\": \"\",\n        \"description\": \"\"\n      }\n    },\n    {\n      \"column\": \"obitos\",\n      \"properties\": {\n        \"dtype\": \"number\",\n        \"std\": 1470.4605294163555,\n        \"min\": 0.0,\n        \"max\": 4471.0,\n        \"num_unique_values\": 8,\n        \"samples\": [\n          1763.3,\n          1407.0,\n          579.0\n        ],\n        \"semantic_type\": \"\",\n        \"description\": \"\"\n      }\n    },\n    {\n      \"column\": \"obitos_novos\",\n      \"properties\": {\n        \"dtype\": \"number\",\n        \"std\": 200.75615228074935,\n        \"min\": 0.0,\n        \"max\": 579.0,\n        \"num_unique_values\": 8,\n        \"samples\": [\n          7.7,\n          5.0,\n          579.0\n        ],\n        \"semantic_type\": \"\",\n        \"description\": \"\"\n      }\n    },\n    {\n      \"column\": \"obitos_pc\",\n      \"properties\": {\n        \"dtype\": \"number\",\n        \"std\": 192.0267164262009,\n        \"min\": 0.0,\n        \"max\": 579.0,\n        \"num_unique_values\": 8,\n        \"samples\": [\n          150.0,\n          119.7,\n          579.0\n        ],\n        \"semantic_type\": \"\",\n        \"description\": \"\"\n      }\n    },\n    {\n      \"column\": \"obitos_mm7d\",\n      \"properties\": {\n        \"dtype\": \"number\",\n        \"std\": 201.67023117668396,\n        \"min\": 0.0,\n        \"max\": 579.0,\n        \"num_unique_values\": 8,\n        \"samples\": [\n          7.7,\n          7.4,\n          579.0\n        ],\n        \"semantic_type\": \"\",\n        \"description\": \"\"\n      }\n    },\n    {\n      \"column\": \"letalidade\",\n      \"properties\": {\n        \"dtype\": \"number\",\n        \"std\": 204.69732359196664,\n        \"min\": 0.0,\n        \"max\": 579.0,\n        \"num_unique_values\": 3,\n        \"samples\": [\n          579.0,\n          0.0,\n          0.2\n        ],\n        \"semantic_type\": \"\",\n        \"description\": \"\"\n      }\n    },\n    {\n      \"column\": \"pop\",\n      \"properties\": {\n        \"dtype\": \"number\",\n        \"std\": 544017.2361002223,\n        \"min\": 0.0,\n        \"max\": 1175501.0,\n        \"num_unique_values\": 3,\n        \"samples\": [\n          579.0,\n          1175501.0,\n          0.0\n        ],\n        \"semantic_type\": \"\",\n        \"description\": \"\"\n      }\n    },\n    {\n      \"column\": \"pop_60\",\n      \"properties\": {\n        \"dtype\": \"number\",\n        \"std\": 89113.32787433811,\n        \"min\": 0.0,\n        \"max\": 192796.0,\n        \"num_unique_values\": 3,\n        \"samples\": [\n          579.0,\n          192796.0,\n          0.0\n        ],\n        \"semantic_type\": \"\",\n        \"description\": \"\"\n      }\n    },\n    {\n      \"column\": \"area\",\n      \"properties\": {\n        \"dtype\": \"number\",\n        \"std\": 280.3848159226887,\n        \"min\": 0.0,\n        \"max\": 794.6,\n        \"num_unique_values\": 3,\n        \"samples\": [\n          579.0,\n          794.6,\n          0.0\n        ],\n        \"semantic_type\": \"\",\n        \"description\": \"\"\n      }\n    },\n    {\n      \"column\": \"semana_epidem\",\n      \"properties\": {\n        \"dtype\": \"number\",\n        \"std\": 196.78370831230632,\n        \"min\": 1.0,\n        \"max\": 579.0,\n        \"num_unique_values\": 8,\n        \"samples\": [\n          25.8,\n          25.0,\n          579.0\n        ],\n        \"semantic_type\": \"\",\n        \"description\": \"\"\n      }\n    },\n    {\n      \"column\": \"densidade\",\n      \"properties\": {\n        \"dtype\": \"number\",\n        \"std\": 572.1405315629569,\n        \"min\": 0.0,\n        \"max\": 1479.4,\n        \"num_unique_values\": 3,\n        \"samples\": [\n          579.0,\n          1479.4,\n          0.0\n        ],\n        \"semantic_type\": \"\",\n        \"description\": \"\"\n      }\n    },\n    {\n      \"column\": \"porcentagem_idosos\",\n      \"properties\": {\n        \"dtype\": \"number\",\n        \"std\": 199.81988854251438,\n        \"min\": 0.0,\n        \"max\": 579.0,\n        \"num_unique_values\": 3,\n        \"samples\": [\n          579.0,\n          16.4,\n          0.0\n        ],\n        \"semantic_type\": \"\",\n        \"description\": \"\"\n      }\n    }\n  ]\n}"
            }
          },
          "metadata": {},
          "execution_count": 26
        }
      ]
    },
    {
      "cell_type": "code",
      "metadata": {
        "id": "enpl_D9xVrRj",
        "colab": {
          "base_uri": "https://localhost:8080/",
          "height": 335
        },
        "outputId": "73d4dfab-3d06-4675-a2e7-d88d3016ae6c"
      },
      "source": [
        "round(covid_guarulhos['casos_novos'].describe(),1)"
      ],
      "execution_count": 29,
      "outputs": [
        {
          "output_type": "execute_result",
          "data": {
            "text/plain": [
              "count    579.0\n",
              "mean     109.5\n",
              "std      100.3\n",
              "min        0.0\n",
              "25%       27.5\n",
              "50%       87.0\n",
              "75%      161.0\n",
              "max      698.0\n",
              "Name: casos_novos, dtype: float64"
            ],
            "text/html": [
              "<div>\n",
              "<style scoped>\n",
              "    .dataframe tbody tr th:only-of-type {\n",
              "        vertical-align: middle;\n",
              "    }\n",
              "\n",
              "    .dataframe tbody tr th {\n",
              "        vertical-align: top;\n",
              "    }\n",
              "\n",
              "    .dataframe thead th {\n",
              "        text-align: right;\n",
              "    }\n",
              "</style>\n",
              "<table border=\"1\" class=\"dataframe\">\n",
              "  <thead>\n",
              "    <tr style=\"text-align: right;\">\n",
              "      <th></th>\n",
              "      <th>casos_novos</th>\n",
              "    </tr>\n",
              "  </thead>\n",
              "  <tbody>\n",
              "    <tr>\n",
              "      <th>count</th>\n",
              "      <td>579.0</td>\n",
              "    </tr>\n",
              "    <tr>\n",
              "      <th>mean</th>\n",
              "      <td>109.5</td>\n",
              "    </tr>\n",
              "    <tr>\n",
              "      <th>std</th>\n",
              "      <td>100.3</td>\n",
              "    </tr>\n",
              "    <tr>\n",
              "      <th>min</th>\n",
              "      <td>0.0</td>\n",
              "    </tr>\n",
              "    <tr>\n",
              "      <th>25%</th>\n",
              "      <td>27.5</td>\n",
              "    </tr>\n",
              "    <tr>\n",
              "      <th>50%</th>\n",
              "      <td>87.0</td>\n",
              "    </tr>\n",
              "    <tr>\n",
              "      <th>75%</th>\n",
              "      <td>161.0</td>\n",
              "    </tr>\n",
              "    <tr>\n",
              "      <th>max</th>\n",
              "      <td>698.0</td>\n",
              "    </tr>\n",
              "  </tbody>\n",
              "</table>\n",
              "</div><br><label><b>dtype:</b> float64</label>"
            ]
          },
          "metadata": {},
          "execution_count": 29
        }
      ]
    },
    {
      "cell_type": "markdown",
      "metadata": {
        "id": "zxA4EdGUWRG3"
      },
      "source": [
        "### Distribuição de Frequências: Histograma"
      ]
    },
    {
      "cell_type": "code",
      "metadata": {
        "id": "sdlQVTTya1r3"
      },
      "source": [
        "covid_campinas2021 = covid_campinas.loc[covid_campinas.data > '2020-12-31']\n",
        "covid_campinas2021"
      ],
      "execution_count": null,
      "outputs": []
    },
    {
      "cell_type": "code",
      "metadata": {
        "id": "hY2lywxEfFCs"
      },
      "source": [
        "covid_campinas2021.shape"
      ],
      "execution_count": null,
      "outputs": []
    },
    {
      "cell_type": "code",
      "metadata": {
        "id": "HQ_gnoBnNc_L"
      },
      "source": [
        "covid_campinas2021.obitos_novos.mode()"
      ],
      "execution_count": null,
      "outputs": []
    },
    {
      "cell_type": "code",
      "metadata": {
        "id": "UqCJm8-JNoQx"
      },
      "source": [
        "covid_campinas2021.obitos_novos.median()"
      ],
      "execution_count": null,
      "outputs": []
    },
    {
      "cell_type": "code",
      "metadata": {
        "id": "4A7-kpDtbwu-"
      },
      "source": [
        "covid_campinas2021.obitos_novos.mean()"
      ],
      "execution_count": null,
      "outputs": []
    },
    {
      "cell_type": "code",
      "metadata": {
        "id": "lDLCKa3ZSq1b"
      },
      "source": [
        "import plotly.express as px"
      ],
      "execution_count": null,
      "outputs": []
    },
    {
      "cell_type": "code",
      "metadata": {
        "id": "JxIib1HfSJxN"
      },
      "source": [
        "grafico =  px.histogram (covid_campinas2021,  x = \"obitos_novos\", nbins=30)\n",
        "grafico.update_layout(width=300,height=300,title_text='Óbitos Novos de Campinas em 2021')\n",
        "grafico.show()"
      ],
      "execution_count": null,
      "outputs": []
    },
    {
      "cell_type": "code",
      "metadata": {
        "id": "Dyqlxi54Xq_b"
      },
      "source": [
        "grafico =  px.histogram (covid_campinas2021,  x = \"casos_novos\", nbins=30)\n",
        "grafico.update_layout(width=400,height=400,title_text='Casos Novos em Campinas em 2021')\n",
        "grafico.show()"
      ],
      "execution_count": null,
      "outputs": []
    },
    {
      "cell_type": "code",
      "metadata": {
        "id": "q69tdl_aX90J"
      },
      "source": [
        "grafico =  px.histogram (covid_campinas,  x = \"casos_novos\", nbins=30)\n",
        "grafico.update_layout(width=400,height=400,title_text='Casos Novos em Campinas')\n",
        "grafico.show()"
      ],
      "execution_count": null,
      "outputs": []
    },
    {
      "cell_type": "code",
      "metadata": {
        "id": "Ckch97TlYFH_"
      },
      "source": [
        "grafico =  px.histogram (covid_guarulhos,  x = \"casos_novos\", nbins=30)\n",
        "grafico.update_layout(width=400,height=400,title_text='Casos Novos em Guarulhos em 2021')\n",
        "grafico.show()"
      ],
      "execution_count": null,
      "outputs": []
    },
    {
      "cell_type": "markdown",
      "metadata": {
        "id": "YeJLPvqqzVyi"
      },
      "source": [
        "## Medidas de Posição"
      ]
    },
    {
      "cell_type": "code",
      "metadata": {
        "id": "AYmsAgKt1CTO"
      },
      "source": [
        "# Mínimo\n",
        "covid_campinas['obitos_novos'].min()"
      ],
      "execution_count": null,
      "outputs": []
    },
    {
      "cell_type": "code",
      "metadata": {
        "id": "-wULQGUC1Hc9"
      },
      "source": [
        "covid_campinas.casos_novos.min()"
      ],
      "execution_count": null,
      "outputs": []
    },
    {
      "cell_type": "code",
      "metadata": {
        "id": "yRoz7NO41Nmf"
      },
      "source": [
        "# Máximo\n",
        "covid_guarulhos['obitos_novos'].max()"
      ],
      "execution_count": null,
      "outputs": []
    },
    {
      "cell_type": "code",
      "metadata": {
        "id": "uJTvugaIgBf7"
      },
      "source": [
        "covid_campinas.obitos_novos.max()"
      ],
      "execution_count": null,
      "outputs": []
    },
    {
      "cell_type": "code",
      "metadata": {
        "id": "QV96-y4HgHvX"
      },
      "source": [
        "covid_campinas['casos_novos'].max()"
      ],
      "execution_count": null,
      "outputs": []
    },
    {
      "cell_type": "code",
      "metadata": {
        "id": "AOb2Sm8DgQNx"
      },
      "source": [
        "covid_guarulhos['casos_novos'].max()"
      ],
      "execution_count": null,
      "outputs": []
    },
    {
      "cell_type": "code",
      "metadata": {
        "id": "Piy39Kgszaxr"
      },
      "source": [
        "# Primeiro Quartil\n",
        "covid_campinas['casos_novos'].quantile(q=0.25)"
      ],
      "execution_count": null,
      "outputs": []
    },
    {
      "cell_type": "code",
      "metadata": {
        "id": "uxLfONSm0z1i"
      },
      "source": [
        "# Segundo Quartil (Mediana)\n",
        "covid_campinas['casos_novos'].quantile(q=0.5)"
      ],
      "execution_count": null,
      "outputs": []
    },
    {
      "cell_type": "code",
      "metadata": {
        "id": "YSMI_ZLK08Y2"
      },
      "source": [
        "# Terceiro Quartil\n",
        "covid_campinas['casos_novos'].quantile(q=0.75)"
      ],
      "execution_count": null,
      "outputs": []
    },
    {
      "cell_type": "code",
      "metadata": {
        "id": "sDoADqWE_ejo"
      },
      "source": [
        "covid_campinas['casos_novos'].quantile(q=0.93)"
      ],
      "execution_count": null,
      "outputs": []
    },
    {
      "cell_type": "code",
      "metadata": {
        "id": "VTbWkdlK1ddF"
      },
      "source": [
        "covid_campinas['casos_novos'].describe()"
      ],
      "execution_count": null,
      "outputs": []
    },
    {
      "cell_type": "code",
      "metadata": {
        "id": "YRaniQpX1x_U"
      },
      "source": [
        "covid_guarulhos['casos_novos'].describe()"
      ],
      "execution_count": null,
      "outputs": []
    },
    {
      "cell_type": "code",
      "metadata": {
        "id": "7OEojyS5iBx0"
      },
      "source": [
        "covid_guarulhos.obitos_novos.describe()"
      ],
      "execution_count": null,
      "outputs": []
    },
    {
      "cell_type": "code",
      "metadata": {
        "id": "gskwIXWliIPB"
      },
      "source": [
        "covid_campinas.obitos_novos.describe()"
      ],
      "execution_count": null,
      "outputs": []
    },
    {
      "cell_type": "markdown",
      "metadata": {
        "id": "_NjvPort3i5m"
      },
      "source": [
        "## Gráfico BoxPlot e Outliers"
      ]
    },
    {
      "cell_type": "code",
      "metadata": {
        "id": "2J5koL5x_Brw"
      },
      "source": [
        "import plotly.express as px"
      ],
      "execution_count": null,
      "outputs": []
    },
    {
      "cell_type": "markdown",
      "metadata": {
        "id": "S-j4QmHPlVq3"
      },
      "source": [
        "Campinas"
      ]
    },
    {
      "cell_type": "code",
      "metadata": {
        "id": "Inq9Ob7I7rSd"
      },
      "source": [
        "grafico = px.box(covid_campinas, y='casos_novos')\n",
        "grafico.show()"
      ],
      "execution_count": null,
      "outputs": []
    },
    {
      "cell_type": "code",
      "metadata": {
        "id": "eLden4cejbrA"
      },
      "source": [
        "outlier_sup = covid_campinas.casos_novos.quantile(q=0.75) + 1.5 * (covid_campinas.casos_novos.quantile(q=0.75) - covid_campinas.casos_novos.quantile(q=0.25))\n",
        "outlier_sup"
      ],
      "execution_count": null,
      "outputs": []
    },
    {
      "cell_type": "code",
      "metadata": {
        "id": "YoqgbaWekU5G"
      },
      "source": [
        "outlier_inf = covid_campinas.casos_novos.quantile(q=0.25) - 1.5 * (covid_campinas.casos_novos.quantile(q=0.75) - covid_campinas.casos_novos.quantile(q=0.25))\n",
        "outlier_inf"
      ],
      "execution_count": null,
      "outputs": []
    },
    {
      "cell_type": "code",
      "metadata": {
        "id": "RiAg15Kn-Pm5"
      },
      "source": [
        "sem_outliers = covid_campinas.loc[covid_campinas.casos_novos <= outlier_sup ]"
      ],
      "execution_count": null,
      "outputs": []
    },
    {
      "cell_type": "code",
      "metadata": {
        "id": "W9MYmRDxFJeH"
      },
      "source": [
        "sem_outliers.head()"
      ],
      "execution_count": null,
      "outputs": []
    },
    {
      "cell_type": "code",
      "metadata": {
        "id": "bTcKBu46FA-7"
      },
      "source": [
        "grafico = px.box(sem_outliers, y=\"casos_novos\")\n",
        "grafico.show()"
      ],
      "execution_count": null,
      "outputs": []
    },
    {
      "cell_type": "markdown",
      "metadata": {
        "id": "6mNGwMXildWE"
      },
      "source": [
        "Guarulhos"
      ]
    },
    {
      "cell_type": "code",
      "metadata": {
        "id": "s9XHGUCqldWF"
      },
      "source": [
        "grafico = px.box(covid_guarulhos, y='casos_novos')\n",
        "grafico.show()"
      ],
      "execution_count": null,
      "outputs": []
    },
    {
      "cell_type": "code",
      "metadata": {
        "id": "Ip7ltcFpldWG"
      },
      "source": [
        "outlier_sup2 = covid_guarulhos.casos_novos.quantile(q=0.75) + 1.5 * (covid_guarulhos.casos_novos.quantile(q=0.75) - covid_guarulhos.casos_novos.quantile(q=0.25))\n",
        "outlier_sup2"
      ],
      "execution_count": null,
      "outputs": []
    },
    {
      "cell_type": "code",
      "metadata": {
        "id": "kfqm8VUEldWH"
      },
      "source": [
        "outlier_inf2 = covid_guarulhos.casos_novos.quantile(q=0.25) - 1.5 * (covid_guarulhos.casos_novos.quantile(q=0.75) - covid_guarulhos.casos_novos.quantile(q=0.25))\n",
        "outlier_inf2"
      ],
      "execution_count": null,
      "outputs": []
    },
    {
      "cell_type": "code",
      "metadata": {
        "id": "cK_e1tO0ldWH"
      },
      "source": [
        "sem_outliers2 = covid_guarulhos.loc[covid_guarulhos.casos_novos <= outlier_sup2]"
      ],
      "execution_count": null,
      "outputs": []
    },
    {
      "cell_type": "code",
      "metadata": {
        "id": "Oh8F4so5ldWI"
      },
      "source": [
        "sem_outliers2.head()"
      ],
      "execution_count": null,
      "outputs": []
    },
    {
      "cell_type": "code",
      "metadata": {
        "id": "pVi1fXasldWJ"
      },
      "source": [
        "grafico = px.box(sem_outliers2, y=\"casos_novos\")\n",
        "grafico.show()"
      ],
      "execution_count": null,
      "outputs": []
    },
    {
      "cell_type": "markdown",
      "metadata": {
        "id": "aFV-LyAAxBGZ"
      },
      "source": [
        "## Medidas de dispersão"
      ]
    },
    {
      "cell_type": "code",
      "metadata": {
        "id": "TFMYuhtJw8K5"
      },
      "source": [
        "# Variância óbitos novos\n",
        "covid_guarulhos['obitos_novos'].var()"
      ],
      "execution_count": null,
      "outputs": []
    },
    {
      "cell_type": "code",
      "metadata": {
        "id": "JGQl3ft3nBhZ"
      },
      "source": [
        "covid_campinas['obitos_novos'].var()"
      ],
      "execution_count": null,
      "outputs": []
    },
    {
      "cell_type": "code",
      "metadata": {
        "id": "O9IWMP4ow4Nb"
      },
      "source": [
        "# Variância casos novos\n",
        "covid_guarulhos.casos_novos.var()"
      ],
      "execution_count": null,
      "outputs": []
    },
    {
      "cell_type": "code",
      "metadata": {
        "id": "Gqc0CAU1ng-w"
      },
      "source": [
        "covid_campinas.casos_novos.var()"
      ],
      "execution_count": null,
      "outputs": []
    },
    {
      "cell_type": "code",
      "metadata": {
        "id": "rZ91OWKxxjxo"
      },
      "source": [
        "# Desvio padrão Óbitos Novos\n",
        "covid_campinas.obitos_novos.std()"
      ],
      "execution_count": null,
      "outputs": []
    },
    {
      "cell_type": "code",
      "metadata": {
        "id": "oFCpwkazoLcA"
      },
      "source": [
        "covid_guarulhos.obitos_novos.std()"
      ],
      "execution_count": null,
      "outputs": []
    },
    {
      "cell_type": "code",
      "metadata": {
        "id": "iL0W2qw3oSRF"
      },
      "source": [
        "# Desvio padrão Casos Novos\n",
        "covid_campinas.casos_novos.std()"
      ],
      "execution_count": null,
      "outputs": []
    },
    {
      "cell_type": "code",
      "metadata": {
        "id": "BD-qsoYPoa5r"
      },
      "source": [
        "covid_guarulhos.casos_novos.std()"
      ],
      "execution_count": null,
      "outputs": []
    },
    {
      "cell_type": "code",
      "metadata": {
        "id": "yBOGVoGjysQV"
      },
      "source": [
        "covid_campinas.casos_novos.describe()"
      ],
      "execution_count": null,
      "outputs": []
    },
    {
      "cell_type": "code",
      "metadata": {
        "id": "eAbvADJ8phGL"
      },
      "source": [
        "covid_guarulhos.casos_novos.describe()"
      ],
      "execution_count": null,
      "outputs": []
    },
    {
      "cell_type": "markdown",
      "metadata": {
        "id": "iOV55cI6ka8O"
      },
      "source": [
        "## **Testes de Normalidade**"
      ]
    },
    {
      "cell_type": "markdown",
      "metadata": {
        "id": "vrj3COAJY9ZO"
      },
      "source": [
        "TESTES DE NORMALIDADE\n",
        "\n",
        "Existem testes de normalidade numéricos e testes gráficos:\n",
        "\n",
        "Shapiro-Wilk (limite de 5000 amostras)\n",
        "\n",
        "Kolmogorov_Smirnov\n",
        "\n",
        "Histograma\n",
        "\n",
        "QQplot"
      ]
    },
    {
      "cell_type": "markdown",
      "metadata": {
        "id": "hCEH_ADLRJqj"
      },
      "source": [
        "### Histograma"
      ]
    },
    {
      "cell_type": "code",
      "metadata": {
        "id": "5a3ItqTsO4J7"
      },
      "source": [
        "import seaborn as sns\n",
        "sns.histplot(covid_campinas, x='casos_novos', bins=20, color=\"orange\", kde=True, stat=\"probability\",);"
      ],
      "execution_count": null,
      "outputs": []
    },
    {
      "cell_type": "markdown",
      "metadata": {
        "id": "Xpys4G_fRSGR"
      },
      "source": [
        "### QQPLOT"
      ]
    },
    {
      "cell_type": "code",
      "metadata": {
        "id": "0zjKK_BXSZ4p"
      },
      "source": [
        "import scipy.stats as stats\n",
        "import matplotlib.pyplot as plt"
      ],
      "execution_count": null,
      "outputs": []
    },
    {
      "cell_type": "code",
      "metadata": {
        "id": "zsLfWxg5SOog"
      },
      "source": [
        "stats.probplot(covid_campinas['casos_novos'], dist=\"norm\", plot=plt)\n",
        "plt.title(\"Análise Normalidade\")\n",
        "plt.show()"
      ],
      "execution_count": null,
      "outputs": []
    },
    {
      "cell_type": "markdown",
      "metadata": {
        "id": "I2h2xWFLXxVU"
      },
      "source": [
        "### Teste de Shapiro-Wilk"
      ]
    },
    {
      "cell_type": "markdown",
      "metadata": {
        "id": "KK24t-uqaPEh"
      },
      "source": [
        "CRITÉRIOS:\n",
        "\n",
        "NÍVEL DE SIGNIFICÂNCIA DE 0,05 ou 5% (MAIS UTILIZADO)\n",
        "\n",
        "QUANDO p > 0,05 (distribuição normal)."
      ]
    },
    {
      "cell_type": "code",
      "metadata": {
        "id": "Yq7QMa7Mok5-"
      },
      "source": [
        "stats.shapiro(covid_campinas.casos_novos)"
      ],
      "execution_count": null,
      "outputs": []
    },
    {
      "cell_type": "code",
      "metadata": {
        "id": "h0N1EoXdXIsQ"
      },
      "source": [
        "estatistica, p = stats.shapiro(covid_campinas.casos_novos)"
      ],
      "execution_count": null,
      "outputs": []
    },
    {
      "cell_type": "code",
      "metadata": {
        "id": "OaojzScLnx4C"
      },
      "source": [
        "print ('Estatística do teste (W) =', round(estatistica,2))"
      ],
      "execution_count": null,
      "outputs": []
    },
    {
      "cell_type": "code",
      "metadata": {
        "id": "8_U0_W52oEnR"
      },
      "source": [
        "print ('p_valor =', p)"
      ],
      "execution_count": null,
      "outputs": []
    },
    {
      "cell_type": "markdown",
      "metadata": {
        "id": "ITrlW4AEXbh3"
      },
      "source": [
        "O teste de Shapiro_Wilk não se aplica a dados maiores que 5000."
      ]
    },
    {
      "cell_type": "markdown",
      "metadata": {
        "id": "JSj2XEaIX6YP"
      },
      "source": [
        "### Teste Lilliefors (Kolmogorov-Smirnov)"
      ]
    },
    {
      "cell_type": "code",
      "metadata": {
        "id": "z4p3sByIrI4a"
      },
      "source": [
        "import statsmodels\n",
        "from statsmodels.stats.diagnostic import lilliefors"
      ],
      "execution_count": null,
      "outputs": []
    },
    {
      "cell_type": "code",
      "metadata": {
        "id": "bdVDySehjyL4"
      },
      "source": [
        "estatistica, p = statsmodels.stats.diagnostic.lilliefors(covid_campinas.casos_novos, dist = 'norm',)\n",
        "print ('Estatística do teste (D) =', round(estatistica,2))\n",
        "print ('p_valor =', p)"
      ],
      "execution_count": null,
      "outputs": []
    },
    {
      "cell_type": "markdown",
      "metadata": {
        "id": "ctI2aXyN6iLE"
      },
      "source": [
        "## **Correlação Linear**"
      ]
    },
    {
      "cell_type": "markdown",
      "metadata": {
        "id": "A54SI8VB9jKe"
      },
      "source": [
        "### Gráfico Dispersão"
      ]
    },
    {
      "cell_type": "code",
      "metadata": {
        "id": "RNvz63RB_xYn"
      },
      "source": [
        "import matplotlib.pyplot as plt"
      ],
      "execution_count": null,
      "outputs": []
    },
    {
      "cell_type": "code",
      "metadata": {
        "id": "L3hM-ETM-Eio"
      },
      "source": [
        "plt.scatter(covid_campinas.casos,covid_campinas.obitos)\n",
        "plt.title('Correlação Linear')\n",
        "plt.xlabel('Casos')\n",
        "plt.ylabel('Óbitos')\n",
        "plt.grid(False)\n",
        "plt.show()"
      ],
      "execution_count": null,
      "outputs": []
    },
    {
      "cell_type": "code",
      "metadata": {
        "id": "N8MJIiVJsR9U"
      },
      "source": [
        "df = covid_campinas[['casos','casos_novos','obitos','obitos_novos']]\n",
        "df"
      ],
      "execution_count": null,
      "outputs": []
    },
    {
      "cell_type": "markdown",
      "metadata": {
        "id": "v6KtMuJluq-M"
      },
      "source": [
        "Determinação da correlação:\n",
        "\n",
        "method:\n",
        "\n",
        "\"pearson\" para dados paramétricos(normalidade e homocedasticidade).\n",
        "\n",
        "\"spearman\" (volume \"grande\" de dados não paramétricos: maior ou igual a 30).\n",
        "\n",
        "\"kendall\" (volume \"pequeno\" de dados não paramétricos: menor que 30)."
      ]
    },
    {
      "cell_type": "markdown",
      "metadata": {
        "id": "M8K4gCj9iFCO"
      },
      "source": [
        "Normalidade"
      ]
    },
    {
      "cell_type": "code",
      "metadata": {
        "id": "FhaU3ZVyhqCO"
      },
      "source": [
        "stats.probplot(covid_campinas['obitos'], dist=\"norm\", plot=plt)\n",
        "plt.title(\"Análise Normalidade\")\n",
        "plt.show()"
      ],
      "execution_count": null,
      "outputs": []
    },
    {
      "cell_type": "code",
      "metadata": {
        "id": "SuSHb8slh1Aw"
      },
      "source": [
        "estatistica, p = stats.shapiro(covid_campinas.obitos)"
      ],
      "execution_count": null,
      "outputs": []
    },
    {
      "cell_type": "code",
      "metadata": {
        "id": "3IgZelQ6h4NI"
      },
      "source": [
        "print(p)"
      ],
      "execution_count": null,
      "outputs": []
    },
    {
      "cell_type": "markdown",
      "metadata": {
        "id": "v5Z0Zu_ciiCI"
      },
      "source": [
        "Correlação Linear"
      ]
    },
    {
      "cell_type": "code",
      "metadata": {
        "id": "WVbHwvccEYn1"
      },
      "source": [
        "correlacoes = df.corr(method='spearman')\n",
        "correlacoes"
      ],
      "execution_count": null,
      "outputs": []
    },
    {
      "cell_type": "code",
      "metadata": {
        "id": "soU0HS4k4ZB-"
      },
      "source": [
        "import seaborn as sns"
      ],
      "execution_count": null,
      "outputs": []
    },
    {
      "cell_type": "code",
      "metadata": {
        "id": "Sh9d7IjRFBri"
      },
      "source": [
        "plt.figure()\n",
        "sns.heatmap(correlacoes, annot=False);"
      ],
      "execution_count": null,
      "outputs": []
    },
    {
      "cell_type": "code",
      "metadata": {
        "id": "4T41VNLJ9tOo"
      },
      "source": [
        "sns.pairplot(df);"
      ],
      "execution_count": null,
      "outputs": []
    },
    {
      "cell_type": "markdown",
      "metadata": {
        "id": "cmeit_na_AzG"
      },
      "source": [
        "## Introdução à Regressão Linear Simples com Statsmodels"
      ]
    },
    {
      "cell_type": "code",
      "metadata": {
        "id": "zFuMSGRTG0Nd"
      },
      "source": [
        "import statsmodels.formula.api as smf\n",
        "import statsmodels.stats.api as sms"
      ],
      "execution_count": null,
      "outputs": []
    },
    {
      "cell_type": "code",
      "metadata": {
        "id": "MeznMmquUZk9"
      },
      "source": [
        "regressao = smf.ols('obitos ~ casos', data = covid_campinas).fit()\n",
        "print(regressao.summary())"
      ],
      "execution_count": null,
      "outputs": []
    },
    {
      "cell_type": "code",
      "metadata": {
        "id": "yJxpCoC6OBiY"
      },
      "source": [
        "coefs = pd.DataFrame(regressao.params)\n",
        "coefs.columns = ['Coeficientes']\n",
        "print(coefs)"
      ],
      "execution_count": null,
      "outputs": []
    },
    {
      "cell_type": "markdown",
      "metadata": {
        "id": "bQSTIM11IvSy"
      },
      "source": [
        "Equação:\n",
        "\n",
        "obitos = -62,2 + 0,039.casos"
      ]
    },
    {
      "cell_type": "code",
      "metadata": {
        "id": "vRVS8mJYLN46"
      },
      "source": [
        "import matplotlib.pyplot as plt\n"
      ],
      "execution_count": null,
      "outputs": []
    },
    {
      "cell_type": "code",
      "metadata": {
        "id": "Jj_wMPXyR9g8"
      },
      "source": [
        "plt.scatter(y=covid_campinas.obitos, x=covid_campinas.casos, color='blue', s=2, alpha=0.9)\n",
        "X_plot = np.linspace(min(covid_campinas.casos), max(covid_campinas.casos), len(covid_campinas.obitos))\n",
        "plt.plot(X_plot, regressao.params[0] + X_plot*regressao.params[1], color='r')\n",
        "plt.title('Reta de regressão')\n",
        "plt.ylabel('Óbitos')\n",
        "plt.xlabel('Casos')\n",
        "plt.show()"
      ],
      "execution_count": null,
      "outputs": []
    }
  ]
}