{
  "nbformat": 4,
  "nbformat_minor": 0,
  "metadata": {
    "colab": {
      "provenance": [],
      "include_colab_link": true
    },
    "kernelspec": {
      "name": "python3",
      "display_name": "Python 3"
    },
    "language_info": {
      "name": "python"
    }
  },
  "cells": [
    {
      "cell_type": "markdown",
      "metadata": {
        "id": "view-in-github",
        "colab_type": "text"
      },
      "source": [
        "<a href=\"https://colab.research.google.com/github/GuilhermeFogolin/Python-Dados-Machine-Learning/blob/main/Tratamento_Projeto02.ipynb\" target=\"_parent\"><img src=\"https://colab.research.google.com/assets/colab-badge.svg\" alt=\"Open In Colab\"/></a>"
      ]
    },
    {
      "cell_type": "markdown",
      "metadata": {
        "id": "fQJ5CYV9Te0X"
      },
      "source": [
        "# **Projeto: Análise dos dados sobre a Síndrome Respiratória Aguda Grave (SRAG)**"
      ]
    },
    {
      "cell_type": "markdown",
      "metadata": {
        "id": "kXFCCsVHTtTP"
      },
      "source": [
        "Este projeto analisa os dados referentes aos casos de síndrome respiratória aguda no estado de São Paulo do período de dezembro de 2019 à julho de 2020."
      ]
    },
    {
      "cell_type": "markdown",
      "metadata": {
        "id": "5ZQ2nYhQUc3G"
      },
      "source": [
        "Os dados estão disponíveis nos sites:\n",
        "\n",
        "https://www.seade.gov.br/coronavirus/#\n",
        "\n",
        "https://github.com/seade-R/dados-covid-sp\n",
        "\n",
        "https://www.seade.gov.br/\n"
      ]
    },
    {
      "cell_type": "code",
      "source": [
        "from google.colab import drive\n",
        "drive.mount('/content/drive')"
      ],
      "metadata": {
        "colab": {
          "base_uri": "https://localhost:8080/"
        },
        "id": "sHyAnG8pPRRm",
        "outputId": "675d21f3-8a71-48a7-f4f9-60a749edbd0f"
      },
      "execution_count": 1,
      "outputs": [
        {
          "output_type": "stream",
          "name": "stdout",
          "text": [
            "Mounted at /content/drive\n"
          ]
        }
      ]
    },
    {
      "cell_type": "markdown",
      "metadata": {
        "id": "9_XcXErv4VIU"
      },
      "source": [
        "## **Importação dos Dados**"
      ]
    },
    {
      "cell_type": "code",
      "metadata": {
        "id": "nWvIcticlCs2"
      },
      "source": [
        "import numpy as np\n",
        "import pandas as pd"
      ],
      "execution_count": null,
      "outputs": []
    },
    {
      "cell_type": "code",
      "metadata": {
        "id": "LRIrwcC8kUhT"
      },
      "source": [
        "srag_sp = pd.read_csv('/content/drive/MyDrive/Python_Dados_Machine_Learning/SRAG_2020.csv',\n",
        "                    sep=';', encoding='utf-8')"
      ],
      "execution_count": null,
      "outputs": []
    },
    {
      "cell_type": "code",
      "metadata": {
        "id": "GkFTnV4UmHNw"
      },
      "source": [
        "srag_sp.head()"
      ],
      "execution_count": null,
      "outputs": []
    },
    {
      "cell_type": "code",
      "metadata": {
        "colab": {
          "base_uri": "https://localhost:8080/"
        },
        "id": "fCBkTzh_3uOA",
        "outputId": "492a77f6-a394-4f24-816c-30f446df0816"
      },
      "source": [
        "srag_sp.shape"
      ],
      "execution_count": null,
      "outputs": [
        {
          "output_type": "execute_result",
          "data": {
            "text/plain": [
              "(106651, 133)"
            ]
          },
          "metadata": {},
          "execution_count": 4
        }
      ]
    },
    {
      "cell_type": "markdown",
      "metadata": {
        "id": "3VQpouT086lo"
      },
      "source": [
        "## **Tratamento dos Dados**"
      ]
    },
    {
      "cell_type": "code",
      "metadata": {
        "colab": {
          "base_uri": "https://localhost:8080/"
        },
        "id": "nMrUSbomsgLc",
        "outputId": "44ce1615-3b86-43a7-9a16-3782243404cc"
      },
      "source": [
        "srag_sp.head(2)"
      ],
      "execution_count": null,
      "outputs": [
        {
          "output_type": "execute_result",
          "data": {
            "text/html": [
              "<div>\n",
              "<style scoped>\n",
              "    .dataframe tbody tr th:only-of-type {\n",
              "        vertical-align: middle;\n",
              "    }\n",
              "\n",
              "    .dataframe tbody tr th {\n",
              "        vertical-align: top;\n",
              "    }\n",
              "\n",
              "    .dataframe thead th {\n",
              "        text-align: right;\n",
              "    }\n",
              "</style>\n",
              "<table border=\"1\" class=\"dataframe\">\n",
              "  <thead>\n",
              "    <tr style=\"text-align: right;\">\n",
              "      <th></th>\n",
              "      <th>DT_NOTIFIC</th>\n",
              "      <th>CS_SEXO</th>\n",
              "      <th>NU_IDADE_N</th>\n",
              "      <th>TP_IDADE</th>\n",
              "      <th>COD_IDADE</th>\n",
              "      <th>ID_PAIS</th>\n",
              "      <th>CO_PAIS</th>\n",
              "      <th>SG_UF</th>\n",
              "      <th>ID_RG_RESI</th>\n",
              "      <th>CO_RG_RESI</th>\n",
              "      <th>ID_MN_RESI</th>\n",
              "      <th>CO_MUN_RES</th>\n",
              "      <th>CS_ZONA</th>\n",
              "      <th>CS_GESTANT</th>\n",
              "      <th>CS_RACA</th>\n",
              "      <th>CS_ETINIA</th>\n",
              "      <th>CS_ESCOL_N</th>\n",
              "      <th>SURTO_SG</th>\n",
              "      <th>NOSOCOMIAL</th>\n",
              "      <th>AVE_SUINO</th>\n",
              "      <th>FEBRE</th>\n",
              "      <th>TOSSE</th>\n",
              "      <th>GARGANTA</th>\n",
              "      <th>DISPNEIA</th>\n",
              "      <th>DESC_RESP</th>\n",
              "      <th>SATURACAO</th>\n",
              "      <th>DIARREIA</th>\n",
              "      <th>VOMITO</th>\n",
              "      <th>OUTRO_SIN</th>\n",
              "      <th>OUTRO_DES</th>\n",
              "      <th>PUERPERA</th>\n",
              "      <th>CARDIOPATI</th>\n",
              "      <th>HEMATOLOGI</th>\n",
              "      <th>SIND_DOWN</th>\n",
              "      <th>HEPATICA</th>\n",
              "      <th>ASMA</th>\n",
              "      <th>DIABETES</th>\n",
              "      <th>NEUROLOGIC</th>\n",
              "      <th>PNEUMOPATI</th>\n",
              "      <th>IMUNODEPRE</th>\n",
              "      <th>...</th>\n",
              "      <th>PCR_FLUBLI</th>\n",
              "      <th>FLUBLI_OUT</th>\n",
              "      <th>POS_PCROUT</th>\n",
              "      <th>PCR_VSR</th>\n",
              "      <th>PCR_PARA1</th>\n",
              "      <th>PCR_PARA2</th>\n",
              "      <th>PCR_PARA3</th>\n",
              "      <th>PCR_PARA4</th>\n",
              "      <th>PCR_ADENO</th>\n",
              "      <th>PCR_METAP</th>\n",
              "      <th>PCR_BOCA</th>\n",
              "      <th>PCR_RINO</th>\n",
              "      <th>PCR_OUTRO</th>\n",
              "      <th>DS_PCR_OUT</th>\n",
              "      <th>CLASSI_FIN</th>\n",
              "      <th>CLASSI_OUT</th>\n",
              "      <th>CRITERIO</th>\n",
              "      <th>EVOLUCAO</th>\n",
              "      <th>DT_EVOLUCA</th>\n",
              "      <th>DT_ENCERRA</th>\n",
              "      <th>DT_DIGITA</th>\n",
              "      <th>HISTO_VGM</th>\n",
              "      <th>PAIS_VGM</th>\n",
              "      <th>CO_PS_VGM</th>\n",
              "      <th>LO_PS_VGM</th>\n",
              "      <th>DT_VGM</th>\n",
              "      <th>DT_RT_VGM</th>\n",
              "      <th>PCR_SARS2</th>\n",
              "      <th>PAC_COCBO</th>\n",
              "      <th>PAC_DSCBO</th>\n",
              "      <th>SEM_NOT</th>\n",
              "      <th>DT_SIN_PRI</th>\n",
              "      <th>SEM_PRI</th>\n",
              "      <th>SG_UF_NOT</th>\n",
              "      <th>ID_REGIONA</th>\n",
              "      <th>CO_REGIONA</th>\n",
              "      <th>ID_MUNICIP</th>\n",
              "      <th>CO_MUN_NOT</th>\n",
              "      <th>ID_UNIDADE</th>\n",
              "      <th>CO_UNI_NOT</th>\n",
              "    </tr>\n",
              "  </thead>\n",
              "  <tbody>\n",
              "    <tr>\n",
              "      <th>0</th>\n",
              "      <td>12/30/2019</td>\n",
              "      <td>F</td>\n",
              "      <td>52</td>\n",
              "      <td>3</td>\n",
              "      <td>3052</td>\n",
              "      <td>BRASIL</td>\n",
              "      <td>1</td>\n",
              "      <td>SP</td>\n",
              "      <td>GVE XXIX SAO JOSE DO RIO PRETO</td>\n",
              "      <td>1354.0</td>\n",
              "      <td>CATANDUVA</td>\n",
              "      <td>351110.0</td>\n",
              "      <td>1.0</td>\n",
              "      <td>9</td>\n",
              "      <td>NaN</td>\n",
              "      <td>NaN</td>\n",
              "      <td>NaN</td>\n",
              "      <td>2.0</td>\n",
              "      <td>NaN</td>\n",
              "      <td>2.0</td>\n",
              "      <td>1.0</td>\n",
              "      <td>1.0</td>\n",
              "      <td>2.0</td>\n",
              "      <td>1.0</td>\n",
              "      <td>1.0</td>\n",
              "      <td>2.0</td>\n",
              "      <td>2.0</td>\n",
              "      <td>1.0</td>\n",
              "      <td>2.0</td>\n",
              "      <td>NaN</td>\n",
              "      <td>2.0</td>\n",
              "      <td>1.0</td>\n",
              "      <td>2.0</td>\n",
              "      <td>2.0</td>\n",
              "      <td>2.0</td>\n",
              "      <td>2.0</td>\n",
              "      <td>1.0</td>\n",
              "      <td>2.0</td>\n",
              "      <td>2.0</td>\n",
              "      <td>2.0</td>\n",
              "      <td>...</td>\n",
              "      <td>NaN</td>\n",
              "      <td>NaN</td>\n",
              "      <td>NaN</td>\n",
              "      <td>NaN</td>\n",
              "      <td>NaN</td>\n",
              "      <td>NaN</td>\n",
              "      <td>NaN</td>\n",
              "      <td>NaN</td>\n",
              "      <td>NaN</td>\n",
              "      <td>NaN</td>\n",
              "      <td>NaN</td>\n",
              "      <td>NaN</td>\n",
              "      <td>NaN</td>\n",
              "      <td>NaN</td>\n",
              "      <td>4.0</td>\n",
              "      <td>NaN</td>\n",
              "      <td>1.0</td>\n",
              "      <td>1.0</td>\n",
              "      <td>1/4/2020</td>\n",
              "      <td>1/20/2020</td>\n",
              "      <td>12/31/2019</td>\n",
              "      <td>0</td>\n",
              "      <td>NaN</td>\n",
              "      <td>NaN</td>\n",
              "      <td>NaN</td>\n",
              "      <td>None</td>\n",
              "      <td>None</td>\n",
              "      <td>NaN</td>\n",
              "      <td>NaN</td>\n",
              "      <td>NaN</td>\n",
              "      <td>1</td>\n",
              "      <td>12/29/2019</td>\n",
              "      <td>1</td>\n",
              "      <td>SP</td>\n",
              "      <td>GVE XXIX SAO JOSE DO RIO PRETO</td>\n",
              "      <td>1354.0</td>\n",
              "      <td>CATANDUVA</td>\n",
              "      <td>351110</td>\n",
              "      <td>HOSP ESCOLA EMILIO CARLOS CATANDUVA</td>\n",
              "      <td>2089335</td>\n",
              "    </tr>\n",
              "    <tr>\n",
              "      <th>1</th>\n",
              "      <td>1/2/2020</td>\n",
              "      <td>M</td>\n",
              "      <td>7</td>\n",
              "      <td>2</td>\n",
              "      <td>2007</td>\n",
              "      <td>BRASIL</td>\n",
              "      <td>1</td>\n",
              "      <td>SP</td>\n",
              "      <td>GVE I CAPITAL</td>\n",
              "      <td>1331.0</td>\n",
              "      <td>SAO PAULO</td>\n",
              "      <td>355030.0</td>\n",
              "      <td>1.0</td>\n",
              "      <td>6</td>\n",
              "      <td>NaN</td>\n",
              "      <td>NaN</td>\n",
              "      <td>5.0</td>\n",
              "      <td>9.0</td>\n",
              "      <td>2.0</td>\n",
              "      <td>2.0</td>\n",
              "      <td>1.0</td>\n",
              "      <td>1.0</td>\n",
              "      <td>9.0</td>\n",
              "      <td>1.0</td>\n",
              "      <td>1.0</td>\n",
              "      <td>2.0</td>\n",
              "      <td>2.0</td>\n",
              "      <td>2.0</td>\n",
              "      <td>2.0</td>\n",
              "      <td>NaN</td>\n",
              "      <td>NaN</td>\n",
              "      <td>NaN</td>\n",
              "      <td>NaN</td>\n",
              "      <td>NaN</td>\n",
              "      <td>NaN</td>\n",
              "      <td>NaN</td>\n",
              "      <td>NaN</td>\n",
              "      <td>NaN</td>\n",
              "      <td>NaN</td>\n",
              "      <td>NaN</td>\n",
              "      <td>...</td>\n",
              "      <td>NaN</td>\n",
              "      <td>NaN</td>\n",
              "      <td>NaN</td>\n",
              "      <td>NaN</td>\n",
              "      <td>NaN</td>\n",
              "      <td>NaN</td>\n",
              "      <td>NaN</td>\n",
              "      <td>NaN</td>\n",
              "      <td>NaN</td>\n",
              "      <td>NaN</td>\n",
              "      <td>NaN</td>\n",
              "      <td>NaN</td>\n",
              "      <td>NaN</td>\n",
              "      <td>NaN</td>\n",
              "      <td>1.0</td>\n",
              "      <td>NaN</td>\n",
              "      <td>1.0</td>\n",
              "      <td>1.0</td>\n",
              "      <td>1/6/2020</td>\n",
              "      <td>2/19/2020</td>\n",
              "      <td>1/2/2020</td>\n",
              "      <td>0</td>\n",
              "      <td>NaN</td>\n",
              "      <td>NaN</td>\n",
              "      <td>NaN</td>\n",
              "      <td>None</td>\n",
              "      <td>None</td>\n",
              "      <td>NaN</td>\n",
              "      <td>NaN</td>\n",
              "      <td>NaN</td>\n",
              "      <td>1</td>\n",
              "      <td>12/30/2019</td>\n",
              "      <td>1</td>\n",
              "      <td>SP</td>\n",
              "      <td>GVE I CAPITAL</td>\n",
              "      <td>1331.0</td>\n",
              "      <td>SAO PAULO</td>\n",
              "      <td>355030</td>\n",
              "      <td>HOSP MUN JABAQUARA ARTUR RIBEIRO DE SABOYA</td>\n",
              "      <td>2081970</td>\n",
              "    </tr>\n",
              "  </tbody>\n",
              "</table>\n",
              "<p>2 rows × 133 columns</p>\n",
              "</div>"
            ],
            "text/plain": [
              "   DT_NOTIFIC CS_SEXO  ...                                  ID_UNIDADE  CO_UNI_NOT\n",
              "0  12/30/2019       F  ...         HOSP ESCOLA EMILIO CARLOS CATANDUVA     2089335\n",
              "1    1/2/2020       M  ...  HOSP MUN JABAQUARA ARTUR RIBEIRO DE SABOYA     2081970\n",
              "\n",
              "[2 rows x 133 columns]"
            ]
          },
          "metadata": {},
          "execution_count": 5
        }
      ]
    },
    {
      "cell_type": "code",
      "metadata": {
        "colab": {
          "base_uri": "https://localhost:8080/"
        },
        "id": "6ChwWxKYuaVF",
        "outputId": "1ec4e72e-04d0-4284-c2df-f7eb6a7671ea"
      },
      "source": [
        "srag_sp.shape"
      ],
      "execution_count": null,
      "outputs": [
        {
          "output_type": "execute_result",
          "data": {
            "text/plain": [
              "(106651, 133)"
            ]
          },
          "metadata": {},
          "execution_count": 6
        }
      ]
    },
    {
      "cell_type": "markdown",
      "metadata": {
        "id": "zSEisat80tFj"
      },
      "source": [
        "**EXCLUINDO VARIÁVEIS**"
      ]
    },
    {
      "cell_type": "code",
      "metadata": {
        "id": "mNrvAupyxB24",
        "colab": {
          "base_uri": "https://localhost:8080/"
        },
        "outputId": "b88a4981-6981-4169-af5e-698aa15692bb"
      },
      "source": [
        "lista = list(range(50,133))\n",
        "lista"
      ],
      "execution_count": null,
      "outputs": [
        {
          "output_type": "execute_result",
          "data": {
            "text/plain": [
              "[50,\n",
              " 51,\n",
              " 52,\n",
              " 53,\n",
              " 54,\n",
              " 55,\n",
              " 56,\n",
              " 57,\n",
              " 58,\n",
              " 59,\n",
              " 60,\n",
              " 61,\n",
              " 62,\n",
              " 63,\n",
              " 64,\n",
              " 65,\n",
              " 66,\n",
              " 67,\n",
              " 68,\n",
              " 69,\n",
              " 70,\n",
              " 71,\n",
              " 72,\n",
              " 73,\n",
              " 74,\n",
              " 75,\n",
              " 76,\n",
              " 77,\n",
              " 78,\n",
              " 79,\n",
              " 80,\n",
              " 81,\n",
              " 82,\n",
              " 83,\n",
              " 84,\n",
              " 85,\n",
              " 86,\n",
              " 87,\n",
              " 88,\n",
              " 89,\n",
              " 90,\n",
              " 91,\n",
              " 92,\n",
              " 93,\n",
              " 94,\n",
              " 95,\n",
              " 96,\n",
              " 97,\n",
              " 98,\n",
              " 99,\n",
              " 100,\n",
              " 101,\n",
              " 102,\n",
              " 103,\n",
              " 104,\n",
              " 105,\n",
              " 106,\n",
              " 107,\n",
              " 108,\n",
              " 109,\n",
              " 110,\n",
              " 111,\n",
              " 112,\n",
              " 113,\n",
              " 114,\n",
              " 115,\n",
              " 116,\n",
              " 117,\n",
              " 118,\n",
              " 119,\n",
              " 120,\n",
              " 121,\n",
              " 122,\n",
              " 123,\n",
              " 124,\n",
              " 125,\n",
              " 126,\n",
              " 127,\n",
              " 128,\n",
              " 129,\n",
              " 130,\n",
              " 131,\n",
              " 132]"
            ]
          },
          "metadata": {},
          "execution_count": 7
        }
      ]
    },
    {
      "cell_type": "code",
      "metadata": {
        "id": "TpkTNgbmhCZD"
      },
      "source": [
        "srag_mod = srag_sp.drop(srag_sp.columns[lista],axis=1)"
      ],
      "execution_count": null,
      "outputs": []
    },
    {
      "cell_type": "code",
      "metadata": {
        "colab": {
          "base_uri": "https://localhost:8080/"
        },
        "id": "AQ-wAuhbxYTb",
        "outputId": "19cc6eeb-f71a-452f-ff74-22929dd51cff"
      },
      "source": [
        "srag_mod.head(2)"
      ],
      "execution_count": null,
      "outputs": [
        {
          "output_type": "execute_result",
          "data": {
            "text/html": [
              "<div>\n",
              "<style scoped>\n",
              "    .dataframe tbody tr th:only-of-type {\n",
              "        vertical-align: middle;\n",
              "    }\n",
              "\n",
              "    .dataframe tbody tr th {\n",
              "        vertical-align: top;\n",
              "    }\n",
              "\n",
              "    .dataframe thead th {\n",
              "        text-align: right;\n",
              "    }\n",
              "</style>\n",
              "<table border=\"1\" class=\"dataframe\">\n",
              "  <thead>\n",
              "    <tr style=\"text-align: right;\">\n",
              "      <th></th>\n",
              "      <th>DT_NOTIFIC</th>\n",
              "      <th>CS_SEXO</th>\n",
              "      <th>NU_IDADE_N</th>\n",
              "      <th>TP_IDADE</th>\n",
              "      <th>COD_IDADE</th>\n",
              "      <th>ID_PAIS</th>\n",
              "      <th>CO_PAIS</th>\n",
              "      <th>SG_UF</th>\n",
              "      <th>ID_RG_RESI</th>\n",
              "      <th>CO_RG_RESI</th>\n",
              "      <th>ID_MN_RESI</th>\n",
              "      <th>CO_MUN_RES</th>\n",
              "      <th>CS_ZONA</th>\n",
              "      <th>CS_GESTANT</th>\n",
              "      <th>CS_RACA</th>\n",
              "      <th>CS_ETINIA</th>\n",
              "      <th>CS_ESCOL_N</th>\n",
              "      <th>SURTO_SG</th>\n",
              "      <th>NOSOCOMIAL</th>\n",
              "      <th>AVE_SUINO</th>\n",
              "      <th>FEBRE</th>\n",
              "      <th>TOSSE</th>\n",
              "      <th>GARGANTA</th>\n",
              "      <th>DISPNEIA</th>\n",
              "      <th>DESC_RESP</th>\n",
              "      <th>SATURACAO</th>\n",
              "      <th>DIARREIA</th>\n",
              "      <th>VOMITO</th>\n",
              "      <th>OUTRO_SIN</th>\n",
              "      <th>OUTRO_DES</th>\n",
              "      <th>PUERPERA</th>\n",
              "      <th>CARDIOPATI</th>\n",
              "      <th>HEMATOLOGI</th>\n",
              "      <th>SIND_DOWN</th>\n",
              "      <th>HEPATICA</th>\n",
              "      <th>ASMA</th>\n",
              "      <th>DIABETES</th>\n",
              "      <th>NEUROLOGIC</th>\n",
              "      <th>PNEUMOPATI</th>\n",
              "      <th>IMUNODEPRE</th>\n",
              "      <th>RENAL</th>\n",
              "      <th>OBESIDADE</th>\n",
              "      <th>OBES_IMC</th>\n",
              "      <th>OUT_MORBI</th>\n",
              "      <th>MORB_DESC</th>\n",
              "      <th>VACINA</th>\n",
              "      <th>DT_UT_DOSE</th>\n",
              "      <th>MAE_VAC</th>\n",
              "      <th>DT_VAC_MAE</th>\n",
              "      <th>M_AMAMENTA</th>\n",
              "    </tr>\n",
              "  </thead>\n",
              "  <tbody>\n",
              "    <tr>\n",
              "      <th>0</th>\n",
              "      <td>12/30/2019</td>\n",
              "      <td>F</td>\n",
              "      <td>52</td>\n",
              "      <td>3</td>\n",
              "      <td>3052</td>\n",
              "      <td>BRASIL</td>\n",
              "      <td>1</td>\n",
              "      <td>SP</td>\n",
              "      <td>GVE XXIX SAO JOSE DO RIO PRETO</td>\n",
              "      <td>1354.0</td>\n",
              "      <td>CATANDUVA</td>\n",
              "      <td>351110.0</td>\n",
              "      <td>1.0</td>\n",
              "      <td>9</td>\n",
              "      <td>NaN</td>\n",
              "      <td>NaN</td>\n",
              "      <td>NaN</td>\n",
              "      <td>2.0</td>\n",
              "      <td>NaN</td>\n",
              "      <td>2.0</td>\n",
              "      <td>1.0</td>\n",
              "      <td>1.0</td>\n",
              "      <td>2.0</td>\n",
              "      <td>1.0</td>\n",
              "      <td>1.0</td>\n",
              "      <td>2.0</td>\n",
              "      <td>2.0</td>\n",
              "      <td>1.0</td>\n",
              "      <td>2.0</td>\n",
              "      <td>NaN</td>\n",
              "      <td>2.0</td>\n",
              "      <td>1.0</td>\n",
              "      <td>2.0</td>\n",
              "      <td>2.0</td>\n",
              "      <td>2.0</td>\n",
              "      <td>2.0</td>\n",
              "      <td>1.0</td>\n",
              "      <td>2.0</td>\n",
              "      <td>2.0</td>\n",
              "      <td>2.0</td>\n",
              "      <td>2.0</td>\n",
              "      <td>NaN</td>\n",
              "      <td>NaN</td>\n",
              "      <td>2.0</td>\n",
              "      <td>NaN</td>\n",
              "      <td>1.0</td>\n",
              "      <td>5/10/2019</td>\n",
              "      <td>NaN</td>\n",
              "      <td>None</td>\n",
              "      <td>NaN</td>\n",
              "    </tr>\n",
              "    <tr>\n",
              "      <th>1</th>\n",
              "      <td>1/2/2020</td>\n",
              "      <td>M</td>\n",
              "      <td>7</td>\n",
              "      <td>2</td>\n",
              "      <td>2007</td>\n",
              "      <td>BRASIL</td>\n",
              "      <td>1</td>\n",
              "      <td>SP</td>\n",
              "      <td>GVE I CAPITAL</td>\n",
              "      <td>1331.0</td>\n",
              "      <td>SAO PAULO</td>\n",
              "      <td>355030.0</td>\n",
              "      <td>1.0</td>\n",
              "      <td>6</td>\n",
              "      <td>NaN</td>\n",
              "      <td>NaN</td>\n",
              "      <td>5.0</td>\n",
              "      <td>9.0</td>\n",
              "      <td>2.0</td>\n",
              "      <td>2.0</td>\n",
              "      <td>1.0</td>\n",
              "      <td>1.0</td>\n",
              "      <td>9.0</td>\n",
              "      <td>1.0</td>\n",
              "      <td>1.0</td>\n",
              "      <td>2.0</td>\n",
              "      <td>2.0</td>\n",
              "      <td>2.0</td>\n",
              "      <td>2.0</td>\n",
              "      <td>NaN</td>\n",
              "      <td>NaN</td>\n",
              "      <td>NaN</td>\n",
              "      <td>NaN</td>\n",
              "      <td>NaN</td>\n",
              "      <td>NaN</td>\n",
              "      <td>NaN</td>\n",
              "      <td>NaN</td>\n",
              "      <td>NaN</td>\n",
              "      <td>NaN</td>\n",
              "      <td>NaN</td>\n",
              "      <td>NaN</td>\n",
              "      <td>NaN</td>\n",
              "      <td>NaN</td>\n",
              "      <td>NaN</td>\n",
              "      <td>NaN</td>\n",
              "      <td>2.0</td>\n",
              "      <td>None</td>\n",
              "      <td>NaN</td>\n",
              "      <td>None</td>\n",
              "      <td>NaN</td>\n",
              "    </tr>\n",
              "  </tbody>\n",
              "</table>\n",
              "</div>"
            ],
            "text/plain": [
              "   DT_NOTIFIC CS_SEXO  NU_IDADE_N  ...  MAE_VAC  DT_VAC_MAE M_AMAMENTA\n",
              "0  12/30/2019       F          52  ...      NaN        None        NaN\n",
              "1    1/2/2020       M           7  ...      NaN        None        NaN\n",
              "\n",
              "[2 rows x 50 columns]"
            ]
          },
          "metadata": {},
          "execution_count": 9
        }
      ]
    },
    {
      "cell_type": "code",
      "metadata": {
        "colab": {
          "base_uri": "https://localhost:8080/"
        },
        "id": "wc4nezaa7jpM",
        "outputId": "cb5eb1ba-04ae-4821-b913-37bc04102825"
      },
      "source": [
        "srag_mod.shape"
      ],
      "execution_count": null,
      "outputs": [
        {
          "output_type": "execute_result",
          "data": {
            "text/plain": [
              "(106651, 50)"
            ]
          },
          "metadata": {},
          "execution_count": 10
        }
      ]
    },
    {
      "cell_type": "code",
      "metadata": {
        "id": "L231jlLNziTn"
      },
      "source": [
        "srag_mod.drop(columns=['COD_IDADE','ID_PAIS','CO_PAIS','SG_UF','ID_RG_RESI','CO_RG_RESI','CO_MUN_RES'],inplace=True)"
      ],
      "execution_count": null,
      "outputs": []
    },
    {
      "cell_type": "markdown",
      "metadata": {
        "id": "K4SDpjTA2JNk"
      },
      "source": [
        "**Renomeando Variáveis**"
      ]
    },
    {
      "cell_type": "code",
      "metadata": {
        "id": "tIPWbTIq2IJR"
      },
      "source": [
        "srag_mod = srag_mod.rename(columns={'DT_NOTIFIC': 'data', 'CS_SEXO': 'sexo',\n",
        "                                  'NU_IDADE_N': 'idade','CS_RACA': 'raca'})"
      ],
      "execution_count": null,
      "outputs": []
    },
    {
      "cell_type": "code",
      "metadata": {
        "colab": {
          "base_uri": "https://localhost:8080/"
        },
        "id": "pXLmT2bf26X-",
        "outputId": "7a36aeb6-c2ca-4cab-fddb-9f66aec64de4"
      },
      "source": [
        "srag_mod.head(3)"
      ],
      "execution_count": null,
      "outputs": [
        {
          "output_type": "execute_result",
          "data": {
            "text/html": [
              "<div>\n",
              "<style scoped>\n",
              "    .dataframe tbody tr th:only-of-type {\n",
              "        vertical-align: middle;\n",
              "    }\n",
              "\n",
              "    .dataframe tbody tr th {\n",
              "        vertical-align: top;\n",
              "    }\n",
              "\n",
              "    .dataframe thead th {\n",
              "        text-align: right;\n",
              "    }\n",
              "</style>\n",
              "<table border=\"1\" class=\"dataframe\">\n",
              "  <thead>\n",
              "    <tr style=\"text-align: right;\">\n",
              "      <th></th>\n",
              "      <th>data</th>\n",
              "      <th>sexo</th>\n",
              "      <th>idade</th>\n",
              "      <th>TP_IDADE</th>\n",
              "      <th>ID_MN_RESI</th>\n",
              "      <th>CS_ZONA</th>\n",
              "      <th>CS_GESTANT</th>\n",
              "      <th>raca</th>\n",
              "      <th>CS_ETINIA</th>\n",
              "      <th>CS_ESCOL_N</th>\n",
              "      <th>SURTO_SG</th>\n",
              "      <th>NOSOCOMIAL</th>\n",
              "      <th>AVE_SUINO</th>\n",
              "      <th>FEBRE</th>\n",
              "      <th>TOSSE</th>\n",
              "      <th>GARGANTA</th>\n",
              "      <th>DISPNEIA</th>\n",
              "      <th>DESC_RESP</th>\n",
              "      <th>SATURACAO</th>\n",
              "      <th>DIARREIA</th>\n",
              "      <th>VOMITO</th>\n",
              "      <th>OUTRO_SIN</th>\n",
              "      <th>OUTRO_DES</th>\n",
              "      <th>PUERPERA</th>\n",
              "      <th>CARDIOPATI</th>\n",
              "      <th>HEMATOLOGI</th>\n",
              "      <th>SIND_DOWN</th>\n",
              "      <th>HEPATICA</th>\n",
              "      <th>ASMA</th>\n",
              "      <th>DIABETES</th>\n",
              "      <th>NEUROLOGIC</th>\n",
              "      <th>PNEUMOPATI</th>\n",
              "      <th>IMUNODEPRE</th>\n",
              "      <th>RENAL</th>\n",
              "      <th>OBESIDADE</th>\n",
              "      <th>OBES_IMC</th>\n",
              "      <th>OUT_MORBI</th>\n",
              "      <th>MORB_DESC</th>\n",
              "      <th>VACINA</th>\n",
              "      <th>DT_UT_DOSE</th>\n",
              "      <th>MAE_VAC</th>\n",
              "      <th>DT_VAC_MAE</th>\n",
              "      <th>M_AMAMENTA</th>\n",
              "    </tr>\n",
              "  </thead>\n",
              "  <tbody>\n",
              "    <tr>\n",
              "      <th>0</th>\n",
              "      <td>12/30/2019</td>\n",
              "      <td>F</td>\n",
              "      <td>52</td>\n",
              "      <td>3</td>\n",
              "      <td>CATANDUVA</td>\n",
              "      <td>1.0</td>\n",
              "      <td>9</td>\n",
              "      <td>NaN</td>\n",
              "      <td>NaN</td>\n",
              "      <td>NaN</td>\n",
              "      <td>2.0</td>\n",
              "      <td>NaN</td>\n",
              "      <td>2.0</td>\n",
              "      <td>1.0</td>\n",
              "      <td>1.0</td>\n",
              "      <td>2.0</td>\n",
              "      <td>1.0</td>\n",
              "      <td>1.0</td>\n",
              "      <td>2.0</td>\n",
              "      <td>2.0</td>\n",
              "      <td>1.0</td>\n",
              "      <td>2.0</td>\n",
              "      <td>NaN</td>\n",
              "      <td>2.0</td>\n",
              "      <td>1.0</td>\n",
              "      <td>2.0</td>\n",
              "      <td>2.0</td>\n",
              "      <td>2.0</td>\n",
              "      <td>2.0</td>\n",
              "      <td>1.0</td>\n",
              "      <td>2.0</td>\n",
              "      <td>2.0</td>\n",
              "      <td>2.0</td>\n",
              "      <td>2.0</td>\n",
              "      <td>NaN</td>\n",
              "      <td>NaN</td>\n",
              "      <td>2.0</td>\n",
              "      <td>NaN</td>\n",
              "      <td>1.0</td>\n",
              "      <td>5/10/2019</td>\n",
              "      <td>NaN</td>\n",
              "      <td>None</td>\n",
              "      <td>NaN</td>\n",
              "    </tr>\n",
              "    <tr>\n",
              "      <th>1</th>\n",
              "      <td>1/2/2020</td>\n",
              "      <td>M</td>\n",
              "      <td>7</td>\n",
              "      <td>2</td>\n",
              "      <td>SAO PAULO</td>\n",
              "      <td>1.0</td>\n",
              "      <td>6</td>\n",
              "      <td>NaN</td>\n",
              "      <td>NaN</td>\n",
              "      <td>5.0</td>\n",
              "      <td>9.0</td>\n",
              "      <td>2.0</td>\n",
              "      <td>2.0</td>\n",
              "      <td>1.0</td>\n",
              "      <td>1.0</td>\n",
              "      <td>9.0</td>\n",
              "      <td>1.0</td>\n",
              "      <td>1.0</td>\n",
              "      <td>2.0</td>\n",
              "      <td>2.0</td>\n",
              "      <td>2.0</td>\n",
              "      <td>2.0</td>\n",
              "      <td>NaN</td>\n",
              "      <td>NaN</td>\n",
              "      <td>NaN</td>\n",
              "      <td>NaN</td>\n",
              "      <td>NaN</td>\n",
              "      <td>NaN</td>\n",
              "      <td>NaN</td>\n",
              "      <td>NaN</td>\n",
              "      <td>NaN</td>\n",
              "      <td>NaN</td>\n",
              "      <td>NaN</td>\n",
              "      <td>NaN</td>\n",
              "      <td>NaN</td>\n",
              "      <td>NaN</td>\n",
              "      <td>NaN</td>\n",
              "      <td>NaN</td>\n",
              "      <td>2.0</td>\n",
              "      <td>None</td>\n",
              "      <td>NaN</td>\n",
              "      <td>None</td>\n",
              "      <td>NaN</td>\n",
              "    </tr>\n",
              "    <tr>\n",
              "      <th>2</th>\n",
              "      <td>12/29/2019</td>\n",
              "      <td>F</td>\n",
              "      <td>22</td>\n",
              "      <td>3</td>\n",
              "      <td>CAMPINAS</td>\n",
              "      <td>1.0</td>\n",
              "      <td>1</td>\n",
              "      <td>9.0</td>\n",
              "      <td>NaN</td>\n",
              "      <td>9.0</td>\n",
              "      <td>9.0</td>\n",
              "      <td>2.0</td>\n",
              "      <td>2.0</td>\n",
              "      <td>2.0</td>\n",
              "      <td>1.0</td>\n",
              "      <td>2.0</td>\n",
              "      <td>1.0</td>\n",
              "      <td>1.0</td>\n",
              "      <td>1.0</td>\n",
              "      <td>1.0</td>\n",
              "      <td>1.0</td>\n",
              "      <td>9.0</td>\n",
              "      <td>NaN</td>\n",
              "      <td>2.0</td>\n",
              "      <td>2.0</td>\n",
              "      <td>2.0</td>\n",
              "      <td>2.0</td>\n",
              "      <td>2.0</td>\n",
              "      <td>1.0</td>\n",
              "      <td>2.0</td>\n",
              "      <td>2.0</td>\n",
              "      <td>2.0</td>\n",
              "      <td>2.0</td>\n",
              "      <td>2.0</td>\n",
              "      <td>2.0</td>\n",
              "      <td>NaN</td>\n",
              "      <td>2.0</td>\n",
              "      <td>NaN</td>\n",
              "      <td>1.0</td>\n",
              "      <td>8/17/2019</td>\n",
              "      <td>NaN</td>\n",
              "      <td>None</td>\n",
              "      <td>NaN</td>\n",
              "    </tr>\n",
              "  </tbody>\n",
              "</table>\n",
              "</div>"
            ],
            "text/plain": [
              "         data sexo  idade  TP_IDADE  ... DT_UT_DOSE  MAE_VAC  DT_VAC_MAE  M_AMAMENTA\n",
              "0  12/30/2019    F     52         3  ...  5/10/2019      NaN        None         NaN\n",
              "1    1/2/2020    M      7         2  ...       None      NaN        None         NaN\n",
              "2  12/29/2019    F     22         3  ...  8/17/2019      NaN        None         NaN\n",
              "\n",
              "[3 rows x 43 columns]"
            ]
          },
          "metadata": {},
          "execution_count": 13
        }
      ]
    },
    {
      "cell_type": "markdown",
      "metadata": {
        "id": "oxflfZDk0zp6"
      },
      "source": [
        "**ANALISANDO OS TIPOS DE VARIÁVEIS**"
      ]
    },
    {
      "cell_type": "code",
      "metadata": {
        "id": "mjYSxes709bC",
        "colab": {
          "base_uri": "https://localhost:8080/"
        },
        "outputId": "bd684575-6946-4b74-c03a-1c55271c7116"
      },
      "source": [
        "srag_mod.dtypes"
      ],
      "execution_count": null,
      "outputs": [
        {
          "output_type": "execute_result",
          "data": {
            "text/plain": [
              "data           object\n",
              "sexo           object\n",
              "idade           int64\n",
              "TP_IDADE        int64\n",
              "ID_MN_RESI     object\n",
              "CS_ZONA       float64\n",
              "CS_GESTANT      int64\n",
              "raca          float64\n",
              "CS_ETINIA      object\n",
              "CS_ESCOL_N    float64\n",
              "SURTO_SG      float64\n",
              "NOSOCOMIAL    float64\n",
              "AVE_SUINO     float64\n",
              "FEBRE         float64\n",
              "TOSSE         float64\n",
              "GARGANTA      float64\n",
              "DISPNEIA      float64\n",
              "DESC_RESP     float64\n",
              "SATURACAO     float64\n",
              "DIARREIA      float64\n",
              "VOMITO        float64\n",
              "OUTRO_SIN     float64\n",
              "OUTRO_DES      object\n",
              "PUERPERA      float64\n",
              "CARDIOPATI    float64\n",
              "HEMATOLOGI    float64\n",
              "SIND_DOWN     float64\n",
              "HEPATICA      float64\n",
              "ASMA          float64\n",
              "DIABETES      float64\n",
              "NEUROLOGIC    float64\n",
              "PNEUMOPATI    float64\n",
              "IMUNODEPRE    float64\n",
              "RENAL         float64\n",
              "OBESIDADE     float64\n",
              "OBES_IMC      float64\n",
              "OUT_MORBI     float64\n",
              "MORB_DESC      object\n",
              "VACINA        float64\n",
              "DT_UT_DOSE     object\n",
              "MAE_VAC       float64\n",
              "DT_VAC_MAE     object\n",
              "M_AMAMENTA    float64\n",
              "dtype: object"
            ]
          },
          "metadata": {},
          "execution_count": 14
        }
      ]
    },
    {
      "cell_type": "code",
      "metadata": {
        "id": "0XAmutHL1lIe"
      },
      "source": [
        "srag_mod['data'] = srag_mod['data'].astype('datetime64[D]')"
      ],
      "execution_count": null,
      "outputs": []
    },
    {
      "cell_type": "markdown",
      "metadata": {
        "id": "nZAd4ZFp3Zkh"
      },
      "source": [
        "**Analisando valores missing (NAN)**"
      ]
    },
    {
      "cell_type": "code",
      "metadata": {
        "id": "Ro8Wc33Q3fk9",
        "colab": {
          "base_uri": "https://localhost:8080/"
        },
        "outputId": "1a966475-bbb7-40fb-cd35-255c04a00e58"
      },
      "source": [
        "srag_mod.isnull().sum()"
      ],
      "execution_count": null,
      "outputs": [
        {
          "output_type": "execute_result",
          "data": {
            "text/plain": [
              "data               0\n",
              "sexo               0\n",
              "idade              0\n",
              "TP_IDADE           0\n",
              "ID_MN_RESI        11\n",
              "CS_ZONA        13868\n",
              "CS_GESTANT         0\n",
              "raca           20150\n",
              "CS_ETINIA     106635\n",
              "CS_ESCOL_N     31001\n",
              "SURTO_SG       16455\n",
              "NOSOCOMIAL     21210\n",
              "AVE_SUINO      17930\n",
              "FEBRE           9112\n",
              "TOSSE           7665\n",
              "GARGANTA       21588\n",
              "DISPNEIA       10051\n",
              "DESC_RESP      14583\n",
              "SATURACAO      14773\n",
              "DIARREIA       24712\n",
              "VOMITO         25970\n",
              "OUTRO_SIN      27766\n",
              "OUTRO_DES      75238\n",
              "PUERPERA       67470\n",
              "CARDIOPATI     53172\n",
              "HEMATOLOGI     66906\n",
              "SIND_DOWN      67257\n",
              "HEPATICA       67122\n",
              "ASMA           65900\n",
              "DIABETES       57821\n",
              "NEUROLOGIC     65207\n",
              "PNEUMOPATI     65296\n",
              "IMUNODEPRE     66160\n",
              "RENAL          66000\n",
              "OBESIDADE      66436\n",
              "OBES_IMC      103274\n",
              "OUT_MORBI      59147\n",
              "MORB_DESC      79484\n",
              "VACINA         18262\n",
              "DT_UT_DOSE         0\n",
              "MAE_VAC       105603\n",
              "DT_VAC_MAE         0\n",
              "M_AMAMENTA    105840\n",
              "dtype: int64"
            ]
          },
          "metadata": {},
          "execution_count": 16
        }
      ]
    },
    {
      "cell_type": "markdown",
      "metadata": {
        "id": "ojeBnj6L5mBq"
      },
      "source": [
        "**Contagem das classificações de raças**"
      ]
    },
    {
      "cell_type": "code",
      "metadata": {
        "colab": {
          "base_uri": "https://localhost:8080/"
        },
        "id": "NoM1pbwI44ME",
        "outputId": "ca963f9c-770d-45b5-804b-f68f0216cfc6"
      },
      "source": [
        "srag_mod['raca'].value_counts().sort_index()"
      ],
      "execution_count": null,
      "outputs": [
        {
          "output_type": "execute_result",
          "data": {
            "text/plain": [
              "1.0    45667\n",
              "2.0     5518\n",
              "3.0     1165\n",
              "4.0    19775\n",
              "5.0       86\n",
              "9.0    14290\n",
              "Name: raca, dtype: int64"
            ]
          },
          "metadata": {},
          "execution_count": 17
        }
      ]
    },
    {
      "cell_type": "code",
      "metadata": {
        "id": "zeSRedNm5Yz6"
      },
      "source": [
        "# Preenchendo valores missing com o número 9 (ignorado)\n",
        "srag_mod['raca'].fillna(9, inplace=True)"
      ],
      "execution_count": null,
      "outputs": []
    },
    {
      "cell_type": "code",
      "metadata": {
        "colab": {
          "base_uri": "https://localhost:8080/"
        },
        "id": "Dw72tM4Q5dMy",
        "outputId": "61a1ff74-9c45-4bcc-b4f1-2d8428a1fe61"
      },
      "source": [
        "srag_mod['raca'].value_counts().sort_index()"
      ],
      "execution_count": null,
      "outputs": [
        {
          "output_type": "execute_result",
          "data": {
            "text/plain": [
              "1.0    45667\n",
              "2.0     5518\n",
              "3.0     1165\n",
              "4.0    19775\n",
              "5.0       86\n",
              "9.0    34440\n",
              "Name: raca, dtype: int64"
            ]
          },
          "metadata": {},
          "execution_count": 19
        }
      ]
    },
    {
      "cell_type": "markdown",
      "metadata": {
        "id": "X5HJkg1u8QGY"
      },
      "source": [
        "**Contagem das classificações de CS_ZONA**"
      ]
    },
    {
      "cell_type": "code",
      "metadata": {
        "colab": {
          "base_uri": "https://localhost:8080/"
        },
        "id": "e-KN9Zsd8QGZ",
        "outputId": "ef8d4994-d501-4b6e-b453-028fc5aef4a2"
      },
      "source": [
        "srag_mod['CS_ZONA'].value_counts().sort_index()"
      ],
      "execution_count": null,
      "outputs": [
        {
          "output_type": "execute_result",
          "data": {
            "text/plain": [
              "1.0    91232\n",
              "2.0     1362\n",
              "3.0      189\n",
              "Name: CS_ZONA, dtype: int64"
            ]
          },
          "metadata": {},
          "execution_count": 20
        }
      ]
    },
    {
      "cell_type": "code",
      "metadata": {
        "id": "M9OtHKGm8QGb"
      },
      "source": [
        "# Preenchendo valores missing com o número 9 (ignorado)\n",
        "srag_mod['CS_ZONA'].fillna(9, inplace=True)"
      ],
      "execution_count": null,
      "outputs": []
    },
    {
      "cell_type": "code",
      "metadata": {
        "colab": {
          "base_uri": "https://localhost:8080/"
        },
        "id": "UAcGTJHG8QGc",
        "outputId": "e81ebadc-cb1e-45d0-d821-d3be718a1678"
      },
      "source": [
        "srag_mod['CS_ZONA'].value_counts().sort_index()"
      ],
      "execution_count": null,
      "outputs": [
        {
          "output_type": "execute_result",
          "data": {
            "text/plain": [
              "1.0    91232\n",
              "2.0     1362\n",
              "3.0      189\n",
              "9.0    13868\n",
              "Name: CS_ZONA, dtype: int64"
            ]
          },
          "metadata": {},
          "execution_count": 22
        }
      ]
    },
    {
      "cell_type": "markdown",
      "metadata": {
        "id": "-NbW-cDi98Ft"
      },
      "source": [
        "**Substituindo as classificações numéricas por palavras**"
      ]
    },
    {
      "cell_type": "code",
      "metadata": {
        "id": "C-3kkgce-S-E"
      },
      "source": [
        "srag_mod['raca']=srag_mod['raca'].replace({1:'branca',\n",
        "                                           2:'preta',\n",
        "                                           3:'amarela',\n",
        "                                           4:'parda',\n",
        "                                           5:'indígena',\n",
        "                                           9:'ignorado'})"
      ],
      "execution_count": null,
      "outputs": []
    },
    {
      "cell_type": "code",
      "metadata": {
        "colab": {
          "base_uri": "https://localhost:8080/"
        },
        "id": "t701x78C1J4S",
        "outputId": "8bdb8e0a-0d37-4dac-9e5a-793467a3d022"
      },
      "source": [
        "srag_mod['raca'].value_counts().sort_index()"
      ],
      "execution_count": null,
      "outputs": [
        {
          "output_type": "execute_result",
          "data": {
            "text/plain": [
              "amarela      1165\n",
              "branca      45667\n",
              "ignorado    34440\n",
              "indígena       86\n",
              "parda       19775\n",
              "preta        5518\n",
              "Name: raca, dtype: int64"
            ]
          },
          "metadata": {},
          "execution_count": 24
        }
      ]
    },
    {
      "cell_type": "code",
      "metadata": {
        "id": "yQ3hSF1B0eTp"
      },
      "source": [
        "srag_mod['CS_ZONA']=srag_mod['CS_ZONA'].replace({1:'urbana',\n",
        "                                                 2:'rural',\n",
        "                                                 3:'periurbana',\n",
        "                                                 9:'ignorado'})"
      ],
      "execution_count": null,
      "outputs": []
    },
    {
      "cell_type": "code",
      "metadata": {
        "colab": {
          "base_uri": "https://localhost:8080/"
        },
        "id": "f-6CZg2x0-wr",
        "outputId": "21296200-3da6-433b-843c-8b4ceb8f7ff0"
      },
      "source": [
        "srag_mod['CS_ZONA'].value_counts().sort_index()"
      ],
      "execution_count": null,
      "outputs": [
        {
          "output_type": "execute_result",
          "data": {
            "text/plain": [
              "ignorado      13868\n",
              "periurbana      189\n",
              "rural          1362\n",
              "urbana        91232\n",
              "Name: CS_ZONA, dtype: int64"
            ]
          },
          "metadata": {},
          "execution_count": 26
        }
      ]
    },
    {
      "cell_type": "markdown",
      "metadata": {
        "id": "x7xj1I7J0cWN"
      },
      "source": [
        "## **Gráfico de barras**"
      ]
    },
    {
      "cell_type": "markdown",
      "metadata": {
        "id": "st7JkRot9GNq"
      },
      "source": [
        "###Matplotlib"
      ]
    },
    {
      "cell_type": "code",
      "metadata": {
        "id": "YZNQ8GG74SA4"
      },
      "source": [
        "import matplotlib.pyplot as plt\n"
      ],
      "execution_count": null,
      "outputs": []
    },
    {
      "cell_type": "code",
      "metadata": {
        "id": "VhNG7QBx5wk1"
      },
      "source": [
        "graf_barras = srag_mod['sexo'].value_counts()\n",
        "graf_barras"
      ],
      "execution_count": null,
      "outputs": []
    },
    {
      "cell_type": "code",
      "metadata": {
        "id": "GM8wjm0Y6XEz"
      },
      "source": [
        "graf_barras.index"
      ],
      "execution_count": null,
      "outputs": []
    },
    {
      "cell_type": "code",
      "metadata": {
        "id": "EjJBe8sI4O8u"
      },
      "source": [
        "plt.bar(graf_barras.index, graf_barras, color = 'red')\n",
        "plt.title('Análise da Distribuição por Sexo')\n",
        "plt.ylabel('Quantidade')\n",
        "plt.xlabel('Sexo')\n",
        "plt.show()"
      ],
      "execution_count": null,
      "outputs": []
    },
    {
      "cell_type": "code",
      "metadata": {
        "id": "YO5fI03_8wMc"
      },
      "source": [
        "plt.barh(graf_barras.index, graf_barras, color = 'red')\n",
        "plt.title('Análise da Distribuição por Sexo')\n",
        "plt.xlabel('Quantidade')\n",
        "plt.ylabel('Sexo')\n",
        "plt.show()"
      ],
      "execution_count": null,
      "outputs": []
    },
    {
      "cell_type": "markdown",
      "metadata": {
        "id": "TRjRICjy9ODx"
      },
      "source": [
        "### Seaborn"
      ]
    },
    {
      "cell_type": "code",
      "metadata": {
        "id": "N9sOxiYy9RX_"
      },
      "source": [
        "import seaborn as sns"
      ],
      "execution_count": null,
      "outputs": []
    },
    {
      "cell_type": "code",
      "metadata": {
        "id": "2XgWRA45VC6A"
      },
      "source": [
        "sns.countplot(x='sexo', data=srag_mod);"
      ],
      "execution_count": null,
      "outputs": []
    },
    {
      "cell_type": "code",
      "metadata": {
        "id": "zglzFlyKkZAa"
      },
      "source": [
        "sns.countplot(y = 'sexo', data=srag_mod);"
      ],
      "execution_count": null,
      "outputs": []
    },
    {
      "cell_type": "code",
      "metadata": {
        "id": "IE4RObBmlMqA"
      },
      "source": [
        "fig, ax = plt.subplots(figsize=(16,14))\n",
        "sns.countplot(x = 'raca', data=srag_mod)\n",
        "ax.set_title(\"Análise da Distribuição por Raça\", fontdict={'fontsize':25})\n",
        "ax.set_xlabel('Raça', fontdict={'fontsize':18})\n",
        "ax.set_ylabel('Quantidade', fontdict={'fontsize':18});"
      ],
      "execution_count": null,
      "outputs": []
    },
    {
      "cell_type": "markdown",
      "metadata": {
        "id": "JCQv-RQAss-f"
      },
      "source": [
        "## **Box Plot**"
      ]
    },
    {
      "cell_type": "markdown",
      "metadata": {
        "id": "ZGl8uSWF-Mtx"
      },
      "source": [
        "### Plotly"
      ]
    },
    {
      "cell_type": "code",
      "metadata": {
        "id": "2J5koL5x_Brw"
      },
      "source": [
        "import plotly.express as px"
      ],
      "execution_count": null,
      "outputs": []
    },
    {
      "cell_type": "markdown",
      "metadata": {
        "id": "S-j4QmHPlVq3"
      },
      "source": [
        "Box Plot para idade em anos"
      ]
    },
    {
      "cell_type": "code",
      "metadata": {
        "id": "AysaxCLB1HbU"
      },
      "source": [
        "srag_mod['TP_IDADE'].value_counts().sort_index()"
      ],
      "execution_count": null,
      "outputs": []
    },
    {
      "cell_type": "code",
      "metadata": {
        "id": "Kt7hw1Oh2lxg"
      },
      "source": [
        "srag_mod['idade'].value_counts().sort_index()"
      ],
      "execution_count": null,
      "outputs": []
    },
    {
      "cell_type": "code",
      "metadata": {
        "id": "IAuuceCT7fYO"
      },
      "source": [
        "srag_mod.idade.describe()"
      ],
      "execution_count": null,
      "outputs": []
    },
    {
      "cell_type": "code",
      "metadata": {
        "id": "xpCnZh-zynpS"
      },
      "source": [
        "srag_mod.idade.mode()"
      ],
      "execution_count": null,
      "outputs": []
    },
    {
      "cell_type": "code",
      "metadata": {
        "id": "fYXRHiI10cXv"
      },
      "source": [
        "srag_mod.loc[srag_mod['TP_IDADE'] == 1, 'idade'] = 0"
      ],
      "execution_count": null,
      "outputs": []
    },
    {
      "cell_type": "code",
      "metadata": {
        "id": "QFjMeh8O4Yxh"
      },
      "source": [
        "srag_mod.loc[srag_mod['TP_IDADE'] == 2, 'idade'] = 0"
      ],
      "execution_count": null,
      "outputs": []
    },
    {
      "cell_type": "code",
      "metadata": {
        "id": "OPzo7HoMzKN1"
      },
      "source": [
        "srag_mod.idade.describe()"
      ],
      "execution_count": null,
      "outputs": []
    },
    {
      "cell_type": "code",
      "metadata": {
        "id": "Inq9Ob7I7rSd"
      },
      "source": [
        "box = px.box(srag_mod, y='idade')\n",
        "box.show()"
      ],
      "execution_count": null,
      "outputs": []
    },
    {
      "cell_type": "code",
      "metadata": {
        "id": "-C0Bo19L61XC"
      },
      "source": [
        "srag_sem_outliers = srag_mod.loc[srag_mod.idade < 118]"
      ],
      "execution_count": null,
      "outputs": []
    },
    {
      "cell_type": "code",
      "metadata": {
        "id": "8rtJW2917pON"
      },
      "source": [
        "srag_sem_outliers.idade.describe()"
      ],
      "execution_count": null,
      "outputs": []
    },
    {
      "cell_type": "code",
      "metadata": {
        "id": "xEoULnSq7IR8"
      },
      "source": [
        "box = px.box(srag_sem_outliers, y='idade')\n",
        "box.show()"
      ],
      "execution_count": null,
      "outputs": []
    },
    {
      "cell_type": "code",
      "metadata": {
        "id": "qpnueKIv-fUx"
      },
      "source": [
        "box = px.box(srag_sem_outliers,x='sexo', y='idade')\n",
        "box.show()"
      ],
      "execution_count": null,
      "outputs": []
    },
    {
      "cell_type": "code",
      "metadata": {
        "id": "JPehxItE-pqu"
      },
      "source": [
        "box = px.box(srag_sem_outliers,x='raca', y='idade')\n",
        "box.show()"
      ],
      "execution_count": null,
      "outputs": []
    },
    {
      "cell_type": "markdown",
      "metadata": {
        "id": "nOx4mXkV75kN"
      },
      "source": [
        "### **Seaborn**"
      ]
    },
    {
      "cell_type": "code",
      "metadata": {
        "id": "QxOSrH8A8N5_"
      },
      "source": [
        "import seaborn as sns"
      ],
      "execution_count": null,
      "outputs": []
    },
    {
      "cell_type": "code",
      "metadata": {
        "id": "jTnAPWBd8SRk"
      },
      "source": [
        "sns.boxplot(y='idade', data=srag_mod,color='red');"
      ],
      "execution_count": null,
      "outputs": []
    },
    {
      "cell_type": "code",
      "metadata": {
        "id": "IcDV829y9ILA"
      },
      "source": [
        "sns.boxplot(x='idade', data=srag_sem_outliers,color='green');"
      ],
      "execution_count": null,
      "outputs": []
    },
    {
      "cell_type": "code",
      "metadata": {
        "id": "gbqr67eB9uZy"
      },
      "source": [
        "sns.boxplot(x='sexo',y='idade', data=srag_mod);"
      ],
      "execution_count": null,
      "outputs": []
    },
    {
      "cell_type": "code",
      "metadata": {
        "id": "4n3X61sB9-a3"
      },
      "source": [
        "sns.boxplot(x='CS_ZONA',y='idade', data=srag_mod);"
      ],
      "execution_count": null,
      "outputs": []
    },
    {
      "cell_type": "code",
      "metadata": {
        "id": "N4rbXsmY_Urh"
      },
      "source": [
        "fig, ax = plt.subplots(figsize=(16,14))\n",
        "sns.boxplot(x='CS_ZONA',y='idade', hue=\"raca\", data=srag_mod);"
      ],
      "execution_count": null,
      "outputs": []
    },
    {
      "cell_type": "markdown",
      "metadata": {
        "id": "BFDKEP94_Hkc"
      },
      "source": [
        "### **Matplotlib**"
      ]
    },
    {
      "cell_type": "code",
      "metadata": {
        "id": "yVdAuWNX_MWj"
      },
      "source": [
        "import matplotlib.pyplot as plt"
      ],
      "execution_count": null,
      "outputs": []
    },
    {
      "cell_type": "code",
      "metadata": {
        "id": "XzgF_JbGAVw7"
      },
      "source": [
        "plt.boxplot(srag_mod.idade)\n",
        "plt.show()"
      ],
      "execution_count": null,
      "outputs": []
    },
    {
      "cell_type": "code",
      "metadata": {
        "id": "IJKNTvhDA4Ue"
      },
      "source": [
        "plt.boxplot(srag_sem_outliers.idade)\n",
        "plt.title('Box Plot da idade')\n",
        "plt.ylabel('idade')\n",
        "plt.show()"
      ],
      "execution_count": null,
      "outputs": []
    },
    {
      "cell_type": "code",
      "metadata": {
        "id": "I9KuwbqjBoBl"
      },
      "source": [
        "plt.boxplot(srag_sem_outliers.idade, vert=False)\n",
        "plt.title('Box Plot da idade')\n",
        "plt.ylabel('idade')\n",
        "plt.show()"
      ],
      "execution_count": null,
      "outputs": []
    },
    {
      "cell_type": "markdown",
      "metadata": {
        "id": "CwImMwXf94cM"
      },
      "source": [
        "## **Histograma**"
      ]
    },
    {
      "cell_type": "markdown",
      "metadata": {
        "id": "HxabcX9lFI82"
      },
      "source": [
        "### **Plotly**"
      ]
    },
    {
      "cell_type": "code",
      "metadata": {
        "id": "lDLCKa3ZSq1b"
      },
      "source": [
        "import plotly.express as px"
      ],
      "execution_count": null,
      "outputs": []
    },
    {
      "cell_type": "code",
      "metadata": {
        "id": "JxIib1HfSJxN"
      },
      "source": [
        "hist1 =  px.histogram (srag_mod,  x = \"idade\", nbins=60)\n",
        "hist1.update_layout(width=800,height=500,title_text='Distribuição das idades')\n",
        "hist1.show()"
      ],
      "execution_count": null,
      "outputs": []
    },
    {
      "cell_type": "code",
      "metadata": {
        "id": "cyUhFq-tPKNE"
      },
      "source": [
        "hist1 =  px.histogram (srag_mod,  x = \"idade\", nbins=60, color='sexo')\n",
        "hist1.update_layout(width=800,height=500,title_text='Distribuição das idades')\n",
        "hist1.show()"
      ],
      "execution_count": null,
      "outputs": []
    },
    {
      "cell_type": "code",
      "metadata": {
        "id": "MxkHnMGcPytc"
      },
      "source": [
        "hist1 =  px.histogram (srag_mod,  x = \"idade\", nbins=60, color = 'raca')\n",
        "hist1.update_layout(width=800,height=500,title_text='Distribuição das idades')\n",
        "hist1.show()"
      ],
      "execution_count": null,
      "outputs": []
    },
    {
      "cell_type": "code",
      "metadata": {
        "id": "zABGer6xP9hf"
      },
      "source": [
        "hist1 =  px.histogram (srag_mod,  x = \"idade\", nbins=60, color='CS_ZONA')\n",
        "hist1.update_layout(width=800,height=500,title_text='Distribuição das idades')\n",
        "hist1.show()"
      ],
      "execution_count": null,
      "outputs": []
    },
    {
      "cell_type": "markdown",
      "metadata": {
        "id": "KJNM8MkADR5S"
      },
      "source": [
        "### **Análise da Normalidade - Gráfico QQPlot**"
      ]
    },
    {
      "cell_type": "code",
      "metadata": {
        "id": "EbV1P0fdC-Ed"
      },
      "source": [
        "srag_mod.idade.describe()"
      ],
      "execution_count": null,
      "outputs": []
    },
    {
      "cell_type": "code",
      "metadata": {
        "id": "OFC3grgXDEW6"
      },
      "source": [
        "srag_mod.idade.mode()"
      ],
      "execution_count": null,
      "outputs": []
    },
    {
      "cell_type": "code",
      "metadata": {
        "id": "0zjKK_BXSZ4p"
      },
      "source": [
        "import scipy.stats as stats\n",
        "import matplotlib.pyplot as plt"
      ],
      "execution_count": null,
      "outputs": []
    },
    {
      "cell_type": "code",
      "metadata": {
        "id": "zsLfWxg5SOog"
      },
      "source": [
        "stats.probplot(srag_mod['idade'], dist=\"norm\", plot=plt)\n",
        "plt.title(\"Análise Normalidade\")\n",
        "plt.show()"
      ],
      "execution_count": null,
      "outputs": []
    },
    {
      "cell_type": "markdown",
      "metadata": {
        "id": "I2h2xWFLXxVU"
      },
      "source": [
        "Teste de Shapiro-Wilk"
      ]
    },
    {
      "cell_type": "markdown",
      "metadata": {
        "id": "KK24t-uqaPEh"
      },
      "source": [
        "CRITÉRIOS:\n",
        "\n",
        "NÍVEL DE SIGNIFICÂNCIA DE 0,05 ou 5% (MAIS UTILIZADO)\n",
        "\n",
        "QUANDO p > 0,05 (distribuição normal)."
      ]
    },
    {
      "cell_type": "code",
      "metadata": {
        "id": "Yq7QMa7Mok5-"
      },
      "source": [
        "stats.shapiro(srag_mod.idade)"
      ],
      "execution_count": null,
      "outputs": []
    },
    {
      "cell_type": "markdown",
      "metadata": {
        "id": "ITrlW4AEXbh3"
      },
      "source": [
        "O teste de Shapiro_Wilk não se aplica a dados maiores que 5000."
      ]
    },
    {
      "cell_type": "markdown",
      "metadata": {
        "id": "JSj2XEaIX6YP"
      },
      "source": [
        "Teste Lilliefors (Kolmogorov-Smirnov)"
      ]
    },
    {
      "cell_type": "code",
      "metadata": {
        "id": "z4p3sByIrI4a"
      },
      "source": [
        "import statsmodels\n",
        "from statsmodels.stats.diagnostic import lilliefors"
      ],
      "execution_count": null,
      "outputs": []
    },
    {
      "cell_type": "code",
      "metadata": {
        "id": "bdVDySehjyL4"
      },
      "source": [
        "estatistica, p = statsmodels.stats.diagnostic.lilliefors(srag_mod.idade, dist = 'norm')\n",
        "print ('Estatística do teste (D) =', round(estatistica,2))\n",
        "print ('p_valor =', p)"
      ],
      "execution_count": null,
      "outputs": []
    },
    {
      "cell_type": "markdown",
      "metadata": {
        "id": "V_pmkZ_MFFLO"
      },
      "source": [
        "### **Seaborn**"
      ]
    },
    {
      "cell_type": "code",
      "metadata": {
        "id": "8GiwotL6Fayy"
      },
      "source": [
        "import seaborn as sns"
      ],
      "execution_count": null,
      "outputs": []
    },
    {
      "cell_type": "code",
      "metadata": {
        "id": "ekrtfUIrG26X"
      },
      "source": [
        "sns.histplot(srag_mod, x='idade', bins=30, color=\"orange\", kde=True, stat=\"count\");\n",
        "ax.set_title(\"Distribuição SRAG por idade \", fontdict={'fontsize':20});\n",
        "# ax.set_xlabel('Idade', fontdict={'fontsize':15})\n",
        "# ax.set_ylabel('Quantidade', fontdict={'fontsize':15});\n"
      ],
      "execution_count": null,
      "outputs": []
    },
    {
      "cell_type": "markdown",
      "metadata": {
        "id": "e0aidP0zJb5A"
      },
      "source": [
        "### **Matplotlib**"
      ]
    },
    {
      "cell_type": "code",
      "metadata": {
        "id": "whG1p0h7JecO"
      },
      "source": [
        "import matplotlib.pyplot as plt\n"
      ],
      "execution_count": null,
      "outputs": []
    },
    {
      "cell_type": "code",
      "metadata": {
        "id": "3rD0-b0eJpP3"
      },
      "source": [
        "fig, ax = plt.subplots(figsize=(10,8))\n",
        "plt.hist(srag_mod.idade,color='red',density=False,bins=30)\n",
        "plt.title('Distribuição SRAG por idade', fontsize=20)\n",
        "plt.xlabel('Idade')\n",
        "plt.ylabel('Quantidade')\n",
        "plt.show()"
      ],
      "execution_count": null,
      "outputs": []
    },
    {
      "cell_type": "markdown",
      "metadata": {
        "id": "3wOJV0HcNITD"
      },
      "source": [
        "## **Gráfico de Dispersão**"
      ]
    },
    {
      "cell_type": "code",
      "metadata": {
        "id": "xkkfDARMPcMz"
      },
      "source": [
        "srag_mod.head(2)"
      ],
      "execution_count": null,
      "outputs": []
    },
    {
      "cell_type": "code",
      "metadata": {
        "id": "3WSn7RSHPu2d"
      },
      "source": [
        "srag_catanduva = srag_mod.loc[srag_mod.ID_MN_RESI == 'CATANDUVA']\n",
        "srag_catanduva"
      ],
      "execution_count": null,
      "outputs": []
    },
    {
      "cell_type": "code",
      "metadata": {
        "id": "P6PhPjqwQcH4"
      },
      "source": [
        "srag_catanduva.shape"
      ],
      "execution_count": null,
      "outputs": []
    },
    {
      "cell_type": "markdown",
      "metadata": {
        "id": "iSpLl3N4O-FS"
      },
      "source": [
        "### **Matplotlib**"
      ]
    },
    {
      "cell_type": "code",
      "metadata": {
        "id": "RNvz63RB_xYn"
      },
      "source": [
        "import matplotlib.pyplot as plt"
      ],
      "execution_count": null,
      "outputs": []
    },
    {
      "cell_type": "code",
      "metadata": {
        "id": "L3hM-ETM-Eio"
      },
      "source": [
        "plt.scatter(srag_catanduva.data,srag_catanduva.idade)\n",
        "plt.title('Gráfico de Dispersão')\n",
        "plt.xlabel('Data')\n",
        "plt.ylabel('Idade')\n",
        "plt.grid(False)\n",
        "plt.show()"
      ],
      "execution_count": null,
      "outputs": []
    },
    {
      "cell_type": "markdown",
      "metadata": {
        "id": "rvWp_aniRXda"
      },
      "source": [
        "### **Seaborn**"
      ]
    },
    {
      "cell_type": "code",
      "metadata": {
        "id": "ZNOM7sEXRXdb"
      },
      "source": [
        "import seaborn as sns"
      ],
      "execution_count": null,
      "outputs": []
    },
    {
      "cell_type": "code",
      "metadata": {
        "id": "_esxW3e0RXdc"
      },
      "source": [
        "fig, ax = plt.subplots(figsize=(15,12))\n",
        "sns.scatterplot(x='data', y='idade', data=srag_catanduva, color='brown')\n",
        "ax.set_title(\"Gráfico de dispersão da Idade em função da Data\", fontdict={'fontsize':18});\n",
        "ax.set_xlabel('Datas', fontdict={'fontsize':12})\n",
        "ax.set_ylabel('Idade', fontdict={'fontsize':12});"
      ],
      "execution_count": null,
      "outputs": []
    },
    {
      "cell_type": "markdown",
      "metadata": {
        "id": "JpWvAzFyXPeU"
      },
      "source": [
        "### **Plotly**"
      ]
    },
    {
      "cell_type": "code",
      "metadata": {
        "id": "-YAMCDpaXqTa"
      },
      "source": [
        "import plotly.express as px"
      ],
      "execution_count": null,
      "outputs": []
    },
    {
      "cell_type": "code",
      "metadata": {
        "id": "A2RCgB0cX6zi"
      },
      "source": [
        "disp = px.scatter(x=srag_catanduva.data, y=srag_catanduva.idade,color=srag_catanduva['sexo'])\n",
        "disp.update_layout(width=800,height=500,title_text='Gráfico de dispersão da Idade em função da Data')\n",
        "disp.update_xaxes(title = 'DATAS')\n",
        "disp.update_yaxes(title = 'IDADE')\n",
        "disp.show()"
      ],
      "execution_count": null,
      "outputs": []
    },
    {
      "cell_type": "markdown",
      "metadata": {
        "id": "4vJw8qH_aUvg"
      },
      "source": [
        "## **Gráfico de Setores (Pizza)**"
      ]
    },
    {
      "cell_type": "markdown",
      "metadata": {
        "id": "EJ6iuga-aemn"
      },
      "source": [
        "### **Plotly**"
      ]
    },
    {
      "cell_type": "code",
      "metadata": {
        "id": "Yrms_ul0aemo"
      },
      "source": [
        "import plotly.express as px"
      ],
      "execution_count": null,
      "outputs": []
    },
    {
      "cell_type": "code",
      "metadata": {
        "id": "Y-13p9shcgqT"
      },
      "source": [
        "srag_mod['sexo'].value_counts()"
      ],
      "execution_count": null,
      "outputs": []
    },
    {
      "cell_type": "code",
      "metadata": {
        "id": "_zmoawrSbckG"
      },
      "source": [
        "pizza = px.pie(srag_mod, 'sexo')\n",
        "pizza.update_layout(title_text='Gráfico de setores')\n",
        "pizza.show()"
      ],
      "execution_count": null,
      "outputs": []
    },
    {
      "cell_type": "code",
      "metadata": {
        "id": "xyxT5WXjcnZq"
      },
      "source": [
        "srag_mod['raca'].value_counts()"
      ],
      "execution_count": null,
      "outputs": []
    },
    {
      "cell_type": "code",
      "metadata": {
        "id": "dy7ihqF4b0oT"
      },
      "source": [
        "pizza = px.pie(srag_mod, 'raca')\n",
        "pizza.update_layout(title_text='Gráfico de setores por Raça')\n",
        "pizza.show()"
      ],
      "execution_count": null,
      "outputs": []
    },
    {
      "cell_type": "code",
      "metadata": {
        "id": "azfhMAlbcq75"
      },
      "source": [
        "srag_mod['CS_ZONA'].value_counts()"
      ],
      "execution_count": null,
      "outputs": []
    },
    {
      "cell_type": "code",
      "metadata": {
        "id": "uqS-TaJnb5Zo"
      },
      "source": [
        "pizza = px.pie(srag_mod, 'CS_ZONA')\n",
        "pizza.update_layout(title_text='Gráfico de setores')\n",
        "pizza.show()"
      ],
      "execution_count": null,
      "outputs": []
    },
    {
      "cell_type": "markdown",
      "metadata": {
        "id": "eIKmpGcTeX26"
      },
      "source": [
        "### **Matplotlib**"
      ]
    },
    {
      "cell_type": "code",
      "metadata": {
        "id": "62wXf745fCl_"
      },
      "source": [
        "import matplotlib.pyplot as plt"
      ],
      "execution_count": null,
      "outputs": []
    },
    {
      "cell_type": "code",
      "metadata": {
        "id": "wVysgToWfbMW"
      },
      "source": [
        "contagem = srag_mod['sexo'].value_counts()\n",
        "contagem"
      ],
      "execution_count": null,
      "outputs": []
    },
    {
      "cell_type": "code",
      "metadata": {
        "id": "vXoCCJhFfbMX"
      },
      "source": [
        "contagem.index"
      ],
      "execution_count": null,
      "outputs": []
    },
    {
      "cell_type": "code",
      "metadata": {
        "id": "seLwpEWtfMdu"
      },
      "source": [
        "plt.figure(figsize=(12, 12))\n",
        "plt.pie(contagem, labels=contagem.index, autopct = '% .2f %%')\n",
        "plt.show()"
      ],
      "execution_count": null,
      "outputs": []
    },
    {
      "cell_type": "code",
      "metadata": {
        "id": "R9bh0wnUiAbd"
      },
      "source": [
        "contagem2 = srag_mod['raca'].value_counts()\n",
        "contagem2"
      ],
      "execution_count": null,
      "outputs": []
    },
    {
      "cell_type": "code",
      "metadata": {
        "id": "Nicwk47uiAbf"
      },
      "source": [
        "contagem2.index"
      ],
      "execution_count": null,
      "outputs": []
    },
    {
      "cell_type": "code",
      "metadata": {
        "id": "88CZCHQsiAbf"
      },
      "source": [
        "plt.figure(figsize=(12, 12))\n",
        "plt.pie(contagem2, labels=contagem2.index, autopct = '% .2f %%')\n",
        "plt.show()"
      ],
      "execution_count": null,
      "outputs": []
    },
    {
      "cell_type": "code",
      "metadata": {
        "id": "tI9Y6gj3iRQl"
      },
      "source": [
        "contagem3 = srag_mod['CS_ZONA'].value_counts()\n",
        "contagem3"
      ],
      "execution_count": null,
      "outputs": []
    },
    {
      "cell_type": "code",
      "metadata": {
        "id": "P_ntdQQ8iRQn"
      },
      "source": [
        "contagem3.index"
      ],
      "execution_count": null,
      "outputs": []
    },
    {
      "cell_type": "code",
      "metadata": {
        "id": "oVZHYec1iRQn"
      },
      "source": [
        "plt.figure(figsize=(12, 12))\n",
        "plt.pie(contagem3, labels=contagem3.index, autopct = '% .2f %%')\n",
        "plt.show()"
      ],
      "execution_count": null,
      "outputs": []
    },
    {
      "cell_type": "markdown",
      "metadata": {
        "id": "Iom8HQm3cKv_"
      },
      "source": [
        "## **Gráfico de Bolhas**"
      ]
    },
    {
      "cell_type": "markdown",
      "metadata": {
        "id": "lF0YCKkblL5r"
      },
      "source": [
        "### **Plotly**"
      ]
    },
    {
      "cell_type": "code",
      "metadata": {
        "id": "ndmt2SC9-yBy"
      },
      "source": [
        "import plotly.express as px"
      ],
      "execution_count": null,
      "outputs": []
    },
    {
      "cell_type": "code",
      "metadata": {
        "colab": {
          "base_uri": "https://localhost:8080/",
          "height": 212
        },
        "id": "6pv_y70vSLKb",
        "outputId": "3f7d2123-bdb9-4a7e-d09e-ad8680c88941"
      },
      "source": [
        "srag_tupa = srag_mod.loc[srag_mod.ID_MN_RESI == 'TUPA']\n",
        "srag_tupa.head(3)"
      ],
      "execution_count": null,
      "outputs": [
        {
          "output_type": "execute_result",
          "data": {
            "text/html": [
              "<div>\n",
              "<style scoped>\n",
              "    .dataframe tbody tr th:only-of-type {\n",
              "        vertical-align: middle;\n",
              "    }\n",
              "\n",
              "    .dataframe tbody tr th {\n",
              "        vertical-align: top;\n",
              "    }\n",
              "\n",
              "    .dataframe thead th {\n",
              "        text-align: right;\n",
              "    }\n",
              "</style>\n",
              "<table border=\"1\" class=\"dataframe\">\n",
              "  <thead>\n",
              "    <tr style=\"text-align: right;\">\n",
              "      <th></th>\n",
              "      <th>data</th>\n",
              "      <th>sexo</th>\n",
              "      <th>idade</th>\n",
              "      <th>TP_IDADE</th>\n",
              "      <th>ID_MN_RESI</th>\n",
              "      <th>CS_ZONA</th>\n",
              "      <th>CS_GESTANT</th>\n",
              "      <th>raca</th>\n",
              "      <th>CS_ETINIA</th>\n",
              "      <th>CS_ESCOL_N</th>\n",
              "      <th>SURTO_SG</th>\n",
              "      <th>NOSOCOMIAL</th>\n",
              "      <th>AVE_SUINO</th>\n",
              "      <th>FEBRE</th>\n",
              "      <th>TOSSE</th>\n",
              "      <th>GARGANTA</th>\n",
              "      <th>DISPNEIA</th>\n",
              "      <th>DESC_RESP</th>\n",
              "      <th>SATURACAO</th>\n",
              "      <th>DIARREIA</th>\n",
              "      <th>VOMITO</th>\n",
              "      <th>OUTRO_SIN</th>\n",
              "      <th>OUTRO_DES</th>\n",
              "      <th>PUERPERA</th>\n",
              "      <th>CARDIOPATI</th>\n",
              "      <th>HEMATOLOGI</th>\n",
              "      <th>SIND_DOWN</th>\n",
              "      <th>HEPATICA</th>\n",
              "      <th>ASMA</th>\n",
              "      <th>DIABETES</th>\n",
              "      <th>NEUROLOGIC</th>\n",
              "      <th>PNEUMOPATI</th>\n",
              "      <th>IMUNODEPRE</th>\n",
              "      <th>RENAL</th>\n",
              "      <th>OBESIDADE</th>\n",
              "      <th>OBES_IMC</th>\n",
              "      <th>OUT_MORBI</th>\n",
              "      <th>MORB_DESC</th>\n",
              "      <th>VACINA</th>\n",
              "      <th>DT_UT_DOSE</th>\n",
              "      <th>MAE_VAC</th>\n",
              "      <th>DT_VAC_MAE</th>\n",
              "      <th>M_AMAMENTA</th>\n",
              "    </tr>\n",
              "  </thead>\n",
              "  <tbody>\n",
              "    <tr>\n",
              "      <th>39</th>\n",
              "      <td>2020-01-08</td>\n",
              "      <td>F</td>\n",
              "      <td>39</td>\n",
              "      <td>3</td>\n",
              "      <td>TUPA</td>\n",
              "      <td>urbana</td>\n",
              "      <td>5</td>\n",
              "      <td>branca</td>\n",
              "      <td>NaN</td>\n",
              "      <td>4.0</td>\n",
              "      <td>2.0</td>\n",
              "      <td>2.0</td>\n",
              "      <td>2.0</td>\n",
              "      <td>1.0</td>\n",
              "      <td>1.0</td>\n",
              "      <td>2.0</td>\n",
              "      <td>1.0</td>\n",
              "      <td>1.0</td>\n",
              "      <td>NaN</td>\n",
              "      <td>2.0</td>\n",
              "      <td>2.0</td>\n",
              "      <td>1.0</td>\n",
              "      <td>MIALGIA</td>\n",
              "      <td>2.0</td>\n",
              "      <td>2.0</td>\n",
              "      <td>2.0</td>\n",
              "      <td>2.0</td>\n",
              "      <td>2.0</td>\n",
              "      <td>1.0</td>\n",
              "      <td>2.0</td>\n",
              "      <td>2.0</td>\n",
              "      <td>2.0</td>\n",
              "      <td>2.0</td>\n",
              "      <td>2.0</td>\n",
              "      <td>2.0</td>\n",
              "      <td>NaN</td>\n",
              "      <td>2.0</td>\n",
              "      <td>NaN</td>\n",
              "      <td>2.0</td>\n",
              "      <td>None</td>\n",
              "      <td>NaN</td>\n",
              "      <td>None</td>\n",
              "      <td>NaN</td>\n",
              "    </tr>\n",
              "    <tr>\n",
              "      <th>689</th>\n",
              "      <td>2020-02-22</td>\n",
              "      <td>M</td>\n",
              "      <td>30</td>\n",
              "      <td>3</td>\n",
              "      <td>TUPA</td>\n",
              "      <td>urbana</td>\n",
              "      <td>6</td>\n",
              "      <td>branca</td>\n",
              "      <td>NaN</td>\n",
              "      <td>3.0</td>\n",
              "      <td>2.0</td>\n",
              "      <td>2.0</td>\n",
              "      <td>2.0</td>\n",
              "      <td>1.0</td>\n",
              "      <td>1.0</td>\n",
              "      <td>1.0</td>\n",
              "      <td>1.0</td>\n",
              "      <td>1.0</td>\n",
              "      <td>1.0</td>\n",
              "      <td>1.0</td>\n",
              "      <td>1.0</td>\n",
              "      <td>2.0</td>\n",
              "      <td>NaN</td>\n",
              "      <td>2.0</td>\n",
              "      <td>2.0</td>\n",
              "      <td>2.0</td>\n",
              "      <td>2.0</td>\n",
              "      <td>2.0</td>\n",
              "      <td>2.0</td>\n",
              "      <td>2.0</td>\n",
              "      <td>2.0</td>\n",
              "      <td>2.0</td>\n",
              "      <td>1.0</td>\n",
              "      <td>2.0</td>\n",
              "      <td>2.0</td>\n",
              "      <td>NaN</td>\n",
              "      <td>1.0</td>\n",
              "      <td>HIV</td>\n",
              "      <td>1.0</td>\n",
              "      <td>5/6/2019</td>\n",
              "      <td>NaN</td>\n",
              "      <td>None</td>\n",
              "      <td>NaN</td>\n",
              "    </tr>\n",
              "    <tr>\n",
              "      <th>878</th>\n",
              "      <td>2020-03-04</td>\n",
              "      <td>M</td>\n",
              "      <td>1</td>\n",
              "      <td>3</td>\n",
              "      <td>TUPA</td>\n",
              "      <td>urbana</td>\n",
              "      <td>6</td>\n",
              "      <td>branca</td>\n",
              "      <td>NaN</td>\n",
              "      <td>NaN</td>\n",
              "      <td>2.0</td>\n",
              "      <td>2.0</td>\n",
              "      <td>2.0</td>\n",
              "      <td>1.0</td>\n",
              "      <td>1.0</td>\n",
              "      <td>2.0</td>\n",
              "      <td>2.0</td>\n",
              "      <td>2.0</td>\n",
              "      <td>1.0</td>\n",
              "      <td>2.0</td>\n",
              "      <td>1.0</td>\n",
              "      <td>1.0</td>\n",
              "      <td>CORIZA</td>\n",
              "      <td>2.0</td>\n",
              "      <td>1.0</td>\n",
              "      <td>2.0</td>\n",
              "      <td>2.0</td>\n",
              "      <td>2.0</td>\n",
              "      <td>2.0</td>\n",
              "      <td>2.0</td>\n",
              "      <td>2.0</td>\n",
              "      <td>2.0</td>\n",
              "      <td>2.0</td>\n",
              "      <td>2.0</td>\n",
              "      <td>2.0</td>\n",
              "      <td>NaN</td>\n",
              "      <td>2.0</td>\n",
              "      <td>NaN</td>\n",
              "      <td>2.0</td>\n",
              "      <td>None</td>\n",
              "      <td>NaN</td>\n",
              "      <td>None</td>\n",
              "      <td>NaN</td>\n",
              "    </tr>\n",
              "  </tbody>\n",
              "</table>\n",
              "</div>"
            ],
            "text/plain": [
              "          data sexo  idade  TP_IDADE  ... DT_UT_DOSE MAE_VAC  DT_VAC_MAE M_AMAMENTA\n",
              "39  2020-01-08    F     39         3  ...       None     NaN        None        NaN\n",
              "689 2020-02-22    M     30         3  ...   5/6/2019     NaN        None        NaN\n",
              "878 2020-03-04    M      1         3  ...       None     NaN        None        NaN\n",
              "\n",
              "[3 rows x 43 columns]"
            ]
          },
          "metadata": {},
          "execution_count": 28
        }
      ]
    },
    {
      "cell_type": "code",
      "metadata": {
        "colab": {
          "base_uri": "https://localhost:8080/"
        },
        "id": "KWOQV5TWSLKc",
        "outputId": "7e63451f-7f7a-47cf-8e61-044cd348a498"
      },
      "source": [
        "srag_tupa.shape"
      ],
      "execution_count": null,
      "outputs": [
        {
          "output_type": "execute_result",
          "data": {
            "text/plain": [
              "(47, 43)"
            ]
          },
          "metadata": {},
          "execution_count": 29
        }
      ]
    },
    {
      "cell_type": "code",
      "metadata": {
        "id": "Z-OI_cP8Ydpg",
        "colab": {
          "base_uri": "https://localhost:8080/",
          "height": 542
        },
        "outputId": "fec5e4e0-7112-4683-a4dd-b2cc1591610a"
      },
      "source": [
        "bolhas = px.scatter(srag_tupa, x=\"data\", y=\"CS_ZONA\", color=\"sexo\", size='idade')\n",
        "bolhas.show()"
      ],
      "execution_count": null,
      "outputs": [
        {
          "output_type": "display_data",
          "data": {
            "text/html": [
              "<html>\n",
              "<head><meta charset=\"utf-8\" /></head>\n",
              "<body>\n",
              "    <div>\n",
              "            <script src=\"https://cdnjs.cloudflare.com/ajax/libs/mathjax/2.7.5/MathJax.js?config=TeX-AMS-MML_SVG\"></script><script type=\"text/javascript\">if (window.MathJax) {MathJax.Hub.Config({SVG: {font: \"STIX-Web\"}});}</script>\n",
              "                <script type=\"text/javascript\">window.PlotlyConfig = {MathJaxConfig: 'local'};</script>\n",
              "        <script src=\"https://cdn.plot.ly/plotly-latest.min.js\"></script>    \n",
              "            <div id=\"9b9e68e0-fc3f-42cc-b235-f8e874cdadf4\" class=\"plotly-graph-div\" style=\"height:525px; width:100%;\"></div>\n",
              "            <script type=\"text/javascript\">\n",
              "                \n",
              "                    window.PLOTLYENV=window.PLOTLYENV || {};\n",
              "                    \n",
              "                if (document.getElementById(\"9b9e68e0-fc3f-42cc-b235-f8e874cdadf4\")) {\n",
              "                    Plotly.newPlot(\n",
              "                        '9b9e68e0-fc3f-42cc-b235-f8e874cdadf4',\n",
              "                        [{\"hoverlabel\": {\"namelength\": 0}, \"hovertemplate\": \"sexo=F<br>data=%{x}<br>CS_ZONA=%{y}<br>idade=%{marker.size}\", \"legendgroup\": \"sexo=F\", \"marker\": {\"color\": \"#636efa\", \"size\": [39, 67, 44, 45, 59, 33, 46, 44, 39, 63, 47, 65, 70, 35, 61, 81, 59, 54, 37, 35, 26, 65, 67, 46], \"sizemode\": \"area\", \"sizeref\": 0.2275, \"symbol\": \"circle\"}, \"mode\": \"markers\", \"name\": \"sexo=F\", \"showlegend\": true, \"type\": \"scatter\", \"x\": [\"2020-01-08T00:00:00\", \"2020-03-16T00:00:00\", \"2020-03-19T00:00:00\", \"2020-04-23T00:00:00\", \"2020-05-13T00:00:00\", \"2020-04-20T00:00:00\", \"2020-05-02T00:00:00\", \"2020-05-03T00:00:00\", \"2020-05-03T00:00:00\", \"2020-05-04T00:00:00\", \"2020-04-25T00:00:00\", \"2020-05-16T00:00:00\", \"2020-05-21T00:00:00\", \"2020-05-23T00:00:00\", \"2020-05-26T00:00:00\", \"2020-05-25T00:00:00\", \"2020-05-13T00:00:00\", \"2020-05-20T00:00:00\", \"2020-06-01T00:00:00\", \"2020-04-29T00:00:00\", \"2020-06-03T00:00:00\", \"2020-06-03T00:00:00\", \"2020-06-05T00:00:00\", \"2020-06-10T00:00:00\"], \"xaxis\": \"x\", \"y\": [\"urbana\", \"urbana\", \"urbana\", \"urbana\", \"urbana\", \"rural\", \"urbana\", \"urbana\", \"urbana\", \"urbana\", \"urbana\", \"urbana\", \"urbana\", \"urbana\", \"urbana\", \"urbana\", \"urbana\", \"urbana\", \"rural\", \"urbana\", \"rural\", \"urbana\", \"urbana\", \"urbana\"], \"yaxis\": \"y\"}, {\"hoverlabel\": {\"namelength\": 0}, \"hovertemplate\": \"sexo=M<br>data=%{x}<br>CS_ZONA=%{y}<br>idade=%{marker.size}\", \"legendgroup\": \"sexo=M\", \"marker\": {\"color\": \"#EF553B\", \"size\": [30, 1, 32, 63, 57, 40, 33, 86, 60, 91, 77, 77, 75, 61, 29, 57, 51, 44, 70, 61, 49, 67, 43], \"sizemode\": \"area\", \"sizeref\": 0.2275, \"symbol\": \"circle\"}, \"mode\": \"markers\", \"name\": \"sexo=M\", \"showlegend\": true, \"type\": \"scatter\", \"x\": [\"2020-02-22T00:00:00\", \"2020-03-04T00:00:00\", \"2020-03-16T00:00:00\", \"2020-03-26T00:00:00\", \"2020-04-16T00:00:00\", \"2020-04-28T00:00:00\", \"2020-04-27T00:00:00\", \"2020-05-26T00:00:00\", \"2020-05-11T00:00:00\", \"2020-05-19T00:00:00\", \"2020-05-28T00:00:00\", \"2020-05-25T00:00:00\", \"2020-05-28T00:00:00\", \"2020-05-25T00:00:00\", \"2020-05-28T00:00:00\", \"2020-05-15T00:00:00\", \"2020-05-29T00:00:00\", \"2020-05-06T00:00:00\", \"2020-05-28T00:00:00\", \"2020-06-04T00:00:00\", \"2020-06-06T00:00:00\", \"2020-06-05T00:00:00\", \"2020-06-10T00:00:00\"], \"xaxis\": \"x\", \"y\": [\"urbana\", \"urbana\", \"urbana\", \"urbana\", \"urbana\", \"urbana\", \"urbana\", \"urbana\", \"urbana\", \"urbana\", \"urbana\", \"urbana\", \"urbana\", \"urbana\", \"urbana\", \"urbana\", \"urbana\", \"urbana\", \"urbana\", \"rural\", \"urbana\", \"urbana\", \"urbana\"], \"yaxis\": \"y\"}],\n",
              "                        {\"legend\": {\"itemsizing\": \"constant\", \"tracegroupgap\": 0}, \"margin\": {\"t\": 60}, \"template\": {\"data\": {\"bar\": [{\"error_x\": {\"color\": \"#2a3f5f\"}, \"error_y\": {\"color\": \"#2a3f5f\"}, \"marker\": {\"line\": {\"color\": \"#E5ECF6\", \"width\": 0.5}}, \"type\": \"bar\"}], \"barpolar\": [{\"marker\": {\"line\": {\"color\": \"#E5ECF6\", \"width\": 0.5}}, \"type\": \"barpolar\"}], \"carpet\": [{\"aaxis\": {\"endlinecolor\": \"#2a3f5f\", \"gridcolor\": \"white\", \"linecolor\": \"white\", \"minorgridcolor\": \"white\", \"startlinecolor\": \"#2a3f5f\"}, \"baxis\": {\"endlinecolor\": \"#2a3f5f\", \"gridcolor\": \"white\", \"linecolor\": \"white\", \"minorgridcolor\": \"white\", \"startlinecolor\": \"#2a3f5f\"}, \"type\": \"carpet\"}], \"choropleth\": [{\"colorbar\": {\"outlinewidth\": 0, \"ticks\": \"\"}, \"type\": \"choropleth\"}], \"contour\": [{\"colorbar\": {\"outlinewidth\": 0, \"ticks\": \"\"}, \"colorscale\": [[0.0, \"#0d0887\"], [0.1111111111111111, \"#46039f\"], [0.2222222222222222, \"#7201a8\"], [0.3333333333333333, \"#9c179e\"], [0.4444444444444444, \"#bd3786\"], [0.5555555555555556, \"#d8576b\"], [0.6666666666666666, \"#ed7953\"], [0.7777777777777778, \"#fb9f3a\"], [0.8888888888888888, \"#fdca26\"], [1.0, \"#f0f921\"]], \"type\": \"contour\"}], \"contourcarpet\": [{\"colorbar\": {\"outlinewidth\": 0, \"ticks\": \"\"}, \"type\": \"contourcarpet\"}], \"heatmap\": [{\"colorbar\": {\"outlinewidth\": 0, \"ticks\": \"\"}, \"colorscale\": [[0.0, \"#0d0887\"], [0.1111111111111111, \"#46039f\"], [0.2222222222222222, \"#7201a8\"], [0.3333333333333333, \"#9c179e\"], [0.4444444444444444, \"#bd3786\"], [0.5555555555555556, \"#d8576b\"], [0.6666666666666666, \"#ed7953\"], [0.7777777777777778, \"#fb9f3a\"], [0.8888888888888888, \"#fdca26\"], [1.0, \"#f0f921\"]], \"type\": \"heatmap\"}], \"heatmapgl\": [{\"colorbar\": {\"outlinewidth\": 0, \"ticks\": \"\"}, \"colorscale\": [[0.0, \"#0d0887\"], [0.1111111111111111, \"#46039f\"], [0.2222222222222222, \"#7201a8\"], [0.3333333333333333, \"#9c179e\"], [0.4444444444444444, \"#bd3786\"], [0.5555555555555556, \"#d8576b\"], [0.6666666666666666, \"#ed7953\"], [0.7777777777777778, \"#fb9f3a\"], [0.8888888888888888, \"#fdca26\"], [1.0, \"#f0f921\"]], \"type\": \"heatmapgl\"}], \"histogram\": [{\"marker\": {\"colorbar\": {\"outlinewidth\": 0, \"ticks\": \"\"}}, \"type\": \"histogram\"}], \"histogram2d\": [{\"colorbar\": {\"outlinewidth\": 0, \"ticks\": \"\"}, \"colorscale\": [[0.0, \"#0d0887\"], [0.1111111111111111, \"#46039f\"], [0.2222222222222222, \"#7201a8\"], [0.3333333333333333, \"#9c179e\"], [0.4444444444444444, \"#bd3786\"], [0.5555555555555556, \"#d8576b\"], [0.6666666666666666, \"#ed7953\"], [0.7777777777777778, \"#fb9f3a\"], [0.8888888888888888, \"#fdca26\"], [1.0, \"#f0f921\"]], \"type\": \"histogram2d\"}], \"histogram2dcontour\": [{\"colorbar\": {\"outlinewidth\": 0, \"ticks\": \"\"}, \"colorscale\": [[0.0, \"#0d0887\"], [0.1111111111111111, \"#46039f\"], [0.2222222222222222, \"#7201a8\"], [0.3333333333333333, \"#9c179e\"], [0.4444444444444444, \"#bd3786\"], [0.5555555555555556, \"#d8576b\"], [0.6666666666666666, \"#ed7953\"], [0.7777777777777778, \"#fb9f3a\"], [0.8888888888888888, \"#fdca26\"], [1.0, \"#f0f921\"]], \"type\": \"histogram2dcontour\"}], \"mesh3d\": [{\"colorbar\": {\"outlinewidth\": 0, \"ticks\": \"\"}, \"type\": \"mesh3d\"}], \"parcoords\": [{\"line\": {\"colorbar\": {\"outlinewidth\": 0, \"ticks\": \"\"}}, \"type\": \"parcoords\"}], \"pie\": [{\"automargin\": true, \"type\": \"pie\"}], \"scatter\": [{\"marker\": {\"colorbar\": {\"outlinewidth\": 0, \"ticks\": \"\"}}, \"type\": \"scatter\"}], \"scatter3d\": [{\"line\": {\"colorbar\": {\"outlinewidth\": 0, \"ticks\": \"\"}}, \"marker\": {\"colorbar\": {\"outlinewidth\": 0, \"ticks\": \"\"}}, \"type\": \"scatter3d\"}], \"scattercarpet\": [{\"marker\": {\"colorbar\": {\"outlinewidth\": 0, \"ticks\": \"\"}}, \"type\": \"scattercarpet\"}], \"scattergeo\": [{\"marker\": {\"colorbar\": {\"outlinewidth\": 0, \"ticks\": \"\"}}, \"type\": \"scattergeo\"}], \"scattergl\": [{\"marker\": {\"colorbar\": {\"outlinewidth\": 0, \"ticks\": \"\"}}, \"type\": \"scattergl\"}], \"scattermapbox\": [{\"marker\": {\"colorbar\": {\"outlinewidth\": 0, \"ticks\": \"\"}}, \"type\": \"scattermapbox\"}], \"scatterpolar\": [{\"marker\": {\"colorbar\": {\"outlinewidth\": 0, \"ticks\": \"\"}}, \"type\": \"scatterpolar\"}], \"scatterpolargl\": [{\"marker\": {\"colorbar\": {\"outlinewidth\": 0, \"ticks\": \"\"}}, \"type\": \"scatterpolargl\"}], \"scatterternary\": [{\"marker\": {\"colorbar\": {\"outlinewidth\": 0, \"ticks\": \"\"}}, \"type\": \"scatterternary\"}], \"surface\": [{\"colorbar\": {\"outlinewidth\": 0, \"ticks\": \"\"}, \"colorscale\": [[0.0, \"#0d0887\"], [0.1111111111111111, \"#46039f\"], [0.2222222222222222, \"#7201a8\"], [0.3333333333333333, \"#9c179e\"], [0.4444444444444444, \"#bd3786\"], [0.5555555555555556, \"#d8576b\"], [0.6666666666666666, \"#ed7953\"], [0.7777777777777778, \"#fb9f3a\"], [0.8888888888888888, \"#fdca26\"], [1.0, \"#f0f921\"]], \"type\": \"surface\"}], \"table\": [{\"cells\": {\"fill\": {\"color\": \"#EBF0F8\"}, \"line\": {\"color\": \"white\"}}, \"header\": {\"fill\": {\"color\": \"#C8D4E3\"}, \"line\": {\"color\": \"white\"}}, \"type\": \"table\"}]}, \"layout\": {\"annotationdefaults\": {\"arrowcolor\": \"#2a3f5f\", \"arrowhead\": 0, \"arrowwidth\": 1}, \"coloraxis\": {\"colorbar\": {\"outlinewidth\": 0, \"ticks\": \"\"}}, \"colorscale\": {\"diverging\": [[0, \"#8e0152\"], [0.1, \"#c51b7d\"], [0.2, \"#de77ae\"], [0.3, \"#f1b6da\"], [0.4, \"#fde0ef\"], [0.5, \"#f7f7f7\"], [0.6, \"#e6f5d0\"], [0.7, \"#b8e186\"], [0.8, \"#7fbc41\"], [0.9, \"#4d9221\"], [1, \"#276419\"]], \"sequential\": [[0.0, \"#0d0887\"], [0.1111111111111111, \"#46039f\"], [0.2222222222222222, \"#7201a8\"], [0.3333333333333333, \"#9c179e\"], [0.4444444444444444, \"#bd3786\"], [0.5555555555555556, \"#d8576b\"], [0.6666666666666666, \"#ed7953\"], [0.7777777777777778, \"#fb9f3a\"], [0.8888888888888888, \"#fdca26\"], [1.0, \"#f0f921\"]], \"sequentialminus\": [[0.0, \"#0d0887\"], [0.1111111111111111, \"#46039f\"], [0.2222222222222222, \"#7201a8\"], [0.3333333333333333, \"#9c179e\"], [0.4444444444444444, \"#bd3786\"], [0.5555555555555556, \"#d8576b\"], [0.6666666666666666, \"#ed7953\"], [0.7777777777777778, \"#fb9f3a\"], [0.8888888888888888, \"#fdca26\"], [1.0, \"#f0f921\"]]}, \"colorway\": [\"#636efa\", \"#EF553B\", \"#00cc96\", \"#ab63fa\", \"#FFA15A\", \"#19d3f3\", \"#FF6692\", \"#B6E880\", \"#FF97FF\", \"#FECB52\"], \"font\": {\"color\": \"#2a3f5f\"}, \"geo\": {\"bgcolor\": \"white\", \"lakecolor\": \"white\", \"landcolor\": \"#E5ECF6\", \"showlakes\": true, \"showland\": true, \"subunitcolor\": \"white\"}, \"hoverlabel\": {\"align\": \"left\"}, \"hovermode\": \"closest\", \"mapbox\": {\"style\": \"light\"}, \"paper_bgcolor\": \"white\", \"plot_bgcolor\": \"#E5ECF6\", \"polar\": {\"angularaxis\": {\"gridcolor\": \"white\", \"linecolor\": \"white\", \"ticks\": \"\"}, \"bgcolor\": \"#E5ECF6\", \"radialaxis\": {\"gridcolor\": \"white\", \"linecolor\": \"white\", \"ticks\": \"\"}}, \"scene\": {\"xaxis\": {\"backgroundcolor\": \"#E5ECF6\", \"gridcolor\": \"white\", \"gridwidth\": 2, \"linecolor\": \"white\", \"showbackground\": true, \"ticks\": \"\", \"zerolinecolor\": \"white\"}, \"yaxis\": {\"backgroundcolor\": \"#E5ECF6\", \"gridcolor\": \"white\", \"gridwidth\": 2, \"linecolor\": \"white\", \"showbackground\": true, \"ticks\": \"\", \"zerolinecolor\": \"white\"}, \"zaxis\": {\"backgroundcolor\": \"#E5ECF6\", \"gridcolor\": \"white\", \"gridwidth\": 2, \"linecolor\": \"white\", \"showbackground\": true, \"ticks\": \"\", \"zerolinecolor\": \"white\"}}, \"shapedefaults\": {\"line\": {\"color\": \"#2a3f5f\"}}, \"ternary\": {\"aaxis\": {\"gridcolor\": \"white\", \"linecolor\": \"white\", \"ticks\": \"\"}, \"baxis\": {\"gridcolor\": \"white\", \"linecolor\": \"white\", \"ticks\": \"\"}, \"bgcolor\": \"#E5ECF6\", \"caxis\": {\"gridcolor\": \"white\", \"linecolor\": \"white\", \"ticks\": \"\"}}, \"title\": {\"x\": 0.05}, \"xaxis\": {\"automargin\": true, \"gridcolor\": \"white\", \"linecolor\": \"white\", \"ticks\": \"\", \"title\": {\"standoff\": 15}, \"zerolinecolor\": \"white\", \"zerolinewidth\": 2}, \"yaxis\": {\"automargin\": true, \"gridcolor\": \"white\", \"linecolor\": \"white\", \"ticks\": \"\", \"title\": {\"standoff\": 15}, \"zerolinecolor\": \"white\", \"zerolinewidth\": 2}}}, \"xaxis\": {\"anchor\": \"y\", \"domain\": [0.0, 1.0], \"title\": {\"text\": \"data\"}}, \"yaxis\": {\"anchor\": \"x\", \"domain\": [0.0, 1.0], \"title\": {\"text\": \"CS_ZONA\"}}},\n",
              "                        {\"responsive\": true}\n",
              "                    ).then(function(){\n",
              "                            \n",
              "var gd = document.getElementById('9b9e68e0-fc3f-42cc-b235-f8e874cdadf4');\n",
              "var x = new MutationObserver(function (mutations, observer) {{\n",
              "        var display = window.getComputedStyle(gd).display;\n",
              "        if (!display || display === 'none') {{\n",
              "            console.log([gd, 'removed!']);\n",
              "            Plotly.purge(gd);\n",
              "            observer.disconnect();\n",
              "        }}\n",
              "}});\n",
              "\n",
              "// Listen for the removal of the full notebook cells\n",
              "var notebookContainer = gd.closest('#notebook-container');\n",
              "if (notebookContainer) {{\n",
              "    x.observe(notebookContainer, {childList: true});\n",
              "}}\n",
              "\n",
              "// Listen for the clearing of the current output cell\n",
              "var outputEl = gd.closest('.output');\n",
              "if (outputEl) {{\n",
              "    x.observe(outputEl, {childList: true});\n",
              "}}\n",
              "\n",
              "                        })\n",
              "                };\n",
              "                \n",
              "            </script>\n",
              "        </div>\n",
              "</body>\n",
              "</html>"
            ]
          },
          "metadata": {}
        }
      ]
    },
    {
      "cell_type": "code",
      "metadata": {
        "colab": {
          "base_uri": "https://localhost:8080/",
          "height": 542
        },
        "id": "rR8wwqS6S1Lg",
        "outputId": "b1a13443-32ed-4add-98ae-39b51e05cbb6"
      },
      "source": [
        "bolhas2 = px.scatter(srag_tupa, x=\"data\", y=\"sexo\", color=\"raca\", size='idade')\n",
        "bolhas2.show()"
      ],
      "execution_count": null,
      "outputs": [
        {
          "output_type": "display_data",
          "data": {
            "text/html": [
              "<html>\n",
              "<head><meta charset=\"utf-8\" /></head>\n",
              "<body>\n",
              "    <div>\n",
              "            <script src=\"https://cdnjs.cloudflare.com/ajax/libs/mathjax/2.7.5/MathJax.js?config=TeX-AMS-MML_SVG\"></script><script type=\"text/javascript\">if (window.MathJax) {MathJax.Hub.Config({SVG: {font: \"STIX-Web\"}});}</script>\n",
              "                <script type=\"text/javascript\">window.PlotlyConfig = {MathJaxConfig: 'local'};</script>\n",
              "        <script src=\"https://cdn.plot.ly/plotly-latest.min.js\"></script>    \n",
              "            <div id=\"e075eb50-267f-4a0f-a0d8-e1ebb3cb8379\" class=\"plotly-graph-div\" style=\"height:525px; width:100%;\"></div>\n",
              "            <script type=\"text/javascript\">\n",
              "                \n",
              "                    window.PLOTLYENV=window.PLOTLYENV || {};\n",
              "                    \n",
              "                if (document.getElementById(\"e075eb50-267f-4a0f-a0d8-e1ebb3cb8379\")) {\n",
              "                    Plotly.newPlot(\n",
              "                        'e075eb50-267f-4a0f-a0d8-e1ebb3cb8379',\n",
              "                        [{\"hoverlabel\": {\"namelength\": 0}, \"hovertemplate\": \"raca=branca<br>data=%{x}<br>sexo=%{y}<br>idade=%{marker.size}\", \"legendgroup\": \"raca=branca\", \"marker\": {\"color\": \"#636efa\", \"size\": [39, 30, 1, 32, 67, 44, 63, 57, 45, 59, 33, 40, 46, 44, 47, 65, 33, 86, 35, 61, 77, 77, 61, 29, 51, 44, 59, 54, 37, 35, 26, 61, 49, 43, 46], \"sizemode\": \"area\", \"sizeref\": 0.2275, \"symbol\": \"circle\"}, \"mode\": \"markers\", \"name\": \"raca=branca\", \"showlegend\": true, \"type\": \"scatter\", \"x\": [\"2020-01-08T00:00:00\", \"2020-02-22T00:00:00\", \"2020-03-04T00:00:00\", \"2020-03-16T00:00:00\", \"2020-03-16T00:00:00\", \"2020-03-19T00:00:00\", \"2020-03-26T00:00:00\", \"2020-04-16T00:00:00\", \"2020-04-23T00:00:00\", \"2020-05-13T00:00:00\", \"2020-04-20T00:00:00\", \"2020-04-28T00:00:00\", \"2020-05-02T00:00:00\", \"2020-05-03T00:00:00\", \"2020-04-25T00:00:00\", \"2020-05-16T00:00:00\", \"2020-04-27T00:00:00\", \"2020-05-26T00:00:00\", \"2020-05-23T00:00:00\", \"2020-05-26T00:00:00\", \"2020-05-28T00:00:00\", \"2020-05-25T00:00:00\", \"2020-05-25T00:00:00\", \"2020-05-28T00:00:00\", \"2020-05-29T00:00:00\", \"2020-05-06T00:00:00\", \"2020-05-13T00:00:00\", \"2020-05-20T00:00:00\", \"2020-06-01T00:00:00\", \"2020-04-29T00:00:00\", \"2020-06-03T00:00:00\", \"2020-06-04T00:00:00\", \"2020-06-06T00:00:00\", \"2020-06-10T00:00:00\", \"2020-06-10T00:00:00\"], \"xaxis\": \"x\", \"y\": [\"F\", \"M\", \"M\", \"M\", \"F\", \"F\", \"M\", \"M\", \"F\", \"F\", \"F\", \"M\", \"F\", \"F\", \"F\", \"F\", \"M\", \"M\", \"F\", \"F\", \"M\", \"M\", \"M\", \"M\", \"M\", \"M\", \"F\", \"F\", \"F\", \"F\", \"F\", \"M\", \"M\", \"M\", \"F\"], \"yaxis\": \"y\"}, {\"hoverlabel\": {\"namelength\": 0}, \"hovertemplate\": \"raca=parda<br>data=%{x}<br>sexo=%{y}<br>idade=%{marker.size}\", \"legendgroup\": \"raca=parda\", \"marker\": {\"color\": \"#EF553B\", \"size\": [39, 63, 70, 60, 75, 57, 70, 67, 67], \"sizemode\": \"area\", \"sizeref\": 0.2275, \"symbol\": \"circle\"}, \"mode\": \"markers\", \"name\": \"raca=parda\", \"showlegend\": true, \"type\": \"scatter\", \"x\": [\"2020-05-03T00:00:00\", \"2020-05-04T00:00:00\", \"2020-05-21T00:00:00\", \"2020-05-11T00:00:00\", \"2020-05-28T00:00:00\", \"2020-05-15T00:00:00\", \"2020-05-28T00:00:00\", \"2020-06-05T00:00:00\", \"2020-06-05T00:00:00\"], \"xaxis\": \"x\", \"y\": [\"F\", \"F\", \"F\", \"M\", \"M\", \"M\", \"M\", \"F\", \"M\"], \"yaxis\": \"y\"}, {\"hoverlabel\": {\"namelength\": 0}, \"hovertemplate\": \"raca=amarela<br>data=%{x}<br>sexo=%{y}<br>idade=%{marker.size}\", \"legendgroup\": \"raca=amarela\", \"marker\": {\"color\": \"#00cc96\", \"size\": [91, 81], \"sizemode\": \"area\", \"sizeref\": 0.2275, \"symbol\": \"circle\"}, \"mode\": \"markers\", \"name\": \"raca=amarela\", \"showlegend\": true, \"type\": \"scatter\", \"x\": [\"2020-05-19T00:00:00\", \"2020-05-25T00:00:00\"], \"xaxis\": \"x\", \"y\": [\"M\", \"F\"], \"yaxis\": \"y\"}, {\"hoverlabel\": {\"namelength\": 0}, \"hovertemplate\": \"raca=ignorado<br>data=%{x}<br>sexo=%{y}<br>idade=%{marker.size}\", \"legendgroup\": \"raca=ignorado\", \"marker\": {\"color\": \"#ab63fa\", \"size\": [65], \"sizemode\": \"area\", \"sizeref\": 0.2275, \"symbol\": \"circle\"}, \"mode\": \"markers\", \"name\": \"raca=ignorado\", \"showlegend\": true, \"type\": \"scatter\", \"x\": [\"2020-06-03T00:00:00\"], \"xaxis\": \"x\", \"y\": [\"F\"], \"yaxis\": \"y\"}],\n",
              "                        {\"legend\": {\"itemsizing\": \"constant\", \"tracegroupgap\": 0}, \"margin\": {\"t\": 60}, \"template\": {\"data\": {\"bar\": [{\"error_x\": {\"color\": \"#2a3f5f\"}, \"error_y\": {\"color\": \"#2a3f5f\"}, \"marker\": {\"line\": {\"color\": \"#E5ECF6\", \"width\": 0.5}}, \"type\": \"bar\"}], \"barpolar\": [{\"marker\": {\"line\": {\"color\": \"#E5ECF6\", \"width\": 0.5}}, \"type\": \"barpolar\"}], \"carpet\": [{\"aaxis\": {\"endlinecolor\": \"#2a3f5f\", \"gridcolor\": \"white\", \"linecolor\": \"white\", \"minorgridcolor\": \"white\", \"startlinecolor\": \"#2a3f5f\"}, \"baxis\": {\"endlinecolor\": \"#2a3f5f\", \"gridcolor\": \"white\", \"linecolor\": \"white\", \"minorgridcolor\": \"white\", \"startlinecolor\": \"#2a3f5f\"}, \"type\": \"carpet\"}], \"choropleth\": [{\"colorbar\": {\"outlinewidth\": 0, \"ticks\": \"\"}, \"type\": \"choropleth\"}], \"contour\": [{\"colorbar\": {\"outlinewidth\": 0, \"ticks\": \"\"}, \"colorscale\": [[0.0, \"#0d0887\"], [0.1111111111111111, \"#46039f\"], [0.2222222222222222, \"#7201a8\"], [0.3333333333333333, \"#9c179e\"], [0.4444444444444444, \"#bd3786\"], [0.5555555555555556, \"#d8576b\"], [0.6666666666666666, \"#ed7953\"], [0.7777777777777778, \"#fb9f3a\"], [0.8888888888888888, \"#fdca26\"], [1.0, \"#f0f921\"]], \"type\": \"contour\"}], \"contourcarpet\": [{\"colorbar\": {\"outlinewidth\": 0, \"ticks\": \"\"}, \"type\": \"contourcarpet\"}], \"heatmap\": [{\"colorbar\": {\"outlinewidth\": 0, \"ticks\": \"\"}, \"colorscale\": [[0.0, \"#0d0887\"], [0.1111111111111111, \"#46039f\"], [0.2222222222222222, \"#7201a8\"], [0.3333333333333333, \"#9c179e\"], [0.4444444444444444, \"#bd3786\"], [0.5555555555555556, \"#d8576b\"], [0.6666666666666666, \"#ed7953\"], [0.7777777777777778, \"#fb9f3a\"], [0.8888888888888888, \"#fdca26\"], [1.0, \"#f0f921\"]], \"type\": \"heatmap\"}], \"heatmapgl\": [{\"colorbar\": {\"outlinewidth\": 0, \"ticks\": \"\"}, \"colorscale\": [[0.0, \"#0d0887\"], [0.1111111111111111, \"#46039f\"], [0.2222222222222222, \"#7201a8\"], [0.3333333333333333, \"#9c179e\"], [0.4444444444444444, \"#bd3786\"], [0.5555555555555556, \"#d8576b\"], [0.6666666666666666, \"#ed7953\"], [0.7777777777777778, \"#fb9f3a\"], [0.8888888888888888, \"#fdca26\"], [1.0, \"#f0f921\"]], \"type\": \"heatmapgl\"}], \"histogram\": [{\"marker\": {\"colorbar\": {\"outlinewidth\": 0, \"ticks\": \"\"}}, \"type\": \"histogram\"}], \"histogram2d\": [{\"colorbar\": {\"outlinewidth\": 0, \"ticks\": \"\"}, \"colorscale\": [[0.0, \"#0d0887\"], [0.1111111111111111, \"#46039f\"], [0.2222222222222222, \"#7201a8\"], [0.3333333333333333, \"#9c179e\"], [0.4444444444444444, \"#bd3786\"], [0.5555555555555556, \"#d8576b\"], [0.6666666666666666, \"#ed7953\"], [0.7777777777777778, \"#fb9f3a\"], [0.8888888888888888, \"#fdca26\"], [1.0, \"#f0f921\"]], \"type\": \"histogram2d\"}], \"histogram2dcontour\": [{\"colorbar\": {\"outlinewidth\": 0, \"ticks\": \"\"}, \"colorscale\": [[0.0, \"#0d0887\"], [0.1111111111111111, \"#46039f\"], [0.2222222222222222, \"#7201a8\"], [0.3333333333333333, \"#9c179e\"], [0.4444444444444444, \"#bd3786\"], [0.5555555555555556, \"#d8576b\"], [0.6666666666666666, \"#ed7953\"], [0.7777777777777778, \"#fb9f3a\"], [0.8888888888888888, \"#fdca26\"], [1.0, \"#f0f921\"]], \"type\": \"histogram2dcontour\"}], \"mesh3d\": [{\"colorbar\": {\"outlinewidth\": 0, \"ticks\": \"\"}, \"type\": \"mesh3d\"}], \"parcoords\": [{\"line\": {\"colorbar\": {\"outlinewidth\": 0, \"ticks\": \"\"}}, \"type\": \"parcoords\"}], \"pie\": [{\"automargin\": true, \"type\": \"pie\"}], \"scatter\": [{\"marker\": {\"colorbar\": {\"outlinewidth\": 0, \"ticks\": \"\"}}, \"type\": \"scatter\"}], \"scatter3d\": [{\"line\": {\"colorbar\": {\"outlinewidth\": 0, \"ticks\": \"\"}}, \"marker\": {\"colorbar\": {\"outlinewidth\": 0, \"ticks\": \"\"}}, \"type\": \"scatter3d\"}], \"scattercarpet\": [{\"marker\": {\"colorbar\": {\"outlinewidth\": 0, \"ticks\": \"\"}}, \"type\": \"scattercarpet\"}], \"scattergeo\": [{\"marker\": {\"colorbar\": {\"outlinewidth\": 0, \"ticks\": \"\"}}, \"type\": \"scattergeo\"}], \"scattergl\": [{\"marker\": {\"colorbar\": {\"outlinewidth\": 0, \"ticks\": \"\"}}, \"type\": \"scattergl\"}], \"scattermapbox\": [{\"marker\": {\"colorbar\": {\"outlinewidth\": 0, \"ticks\": \"\"}}, \"type\": \"scattermapbox\"}], \"scatterpolar\": [{\"marker\": {\"colorbar\": {\"outlinewidth\": 0, \"ticks\": \"\"}}, \"type\": \"scatterpolar\"}], \"scatterpolargl\": [{\"marker\": {\"colorbar\": {\"outlinewidth\": 0, \"ticks\": \"\"}}, \"type\": \"scatterpolargl\"}], \"scatterternary\": [{\"marker\": {\"colorbar\": {\"outlinewidth\": 0, \"ticks\": \"\"}}, \"type\": \"scatterternary\"}], \"surface\": [{\"colorbar\": {\"outlinewidth\": 0, \"ticks\": \"\"}, \"colorscale\": [[0.0, \"#0d0887\"], [0.1111111111111111, \"#46039f\"], [0.2222222222222222, \"#7201a8\"], [0.3333333333333333, \"#9c179e\"], [0.4444444444444444, \"#bd3786\"], [0.5555555555555556, \"#d8576b\"], [0.6666666666666666, \"#ed7953\"], [0.7777777777777778, \"#fb9f3a\"], [0.8888888888888888, \"#fdca26\"], [1.0, \"#f0f921\"]], \"type\": \"surface\"}], \"table\": [{\"cells\": {\"fill\": {\"color\": \"#EBF0F8\"}, \"line\": {\"color\": \"white\"}}, \"header\": {\"fill\": {\"color\": \"#C8D4E3\"}, \"line\": {\"color\": \"white\"}}, \"type\": \"table\"}]}, \"layout\": {\"annotationdefaults\": {\"arrowcolor\": \"#2a3f5f\", \"arrowhead\": 0, \"arrowwidth\": 1}, \"coloraxis\": {\"colorbar\": {\"outlinewidth\": 0, \"ticks\": \"\"}}, \"colorscale\": {\"diverging\": [[0, \"#8e0152\"], [0.1, \"#c51b7d\"], [0.2, \"#de77ae\"], [0.3, \"#f1b6da\"], [0.4, \"#fde0ef\"], [0.5, \"#f7f7f7\"], [0.6, \"#e6f5d0\"], [0.7, \"#b8e186\"], [0.8, \"#7fbc41\"], [0.9, \"#4d9221\"], [1, \"#276419\"]], \"sequential\": [[0.0, \"#0d0887\"], [0.1111111111111111, \"#46039f\"], [0.2222222222222222, \"#7201a8\"], [0.3333333333333333, \"#9c179e\"], [0.4444444444444444, \"#bd3786\"], [0.5555555555555556, \"#d8576b\"], [0.6666666666666666, \"#ed7953\"], [0.7777777777777778, \"#fb9f3a\"], [0.8888888888888888, \"#fdca26\"], [1.0, \"#f0f921\"]], \"sequentialminus\": [[0.0, \"#0d0887\"], [0.1111111111111111, \"#46039f\"], [0.2222222222222222, \"#7201a8\"], [0.3333333333333333, \"#9c179e\"], [0.4444444444444444, \"#bd3786\"], [0.5555555555555556, \"#d8576b\"], [0.6666666666666666, \"#ed7953\"], [0.7777777777777778, \"#fb9f3a\"], [0.8888888888888888, \"#fdca26\"], [1.0, \"#f0f921\"]]}, \"colorway\": [\"#636efa\", \"#EF553B\", \"#00cc96\", \"#ab63fa\", \"#FFA15A\", \"#19d3f3\", \"#FF6692\", \"#B6E880\", \"#FF97FF\", \"#FECB52\"], \"font\": {\"color\": \"#2a3f5f\"}, \"geo\": {\"bgcolor\": \"white\", \"lakecolor\": \"white\", \"landcolor\": \"#E5ECF6\", \"showlakes\": true, \"showland\": true, \"subunitcolor\": \"white\"}, \"hoverlabel\": {\"align\": \"left\"}, \"hovermode\": \"closest\", \"mapbox\": {\"style\": \"light\"}, \"paper_bgcolor\": \"white\", \"plot_bgcolor\": \"#E5ECF6\", \"polar\": {\"angularaxis\": {\"gridcolor\": \"white\", \"linecolor\": \"white\", \"ticks\": \"\"}, \"bgcolor\": \"#E5ECF6\", \"radialaxis\": {\"gridcolor\": \"white\", \"linecolor\": \"white\", \"ticks\": \"\"}}, \"scene\": {\"xaxis\": {\"backgroundcolor\": \"#E5ECF6\", \"gridcolor\": \"white\", \"gridwidth\": 2, \"linecolor\": \"white\", \"showbackground\": true, \"ticks\": \"\", \"zerolinecolor\": \"white\"}, \"yaxis\": {\"backgroundcolor\": \"#E5ECF6\", \"gridcolor\": \"white\", \"gridwidth\": 2, \"linecolor\": \"white\", \"showbackground\": true, \"ticks\": \"\", \"zerolinecolor\": \"white\"}, \"zaxis\": {\"backgroundcolor\": \"#E5ECF6\", \"gridcolor\": \"white\", \"gridwidth\": 2, \"linecolor\": \"white\", \"showbackground\": true, \"ticks\": \"\", \"zerolinecolor\": \"white\"}}, \"shapedefaults\": {\"line\": {\"color\": \"#2a3f5f\"}}, \"ternary\": {\"aaxis\": {\"gridcolor\": \"white\", \"linecolor\": \"white\", \"ticks\": \"\"}, \"baxis\": {\"gridcolor\": \"white\", \"linecolor\": \"white\", \"ticks\": \"\"}, \"bgcolor\": \"#E5ECF6\", \"caxis\": {\"gridcolor\": \"white\", \"linecolor\": \"white\", \"ticks\": \"\"}}, \"title\": {\"x\": 0.05}, \"xaxis\": {\"automargin\": true, \"gridcolor\": \"white\", \"linecolor\": \"white\", \"ticks\": \"\", \"title\": {\"standoff\": 15}, \"zerolinecolor\": \"white\", \"zerolinewidth\": 2}, \"yaxis\": {\"automargin\": true, \"gridcolor\": \"white\", \"linecolor\": \"white\", \"ticks\": \"\", \"title\": {\"standoff\": 15}, \"zerolinecolor\": \"white\", \"zerolinewidth\": 2}}}, \"xaxis\": {\"anchor\": \"y\", \"domain\": [0.0, 1.0], \"title\": {\"text\": \"data\"}}, \"yaxis\": {\"anchor\": \"x\", \"domain\": [0.0, 1.0], \"title\": {\"text\": \"sexo\"}}},\n",
              "                        {\"responsive\": true}\n",
              "                    ).then(function(){\n",
              "                            \n",
              "var gd = document.getElementById('e075eb50-267f-4a0f-a0d8-e1ebb3cb8379');\n",
              "var x = new MutationObserver(function (mutations, observer) {{\n",
              "        var display = window.getComputedStyle(gd).display;\n",
              "        if (!display || display === 'none') {{\n",
              "            console.log([gd, 'removed!']);\n",
              "            Plotly.purge(gd);\n",
              "            observer.disconnect();\n",
              "        }}\n",
              "}});\n",
              "\n",
              "// Listen for the removal of the full notebook cells\n",
              "var notebookContainer = gd.closest('#notebook-container');\n",
              "if (notebookContainer) {{\n",
              "    x.observe(notebookContainer, {childList: true});\n",
              "}}\n",
              "\n",
              "// Listen for the clearing of the current output cell\n",
              "var outputEl = gd.closest('.output');\n",
              "if (outputEl) {{\n",
              "    x.observe(outputEl, {childList: true});\n",
              "}}\n",
              "\n",
              "                        })\n",
              "                };\n",
              "                \n",
              "            </script>\n",
              "        </div>\n",
              "</body>\n",
              "</html>"
            ]
          },
          "metadata": {}
        }
      ]
    },
    {
      "cell_type": "markdown",
      "metadata": {
        "id": "KsLdK6g0Ugl9"
      },
      "source": [
        "### **Seaborn**"
      ]
    },
    {
      "cell_type": "code",
      "metadata": {
        "id": "GnWT4TOhUgl9"
      },
      "source": [
        "import seaborn as sns\n",
        "import matplotlib.pyplot as plt\n"
      ],
      "execution_count": null,
      "outputs": []
    },
    {
      "cell_type": "code",
      "metadata": {
        "colab": {
          "base_uri": "https://localhost:8080/",
          "height": 520
        },
        "id": "TuhKHNCVUgl-",
        "outputId": "0ff8d2ab-7044-4a64-8ffa-d97d330d8e2e"
      },
      "source": [
        "fig, ax = plt.subplots(figsize=(10,8))\n",
        "sns.scatterplot(x='data', y='raca', data=srag_tupa, color='brown', size='idade')\n",
        "ax.set_title(\"Gráfico de bolhas\", fontdict={'fontsize':18})\n",
        "ax.set_xlabel('Datas', fontdict={'fontsize':12})\n",
        "ax.set_ylabel('Idade', fontdict={'fontsize':12});"
      ],
      "execution_count": null,
      "outputs": [
        {
          "output_type": "display_data",
          "data": {
            "image/png": "[encoded data removed]",
            "text/plain": [
              "<Figure size 720x576 with 1 Axes>"
            ]
          },
          "metadata": {
            "needs_background": "light"
          }
        }
      ]
    },
    {
      "cell_type": "markdown",
      "metadata": {
        "id": "A9MXJ7DNVjaN"
      },
      "source": [
        "## **Gráfico de Linhas**"
      ]
    },
    {
      "cell_type": "markdown",
      "metadata": {
        "id": "c6LNcNepkywN"
      },
      "source": [
        "### **Matplotlib**"
      ]
    },
    {
      "cell_type": "code",
      "metadata": {
        "id": "BCPc51GiVz_l"
      },
      "source": [
        "import matplotlib.pyplot as plt"
      ],
      "execution_count": null,
      "outputs": []
    },
    {
      "cell_type": "code",
      "metadata": {
        "colab": {
          "base_uri": "https://localhost:8080/",
          "height": 390
        },
        "id": "f1OAH9H-Vny9",
        "outputId": "ed7d2bfc-64ec-44b5-c38d-ff5e9095c4e7"
      },
      "source": [
        "plt.subplots(figsize=(8,6))\n",
        "y = [4, 9, 6, 4, 0, 3, 5.1, 6, 8.4, 12.3]\n",
        "x = range(len(y))\n",
        "plt.plot(x,y, color='red', marker ='o')\n",
        "plt.title ('Gráfico de Linhas')\n",
        "plt.show()"
      ],
      "execution_count": null,
      "outputs": [
        {
          "output_type": "display_data",
          "data": {
            "image/png": "[encoded data removed]",
            "text/plain": [
              "<Figure size 576x432 with 1 Axes>"
            ]
          },
          "metadata": {
            "needs_background": "light"
          }
        }
      ]
    },
    {
      "cell_type": "code",
      "metadata": {
        "colab": {
          "base_uri": "https://localhost:8080/",
          "height": 390
        },
        "id": "V1jAYFDRYkwX",
        "outputId": "d73fd4ea-ddf4-4222-ef91-ebd8e36e8f15"
      },
      "source": [
        "plt.subplots(figsize=(8,6))\n",
        "m = [1, 5, 8, 0, 3, 1, 6.5, 4, 12.3, 15.8]\n",
        "n = range(len(m))\n",
        "plt.plot(n,m, color='yellow', marker ='o')\n",
        "plt.title ('Gráfico de Linhas 2')\n",
        "plt.show()"
      ],
      "execution_count": null,
      "outputs": [
        {
          "output_type": "display_data",
          "data": {
            "image/png": "[encoded data removed]",
            "text/plain": [
              "<Figure size 576x432 with 1 Axes>"
            ]
          },
          "metadata": {
            "needs_background": "light"
          }
        }
      ]
    },
    {
      "cell_type": "code",
      "metadata": {
        "colab": {
          "base_uri": "https://localhost:8080/",
          "height": 390
        },
        "id": "yW4t80YYZvHB",
        "outputId": "29fc4ef2-64a8-4323-a552-59cdeb4c8945"
      },
      "source": [
        "plt.subplots(figsize=(8,6))\n",
        "plt.title ('Gráficos de linha')\n",
        "plt.plot(x,y)\n",
        "plt.plot(n,m)\n",
        "plt.show()"
      ],
      "execution_count": null,
      "outputs": [
        {
          "output_type": "display_data",
          "data": {
            "image/png": "[encoded data removed]",
            "text/plain": [
              "<Figure size 576x432 with 1 Axes>"
            ]
          },
          "metadata": {
            "needs_background": "light"
          }
        }
      ]
    },
    {
      "cell_type": "markdown",
      "metadata": {
        "id": "35rCHxrEh2yt"
      },
      "source": [
        "### **Plotly**"
      ]
    },
    {
      "cell_type": "code",
      "metadata": {
        "id": "JbR3P2kYibls"
      },
      "source": [
        "import plotly.express as px"
      ],
      "execution_count": null,
      "outputs": []
    },
    {
      "cell_type": "code",
      "metadata": {
        "id": "2bSPJeaCcJCT"
      },
      "source": [
        "y = [4, 9, 6, 4, 0, 3, 5.1, 6, 8.4, 12.3]\n"
      ],
      "execution_count": null,
      "outputs": []
    },
    {
      "cell_type": "code",
      "metadata": {
        "colab": {
          "base_uri": "https://localhost:8080/"
        },
        "id": "cOGqQhoJd8A2",
        "outputId": "9cfb11e2-6dc5-42d6-a9eb-9ab0e02c6ee1"
      },
      "source": [
        "type(y)"
      ],
      "execution_count": null,
      "outputs": [
        {
          "output_type": "execute_result",
          "data": {
            "text/plain": [
              "list"
            ]
          },
          "metadata": {},
          "execution_count": 45
        }
      ]
    },
    {
      "cell_type": "code",
      "metadata": {
        "colab": {
          "base_uri": "https://localhost:8080/"
        },
        "id": "jpWiGvqocLRK",
        "outputId": "8c8bd233-8c3a-4483-e40d-62e5b03592a2"
      },
      "source": [
        "x = list(range(len(y)))\n",
        "print(x)"
      ],
      "execution_count": null,
      "outputs": [
        {
          "output_type": "stream",
          "name": "stdout",
          "text": [
            "[0, 1, 2, 3, 4, 5, 6, 7, 8, 9]\n"
          ]
        }
      ]
    },
    {
      "cell_type": "code",
      "metadata": {
        "colab": {
          "base_uri": "https://localhost:8080/",
          "height": 542
        },
        "id": "ZUsw6GUeanxQ",
        "outputId": "c2422f54-e33e-44f3-c2d1-631f61b80027"
      },
      "source": [
        "linha = px.line(x, y,)\n",
        "linha.show()"
      ],
      "execution_count": null,
      "outputs": [
        {
          "output_type": "display_data",
          "data": {
            "text/html": [
              "<html>\n",
              "<head><meta charset=\"utf-8\" /></head>\n",
              "<body>\n",
              "    <div>\n",
              "            <script src=\"https://cdnjs.cloudflare.com/ajax/libs/mathjax/2.7.5/MathJax.js?config=TeX-AMS-MML_SVG\"></script><script type=\"text/javascript\">if (window.MathJax) {MathJax.Hub.Config({SVG: {font: \"STIX-Web\"}});}</script>\n",
              "                <script type=\"text/javascript\">window.PlotlyConfig = {MathJaxConfig: 'local'};</script>\n",
              "        <script src=\"https://cdn.plot.ly/plotly-latest.min.js\"></script>    \n",
              "            <div id=\"eb871603-1bc3-4b13-92ab-8cd768513aff\" class=\"plotly-graph-div\" style=\"height:525px; width:100%;\"></div>\n",
              "            <script type=\"text/javascript\">\n",
              "                \n",
              "                    window.PLOTLYENV=window.PLOTLYENV || {};\n",
              "                    \n",
              "                if (document.getElementById(\"eb871603-1bc3-4b13-92ab-8cd768513aff\")) {\n",
              "                    Plotly.newPlot(\n",
              "                        'eb871603-1bc3-4b13-92ab-8cd768513aff',\n",
              "                        [{\"hoverlabel\": {\"namelength\": 0}, \"hovertemplate\": \"x=%{x}\", \"legendgroup\": \"\", \"line\": {\"color\": \"#636efa\", \"dash\": \"solid\"}, \"mode\": \"lines\", \"name\": \"\", \"showlegend\": false, \"type\": \"scatter\", \"x\": [4.0, 9.0, 6.0, 4.0, 0.0, 3.0, 5.1, 6.0, 8.4, 12.3], \"xaxis\": \"x\", \"yaxis\": \"y\"}],\n",
              "                        {\"legend\": {\"tracegroupgap\": 0}, \"margin\": {\"t\": 60}, \"template\": {\"data\": {\"bar\": [{\"error_x\": {\"color\": \"#2a3f5f\"}, \"error_y\": {\"color\": \"#2a3f5f\"}, \"marker\": {\"line\": {\"color\": \"#E5ECF6\", \"width\": 0.5}}, \"type\": \"bar\"}], \"barpolar\": [{\"marker\": {\"line\": {\"color\": \"#E5ECF6\", \"width\": 0.5}}, \"type\": \"barpolar\"}], \"carpet\": [{\"aaxis\": {\"endlinecolor\": \"#2a3f5f\", \"gridcolor\": \"white\", \"linecolor\": \"white\", \"minorgridcolor\": \"white\", \"startlinecolor\": \"#2a3f5f\"}, \"baxis\": {\"endlinecolor\": \"#2a3f5f\", \"gridcolor\": \"white\", \"linecolor\": \"white\", \"minorgridcolor\": \"white\", \"startlinecolor\": \"#2a3f5f\"}, \"type\": \"carpet\"}], \"choropleth\": [{\"colorbar\": {\"outlinewidth\": 0, \"ticks\": \"\"}, \"type\": \"choropleth\"}], \"contour\": [{\"colorbar\": {\"outlinewidth\": 0, \"ticks\": \"\"}, \"colorscale\": [[0.0, \"#0d0887\"], [0.1111111111111111, \"#46039f\"], [0.2222222222222222, \"#7201a8\"], [0.3333333333333333, \"#9c179e\"], [0.4444444444444444, \"#bd3786\"], [0.5555555555555556, \"#d8576b\"], [0.6666666666666666, \"#ed7953\"], [0.7777777777777778, \"#fb9f3a\"], [0.8888888888888888, \"#fdca26\"], [1.0, \"#f0f921\"]], \"type\": \"contour\"}], \"contourcarpet\": [{\"colorbar\": {\"outlinewidth\": 0, \"ticks\": \"\"}, \"type\": \"contourcarpet\"}], \"heatmap\": [{\"colorbar\": {\"outlinewidth\": 0, \"ticks\": \"\"}, \"colorscale\": [[0.0, \"#0d0887\"], [0.1111111111111111, \"#46039f\"], [0.2222222222222222, \"#7201a8\"], [0.3333333333333333, \"#9c179e\"], [0.4444444444444444, \"#bd3786\"], [0.5555555555555556, \"#d8576b\"], [0.6666666666666666, \"#ed7953\"], [0.7777777777777778, \"#fb9f3a\"], [0.8888888888888888, \"#fdca26\"], [1.0, \"#f0f921\"]], \"type\": \"heatmap\"}], \"heatmapgl\": [{\"colorbar\": {\"outlinewidth\": 0, \"ticks\": \"\"}, \"colorscale\": [[0.0, \"#0d0887\"], [0.1111111111111111, \"#46039f\"], [0.2222222222222222, \"#7201a8\"], [0.3333333333333333, \"#9c179e\"], [0.4444444444444444, \"#bd3786\"], [0.5555555555555556, \"#d8576b\"], [0.6666666666666666, \"#ed7953\"], [0.7777777777777778, \"#fb9f3a\"], [0.8888888888888888, \"#fdca26\"], [1.0, \"#f0f921\"]], \"type\": \"heatmapgl\"}], \"histogram\": [{\"marker\": {\"colorbar\": {\"outlinewidth\": 0, \"ticks\": \"\"}}, \"type\": \"histogram\"}], \"histogram2d\": [{\"colorbar\": {\"outlinewidth\": 0, \"ticks\": \"\"}, \"colorscale\": [[0.0, \"#0d0887\"], [0.1111111111111111, \"#46039f\"], [0.2222222222222222, \"#7201a8\"], [0.3333333333333333, \"#9c179e\"], [0.4444444444444444, \"#bd3786\"], [0.5555555555555556, \"#d8576b\"], [0.6666666666666666, \"#ed7953\"], [0.7777777777777778, \"#fb9f3a\"], [0.8888888888888888, \"#fdca26\"], [1.0, \"#f0f921\"]], \"type\": \"histogram2d\"}], \"histogram2dcontour\": [{\"colorbar\": {\"outlinewidth\": 0, \"ticks\": \"\"}, \"colorscale\": [[0.0, \"#0d0887\"], [0.1111111111111111, \"#46039f\"], [0.2222222222222222, \"#7201a8\"], [0.3333333333333333, \"#9c179e\"], [0.4444444444444444, \"#bd3786\"], [0.5555555555555556, \"#d8576b\"], [0.6666666666666666, \"#ed7953\"], [0.7777777777777778, \"#fb9f3a\"], [0.8888888888888888, \"#fdca26\"], [1.0, \"#f0f921\"]], \"type\": \"histogram2dcontour\"}], \"mesh3d\": [{\"colorbar\": {\"outlinewidth\": 0, \"ticks\": \"\"}, \"type\": \"mesh3d\"}], \"parcoords\": [{\"line\": {\"colorbar\": {\"outlinewidth\": 0, \"ticks\": \"\"}}, \"type\": \"parcoords\"}], \"pie\": [{\"automargin\": true, \"type\": \"pie\"}], \"scatter\": [{\"marker\": {\"colorbar\": {\"outlinewidth\": 0, \"ticks\": \"\"}}, \"type\": \"scatter\"}], \"scatter3d\": [{\"line\": {\"colorbar\": {\"outlinewidth\": 0, \"ticks\": \"\"}}, \"marker\": {\"colorbar\": {\"outlinewidth\": 0, \"ticks\": \"\"}}, \"type\": \"scatter3d\"}], \"scattercarpet\": [{\"marker\": {\"colorbar\": {\"outlinewidth\": 0, \"ticks\": \"\"}}, \"type\": \"scattercarpet\"}], \"scattergeo\": [{\"marker\": {\"colorbar\": {\"outlinewidth\": 0, \"ticks\": \"\"}}, \"type\": \"scattergeo\"}], \"scattergl\": [{\"marker\": {\"colorbar\": {\"outlinewidth\": 0, \"ticks\": \"\"}}, \"type\": \"scattergl\"}], \"scattermapbox\": [{\"marker\": {\"colorbar\": {\"outlinewidth\": 0, \"ticks\": \"\"}}, \"type\": \"scattermapbox\"}], \"scatterpolar\": [{\"marker\": {\"colorbar\": {\"outlinewidth\": 0, \"ticks\": \"\"}}, \"type\": \"scatterpolar\"}], \"scatterpolargl\": [{\"marker\": {\"colorbar\": {\"outlinewidth\": 0, \"ticks\": \"\"}}, \"type\": \"scatterpolargl\"}], \"scatterternary\": [{\"marker\": {\"colorbar\": {\"outlinewidth\": 0, \"ticks\": \"\"}}, \"type\": \"scatterternary\"}], \"surface\": [{\"colorbar\": {\"outlinewidth\": 0, \"ticks\": \"\"}, \"colorscale\": [[0.0, \"#0d0887\"], [0.1111111111111111, \"#46039f\"], [0.2222222222222222, \"#7201a8\"], [0.3333333333333333, \"#9c179e\"], [0.4444444444444444, \"#bd3786\"], [0.5555555555555556, \"#d8576b\"], [0.6666666666666666, \"#ed7953\"], [0.7777777777777778, \"#fb9f3a\"], [0.8888888888888888, \"#fdca26\"], [1.0, \"#f0f921\"]], \"type\": \"surface\"}], \"table\": [{\"cells\": {\"fill\": {\"color\": \"#EBF0F8\"}, \"line\": {\"color\": \"white\"}}, \"header\": {\"fill\": {\"color\": \"#C8D4E3\"}, \"line\": {\"color\": \"white\"}}, \"type\": \"table\"}]}, \"layout\": {\"annotationdefaults\": {\"arrowcolor\": \"#2a3f5f\", \"arrowhead\": 0, \"arrowwidth\": 1}, \"coloraxis\": {\"colorbar\": {\"outlinewidth\": 0, \"ticks\": \"\"}}, \"colorscale\": {\"diverging\": [[0, \"#8e0152\"], [0.1, \"#c51b7d\"], [0.2, \"#de77ae\"], [0.3, \"#f1b6da\"], [0.4, \"#fde0ef\"], [0.5, \"#f7f7f7\"], [0.6, \"#e6f5d0\"], [0.7, \"#b8e186\"], [0.8, \"#7fbc41\"], [0.9, \"#4d9221\"], [1, \"#276419\"]], \"sequential\": [[0.0, \"#0d0887\"], [0.1111111111111111, \"#46039f\"], [0.2222222222222222, \"#7201a8\"], [0.3333333333333333, \"#9c179e\"], [0.4444444444444444, \"#bd3786\"], [0.5555555555555556, \"#d8576b\"], [0.6666666666666666, \"#ed7953\"], [0.7777777777777778, \"#fb9f3a\"], [0.8888888888888888, \"#fdca26\"], [1.0, \"#f0f921\"]], \"sequentialminus\": [[0.0, \"#0d0887\"], [0.1111111111111111, \"#46039f\"], [0.2222222222222222, \"#7201a8\"], [0.3333333333333333, \"#9c179e\"], [0.4444444444444444, \"#bd3786\"], [0.5555555555555556, \"#d8576b\"], [0.6666666666666666, \"#ed7953\"], [0.7777777777777778, \"#fb9f3a\"], [0.8888888888888888, \"#fdca26\"], [1.0, \"#f0f921\"]]}, \"colorway\": [\"#636efa\", \"#EF553B\", \"#00cc96\", \"#ab63fa\", \"#FFA15A\", \"#19d3f3\", \"#FF6692\", \"#B6E880\", \"#FF97FF\", \"#FECB52\"], \"font\": {\"color\": \"#2a3f5f\"}, \"geo\": {\"bgcolor\": \"white\", \"lakecolor\": \"white\", \"landcolor\": \"#E5ECF6\", \"showlakes\": true, \"showland\": true, \"subunitcolor\": \"white\"}, \"hoverlabel\": {\"align\": \"left\"}, \"hovermode\": \"closest\", \"mapbox\": {\"style\": \"light\"}, \"paper_bgcolor\": \"white\", \"plot_bgcolor\": \"#E5ECF6\", \"polar\": {\"angularaxis\": {\"gridcolor\": \"white\", \"linecolor\": \"white\", \"ticks\": \"\"}, \"bgcolor\": \"#E5ECF6\", \"radialaxis\": {\"gridcolor\": \"white\", \"linecolor\": \"white\", \"ticks\": \"\"}}, \"scene\": {\"xaxis\": {\"backgroundcolor\": \"#E5ECF6\", \"gridcolor\": \"white\", \"gridwidth\": 2, \"linecolor\": \"white\", \"showbackground\": true, \"ticks\": \"\", \"zerolinecolor\": \"white\"}, \"yaxis\": {\"backgroundcolor\": \"#E5ECF6\", \"gridcolor\": \"white\", \"gridwidth\": 2, \"linecolor\": \"white\", \"showbackground\": true, \"ticks\": \"\", \"zerolinecolor\": \"white\"}, \"zaxis\": {\"backgroundcolor\": \"#E5ECF6\", \"gridcolor\": \"white\", \"gridwidth\": 2, \"linecolor\": \"white\", \"showbackground\": true, \"ticks\": \"\", \"zerolinecolor\": \"white\"}}, \"shapedefaults\": {\"line\": {\"color\": \"#2a3f5f\"}}, \"ternary\": {\"aaxis\": {\"gridcolor\": \"white\", \"linecolor\": \"white\", \"ticks\": \"\"}, \"baxis\": {\"gridcolor\": \"white\", \"linecolor\": \"white\", \"ticks\": \"\"}, \"bgcolor\": \"#E5ECF6\", \"caxis\": {\"gridcolor\": \"white\", \"linecolor\": \"white\", \"ticks\": \"\"}}, \"title\": {\"x\": 0.05}, \"xaxis\": {\"automargin\": true, \"gridcolor\": \"white\", \"linecolor\": \"white\", \"ticks\": \"\", \"title\": {\"standoff\": 15}, \"zerolinecolor\": \"white\", \"zerolinewidth\": 2}, \"yaxis\": {\"automargin\": true, \"gridcolor\": \"white\", \"linecolor\": \"white\", \"ticks\": \"\", \"title\": {\"standoff\": 15}, \"zerolinecolor\": \"white\", \"zerolinewidth\": 2}}}, \"xaxis\": {\"anchor\": \"y\", \"domain\": [0.0, 1.0], \"title\": {\"text\": \"x\"}}, \"yaxis\": {\"anchor\": \"x\", \"domain\": [0.0, 1.0]}},\n",
              "                        {\"responsive\": true}\n",
              "                    ).then(function(){\n",
              "                            \n",
              "var gd = document.getElementById('eb871603-1bc3-4b13-92ab-8cd768513aff');\n",
              "var x = new MutationObserver(function (mutations, observer) {{\n",
              "        var display = window.getComputedStyle(gd).display;\n",
              "        if (!display || display === 'none') {{\n",
              "            console.log([gd, 'removed!']);\n",
              "            Plotly.purge(gd);\n",
              "            observer.disconnect();\n",
              "        }}\n",
              "}});\n",
              "\n",
              "// Listen for the removal of the full notebook cells\n",
              "var notebookContainer = gd.closest('#notebook-container');\n",
              "if (notebookContainer) {{\n",
              "    x.observe(notebookContainer, {childList: true});\n",
              "}}\n",
              "\n",
              "// Listen for the clearing of the current output cell\n",
              "var outputEl = gd.closest('.output');\n",
              "if (outputEl) {{\n",
              "    x.observe(outputEl, {childList: true});\n",
              "}}\n",
              "\n",
              "                        })\n",
              "                };\n",
              "                \n",
              "            </script>\n",
              "        </div>\n",
              "</body>\n",
              "</html>"
            ]
          },
          "metadata": {}
        }
      ]
    },
    {
      "cell_type": "code",
      "metadata": {
        "colab": {
          "base_uri": "https://localhost:8080/",
          "height": 357
        },
        "id": "CcVk-k0eeaH3",
        "outputId": "29e594f8-dc1e-490d-ddd8-4c917ebc5418"
      },
      "source": [
        "df = pd.DataFrame(x, columns=['eixo_x'])\n",
        "df"
      ],
      "execution_count": null,
      "outputs": [
        {
          "output_type": "execute_result",
          "data": {
            "text/html": [
              "<div>\n",
              "<style scoped>\n",
              "    .dataframe tbody tr th:only-of-type {\n",
              "        vertical-align: middle;\n",
              "    }\n",
              "\n",
              "    .dataframe tbody tr th {\n",
              "        vertical-align: top;\n",
              "    }\n",
              "\n",
              "    .dataframe thead th {\n",
              "        text-align: right;\n",
              "    }\n",
              "</style>\n",
              "<table border=\"1\" class=\"dataframe\">\n",
              "  <thead>\n",
              "    <tr style=\"text-align: right;\">\n",
              "      <th></th>\n",
              "      <th>eixo_x</th>\n",
              "    </tr>\n",
              "  </thead>\n",
              "  <tbody>\n",
              "    <tr>\n",
              "      <th>0</th>\n",
              "      <td>0</td>\n",
              "    </tr>\n",
              "    <tr>\n",
              "      <th>1</th>\n",
              "      <td>1</td>\n",
              "    </tr>\n",
              "    <tr>\n",
              "      <th>2</th>\n",
              "      <td>2</td>\n",
              "    </tr>\n",
              "    <tr>\n",
              "      <th>3</th>\n",
              "      <td>3</td>\n",
              "    </tr>\n",
              "    <tr>\n",
              "      <th>4</th>\n",
              "      <td>4</td>\n",
              "    </tr>\n",
              "    <tr>\n",
              "      <th>5</th>\n",
              "      <td>5</td>\n",
              "    </tr>\n",
              "    <tr>\n",
              "      <th>6</th>\n",
              "      <td>6</td>\n",
              "    </tr>\n",
              "    <tr>\n",
              "      <th>7</th>\n",
              "      <td>7</td>\n",
              "    </tr>\n",
              "    <tr>\n",
              "      <th>8</th>\n",
              "      <td>8</td>\n",
              "    </tr>\n",
              "    <tr>\n",
              "      <th>9</th>\n",
              "      <td>9</td>\n",
              "    </tr>\n",
              "  </tbody>\n",
              "</table>\n",
              "</div>"
            ],
            "text/plain": [
              "   eixo_x\n",
              "0       0\n",
              "1       1\n",
              "2       2\n",
              "3       3\n",
              "4       4\n",
              "5       5\n",
              "6       6\n",
              "7       7\n",
              "8       8\n",
              "9       9"
            ]
          },
          "metadata": {},
          "execution_count": 48
        }
      ]
    },
    {
      "cell_type": "code",
      "metadata": {
        "colab": {
          "base_uri": "https://localhost:8080/",
          "height": 357
        },
        "id": "BXzMSD4mgSlF",
        "outputId": "204d2988-c3a1-43db-cb1a-1011db0a0c39"
      },
      "source": [
        "df = pd.concat([df,pd.DataFrame(y, columns=['eixo_y'])],axis=1)\n",
        "df"
      ],
      "execution_count": null,
      "outputs": [
        {
          "output_type": "execute_result",
          "data": {
            "text/html": [
              "<div>\n",
              "<style scoped>\n",
              "    .dataframe tbody tr th:only-of-type {\n",
              "        vertical-align: middle;\n",
              "    }\n",
              "\n",
              "    .dataframe tbody tr th {\n",
              "        vertical-align: top;\n",
              "    }\n",
              "\n",
              "    .dataframe thead th {\n",
              "        text-align: right;\n",
              "    }\n",
              "</style>\n",
              "<table border=\"1\" class=\"dataframe\">\n",
              "  <thead>\n",
              "    <tr style=\"text-align: right;\">\n",
              "      <th></th>\n",
              "      <th>eixo_x</th>\n",
              "      <th>eixo_y</th>\n",
              "    </tr>\n",
              "  </thead>\n",
              "  <tbody>\n",
              "    <tr>\n",
              "      <th>0</th>\n",
              "      <td>0</td>\n",
              "      <td>4.0</td>\n",
              "    </tr>\n",
              "    <tr>\n",
              "      <th>1</th>\n",
              "      <td>1</td>\n",
              "      <td>9.0</td>\n",
              "    </tr>\n",
              "    <tr>\n",
              "      <th>2</th>\n",
              "      <td>2</td>\n",
              "      <td>6.0</td>\n",
              "    </tr>\n",
              "    <tr>\n",
              "      <th>3</th>\n",
              "      <td>3</td>\n",
              "      <td>4.0</td>\n",
              "    </tr>\n",
              "    <tr>\n",
              "      <th>4</th>\n",
              "      <td>4</td>\n",
              "      <td>0.0</td>\n",
              "    </tr>\n",
              "    <tr>\n",
              "      <th>5</th>\n",
              "      <td>5</td>\n",
              "      <td>3.0</td>\n",
              "    </tr>\n",
              "    <tr>\n",
              "      <th>6</th>\n",
              "      <td>6</td>\n",
              "      <td>5.1</td>\n",
              "    </tr>\n",
              "    <tr>\n",
              "      <th>7</th>\n",
              "      <td>7</td>\n",
              "      <td>6.0</td>\n",
              "    </tr>\n",
              "    <tr>\n",
              "      <th>8</th>\n",
              "      <td>8</td>\n",
              "      <td>8.4</td>\n",
              "    </tr>\n",
              "    <tr>\n",
              "      <th>9</th>\n",
              "      <td>9</td>\n",
              "      <td>12.3</td>\n",
              "    </tr>\n",
              "  </tbody>\n",
              "</table>\n",
              "</div>"
            ],
            "text/plain": [
              "   eixo_x  eixo_y\n",
              "0       0     4.0\n",
              "1       1     9.0\n",
              "2       2     6.0\n",
              "3       3     4.0\n",
              "4       4     0.0\n",
              "5       5     3.0\n",
              "6       6     5.1\n",
              "7       7     6.0\n",
              "8       8     8.4\n",
              "9       9    12.3"
            ]
          },
          "metadata": {},
          "execution_count": 49
        }
      ]
    },
    {
      "cell_type": "code",
      "metadata": {
        "colab": {
          "base_uri": "https://localhost:8080/",
          "height": 542
        },
        "id": "iolQsLVegylF",
        "outputId": "7c734615-de6f-4d0f-c92b-c0ab05cba945"
      },
      "source": [
        "linha = px.line(df, 'eixo_x', 'eixo_y')\n",
        "linha.show()"
      ],
      "execution_count": null,
      "outputs": [
        {
          "output_type": "display_data",
          "data": {
            "text/html": [
              "<html>\n",
              "<head><meta charset=\"utf-8\" /></head>\n",
              "<body>\n",
              "    <div>\n",
              "            <script src=\"https://cdnjs.cloudflare.com/ajax/libs/mathjax/2.7.5/MathJax.js?config=TeX-AMS-MML_SVG\"></script><script type=\"text/javascript\">if (window.MathJax) {MathJax.Hub.Config({SVG: {font: \"STIX-Web\"}});}</script>\n",
              "                <script type=\"text/javascript\">window.PlotlyConfig = {MathJaxConfig: 'local'};</script>\n",
              "        <script src=\"https://cdn.plot.ly/plotly-latest.min.js\"></script>    \n",
              "            <div id=\"1f4e2cf9-03df-46be-b720-a6b6fe561d1f\" class=\"plotly-graph-div\" style=\"height:525px; width:100%;\"></div>\n",
              "            <script type=\"text/javascript\">\n",
              "                \n",
              "                    window.PLOTLYENV=window.PLOTLYENV || {};\n",
              "                    \n",
              "                if (document.getElementById(\"1f4e2cf9-03df-46be-b720-a6b6fe561d1f\")) {\n",
              "                    Plotly.newPlot(\n",
              "                        '1f4e2cf9-03df-46be-b720-a6b6fe561d1f',\n",
              "                        [{\"hoverlabel\": {\"namelength\": 0}, \"hovertemplate\": \"eixo_x=%{x}<br>eixo_y=%{y}\", \"legendgroup\": \"\", \"line\": {\"color\": \"#636efa\", \"dash\": \"solid\"}, \"mode\": \"lines\", \"name\": \"\", \"showlegend\": false, \"type\": \"scatter\", \"x\": [0, 1, 2, 3, 4, 5, 6, 7, 8, 9], \"xaxis\": \"x\", \"y\": [4.0, 9.0, 6.0, 4.0, 0.0, 3.0, 5.1, 6.0, 8.4, 12.3], \"yaxis\": \"y\"}],\n",
              "                        {\"legend\": {\"tracegroupgap\": 0}, \"margin\": {\"t\": 60}, \"template\": {\"data\": {\"bar\": [{\"error_x\": {\"color\": \"#2a3f5f\"}, \"error_y\": {\"color\": \"#2a3f5f\"}, \"marker\": {\"line\": {\"color\": \"#E5ECF6\", \"width\": 0.5}}, \"type\": \"bar\"}], \"barpolar\": [{\"marker\": {\"line\": {\"color\": \"#E5ECF6\", \"width\": 0.5}}, \"type\": \"barpolar\"}], \"carpet\": [{\"aaxis\": {\"endlinecolor\": \"#2a3f5f\", \"gridcolor\": \"white\", \"linecolor\": \"white\", \"minorgridcolor\": \"white\", \"startlinecolor\": \"#2a3f5f\"}, \"baxis\": {\"endlinecolor\": \"#2a3f5f\", \"gridcolor\": \"white\", \"linecolor\": \"white\", \"minorgridcolor\": \"white\", \"startlinecolor\": \"#2a3f5f\"}, \"type\": \"carpet\"}], \"choropleth\": [{\"colorbar\": {\"outlinewidth\": 0, \"ticks\": \"\"}, \"type\": \"choropleth\"}], \"contour\": [{\"colorbar\": {\"outlinewidth\": 0, \"ticks\": \"\"}, \"colorscale\": [[0.0, \"#0d0887\"], [0.1111111111111111, \"#46039f\"], [0.2222222222222222, \"#7201a8\"], [0.3333333333333333, \"#9c179e\"], [0.4444444444444444, \"#bd3786\"], [0.5555555555555556, \"#d8576b\"], [0.6666666666666666, \"#ed7953\"], [0.7777777777777778, \"#fb9f3a\"], [0.8888888888888888, \"#fdca26\"], [1.0, \"#f0f921\"]], \"type\": \"contour\"}], \"contourcarpet\": [{\"colorbar\": {\"outlinewidth\": 0, \"ticks\": \"\"}, \"type\": \"contourcarpet\"}], \"heatmap\": [{\"colorbar\": {\"outlinewidth\": 0, \"ticks\": \"\"}, \"colorscale\": [[0.0, \"#0d0887\"], [0.1111111111111111, \"#46039f\"], [0.2222222222222222, \"#7201a8\"], [0.3333333333333333, \"#9c179e\"], [0.4444444444444444, \"#bd3786\"], [0.5555555555555556, \"#d8576b\"], [0.6666666666666666, \"#ed7953\"], [0.7777777777777778, \"#fb9f3a\"], [0.8888888888888888, \"#fdca26\"], [1.0, \"#f0f921\"]], \"type\": \"heatmap\"}], \"heatmapgl\": [{\"colorbar\": {\"outlinewidth\": 0, \"ticks\": \"\"}, \"colorscale\": [[0.0, \"#0d0887\"], [0.1111111111111111, \"#46039f\"], [0.2222222222222222, \"#7201a8\"], [0.3333333333333333, \"#9c179e\"], [0.4444444444444444, \"#bd3786\"], [0.5555555555555556, \"#d8576b\"], [0.6666666666666666, \"#ed7953\"], [0.7777777777777778, \"#fb9f3a\"], [0.8888888888888888, \"#fdca26\"], [1.0, \"#f0f921\"]], \"type\": \"heatmapgl\"}], \"histogram\": [{\"marker\": {\"colorbar\": {\"outlinewidth\": 0, \"ticks\": \"\"}}, \"type\": \"histogram\"}], \"histogram2d\": [{\"colorbar\": {\"outlinewidth\": 0, \"ticks\": \"\"}, \"colorscale\": [[0.0, \"#0d0887\"], [0.1111111111111111, \"#46039f\"], [0.2222222222222222, \"#7201a8\"], [0.3333333333333333, \"#9c179e\"], [0.4444444444444444, \"#bd3786\"], [0.5555555555555556, \"#d8576b\"], [0.6666666666666666, \"#ed7953\"], [0.7777777777777778, \"#fb9f3a\"], [0.8888888888888888, \"#fdca26\"], [1.0, \"#f0f921\"]], \"type\": \"histogram2d\"}], \"histogram2dcontour\": [{\"colorbar\": {\"outlinewidth\": 0, \"ticks\": \"\"}, \"colorscale\": [[0.0, \"#0d0887\"], [0.1111111111111111, \"#46039f\"], [0.2222222222222222, \"#7201a8\"], [0.3333333333333333, \"#9c179e\"], [0.4444444444444444, \"#bd3786\"], [0.5555555555555556, \"#d8576b\"], [0.6666666666666666, \"#ed7953\"], [0.7777777777777778, \"#fb9f3a\"], [0.8888888888888888, \"#fdca26\"], [1.0, \"#f0f921\"]], \"type\": \"histogram2dcontour\"}], \"mesh3d\": [{\"colorbar\": {\"outlinewidth\": 0, \"ticks\": \"\"}, \"type\": \"mesh3d\"}], \"parcoords\": [{\"line\": {\"colorbar\": {\"outlinewidth\": 0, \"ticks\": \"\"}}, \"type\": \"parcoords\"}], \"pie\": [{\"automargin\": true, \"type\": \"pie\"}], \"scatter\": [{\"marker\": {\"colorbar\": {\"outlinewidth\": 0, \"ticks\": \"\"}}, \"type\": \"scatter\"}], \"scatter3d\": [{\"line\": {\"colorbar\": {\"outlinewidth\": 0, \"ticks\": \"\"}}, \"marker\": {\"colorbar\": {\"outlinewidth\": 0, \"ticks\": \"\"}}, \"type\": \"scatter3d\"}], \"scattercarpet\": [{\"marker\": {\"colorbar\": {\"outlinewidth\": 0, \"ticks\": \"\"}}, \"type\": \"scattercarpet\"}], \"scattergeo\": [{\"marker\": {\"colorbar\": {\"outlinewidth\": 0, \"ticks\": \"\"}}, \"type\": \"scattergeo\"}], \"scattergl\": [{\"marker\": {\"colorbar\": {\"outlinewidth\": 0, \"ticks\": \"\"}}, \"type\": \"scattergl\"}], \"scattermapbox\": [{\"marker\": {\"colorbar\": {\"outlinewidth\": 0, \"ticks\": \"\"}}, \"type\": \"scattermapbox\"}], \"scatterpolar\": [{\"marker\": {\"colorbar\": {\"outlinewidth\": 0, \"ticks\": \"\"}}, \"type\": \"scatterpolar\"}], \"scatterpolargl\": [{\"marker\": {\"colorbar\": {\"outlinewidth\": 0, \"ticks\": \"\"}}, \"type\": \"scatterpolargl\"}], \"scatterternary\": [{\"marker\": {\"colorbar\": {\"outlinewidth\": 0, \"ticks\": \"\"}}, \"type\": \"scatterternary\"}], \"surface\": [{\"colorbar\": {\"outlinewidth\": 0, \"ticks\": \"\"}, \"colorscale\": [[0.0, \"#0d0887\"], [0.1111111111111111, \"#46039f\"], [0.2222222222222222, \"#7201a8\"], [0.3333333333333333, \"#9c179e\"], [0.4444444444444444, \"#bd3786\"], [0.5555555555555556, \"#d8576b\"], [0.6666666666666666, \"#ed7953\"], [0.7777777777777778, \"#fb9f3a\"], [0.8888888888888888, \"#fdca26\"], [1.0, \"#f0f921\"]], \"type\": \"surface\"}], \"table\": [{\"cells\": {\"fill\": {\"color\": \"#EBF0F8\"}, \"line\": {\"color\": \"white\"}}, \"header\": {\"fill\": {\"color\": \"#C8D4E3\"}, \"line\": {\"color\": \"white\"}}, \"type\": \"table\"}]}, \"layout\": {\"annotationdefaults\": {\"arrowcolor\": \"#2a3f5f\", \"arrowhead\": 0, \"arrowwidth\": 1}, \"coloraxis\": {\"colorbar\": {\"outlinewidth\": 0, \"ticks\": \"\"}}, \"colorscale\": {\"diverging\": [[0, \"#8e0152\"], [0.1, \"#c51b7d\"], [0.2, \"#de77ae\"], [0.3, \"#f1b6da\"], [0.4, \"#fde0ef\"], [0.5, \"#f7f7f7\"], [0.6, \"#e6f5d0\"], [0.7, \"#b8e186\"], [0.8, \"#7fbc41\"], [0.9, \"#4d9221\"], [1, \"#276419\"]], \"sequential\": [[0.0, \"#0d0887\"], [0.1111111111111111, \"#46039f\"], [0.2222222222222222, \"#7201a8\"], [0.3333333333333333, \"#9c179e\"], [0.4444444444444444, \"#bd3786\"], [0.5555555555555556, \"#d8576b\"], [0.6666666666666666, \"#ed7953\"], [0.7777777777777778, \"#fb9f3a\"], [0.8888888888888888, \"#fdca26\"], [1.0, \"#f0f921\"]], \"sequentialminus\": [[0.0, \"#0d0887\"], [0.1111111111111111, \"#46039f\"], [0.2222222222222222, \"#7201a8\"], [0.3333333333333333, \"#9c179e\"], [0.4444444444444444, \"#bd3786\"], [0.5555555555555556, \"#d8576b\"], [0.6666666666666666, \"#ed7953\"], [0.7777777777777778, \"#fb9f3a\"], [0.8888888888888888, \"#fdca26\"], [1.0, \"#f0f921\"]]}, \"colorway\": [\"#636efa\", \"#EF553B\", \"#00cc96\", \"#ab63fa\", \"#FFA15A\", \"#19d3f3\", \"#FF6692\", \"#B6E880\", \"#FF97FF\", \"#FECB52\"], \"font\": {\"color\": \"#2a3f5f\"}, \"geo\": {\"bgcolor\": \"white\", \"lakecolor\": \"white\", \"landcolor\": \"#E5ECF6\", \"showlakes\": true, \"showland\": true, \"subunitcolor\": \"white\"}, \"hoverlabel\": {\"align\": \"left\"}, \"hovermode\": \"closest\", \"mapbox\": {\"style\": \"light\"}, \"paper_bgcolor\": \"white\", \"plot_bgcolor\": \"#E5ECF6\", \"polar\": {\"angularaxis\": {\"gridcolor\": \"white\", \"linecolor\": \"white\", \"ticks\": \"\"}, \"bgcolor\": \"#E5ECF6\", \"radialaxis\": {\"gridcolor\": \"white\", \"linecolor\": \"white\", \"ticks\": \"\"}}, \"scene\": {\"xaxis\": {\"backgroundcolor\": \"#E5ECF6\", \"gridcolor\": \"white\", \"gridwidth\": 2, \"linecolor\": \"white\", \"showbackground\": true, \"ticks\": \"\", \"zerolinecolor\": \"white\"}, \"yaxis\": {\"backgroundcolor\": \"#E5ECF6\", \"gridcolor\": \"white\", \"gridwidth\": 2, \"linecolor\": \"white\", \"showbackground\": true, \"ticks\": \"\", \"zerolinecolor\": \"white\"}, \"zaxis\": {\"backgroundcolor\": \"#E5ECF6\", \"gridcolor\": \"white\", \"gridwidth\": 2, \"linecolor\": \"white\", \"showbackground\": true, \"ticks\": \"\", \"zerolinecolor\": \"white\"}}, \"shapedefaults\": {\"line\": {\"color\": \"#2a3f5f\"}}, \"ternary\": {\"aaxis\": {\"gridcolor\": \"white\", \"linecolor\": \"white\", \"ticks\": \"\"}, \"baxis\": {\"gridcolor\": \"white\", \"linecolor\": \"white\", \"ticks\": \"\"}, \"bgcolor\": \"#E5ECF6\", \"caxis\": {\"gridcolor\": \"white\", \"linecolor\": \"white\", \"ticks\": \"\"}}, \"title\": {\"x\": 0.05}, \"xaxis\": {\"automargin\": true, \"gridcolor\": \"white\", \"linecolor\": \"white\", \"ticks\": \"\", \"title\": {\"standoff\": 15}, \"zerolinecolor\": \"white\", \"zerolinewidth\": 2}, \"yaxis\": {\"automargin\": true, \"gridcolor\": \"white\", \"linecolor\": \"white\", \"ticks\": \"\", \"title\": {\"standoff\": 15}, \"zerolinecolor\": \"white\", \"zerolinewidth\": 2}}}, \"xaxis\": {\"anchor\": \"y\", \"domain\": [0.0, 1.0], \"title\": {\"text\": \"eixo_x\"}}, \"yaxis\": {\"anchor\": \"x\", \"domain\": [0.0, 1.0], \"title\": {\"text\": \"eixo_y\"}}},\n",
              "                        {\"responsive\": true}\n",
              "                    ).then(function(){\n",
              "                            \n",
              "var gd = document.getElementById('1f4e2cf9-03df-46be-b720-a6b6fe561d1f');\n",
              "var x = new MutationObserver(function (mutations, observer) {{\n",
              "        var display = window.getComputedStyle(gd).display;\n",
              "        if (!display || display === 'none') {{\n",
              "            console.log([gd, 'removed!']);\n",
              "            Plotly.purge(gd);\n",
              "            observer.disconnect();\n",
              "        }}\n",
              "}});\n",
              "\n",
              "// Listen for the removal of the full notebook cells\n",
              "var notebookContainer = gd.closest('#notebook-container');\n",
              "if (notebookContainer) {{\n",
              "    x.observe(notebookContainer, {childList: true});\n",
              "}}\n",
              "\n",
              "// Listen for the clearing of the current output cell\n",
              "var outputEl = gd.closest('.output');\n",
              "if (outputEl) {{\n",
              "    x.observe(outputEl, {childList: true});\n",
              "}}\n",
              "\n",
              "                        })\n",
              "                };\n",
              "                \n",
              "            </script>\n",
              "        </div>\n",
              "</body>\n",
              "</html>"
            ]
          },
          "metadata": {}
        }
      ]
    },
    {
      "cell_type": "markdown",
      "metadata": {
        "id": "7O_aGhoIi1Yj"
      },
      "source": [
        "### **Seaborn**"
      ]
    },
    {
      "cell_type": "code",
      "metadata": {
        "id": "E5tWGCMHiSYm"
      },
      "source": [
        "import seaborn as sns\n",
        "import matplotlib.pyplot as plt"
      ],
      "execution_count": null,
      "outputs": []
    },
    {
      "cell_type": "code",
      "metadata": {
        "colab": {
          "base_uri": "https://localhost:8080/",
          "height": 498
        },
        "id": "dMXfhbbWih1R",
        "outputId": "05d707c2-386c-4e0d-d913-16fa5e38583e"
      },
      "source": [
        "fig, ax = plt.subplots(figsize=(8,6))\n",
        "sns.lineplot(x,y)\n",
        "ax.set_title(\"Gráfico de Linhas\", fontdict={'fontsize':18})\n",
        "ax.set_xlabel('Eixo x', fontdict={'fontsize':12})\n",
        "ax.set_ylabel('Eixo y', fontdict={'fontsize':12});"
      ],
      "execution_count": null,
      "outputs": [
        {
          "output_type": "stream",
          "name": "stderr",
          "text": [
            "/usr/local/lib/python3.7/dist-packages/seaborn/_decorators.py:43: FutureWarning:\n",
            "\n",
            "Pass the following variables as keyword args: x, y. From version 0.12, the only valid positional argument will be `data`, and passing other arguments without an explicit keyword will result in an error or misinterpretation.\n",
            "\n"
          ]
        },
        {
          "output_type": "display_data",
          "data": {
            "image/png": "[encoded data removed]",
            "text/plain": [
              "<Figure size 576x432 with 1 Axes>"
            ]
          },
          "metadata": {
            "needs_background": "light"
          }
        }
      ]
    },
    {
      "cell_type": "code",
      "metadata": {
        "colab": {
          "base_uri": "https://localhost:8080/",
          "height": 498
        },
        "id": "kUbr5FOtjjKh",
        "outputId": "c8233971-a545-4eed-9e97-d6252e1b2007"
      },
      "source": [
        "fig, ax = plt.subplots(figsize=(8,6))\n",
        "sns.lineplot(df.eixo_x,df.eixo_y)\n",
        "ax.set_title(\"Gráfico de Linhas\", fontdict={'fontsize':18})\n",
        "ax.set_xlabel('Eixo x', fontdict={'fontsize':12})\n",
        "ax.set_ylabel('Eixo y', fontdict={'fontsize':12});"
      ],
      "execution_count": null,
      "outputs": [
        {
          "output_type": "stream",
          "name": "stderr",
          "text": [
            "/usr/local/lib/python3.7/dist-packages/seaborn/_decorators.py:43: FutureWarning:\n",
            "\n",
            "Pass the following variables as keyword args: x, y. From version 0.12, the only valid positional argument will be `data`, and passing other arguments without an explicit keyword will result in an error or misinterpretation.\n",
            "\n"
          ]
        },
        {
          "output_type": "display_data",
          "data": {
            "image/png": "[encoded data removed]",
            "text/plain": [
              "<Figure size 576x432 with 1 Axes>"
            ]
          },
          "metadata": {
            "needs_background": "light"
          }
        }
      ]
    }
  ]
}