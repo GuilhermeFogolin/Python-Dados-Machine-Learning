{
  "nbformat": 4,
  "nbformat_minor": 0,
  "metadata": {
    "colab": {
      "provenance": [],
      "include_colab_link": true
    },
    "kernelspec": {
      "name": "python3",
      "display_name": "Python 3"
    },
    "language_info": {
      "name": "python"
    }
  },
  "cells": [
    {
      "cell_type": "markdown",
      "metadata": {
        "id": "view-in-github",
        "colab_type": "text"
      },
      "source": [
        "<a href=\"https://colab.research.google.com/github/GuilhermeFogolin/Python-Dados-Machine-Learning/blob/main/Tratamento_Projeto02.ipynb\" target=\"_parent\"><img src=\"https://colab.research.google.com/assets/colab-badge.svg\" alt=\"Open In Colab\"/></a>"
      ]
    },
    {
      "cell_type": "markdown",
      "metadata": {
        "id": "fQJ5CYV9Te0X"
      },
      "source": [
        "# **Projeto: Análise dos dados sobre a Síndrome Respiratória Aguda Grave (SRAG)**"
      ]
    },
    {
      "cell_type": "markdown",
      "metadata": {
        "id": "kXFCCsVHTtTP"
      },
      "source": [
        "Este projeto analisa os dados referentes aos casos de síndrome respiratória aguda no estado de São Paulo do período de dezembro de 2019 à julho de 2020."
      ]
    },
    {
      "cell_type": "markdown",
      "metadata": {
        "id": "5ZQ2nYhQUc3G"
      },
      "source": [
        "Os dados estão disponíveis nos sites:\n",
        "\n",
        "https://www.seade.gov.br/coronavirus/#\n",
        "\n",
        "https://github.com/seade-R/dados-covid-sp\n",
        "\n",
        "https://www.seade.gov.br/\n"
      ]
    },
    {
      "cell_type": "code",
      "source": [
        "from google.colab import drive\n",
        "drive.mount('/content/drive')"
      ],
      "metadata": {
        "id": "sHyAnG8pPRRm",
        "colab": {
          "base_uri": "https://localhost:8080/"
        },
        "outputId": "f116d6d4-8c20-4877-b145-480f0f3f7b29"
      },
      "execution_count": 1,
      "outputs": [
        {
          "output_type": "stream",
          "name": "stdout",
          "text": [
            "Mounted at /content/drive\n"
          ]
        }
      ]
    },
    {
      "cell_type": "markdown",
      "metadata": {
        "id": "9_XcXErv4VIU"
      },
      "source": [
        "## **Importação dos Dados**"
      ]
    },
    {
      "cell_type": "code",
      "metadata": {
        "id": "nWvIcticlCs2"
      },
      "source": [
        "import numpy as np\n",
        "import pandas as pd"
      ],
      "execution_count": 2,
      "outputs": []
    },
    {
      "cell_type": "code",
      "metadata": {
        "id": "LRIrwcC8kUhT",
        "colab": {
          "base_uri": "https://localhost:8080/"
        },
        "outputId": "c304c6f9-6b26-45dc-a281-de041842d8f8"
      },
      "source": [
        "srag_sp = pd.read_csv('/content/drive/MyDrive/Python_Dados_Machine_Learning/SRAG_2020.csv',\n",
        "                    sep=';', encoding='utf-8')"
      ],
      "execution_count": 3,
      "outputs": [
        {
          "output_type": "stream",
          "name": "stderr",
          "text": [
            "/tmp/ipython-input-3-2194773891.py:1: DtypeWarning: Columns (15,48,50,51,52,55,86,92,94,106,108,115,117,118,119) have mixed types. Specify dtype option on import or set low_memory=False.\n",
            "  srag_sp = pd.read_csv('/content/drive/MyDrive/Python_Dados_Machine_Learning/SRAG_2020.csv',\n"
          ]
        }
      ]
    },
    {
      "cell_type": "code",
      "metadata": {
        "id": "GkFTnV4UmHNw",
        "colab": {
          "base_uri": "https://localhost:8080/",
          "height": 499
        },
        "outputId": "16f41de5-7663-4d1a-d0a4-07bc2fdf3233"
      },
      "source": [
        "srag_sp.head()"
      ],
      "execution_count": 4,
      "outputs": [
        {
          "output_type": "execute_result",
          "data": {
            "text/plain": [
              "   DT_NOTIFIC CS_SEXO  NU_IDADE_N  TP_IDADE  COD_IDADE ID_PAIS  CO_PAIS SG_UF  \\\n",
              "0  12/30/2019       F          52         3       3052  BRASIL        1    SP   \n",
              "1    1/2/2020       M           7         2       2007  BRASIL        1    SP   \n",
              "2  12/29/2019       F          22         3       3022  BRASIL        1    SP   \n",
              "3  12/31/2019       M          75         3       3075  BRASIL        1    SP   \n",
              "4    1/2/2020       F           1         3       3001  BRASIL        1    SP   \n",
              "\n",
              "                       ID_RG_RESI  CO_RG_RESI  ... SEM_NOT  DT_SIN_PRI  \\\n",
              "0  GVE XXIX SAO JOSE DO RIO PRETO      1354.0  ...       1  12/29/2019   \n",
              "1                   GVE I CAPITAL      1331.0  ...       1  12/30/2019   \n",
              "2               GVE XVII CAMPINAS      1342.0  ...       1  12/29/2019   \n",
              "3             GVE VII SANTO ANDRE      1332.0  ...       1  12/31/2019   \n",
              "4                  GVE XIII ASSIS      1338.0  ...       1  12/31/2019   \n",
              "\n",
              "   SEM_PRI  SG_UF_NOT                      ID_REGIONA CO_REGIONA  \\\n",
              "0        1         SP  GVE XXIX SAO JOSE DO RIO PRETO     1354.0   \n",
              "1        1         SP                   GVE I CAPITAL     1331.0   \n",
              "2        1         SP               GVE XVII CAMPINAS     1342.0   \n",
              "3        1         SP             GVE VII SANTO ANDRE     1332.0   \n",
              "4        1         SP                  GVE XIII ASSIS     1338.0   \n",
              "\n",
              "              ID_MUNICIP  CO_MUN_NOT  \\\n",
              "0              CATANDUVA      351110   \n",
              "1              SAO PAULO      355030   \n",
              "2               CAMPINAS      350950   \n",
              "3  SAO BERNARDO DO CAMPO      354870   \n",
              "4                  ASSIS      350400   \n",
              "\n",
              "                                   ID_UNIDADE  CO_UNI_NOT  \n",
              "0         HOSP ESCOLA EMILIO CARLOS CATANDUVA     2089335  \n",
              "1  HOSP MUN JABAQUARA ARTUR RIBEIRO DE SABOYA     2081970  \n",
              "2                HOSPITAL RENASCENCA CAMPINAS     7044666  \n",
              "3                        UPA PAULICEIA TABOAO     6821197  \n",
              "4                  HOSPITAL REGIONAL DE ASSIS     2083094  \n",
              "\n",
              "[5 rows x 133 columns]"
            ],
            "text/html": [
              "\n",
              "  <div id=\"df-3375c46e-8657-4e69-88c8-9a0f229ed77a\" class=\"colab-df-container\">\n",
              "    <div>\n",
              "<style scoped>\n",
              "    .dataframe tbody tr th:only-of-type {\n",
              "        vertical-align: middle;\n",
              "    }\n",
              "\n",
              "    .dataframe tbody tr th {\n",
              "        vertical-align: top;\n",
              "    }\n",
              "\n",
              "    .dataframe thead th {\n",
              "        text-align: right;\n",
              "    }\n",
              "</style>\n",
              "<table border=\"1\" class=\"dataframe\">\n",
              "  <thead>\n",
              "    <tr style=\"text-align: right;\">\n",
              "      <th></th>\n",
              "      <th>DT_NOTIFIC</th>\n",
              "      <th>CS_SEXO</th>\n",
              "      <th>NU_IDADE_N</th>\n",
              "      <th>TP_IDADE</th>\n",
              "      <th>COD_IDADE</th>\n",
              "      <th>ID_PAIS</th>\n",
              "      <th>CO_PAIS</th>\n",
              "      <th>SG_UF</th>\n",
              "      <th>ID_RG_RESI</th>\n",
              "      <th>CO_RG_RESI</th>\n",
              "      <th>...</th>\n",
              "      <th>SEM_NOT</th>\n",
              "      <th>DT_SIN_PRI</th>\n",
              "      <th>SEM_PRI</th>\n",
              "      <th>SG_UF_NOT</th>\n",
              "      <th>ID_REGIONA</th>\n",
              "      <th>CO_REGIONA</th>\n",
              "      <th>ID_MUNICIP</th>\n",
              "      <th>CO_MUN_NOT</th>\n",
              "      <th>ID_UNIDADE</th>\n",
              "      <th>CO_UNI_NOT</th>\n",
              "    </tr>\n",
              "  </thead>\n",
              "  <tbody>\n",
              "    <tr>\n",
              "      <th>0</th>\n",
              "      <td>12/30/2019</td>\n",
              "      <td>F</td>\n",
              "      <td>52</td>\n",
              "      <td>3</td>\n",
              "      <td>3052</td>\n",
              "      <td>BRASIL</td>\n",
              "      <td>1</td>\n",
              "      <td>SP</td>\n",
              "      <td>GVE XXIX SAO JOSE DO RIO PRETO</td>\n",
              "      <td>1354.0</td>\n",
              "      <td>...</td>\n",
              "      <td>1</td>\n",
              "      <td>12/29/2019</td>\n",
              "      <td>1</td>\n",
              "      <td>SP</td>\n",
              "      <td>GVE XXIX SAO JOSE DO RIO PRETO</td>\n",
              "      <td>1354.0</td>\n",
              "      <td>CATANDUVA</td>\n",
              "      <td>351110</td>\n",
              "      <td>HOSP ESCOLA EMILIO CARLOS CATANDUVA</td>\n",
              "      <td>2089335</td>\n",
              "    </tr>\n",
              "    <tr>\n",
              "      <th>1</th>\n",
              "      <td>1/2/2020</td>\n",
              "      <td>M</td>\n",
              "      <td>7</td>\n",
              "      <td>2</td>\n",
              "      <td>2007</td>\n",
              "      <td>BRASIL</td>\n",
              "      <td>1</td>\n",
              "      <td>SP</td>\n",
              "      <td>GVE I CAPITAL</td>\n",
              "      <td>1331.0</td>\n",
              "      <td>...</td>\n",
              "      <td>1</td>\n",
              "      <td>12/30/2019</td>\n",
              "      <td>1</td>\n",
              "      <td>SP</td>\n",
              "      <td>GVE I CAPITAL</td>\n",
              "      <td>1331.0</td>\n",
              "      <td>SAO PAULO</td>\n",
              "      <td>355030</td>\n",
              "      <td>HOSP MUN JABAQUARA ARTUR RIBEIRO DE SABOYA</td>\n",
              "      <td>2081970</td>\n",
              "    </tr>\n",
              "    <tr>\n",
              "      <th>2</th>\n",
              "      <td>12/29/2019</td>\n",
              "      <td>F</td>\n",
              "      <td>22</td>\n",
              "      <td>3</td>\n",
              "      <td>3022</td>\n",
              "      <td>BRASIL</td>\n",
              "      <td>1</td>\n",
              "      <td>SP</td>\n",
              "      <td>GVE XVII CAMPINAS</td>\n",
              "      <td>1342.0</td>\n",
              "      <td>...</td>\n",
              "      <td>1</td>\n",
              "      <td>12/29/2019</td>\n",
              "      <td>1</td>\n",
              "      <td>SP</td>\n",
              "      <td>GVE XVII CAMPINAS</td>\n",
              "      <td>1342.0</td>\n",
              "      <td>CAMPINAS</td>\n",
              "      <td>350950</td>\n",
              "      <td>HOSPITAL RENASCENCA CAMPINAS</td>\n",
              "      <td>7044666</td>\n",
              "    </tr>\n",
              "    <tr>\n",
              "      <th>3</th>\n",
              "      <td>12/31/2019</td>\n",
              "      <td>M</td>\n",
              "      <td>75</td>\n",
              "      <td>3</td>\n",
              "      <td>3075</td>\n",
              "      <td>BRASIL</td>\n",
              "      <td>1</td>\n",
              "      <td>SP</td>\n",
              "      <td>GVE VII SANTO ANDRE</td>\n",
              "      <td>1332.0</td>\n",
              "      <td>...</td>\n",
              "      <td>1</td>\n",
              "      <td>12/31/2019</td>\n",
              "      <td>1</td>\n",
              "      <td>SP</td>\n",
              "      <td>GVE VII SANTO ANDRE</td>\n",
              "      <td>1332.0</td>\n",
              "      <td>SAO BERNARDO DO CAMPO</td>\n",
              "      <td>354870</td>\n",
              "      <td>UPA PAULICEIA TABOAO</td>\n",
              "      <td>6821197</td>\n",
              "    </tr>\n",
              "    <tr>\n",
              "      <th>4</th>\n",
              "      <td>1/2/2020</td>\n",
              "      <td>F</td>\n",
              "      <td>1</td>\n",
              "      <td>3</td>\n",
              "      <td>3001</td>\n",
              "      <td>BRASIL</td>\n",
              "      <td>1</td>\n",
              "      <td>SP</td>\n",
              "      <td>GVE XIII ASSIS</td>\n",
              "      <td>1338.0</td>\n",
              "      <td>...</td>\n",
              "      <td>1</td>\n",
              "      <td>12/31/2019</td>\n",
              "      <td>1</td>\n",
              "      <td>SP</td>\n",
              "      <td>GVE XIII ASSIS</td>\n",
              "      <td>1338.0</td>\n",
              "      <td>ASSIS</td>\n",
              "      <td>350400</td>\n",
              "      <td>HOSPITAL REGIONAL DE ASSIS</td>\n",
              "      <td>2083094</td>\n",
              "    </tr>\n",
              "  </tbody>\n",
              "</table>\n",
              "<p>5 rows × 133 columns</p>\n",
              "</div>\n",
              "    <div class=\"colab-df-buttons\">\n",
              "\n",
              "  <div class=\"colab-df-container\">\n",
              "    <button class=\"colab-df-convert\" onclick=\"convertToInteractive('df-3375c46e-8657-4e69-88c8-9a0f229ed77a')\"\n",
              "            title=\"Convert this dataframe to an interactive table.\"\n",
              "            style=\"display:none;\">\n",
              "\n",
              "  <svg xmlns=\"http://www.w3.org/2000/svg\" height=\"24px\" viewBox=\"0 -960 960 960\">\n",
              "    <path d=\"M120-120v-720h720v720H120Zm60-500h600v-160H180v160Zm220 220h160v-160H400v160Zm0 220h160v-160H400v160ZM180-400h160v-160H180v160Zm440 0h160v-160H620v160ZM180-180h160v-160H180v160Zm440 0h160v-160H620v160Z\"/>\n",
              "  </svg>\n",
              "    </button>\n",
              "\n",
              "  <style>\n",
              "    .colab-df-container {\n",
              "      display:flex;\n",
              "      gap: 12px;\n",
              "    }\n",
              "\n",
              "    .colab-df-convert {\n",
              "      background-color: #E8F0FE;\n",
              "      border: none;\n",
              "      border-radius: 50%;\n",
              "      cursor: pointer;\n",
              "      display: none;\n",
              "      fill: #1967D2;\n",
              "      height: 32px;\n",
              "      padding: 0 0 0 0;\n",
              "      width: 32px;\n",
              "    }\n",
              "\n",
              "    .colab-df-convert:hover {\n",
              "      background-color: #E2EBFA;\n",
              "      box-shadow: 0px 1px 2px rgba(60, 64, 67, 0.3), 0px 1px 3px 1px rgba(60, 64, 67, 0.15);\n",
              "      fill: #174EA6;\n",
              "    }\n",
              "\n",
              "    .colab-df-buttons div {\n",
              "      margin-bottom: 4px;\n",
              "    }\n",
              "\n",
              "    [theme=dark] .colab-df-convert {\n",
              "      background-color: #3B4455;\n",
              "      fill: #D2E3FC;\n",
              "    }\n",
              "\n",
              "    [theme=dark] .colab-df-convert:hover {\n",
              "      background-color: #434B5C;\n",
              "      box-shadow: 0px 1px 3px 1px rgba(0, 0, 0, 0.15);\n",
              "      filter: drop-shadow(0px 1px 2px rgba(0, 0, 0, 0.3));\n",
              "      fill: #FFFFFF;\n",
              "    }\n",
              "  </style>\n",
              "\n",
              "    <script>\n",
              "      const buttonEl =\n",
              "        document.querySelector('#df-3375c46e-8657-4e69-88c8-9a0f229ed77a button.colab-df-convert');\n",
              "      buttonEl.style.display =\n",
              "        google.colab.kernel.accessAllowed ? 'block' : 'none';\n",
              "\n",
              "      async function convertToInteractive(key) {\n",
              "        const element = document.querySelector('#df-3375c46e-8657-4e69-88c8-9a0f229ed77a');\n",
              "        const dataTable =\n",
              "          await google.colab.kernel.invokeFunction('convertToInteractive',\n",
              "                                                    [key], {});\n",
              "        if (!dataTable) return;\n",
              "\n",
              "        const docLinkHtml = 'Like what you see? Visit the ' +\n",
              "          '<a target=\"_blank\" href=https://colab.research.google.com/notebooks/data_table.ipynb>data table notebook</a>'\n",
              "          + ' to learn more about interactive tables.';\n",
              "        element.innerHTML = '';\n",
              "        dataTable['output_type'] = 'display_data';\n",
              "        await google.colab.output.renderOutput(dataTable, element);\n",
              "        const docLink = document.createElement('div');\n",
              "        docLink.innerHTML = docLinkHtml;\n",
              "        element.appendChild(docLink);\n",
              "      }\n",
              "    </script>\n",
              "  </div>\n",
              "\n",
              "\n",
              "    <div id=\"df-06677994-637d-4036-867e-96ad517d5b05\">\n",
              "      <button class=\"colab-df-quickchart\" onclick=\"quickchart('df-06677994-637d-4036-867e-96ad517d5b05')\"\n",
              "                title=\"Suggest charts\"\n",
              "                style=\"display:none;\">\n",
              "\n",
              "<svg xmlns=\"http://www.w3.org/2000/svg\" height=\"24px\"viewBox=\"0 0 24 24\"\n",
              "     width=\"24px\">\n",
              "    <g>\n",
              "        <path d=\"M19 3H5c-1.1 0-2 .9-2 2v14c0 1.1.9 2 2 2h14c1.1 0 2-.9 2-2V5c0-1.1-.9-2-2-2zM9 17H7v-7h2v7zm4 0h-2V7h2v10zm4 0h-2v-4h2v4z\"/>\n",
              "    </g>\n",
              "</svg>\n",
              "      </button>\n",
              "\n",
              "<style>\n",
              "  .colab-df-quickchart {\n",
              "      --bg-color: #E8F0FE;\n",
              "      --fill-color: #1967D2;\n",
              "      --hover-bg-color: #E2EBFA;\n",
              "      --hover-fill-color: #174EA6;\n",
              "      --disabled-fill-color: #AAA;\n",
              "      --disabled-bg-color: #DDD;\n",
              "  }\n",
              "\n",
              "  [theme=dark] .colab-df-quickchart {\n",
              "      --bg-color: #3B4455;\n",
              "      --fill-color: #D2E3FC;\n",
              "      --hover-bg-color: #434B5C;\n",
              "      --hover-fill-color: #FFFFFF;\n",
              "      --disabled-bg-color: #3B4455;\n",
              "      --disabled-fill-color: #666;\n",
              "  }\n",
              "\n",
              "  .colab-df-quickchart {\n",
              "    background-color: var(--bg-color);\n",
              "    border: none;\n",
              "    border-radius: 50%;\n",
              "    cursor: pointer;\n",
              "    display: none;\n",
              "    fill: var(--fill-color);\n",
              "    height: 32px;\n",
              "    padding: 0;\n",
              "    width: 32px;\n",
              "  }\n",
              "\n",
              "  .colab-df-quickchart:hover {\n",
              "    background-color: var(--hover-bg-color);\n",
              "    box-shadow: 0 1px 2px rgba(60, 64, 67, 0.3), 0 1px 3px 1px rgba(60, 64, 67, 0.15);\n",
              "    fill: var(--button-hover-fill-color);\n",
              "  }\n",
              "\n",
              "  .colab-df-quickchart-complete:disabled,\n",
              "  .colab-df-quickchart-complete:disabled:hover {\n",
              "    background-color: var(--disabled-bg-color);\n",
              "    fill: var(--disabled-fill-color);\n",
              "    box-shadow: none;\n",
              "  }\n",
              "\n",
              "  .colab-df-spinner {\n",
              "    border: 2px solid var(--fill-color);\n",
              "    border-color: transparent;\n",
              "    border-bottom-color: var(--fill-color);\n",
              "    animation:\n",
              "      spin 1s steps(1) infinite;\n",
              "  }\n",
              "\n",
              "  @keyframes spin {\n",
              "    0% {\n",
              "      border-color: transparent;\n",
              "      border-bottom-color: var(--fill-color);\n",
              "      border-left-color: var(--fill-color);\n",
              "    }\n",
              "    20% {\n",
              "      border-color: transparent;\n",
              "      border-left-color: var(--fill-color);\n",
              "      border-top-color: var(--fill-color);\n",
              "    }\n",
              "    30% {\n",
              "      border-color: transparent;\n",
              "      border-left-color: var(--fill-color);\n",
              "      border-top-color: var(--fill-color);\n",
              "      border-right-color: var(--fill-color);\n",
              "    }\n",
              "    40% {\n",
              "      border-color: transparent;\n",
              "      border-right-color: var(--fill-color);\n",
              "      border-top-color: var(--fill-color);\n",
              "    }\n",
              "    60% {\n",
              "      border-color: transparent;\n",
              "      border-right-color: var(--fill-color);\n",
              "    }\n",
              "    80% {\n",
              "      border-color: transparent;\n",
              "      border-right-color: var(--fill-color);\n",
              "      border-bottom-color: var(--fill-color);\n",
              "    }\n",
              "    90% {\n",
              "      border-color: transparent;\n",
              "      border-bottom-color: var(--fill-color);\n",
              "    }\n",
              "  }\n",
              "</style>\n",
              "\n",
              "      <script>\n",
              "        async function quickchart(key) {\n",
              "          const quickchartButtonEl =\n",
              "            document.querySelector('#' + key + ' button');\n",
              "          quickchartButtonEl.disabled = true;  // To prevent multiple clicks.\n",
              "          quickchartButtonEl.classList.add('colab-df-spinner');\n",
              "          try {\n",
              "            const charts = await google.colab.kernel.invokeFunction(\n",
              "                'suggestCharts', [key], {});\n",
              "          } catch (error) {\n",
              "            console.error('Error during call to suggestCharts:', error);\n",
              "          }\n",
              "          quickchartButtonEl.classList.remove('colab-df-spinner');\n",
              "          quickchartButtonEl.classList.add('colab-df-quickchart-complete');\n",
              "        }\n",
              "        (() => {\n",
              "          let quickchartButtonEl =\n",
              "            document.querySelector('#df-06677994-637d-4036-867e-96ad517d5b05 button');\n",
              "          quickchartButtonEl.style.display =\n",
              "            google.colab.kernel.accessAllowed ? 'block' : 'none';\n",
              "        })();\n",
              "      </script>\n",
              "    </div>\n",
              "\n",
              "    </div>\n",
              "  </div>\n"
            ],
            "application/vnd.google.colaboratory.intrinsic+json": {
              "type": "dataframe",
              "variable_name": "srag_sp"
            }
          },
          "metadata": {},
          "execution_count": 4
        }
      ]
    },
    {
      "cell_type": "code",
      "metadata": {
        "colab": {
          "base_uri": "https://localhost:8080/"
        },
        "id": "fCBkTzh_3uOA",
        "outputId": "ccf479f2-6579-432a-fb24-049979682848"
      },
      "source": [
        "srag_sp.shape"
      ],
      "execution_count": 5,
      "outputs": [
        {
          "output_type": "execute_result",
          "data": {
            "text/plain": [
              "(106651, 133)"
            ]
          },
          "metadata": {},
          "execution_count": 5
        }
      ]
    },
    {
      "cell_type": "markdown",
      "metadata": {
        "id": "3VQpouT086lo"
      },
      "source": [
        "## **Tratamento dos Dados**"
      ]
    },
    {
      "cell_type": "code",
      "metadata": {
        "id": "nMrUSbomsgLc",
        "colab": {
          "base_uri": "https://localhost:8080/",
          "height": 300
        },
        "outputId": "a4338996-e362-4656-9289-3bd98ec27ccd"
      },
      "source": [
        "srag_sp.head(2)"
      ],
      "execution_count": 6,
      "outputs": [
        {
          "output_type": "execute_result",
          "data": {
            "text/plain": [
              "   DT_NOTIFIC CS_SEXO  NU_IDADE_N  TP_IDADE  COD_IDADE ID_PAIS  CO_PAIS SG_UF  \\\n",
              "0  12/30/2019       F          52         3       3052  BRASIL        1    SP   \n",
              "1    1/2/2020       M           7         2       2007  BRASIL        1    SP   \n",
              "\n",
              "                       ID_RG_RESI  CO_RG_RESI  ... SEM_NOT  DT_SIN_PRI  \\\n",
              "0  GVE XXIX SAO JOSE DO RIO PRETO      1354.0  ...       1  12/29/2019   \n",
              "1                   GVE I CAPITAL      1331.0  ...       1  12/30/2019   \n",
              "\n",
              "   SEM_PRI  SG_UF_NOT                      ID_REGIONA CO_REGIONA  ID_MUNICIP  \\\n",
              "0        1         SP  GVE XXIX SAO JOSE DO RIO PRETO     1354.0   CATANDUVA   \n",
              "1        1         SP                   GVE I CAPITAL     1331.0   SAO PAULO   \n",
              "\n",
              "   CO_MUN_NOT                                  ID_UNIDADE  CO_UNI_NOT  \n",
              "0      351110         HOSP ESCOLA EMILIO CARLOS CATANDUVA     2089335  \n",
              "1      355030  HOSP MUN JABAQUARA ARTUR RIBEIRO DE SABOYA     2081970  \n",
              "\n",
              "[2 rows x 133 columns]"
            ],
            "text/html": [
              "\n",
              "  <div id=\"df-72c77558-fbe8-40eb-bddc-a8d12740e811\" class=\"colab-df-container\">\n",
              "    <div>\n",
              "<style scoped>\n",
              "    .dataframe tbody tr th:only-of-type {\n",
              "        vertical-align: middle;\n",
              "    }\n",
              "\n",
              "    .dataframe tbody tr th {\n",
              "        vertical-align: top;\n",
              "    }\n",
              "\n",
              "    .dataframe thead th {\n",
              "        text-align: right;\n",
              "    }\n",
              "</style>\n",
              "<table border=\"1\" class=\"dataframe\">\n",
              "  <thead>\n",
              "    <tr style=\"text-align: right;\">\n",
              "      <th></th>\n",
              "      <th>DT_NOTIFIC</th>\n",
              "      <th>CS_SEXO</th>\n",
              "      <th>NU_IDADE_N</th>\n",
              "      <th>TP_IDADE</th>\n",
              "      <th>COD_IDADE</th>\n",
              "      <th>ID_PAIS</th>\n",
              "      <th>CO_PAIS</th>\n",
              "      <th>SG_UF</th>\n",
              "      <th>ID_RG_RESI</th>\n",
              "      <th>CO_RG_RESI</th>\n",
              "      <th>...</th>\n",
              "      <th>SEM_NOT</th>\n",
              "      <th>DT_SIN_PRI</th>\n",
              "      <th>SEM_PRI</th>\n",
              "      <th>SG_UF_NOT</th>\n",
              "      <th>ID_REGIONA</th>\n",
              "      <th>CO_REGIONA</th>\n",
              "      <th>ID_MUNICIP</th>\n",
              "      <th>CO_MUN_NOT</th>\n",
              "      <th>ID_UNIDADE</th>\n",
              "      <th>CO_UNI_NOT</th>\n",
              "    </tr>\n",
              "  </thead>\n",
              "  <tbody>\n",
              "    <tr>\n",
              "      <th>0</th>\n",
              "      <td>12/30/2019</td>\n",
              "      <td>F</td>\n",
              "      <td>52</td>\n",
              "      <td>3</td>\n",
              "      <td>3052</td>\n",
              "      <td>BRASIL</td>\n",
              "      <td>1</td>\n",
              "      <td>SP</td>\n",
              "      <td>GVE XXIX SAO JOSE DO RIO PRETO</td>\n",
              "      <td>1354.0</td>\n",
              "      <td>...</td>\n",
              "      <td>1</td>\n",
              "      <td>12/29/2019</td>\n",
              "      <td>1</td>\n",
              "      <td>SP</td>\n",
              "      <td>GVE XXIX SAO JOSE DO RIO PRETO</td>\n",
              "      <td>1354.0</td>\n",
              "      <td>CATANDUVA</td>\n",
              "      <td>351110</td>\n",
              "      <td>HOSP ESCOLA EMILIO CARLOS CATANDUVA</td>\n",
              "      <td>2089335</td>\n",
              "    </tr>\n",
              "    <tr>\n",
              "      <th>1</th>\n",
              "      <td>1/2/2020</td>\n",
              "      <td>M</td>\n",
              "      <td>7</td>\n",
              "      <td>2</td>\n",
              "      <td>2007</td>\n",
              "      <td>BRASIL</td>\n",
              "      <td>1</td>\n",
              "      <td>SP</td>\n",
              "      <td>GVE I CAPITAL</td>\n",
              "      <td>1331.0</td>\n",
              "      <td>...</td>\n",
              "      <td>1</td>\n",
              "      <td>12/30/2019</td>\n",
              "      <td>1</td>\n",
              "      <td>SP</td>\n",
              "      <td>GVE I CAPITAL</td>\n",
              "      <td>1331.0</td>\n",
              "      <td>SAO PAULO</td>\n",
              "      <td>355030</td>\n",
              "      <td>HOSP MUN JABAQUARA ARTUR RIBEIRO DE SABOYA</td>\n",
              "      <td>2081970</td>\n",
              "    </tr>\n",
              "  </tbody>\n",
              "</table>\n",
              "<p>2 rows × 133 columns</p>\n",
              "</div>\n",
              "    <div class=\"colab-df-buttons\">\n",
              "\n",
              "  <div class=\"colab-df-container\">\n",
              "    <button class=\"colab-df-convert\" onclick=\"convertToInteractive('df-72c77558-fbe8-40eb-bddc-a8d12740e811')\"\n",
              "            title=\"Convert this dataframe to an interactive table.\"\n",
              "            style=\"display:none;\">\n",
              "\n",
              "  <svg xmlns=\"http://www.w3.org/2000/svg\" height=\"24px\" viewBox=\"0 -960 960 960\">\n",
              "    <path d=\"M120-120v-720h720v720H120Zm60-500h600v-160H180v160Zm220 220h160v-160H400v160Zm0 220h160v-160H400v160ZM180-400h160v-160H180v160Zm440 0h160v-160H620v160ZM180-180h160v-160H180v160Zm440 0h160v-160H620v160Z\"/>\n",
              "  </svg>\n",
              "    </button>\n",
              "\n",
              "  <style>\n",
              "    .colab-df-container {\n",
              "      display:flex;\n",
              "      gap: 12px;\n",
              "    }\n",
              "\n",
              "    .colab-df-convert {\n",
              "      background-color: #E8F0FE;\n",
              "      border: none;\n",
              "      border-radius: 50%;\n",
              "      cursor: pointer;\n",
              "      display: none;\n",
              "      fill: #1967D2;\n",
              "      height: 32px;\n",
              "      padding: 0 0 0 0;\n",
              "      width: 32px;\n",
              "    }\n",
              "\n",
              "    .colab-df-convert:hover {\n",
              "      background-color: #E2EBFA;\n",
              "      box-shadow: 0px 1px 2px rgba(60, 64, 67, 0.3), 0px 1px 3px 1px rgba(60, 64, 67, 0.15);\n",
              "      fill: #174EA6;\n",
              "    }\n",
              "\n",
              "    .colab-df-buttons div {\n",
              "      margin-bottom: 4px;\n",
              "    }\n",
              "\n",
              "    [theme=dark] .colab-df-convert {\n",
              "      background-color: #3B4455;\n",
              "      fill: #D2E3FC;\n",
              "    }\n",
              "\n",
              "    [theme=dark] .colab-df-convert:hover {\n",
              "      background-color: #434B5C;\n",
              "      box-shadow: 0px 1px 3px 1px rgba(0, 0, 0, 0.15);\n",
              "      filter: drop-shadow(0px 1px 2px rgba(0, 0, 0, 0.3));\n",
              "      fill: #FFFFFF;\n",
              "    }\n",
              "  </style>\n",
              "\n",
              "    <script>\n",
              "      const buttonEl =\n",
              "        document.querySelector('#df-72c77558-fbe8-40eb-bddc-a8d12740e811 button.colab-df-convert');\n",
              "      buttonEl.style.display =\n",
              "        google.colab.kernel.accessAllowed ? 'block' : 'none';\n",
              "\n",
              "      async function convertToInteractive(key) {\n",
              "        const element = document.querySelector('#df-72c77558-fbe8-40eb-bddc-a8d12740e811');\n",
              "        const dataTable =\n",
              "          await google.colab.kernel.invokeFunction('convertToInteractive',\n",
              "                                                    [key], {});\n",
              "        if (!dataTable) return;\n",
              "\n",
              "        const docLinkHtml = 'Like what you see? Visit the ' +\n",
              "          '<a target=\"_blank\" href=https://colab.research.google.com/notebooks/data_table.ipynb>data table notebook</a>'\n",
              "          + ' to learn more about interactive tables.';\n",
              "        element.innerHTML = '';\n",
              "        dataTable['output_type'] = 'display_data';\n",
              "        await google.colab.output.renderOutput(dataTable, element);\n",
              "        const docLink = document.createElement('div');\n",
              "        docLink.innerHTML = docLinkHtml;\n",
              "        element.appendChild(docLink);\n",
              "      }\n",
              "    </script>\n",
              "  </div>\n",
              "\n",
              "\n",
              "    <div id=\"df-54407f65-0990-4937-b969-a68e3469928a\">\n",
              "      <button class=\"colab-df-quickchart\" onclick=\"quickchart('df-54407f65-0990-4937-b969-a68e3469928a')\"\n",
              "                title=\"Suggest charts\"\n",
              "                style=\"display:none;\">\n",
              "\n",
              "<svg xmlns=\"http://www.w3.org/2000/svg\" height=\"24px\"viewBox=\"0 0 24 24\"\n",
              "     width=\"24px\">\n",
              "    <g>\n",
              "        <path d=\"M19 3H5c-1.1 0-2 .9-2 2v14c0 1.1.9 2 2 2h14c1.1 0 2-.9 2-2V5c0-1.1-.9-2-2-2zM9 17H7v-7h2v7zm4 0h-2V7h2v10zm4 0h-2v-4h2v4z\"/>\n",
              "    </g>\n",
              "</svg>\n",
              "      </button>\n",
              "\n",
              "<style>\n",
              "  .colab-df-quickchart {\n",
              "      --bg-color: #E8F0FE;\n",
              "      --fill-color: #1967D2;\n",
              "      --hover-bg-color: #E2EBFA;\n",
              "      --hover-fill-color: #174EA6;\n",
              "      --disabled-fill-color: #AAA;\n",
              "      --disabled-bg-color: #DDD;\n",
              "  }\n",
              "\n",
              "  [theme=dark] .colab-df-quickchart {\n",
              "      --bg-color: #3B4455;\n",
              "      --fill-color: #D2E3FC;\n",
              "      --hover-bg-color: #434B5C;\n",
              "      --hover-fill-color: #FFFFFF;\n",
              "      --disabled-bg-color: #3B4455;\n",
              "      --disabled-fill-color: #666;\n",
              "  }\n",
              "\n",
              "  .colab-df-quickchart {\n",
              "    background-color: var(--bg-color);\n",
              "    border: none;\n",
              "    border-radius: 50%;\n",
              "    cursor: pointer;\n",
              "    display: none;\n",
              "    fill: var(--fill-color);\n",
              "    height: 32px;\n",
              "    padding: 0;\n",
              "    width: 32px;\n",
              "  }\n",
              "\n",
              "  .colab-df-quickchart:hover {\n",
              "    background-color: var(--hover-bg-color);\n",
              "    box-shadow: 0 1px 2px rgba(60, 64, 67, 0.3), 0 1px 3px 1px rgba(60, 64, 67, 0.15);\n",
              "    fill: var(--button-hover-fill-color);\n",
              "  }\n",
              "\n",
              "  .colab-df-quickchart-complete:disabled,\n",
              "  .colab-df-quickchart-complete:disabled:hover {\n",
              "    background-color: var(--disabled-bg-color);\n",
              "    fill: var(--disabled-fill-color);\n",
              "    box-shadow: none;\n",
              "  }\n",
              "\n",
              "  .colab-df-spinner {\n",
              "    border: 2px solid var(--fill-color);\n",
              "    border-color: transparent;\n",
              "    border-bottom-color: var(--fill-color);\n",
              "    animation:\n",
              "      spin 1s steps(1) infinite;\n",
              "  }\n",
              "\n",
              "  @keyframes spin {\n",
              "    0% {\n",
              "      border-color: transparent;\n",
              "      border-bottom-color: var(--fill-color);\n",
              "      border-left-color: var(--fill-color);\n",
              "    }\n",
              "    20% {\n",
              "      border-color: transparent;\n",
              "      border-left-color: var(--fill-color);\n",
              "      border-top-color: var(--fill-color);\n",
              "    }\n",
              "    30% {\n",
              "      border-color: transparent;\n",
              "      border-left-color: var(--fill-color);\n",
              "      border-top-color: var(--fill-color);\n",
              "      border-right-color: var(--fill-color);\n",
              "    }\n",
              "    40% {\n",
              "      border-color: transparent;\n",
              "      border-right-color: var(--fill-color);\n",
              "      border-top-color: var(--fill-color);\n",
              "    }\n",
              "    60% {\n",
              "      border-color: transparent;\n",
              "      border-right-color: var(--fill-color);\n",
              "    }\n",
              "    80% {\n",
              "      border-color: transparent;\n",
              "      border-right-color: var(--fill-color);\n",
              "      border-bottom-color: var(--fill-color);\n",
              "    }\n",
              "    90% {\n",
              "      border-color: transparent;\n",
              "      border-bottom-color: var(--fill-color);\n",
              "    }\n",
              "  }\n",
              "</style>\n",
              "\n",
              "      <script>\n",
              "        async function quickchart(key) {\n",
              "          const quickchartButtonEl =\n",
              "            document.querySelector('#' + key + ' button');\n",
              "          quickchartButtonEl.disabled = true;  // To prevent multiple clicks.\n",
              "          quickchartButtonEl.classList.add('colab-df-spinner');\n",
              "          try {\n",
              "            const charts = await google.colab.kernel.invokeFunction(\n",
              "                'suggestCharts', [key], {});\n",
              "          } catch (error) {\n",
              "            console.error('Error during call to suggestCharts:', error);\n",
              "          }\n",
              "          quickchartButtonEl.classList.remove('colab-df-spinner');\n",
              "          quickchartButtonEl.classList.add('colab-df-quickchart-complete');\n",
              "        }\n",
              "        (() => {\n",
              "          let quickchartButtonEl =\n",
              "            document.querySelector('#df-54407f65-0990-4937-b969-a68e3469928a button');\n",
              "          quickchartButtonEl.style.display =\n",
              "            google.colab.kernel.accessAllowed ? 'block' : 'none';\n",
              "        })();\n",
              "      </script>\n",
              "    </div>\n",
              "\n",
              "    </div>\n",
              "  </div>\n"
            ],
            "application/vnd.google.colaboratory.intrinsic+json": {
              "type": "dataframe",
              "variable_name": "srag_sp"
            }
          },
          "metadata": {},
          "execution_count": 6
        }
      ]
    },
    {
      "cell_type": "code",
      "metadata": {
        "id": "6ChwWxKYuaVF",
        "colab": {
          "base_uri": "https://localhost:8080/"
        },
        "outputId": "79a946f4-c1af-4c32-c1e1-8f004ba55b49"
      },
      "source": [
        "srag_sp.shape"
      ],
      "execution_count": 7,
      "outputs": [
        {
          "output_type": "execute_result",
          "data": {
            "text/plain": [
              "(106651, 133)"
            ]
          },
          "metadata": {},
          "execution_count": 7
        }
      ]
    },
    {
      "cell_type": "markdown",
      "metadata": {
        "id": "zSEisat80tFj"
      },
      "source": [
        "**EXCLUINDO VARIÁVEIS**"
      ]
    },
    {
      "cell_type": "code",
      "metadata": {
        "id": "mNrvAupyxB24"
      },
      "source": [
        "lista = list(range(50,133))\n",
        "lista"
      ],
      "execution_count": null,
      "outputs": []
    },
    {
      "cell_type": "code",
      "metadata": {
        "id": "TpkTNgbmhCZD"
      },
      "source": [
        "srag_mod = srag_sp.drop(srag_sp.columns[lista],axis=1)"
      ],
      "execution_count": 9,
      "outputs": []
    },
    {
      "cell_type": "code",
      "metadata": {
        "id": "AQ-wAuhbxYTb",
        "colab": {
          "base_uri": "https://localhost:8080/",
          "height": 231
        },
        "outputId": "be095738-29ab-4124-9bea-cc0e489dbdd3"
      },
      "source": [
        "srag_mod.head(2)"
      ],
      "execution_count": 10,
      "outputs": [
        {
          "output_type": "execute_result",
          "data": {
            "text/plain": [
              "   DT_NOTIFIC CS_SEXO  NU_IDADE_N  TP_IDADE  COD_IDADE ID_PAIS  CO_PAIS SG_UF  \\\n",
              "0  12/30/2019       F          52         3       3052  BRASIL        1    SP   \n",
              "1    1/2/2020       M           7         2       2007  BRASIL        1    SP   \n",
              "\n",
              "                       ID_RG_RESI  CO_RG_RESI  ... RENAL  OBESIDADE  OBES_IMC  \\\n",
              "0  GVE XXIX SAO JOSE DO RIO PRETO      1354.0  ...   2.0        NaN       NaN   \n",
              "1                   GVE I CAPITAL      1331.0  ...   NaN        NaN       NaN   \n",
              "\n",
              "   OUT_MORBI  MORB_DESC VACINA  DT_UT_DOSE  MAE_VAC  DT_VAC_MAE  M_AMAMENTA  \n",
              "0        2.0        NaN    1.0   5/10/2019      NaN         NaN         NaN  \n",
              "1        NaN        NaN    2.0         NaN      NaN         NaN         NaN  \n",
              "\n",
              "[2 rows x 50 columns]"
            ],
            "text/html": [
              "\n",
              "  <div id=\"df-2ffac601-4cb5-46b4-9bc3-a85e8707a868\" class=\"colab-df-container\">\n",
              "    <div>\n",
              "<style scoped>\n",
              "    .dataframe tbody tr th:only-of-type {\n",
              "        vertical-align: middle;\n",
              "    }\n",
              "\n",
              "    .dataframe tbody tr th {\n",
              "        vertical-align: top;\n",
              "    }\n",
              "\n",
              "    .dataframe thead th {\n",
              "        text-align: right;\n",
              "    }\n",
              "</style>\n",
              "<table border=\"1\" class=\"dataframe\">\n",
              "  <thead>\n",
              "    <tr style=\"text-align: right;\">\n",
              "      <th></th>\n",
              "      <th>DT_NOTIFIC</th>\n",
              "      <th>CS_SEXO</th>\n",
              "      <th>NU_IDADE_N</th>\n",
              "      <th>TP_IDADE</th>\n",
              "      <th>COD_IDADE</th>\n",
              "      <th>ID_PAIS</th>\n",
              "      <th>CO_PAIS</th>\n",
              "      <th>SG_UF</th>\n",
              "      <th>ID_RG_RESI</th>\n",
              "      <th>CO_RG_RESI</th>\n",
              "      <th>...</th>\n",
              "      <th>RENAL</th>\n",
              "      <th>OBESIDADE</th>\n",
              "      <th>OBES_IMC</th>\n",
              "      <th>OUT_MORBI</th>\n",
              "      <th>MORB_DESC</th>\n",
              "      <th>VACINA</th>\n",
              "      <th>DT_UT_DOSE</th>\n",
              "      <th>MAE_VAC</th>\n",
              "      <th>DT_VAC_MAE</th>\n",
              "      <th>M_AMAMENTA</th>\n",
              "    </tr>\n",
              "  </thead>\n",
              "  <tbody>\n",
              "    <tr>\n",
              "      <th>0</th>\n",
              "      <td>12/30/2019</td>\n",
              "      <td>F</td>\n",
              "      <td>52</td>\n",
              "      <td>3</td>\n",
              "      <td>3052</td>\n",
              "      <td>BRASIL</td>\n",
              "      <td>1</td>\n",
              "      <td>SP</td>\n",
              "      <td>GVE XXIX SAO JOSE DO RIO PRETO</td>\n",
              "      <td>1354.0</td>\n",
              "      <td>...</td>\n",
              "      <td>2.0</td>\n",
              "      <td>NaN</td>\n",
              "      <td>NaN</td>\n",
              "      <td>2.0</td>\n",
              "      <td>NaN</td>\n",
              "      <td>1.0</td>\n",
              "      <td>5/10/2019</td>\n",
              "      <td>NaN</td>\n",
              "      <td>NaN</td>\n",
              "      <td>NaN</td>\n",
              "    </tr>\n",
              "    <tr>\n",
              "      <th>1</th>\n",
              "      <td>1/2/2020</td>\n",
              "      <td>M</td>\n",
              "      <td>7</td>\n",
              "      <td>2</td>\n",
              "      <td>2007</td>\n",
              "      <td>BRASIL</td>\n",
              "      <td>1</td>\n",
              "      <td>SP</td>\n",
              "      <td>GVE I CAPITAL</td>\n",
              "      <td>1331.0</td>\n",
              "      <td>...</td>\n",
              "      <td>NaN</td>\n",
              "      <td>NaN</td>\n",
              "      <td>NaN</td>\n",
              "      <td>NaN</td>\n",
              "      <td>NaN</td>\n",
              "      <td>2.0</td>\n",
              "      <td>NaN</td>\n",
              "      <td>NaN</td>\n",
              "      <td>NaN</td>\n",
              "      <td>NaN</td>\n",
              "    </tr>\n",
              "  </tbody>\n",
              "</table>\n",
              "<p>2 rows × 50 columns</p>\n",
              "</div>\n",
              "    <div class=\"colab-df-buttons\">\n",
              "\n",
              "  <div class=\"colab-df-container\">\n",
              "    <button class=\"colab-df-convert\" onclick=\"convertToInteractive('df-2ffac601-4cb5-46b4-9bc3-a85e8707a868')\"\n",
              "            title=\"Convert this dataframe to an interactive table.\"\n",
              "            style=\"display:none;\">\n",
              "\n",
              "  <svg xmlns=\"http://www.w3.org/2000/svg\" height=\"24px\" viewBox=\"0 -960 960 960\">\n",
              "    <path d=\"M120-120v-720h720v720H120Zm60-500h600v-160H180v160Zm220 220h160v-160H400v160Zm0 220h160v-160H400v160ZM180-400h160v-160H180v160Zm440 0h160v-160H620v160ZM180-180h160v-160H180v160Zm440 0h160v-160H620v160Z\"/>\n",
              "  </svg>\n",
              "    </button>\n",
              "\n",
              "  <style>\n",
              "    .colab-df-container {\n",
              "      display:flex;\n",
              "      gap: 12px;\n",
              "    }\n",
              "\n",
              "    .colab-df-convert {\n",
              "      background-color: #E8F0FE;\n",
              "      border: none;\n",
              "      border-radius: 50%;\n",
              "      cursor: pointer;\n",
              "      display: none;\n",
              "      fill: #1967D2;\n",
              "      height: 32px;\n",
              "      padding: 0 0 0 0;\n",
              "      width: 32px;\n",
              "    }\n",
              "\n",
              "    .colab-df-convert:hover {\n",
              "      background-color: #E2EBFA;\n",
              "      box-shadow: 0px 1px 2px rgba(60, 64, 67, 0.3), 0px 1px 3px 1px rgba(60, 64, 67, 0.15);\n",
              "      fill: #174EA6;\n",
              "    }\n",
              "\n",
              "    .colab-df-buttons div {\n",
              "      margin-bottom: 4px;\n",
              "    }\n",
              "\n",
              "    [theme=dark] .colab-df-convert {\n",
              "      background-color: #3B4455;\n",
              "      fill: #D2E3FC;\n",
              "    }\n",
              "\n",
              "    [theme=dark] .colab-df-convert:hover {\n",
              "      background-color: #434B5C;\n",
              "      box-shadow: 0px 1px 3px 1px rgba(0, 0, 0, 0.15);\n",
              "      filter: drop-shadow(0px 1px 2px rgba(0, 0, 0, 0.3));\n",
              "      fill: #FFFFFF;\n",
              "    }\n",
              "  </style>\n",
              "\n",
              "    <script>\n",
              "      const buttonEl =\n",
              "        document.querySelector('#df-2ffac601-4cb5-46b4-9bc3-a85e8707a868 button.colab-df-convert');\n",
              "      buttonEl.style.display =\n",
              "        google.colab.kernel.accessAllowed ? 'block' : 'none';\n",
              "\n",
              "      async function convertToInteractive(key) {\n",
              "        const element = document.querySelector('#df-2ffac601-4cb5-46b4-9bc3-a85e8707a868');\n",
              "        const dataTable =\n",
              "          await google.colab.kernel.invokeFunction('convertToInteractive',\n",
              "                                                    [key], {});\n",
              "        if (!dataTable) return;\n",
              "\n",
              "        const docLinkHtml = 'Like what you see? Visit the ' +\n",
              "          '<a target=\"_blank\" href=https://colab.research.google.com/notebooks/data_table.ipynb>data table notebook</a>'\n",
              "          + ' to learn more about interactive tables.';\n",
              "        element.innerHTML = '';\n",
              "        dataTable['output_type'] = 'display_data';\n",
              "        await google.colab.output.renderOutput(dataTable, element);\n",
              "        const docLink = document.createElement('div');\n",
              "        docLink.innerHTML = docLinkHtml;\n",
              "        element.appendChild(docLink);\n",
              "      }\n",
              "    </script>\n",
              "  </div>\n",
              "\n",
              "\n",
              "    <div id=\"df-ebbb7bf4-40be-4c55-9571-28efd6ca0e9e\">\n",
              "      <button class=\"colab-df-quickchart\" onclick=\"quickchart('df-ebbb7bf4-40be-4c55-9571-28efd6ca0e9e')\"\n",
              "                title=\"Suggest charts\"\n",
              "                style=\"display:none;\">\n",
              "\n",
              "<svg xmlns=\"http://www.w3.org/2000/svg\" height=\"24px\"viewBox=\"0 0 24 24\"\n",
              "     width=\"24px\">\n",
              "    <g>\n",
              "        <path d=\"M19 3H5c-1.1 0-2 .9-2 2v14c0 1.1.9 2 2 2h14c1.1 0 2-.9 2-2V5c0-1.1-.9-2-2-2zM9 17H7v-7h2v7zm4 0h-2V7h2v10zm4 0h-2v-4h2v4z\"/>\n",
              "    </g>\n",
              "</svg>\n",
              "      </button>\n",
              "\n",
              "<style>\n",
              "  .colab-df-quickchart {\n",
              "      --bg-color: #E8F0FE;\n",
              "      --fill-color: #1967D2;\n",
              "      --hover-bg-color: #E2EBFA;\n",
              "      --hover-fill-color: #174EA6;\n",
              "      --disabled-fill-color: #AAA;\n",
              "      --disabled-bg-color: #DDD;\n",
              "  }\n",
              "\n",
              "  [theme=dark] .colab-df-quickchart {\n",
              "      --bg-color: #3B4455;\n",
              "      --fill-color: #D2E3FC;\n",
              "      --hover-bg-color: #434B5C;\n",
              "      --hover-fill-color: #FFFFFF;\n",
              "      --disabled-bg-color: #3B4455;\n",
              "      --disabled-fill-color: #666;\n",
              "  }\n",
              "\n",
              "  .colab-df-quickchart {\n",
              "    background-color: var(--bg-color);\n",
              "    border: none;\n",
              "    border-radius: 50%;\n",
              "    cursor: pointer;\n",
              "    display: none;\n",
              "    fill: var(--fill-color);\n",
              "    height: 32px;\n",
              "    padding: 0;\n",
              "    width: 32px;\n",
              "  }\n",
              "\n",
              "  .colab-df-quickchart:hover {\n",
              "    background-color: var(--hover-bg-color);\n",
              "    box-shadow: 0 1px 2px rgba(60, 64, 67, 0.3), 0 1px 3px 1px rgba(60, 64, 67, 0.15);\n",
              "    fill: var(--button-hover-fill-color);\n",
              "  }\n",
              "\n",
              "  .colab-df-quickchart-complete:disabled,\n",
              "  .colab-df-quickchart-complete:disabled:hover {\n",
              "    background-color: var(--disabled-bg-color);\n",
              "    fill: var(--disabled-fill-color);\n",
              "    box-shadow: none;\n",
              "  }\n",
              "\n",
              "  .colab-df-spinner {\n",
              "    border: 2px solid var(--fill-color);\n",
              "    border-color: transparent;\n",
              "    border-bottom-color: var(--fill-color);\n",
              "    animation:\n",
              "      spin 1s steps(1) infinite;\n",
              "  }\n",
              "\n",
              "  @keyframes spin {\n",
              "    0% {\n",
              "      border-color: transparent;\n",
              "      border-bottom-color: var(--fill-color);\n",
              "      border-left-color: var(--fill-color);\n",
              "    }\n",
              "    20% {\n",
              "      border-color: transparent;\n",
              "      border-left-color: var(--fill-color);\n",
              "      border-top-color: var(--fill-color);\n",
              "    }\n",
              "    30% {\n",
              "      border-color: transparent;\n",
              "      border-left-color: var(--fill-color);\n",
              "      border-top-color: var(--fill-color);\n",
              "      border-right-color: var(--fill-color);\n",
              "    }\n",
              "    40% {\n",
              "      border-color: transparent;\n",
              "      border-right-color: var(--fill-color);\n",
              "      border-top-color: var(--fill-color);\n",
              "    }\n",
              "    60% {\n",
              "      border-color: transparent;\n",
              "      border-right-color: var(--fill-color);\n",
              "    }\n",
              "    80% {\n",
              "      border-color: transparent;\n",
              "      border-right-color: var(--fill-color);\n",
              "      border-bottom-color: var(--fill-color);\n",
              "    }\n",
              "    90% {\n",
              "      border-color: transparent;\n",
              "      border-bottom-color: var(--fill-color);\n",
              "    }\n",
              "  }\n",
              "</style>\n",
              "\n",
              "      <script>\n",
              "        async function quickchart(key) {\n",
              "          const quickchartButtonEl =\n",
              "            document.querySelector('#' + key + ' button');\n",
              "          quickchartButtonEl.disabled = true;  // To prevent multiple clicks.\n",
              "          quickchartButtonEl.classList.add('colab-df-spinner');\n",
              "          try {\n",
              "            const charts = await google.colab.kernel.invokeFunction(\n",
              "                'suggestCharts', [key], {});\n",
              "          } catch (error) {\n",
              "            console.error('Error during call to suggestCharts:', error);\n",
              "          }\n",
              "          quickchartButtonEl.classList.remove('colab-df-spinner');\n",
              "          quickchartButtonEl.classList.add('colab-df-quickchart-complete');\n",
              "        }\n",
              "        (() => {\n",
              "          let quickchartButtonEl =\n",
              "            document.querySelector('#df-ebbb7bf4-40be-4c55-9571-28efd6ca0e9e button');\n",
              "          quickchartButtonEl.style.display =\n",
              "            google.colab.kernel.accessAllowed ? 'block' : 'none';\n",
              "        })();\n",
              "      </script>\n",
              "    </div>\n",
              "\n",
              "    </div>\n",
              "  </div>\n"
            ],
            "application/vnd.google.colaboratory.intrinsic+json": {
              "type": "dataframe",
              "variable_name": "srag_mod"
            }
          },
          "metadata": {},
          "execution_count": 10
        }
      ]
    },
    {
      "cell_type": "code",
      "metadata": {
        "id": "wc4nezaa7jpM",
        "colab": {
          "base_uri": "https://localhost:8080/"
        },
        "outputId": "fd85776e-4e23-4a0a-af62-2881749c907d"
      },
      "source": [
        "srag_mod.shape"
      ],
      "execution_count": 13,
      "outputs": [
        {
          "output_type": "execute_result",
          "data": {
            "text/plain": [
              "(106651, 43)"
            ]
          },
          "metadata": {},
          "execution_count": 13
        }
      ]
    },
    {
      "cell_type": "code",
      "metadata": {
        "id": "L231jlLNziTn"
      },
      "source": [
        "srag_mod.drop(columns=['COD_IDADE','ID_PAIS','CO_PAIS','SG_UF','ID_RG_RESI','CO_RG_RESI','CO_MUN_RES'],inplace=True)"
      ],
      "execution_count": 12,
      "outputs": []
    },
    {
      "cell_type": "markdown",
      "metadata": {
        "id": "K4SDpjTA2JNk"
      },
      "source": [
        "**Renomeando Variáveis**"
      ]
    },
    {
      "cell_type": "code",
      "metadata": {
        "id": "tIPWbTIq2IJR"
      },
      "source": [
        "srag_mod = srag_mod.rename(columns={'DT_NOTIFIC': 'data', 'CS_SEXO': 'sexo',\n",
        "                                  'NU_IDADE_N': 'idade','CS_RACA': 'raca'})"
      ],
      "execution_count": 14,
      "outputs": []
    },
    {
      "cell_type": "code",
      "metadata": {
        "id": "pXLmT2bf26X-",
        "colab": {
          "base_uri": "https://localhost:8080/",
          "height": 193
        },
        "outputId": "cd73ad12-ca0f-445c-92c8-e09519a1ba6f"
      },
      "source": [
        "srag_mod.head(3)"
      ],
      "execution_count": 15,
      "outputs": [
        {
          "output_type": "execute_result",
          "data": {
            "text/plain": [
              "         data sexo  idade  TP_IDADE ID_MN_RESI  CS_ZONA  CS_GESTANT  raca  \\\n",
              "0  12/30/2019    F     52         3  CATANDUVA      1.0           9   NaN   \n",
              "1    1/2/2020    M      7         2  SAO PAULO      1.0           6   NaN   \n",
              "2  12/29/2019    F     22         3   CAMPINAS      1.0           1   9.0   \n",
              "\n",
              "  CS_ETINIA  CS_ESCOL_N  ...  RENAL  OBESIDADE  OBES_IMC  OUT_MORBI  \\\n",
              "0       NaN         NaN  ...    2.0        NaN       NaN        2.0   \n",
              "1       NaN         5.0  ...    NaN        NaN       NaN        NaN   \n",
              "2       NaN         9.0  ...    2.0        2.0       NaN        2.0   \n",
              "\n",
              "   MORB_DESC  VACINA  DT_UT_DOSE  MAE_VAC  DT_VAC_MAE  M_AMAMENTA  \n",
              "0        NaN     1.0   5/10/2019      NaN         NaN         NaN  \n",
              "1        NaN     2.0         NaN      NaN         NaN         NaN  \n",
              "2        NaN     1.0   8/17/2019      NaN         NaN         NaN  \n",
              "\n",
              "[3 rows x 43 columns]"
            ],
            "text/html": [
              "\n",
              "  <div id=\"df-ad28d0a2-ecc0-4c68-8df4-d004f5c4c1d5\" class=\"colab-df-container\">\n",
              "    <div>\n",
              "<style scoped>\n",
              "    .dataframe tbody tr th:only-of-type {\n",
              "        vertical-align: middle;\n",
              "    }\n",
              "\n",
              "    .dataframe tbody tr th {\n",
              "        vertical-align: top;\n",
              "    }\n",
              "\n",
              "    .dataframe thead th {\n",
              "        text-align: right;\n",
              "    }\n",
              "</style>\n",
              "<table border=\"1\" class=\"dataframe\">\n",
              "  <thead>\n",
              "    <tr style=\"text-align: right;\">\n",
              "      <th></th>\n",
              "      <th>data</th>\n",
              "      <th>sexo</th>\n",
              "      <th>idade</th>\n",
              "      <th>TP_IDADE</th>\n",
              "      <th>ID_MN_RESI</th>\n",
              "      <th>CS_ZONA</th>\n",
              "      <th>CS_GESTANT</th>\n",
              "      <th>raca</th>\n",
              "      <th>CS_ETINIA</th>\n",
              "      <th>CS_ESCOL_N</th>\n",
              "      <th>...</th>\n",
              "      <th>RENAL</th>\n",
              "      <th>OBESIDADE</th>\n",
              "      <th>OBES_IMC</th>\n",
              "      <th>OUT_MORBI</th>\n",
              "      <th>MORB_DESC</th>\n",
              "      <th>VACINA</th>\n",
              "      <th>DT_UT_DOSE</th>\n",
              "      <th>MAE_VAC</th>\n",
              "      <th>DT_VAC_MAE</th>\n",
              "      <th>M_AMAMENTA</th>\n",
              "    </tr>\n",
              "  </thead>\n",
              "  <tbody>\n",
              "    <tr>\n",
              "      <th>0</th>\n",
              "      <td>12/30/2019</td>\n",
              "      <td>F</td>\n",
              "      <td>52</td>\n",
              "      <td>3</td>\n",
              "      <td>CATANDUVA</td>\n",
              "      <td>1.0</td>\n",
              "      <td>9</td>\n",
              "      <td>NaN</td>\n",
              "      <td>NaN</td>\n",
              "      <td>NaN</td>\n",
              "      <td>...</td>\n",
              "      <td>2.0</td>\n",
              "      <td>NaN</td>\n",
              "      <td>NaN</td>\n",
              "      <td>2.0</td>\n",
              "      <td>NaN</td>\n",
              "      <td>1.0</td>\n",
              "      <td>5/10/2019</td>\n",
              "      <td>NaN</td>\n",
              "      <td>NaN</td>\n",
              "      <td>NaN</td>\n",
              "    </tr>\n",
              "    <tr>\n",
              "      <th>1</th>\n",
              "      <td>1/2/2020</td>\n",
              "      <td>M</td>\n",
              "      <td>7</td>\n",
              "      <td>2</td>\n",
              "      <td>SAO PAULO</td>\n",
              "      <td>1.0</td>\n",
              "      <td>6</td>\n",
              "      <td>NaN</td>\n",
              "      <td>NaN</td>\n",
              "      <td>5.0</td>\n",
              "      <td>...</td>\n",
              "      <td>NaN</td>\n",
              "      <td>NaN</td>\n",
              "      <td>NaN</td>\n",
              "      <td>NaN</td>\n",
              "      <td>NaN</td>\n",
              "      <td>2.0</td>\n",
              "      <td>NaN</td>\n",
              "      <td>NaN</td>\n",
              "      <td>NaN</td>\n",
              "      <td>NaN</td>\n",
              "    </tr>\n",
              "    <tr>\n",
              "      <th>2</th>\n",
              "      <td>12/29/2019</td>\n",
              "      <td>F</td>\n",
              "      <td>22</td>\n",
              "      <td>3</td>\n",
              "      <td>CAMPINAS</td>\n",
              "      <td>1.0</td>\n",
              "      <td>1</td>\n",
              "      <td>9.0</td>\n",
              "      <td>NaN</td>\n",
              "      <td>9.0</td>\n",
              "      <td>...</td>\n",
              "      <td>2.0</td>\n",
              "      <td>2.0</td>\n",
              "      <td>NaN</td>\n",
              "      <td>2.0</td>\n",
              "      <td>NaN</td>\n",
              "      <td>1.0</td>\n",
              "      <td>8/17/2019</td>\n",
              "      <td>NaN</td>\n",
              "      <td>NaN</td>\n",
              "      <td>NaN</td>\n",
              "    </tr>\n",
              "  </tbody>\n",
              "</table>\n",
              "<p>3 rows × 43 columns</p>\n",
              "</div>\n",
              "    <div class=\"colab-df-buttons\">\n",
              "\n",
              "  <div class=\"colab-df-container\">\n",
              "    <button class=\"colab-df-convert\" onclick=\"convertToInteractive('df-ad28d0a2-ecc0-4c68-8df4-d004f5c4c1d5')\"\n",
              "            title=\"Convert this dataframe to an interactive table.\"\n",
              "            style=\"display:none;\">\n",
              "\n",
              "  <svg xmlns=\"http://www.w3.org/2000/svg\" height=\"24px\" viewBox=\"0 -960 960 960\">\n",
              "    <path d=\"M120-120v-720h720v720H120Zm60-500h600v-160H180v160Zm220 220h160v-160H400v160Zm0 220h160v-160H400v160ZM180-400h160v-160H180v160Zm440 0h160v-160H620v160ZM180-180h160v-160H180v160Zm440 0h160v-160H620v160Z\"/>\n",
              "  </svg>\n",
              "    </button>\n",
              "\n",
              "  <style>\n",
              "    .colab-df-container {\n",
              "      display:flex;\n",
              "      gap: 12px;\n",
              "    }\n",
              "\n",
              "    .colab-df-convert {\n",
              "      background-color: #E8F0FE;\n",
              "      border: none;\n",
              "      border-radius: 50%;\n",
              "      cursor: pointer;\n",
              "      display: none;\n",
              "      fill: #1967D2;\n",
              "      height: 32px;\n",
              "      padding: 0 0 0 0;\n",
              "      width: 32px;\n",
              "    }\n",
              "\n",
              "    .colab-df-convert:hover {\n",
              "      background-color: #E2EBFA;\n",
              "      box-shadow: 0px 1px 2px rgba(60, 64, 67, 0.3), 0px 1px 3px 1px rgba(60, 64, 67, 0.15);\n",
              "      fill: #174EA6;\n",
              "    }\n",
              "\n",
              "    .colab-df-buttons div {\n",
              "      margin-bottom: 4px;\n",
              "    }\n",
              "\n",
              "    [theme=dark] .colab-df-convert {\n",
              "      background-color: #3B4455;\n",
              "      fill: #D2E3FC;\n",
              "    }\n",
              "\n",
              "    [theme=dark] .colab-df-convert:hover {\n",
              "      background-color: #434B5C;\n",
              "      box-shadow: 0px 1px 3px 1px rgba(0, 0, 0, 0.15);\n",
              "      filter: drop-shadow(0px 1px 2px rgba(0, 0, 0, 0.3));\n",
              "      fill: #FFFFFF;\n",
              "    }\n",
              "  </style>\n",
              "\n",
              "    <script>\n",
              "      const buttonEl =\n",
              "        document.querySelector('#df-ad28d0a2-ecc0-4c68-8df4-d004f5c4c1d5 button.colab-df-convert');\n",
              "      buttonEl.style.display =\n",
              "        google.colab.kernel.accessAllowed ? 'block' : 'none';\n",
              "\n",
              "      async function convertToInteractive(key) {\n",
              "        const element = document.querySelector('#df-ad28d0a2-ecc0-4c68-8df4-d004f5c4c1d5');\n",
              "        const dataTable =\n",
              "          await google.colab.kernel.invokeFunction('convertToInteractive',\n",
              "                                                    [key], {});\n",
              "        if (!dataTable) return;\n",
              "\n",
              "        const docLinkHtml = 'Like what you see? Visit the ' +\n",
              "          '<a target=\"_blank\" href=https://colab.research.google.com/notebooks/data_table.ipynb>data table notebook</a>'\n",
              "          + ' to learn more about interactive tables.';\n",
              "        element.innerHTML = '';\n",
              "        dataTable['output_type'] = 'display_data';\n",
              "        await google.colab.output.renderOutput(dataTable, element);\n",
              "        const docLink = document.createElement('div');\n",
              "        docLink.innerHTML = docLinkHtml;\n",
              "        element.appendChild(docLink);\n",
              "      }\n",
              "    </script>\n",
              "  </div>\n",
              "\n",
              "\n",
              "    <div id=\"df-0c23a93d-201a-41f4-a03f-2bc79e09a6ee\">\n",
              "      <button class=\"colab-df-quickchart\" onclick=\"quickchart('df-0c23a93d-201a-41f4-a03f-2bc79e09a6ee')\"\n",
              "                title=\"Suggest charts\"\n",
              "                style=\"display:none;\">\n",
              "\n",
              "<svg xmlns=\"http://www.w3.org/2000/svg\" height=\"24px\"viewBox=\"0 0 24 24\"\n",
              "     width=\"24px\">\n",
              "    <g>\n",
              "        <path d=\"M19 3H5c-1.1 0-2 .9-2 2v14c0 1.1.9 2 2 2h14c1.1 0 2-.9 2-2V5c0-1.1-.9-2-2-2zM9 17H7v-7h2v7zm4 0h-2V7h2v10zm4 0h-2v-4h2v4z\"/>\n",
              "    </g>\n",
              "</svg>\n",
              "      </button>\n",
              "\n",
              "<style>\n",
              "  .colab-df-quickchart {\n",
              "      --bg-color: #E8F0FE;\n",
              "      --fill-color: #1967D2;\n",
              "      --hover-bg-color: #E2EBFA;\n",
              "      --hover-fill-color: #174EA6;\n",
              "      --disabled-fill-color: #AAA;\n",
              "      --disabled-bg-color: #DDD;\n",
              "  }\n",
              "\n",
              "  [theme=dark] .colab-df-quickchart {\n",
              "      --bg-color: #3B4455;\n",
              "      --fill-color: #D2E3FC;\n",
              "      --hover-bg-color: #434B5C;\n",
              "      --hover-fill-color: #FFFFFF;\n",
              "      --disabled-bg-color: #3B4455;\n",
              "      --disabled-fill-color: #666;\n",
              "  }\n",
              "\n",
              "  .colab-df-quickchart {\n",
              "    background-color: var(--bg-color);\n",
              "    border: none;\n",
              "    border-radius: 50%;\n",
              "    cursor: pointer;\n",
              "    display: none;\n",
              "    fill: var(--fill-color);\n",
              "    height: 32px;\n",
              "    padding: 0;\n",
              "    width: 32px;\n",
              "  }\n",
              "\n",
              "  .colab-df-quickchart:hover {\n",
              "    background-color: var(--hover-bg-color);\n",
              "    box-shadow: 0 1px 2px rgba(60, 64, 67, 0.3), 0 1px 3px 1px rgba(60, 64, 67, 0.15);\n",
              "    fill: var(--button-hover-fill-color);\n",
              "  }\n",
              "\n",
              "  .colab-df-quickchart-complete:disabled,\n",
              "  .colab-df-quickchart-complete:disabled:hover {\n",
              "    background-color: var(--disabled-bg-color);\n",
              "    fill: var(--disabled-fill-color);\n",
              "    box-shadow: none;\n",
              "  }\n",
              "\n",
              "  .colab-df-spinner {\n",
              "    border: 2px solid var(--fill-color);\n",
              "    border-color: transparent;\n",
              "    border-bottom-color: var(--fill-color);\n",
              "    animation:\n",
              "      spin 1s steps(1) infinite;\n",
              "  }\n",
              "\n",
              "  @keyframes spin {\n",
              "    0% {\n",
              "      border-color: transparent;\n",
              "      border-bottom-color: var(--fill-color);\n",
              "      border-left-color: var(--fill-color);\n",
              "    }\n",
              "    20% {\n",
              "      border-color: transparent;\n",
              "      border-left-color: var(--fill-color);\n",
              "      border-top-color: var(--fill-color);\n",
              "    }\n",
              "    30% {\n",
              "      border-color: transparent;\n",
              "      border-left-color: var(--fill-color);\n",
              "      border-top-color: var(--fill-color);\n",
              "      border-right-color: var(--fill-color);\n",
              "    }\n",
              "    40% {\n",
              "      border-color: transparent;\n",
              "      border-right-color: var(--fill-color);\n",
              "      border-top-color: var(--fill-color);\n",
              "    }\n",
              "    60% {\n",
              "      border-color: transparent;\n",
              "      border-right-color: var(--fill-color);\n",
              "    }\n",
              "    80% {\n",
              "      border-color: transparent;\n",
              "      border-right-color: var(--fill-color);\n",
              "      border-bottom-color: var(--fill-color);\n",
              "    }\n",
              "    90% {\n",
              "      border-color: transparent;\n",
              "      border-bottom-color: var(--fill-color);\n",
              "    }\n",
              "  }\n",
              "</style>\n",
              "\n",
              "      <script>\n",
              "        async function quickchart(key) {\n",
              "          const quickchartButtonEl =\n",
              "            document.querySelector('#' + key + ' button');\n",
              "          quickchartButtonEl.disabled = true;  // To prevent multiple clicks.\n",
              "          quickchartButtonEl.classList.add('colab-df-spinner');\n",
              "          try {\n",
              "            const charts = await google.colab.kernel.invokeFunction(\n",
              "                'suggestCharts', [key], {});\n",
              "          } catch (error) {\n",
              "            console.error('Error during call to suggestCharts:', error);\n",
              "          }\n",
              "          quickchartButtonEl.classList.remove('colab-df-spinner');\n",
              "          quickchartButtonEl.classList.add('colab-df-quickchart-complete');\n",
              "        }\n",
              "        (() => {\n",
              "          let quickchartButtonEl =\n",
              "            document.querySelector('#df-0c23a93d-201a-41f4-a03f-2bc79e09a6ee button');\n",
              "          quickchartButtonEl.style.display =\n",
              "            google.colab.kernel.accessAllowed ? 'block' : 'none';\n",
              "        })();\n",
              "      </script>\n",
              "    </div>\n",
              "\n",
              "    </div>\n",
              "  </div>\n"
            ],
            "application/vnd.google.colaboratory.intrinsic+json": {
              "type": "dataframe",
              "variable_name": "srag_mod"
            }
          },
          "metadata": {},
          "execution_count": 15
        }
      ]
    },
    {
      "cell_type": "markdown",
      "metadata": {
        "id": "oxflfZDk0zp6"
      },
      "source": [
        "**ANALISANDO OS TIPOS DE VARIÁVEIS**"
      ]
    },
    {
      "cell_type": "code",
      "metadata": {
        "id": "mjYSxes709bC",
        "colab": {
          "base_uri": "https://localhost:8080/",
          "height": 1000
        },
        "outputId": "6e36de66-4074-478a-8998-f86163e11b54"
      },
      "source": [
        "srag_mod.dtypes"
      ],
      "execution_count": 21,
      "outputs": [
        {
          "output_type": "execute_result",
          "data": {
            "text/plain": [
              "data          datetime64[ns]\n",
              "sexo                  object\n",
              "idade                  int64\n",
              "TP_IDADE               int64\n",
              "ID_MN_RESI            object\n",
              "CS_ZONA              float64\n",
              "CS_GESTANT             int64\n",
              "raca                 float64\n",
              "CS_ETINIA             object\n",
              "CS_ESCOL_N           float64\n",
              "SURTO_SG             float64\n",
              "NOSOCOMIAL           float64\n",
              "AVE_SUINO            float64\n",
              "FEBRE                float64\n",
              "TOSSE                float64\n",
              "GARGANTA             float64\n",
              "DISPNEIA             float64\n",
              "DESC_RESP            float64\n",
              "SATURACAO            float64\n",
              "DIARREIA             float64\n",
              "VOMITO               float64\n",
              "OUTRO_SIN            float64\n",
              "OUTRO_DES             object\n",
              "PUERPERA             float64\n",
              "CARDIOPATI           float64\n",
              "HEMATOLOGI           float64\n",
              "SIND_DOWN            float64\n",
              "HEPATICA             float64\n",
              "ASMA                 float64\n",
              "DIABETES             float64\n",
              "NEUROLOGIC           float64\n",
              "PNEUMOPATI           float64\n",
              "IMUNODEPRE           float64\n",
              "RENAL                float64\n",
              "OBESIDADE            float64\n",
              "OBES_IMC             float64\n",
              "OUT_MORBI            float64\n",
              "MORB_DESC             object\n",
              "VACINA               float64\n",
              "DT_UT_DOSE            object\n",
              "MAE_VAC              float64\n",
              "DT_VAC_MAE            object\n",
              "M_AMAMENTA           float64\n",
              "dtype: object"
            ],
            "text/html": [
              "<div>\n",
              "<style scoped>\n",
              "    .dataframe tbody tr th:only-of-type {\n",
              "        vertical-align: middle;\n",
              "    }\n",
              "\n",
              "    .dataframe tbody tr th {\n",
              "        vertical-align: top;\n",
              "    }\n",
              "\n",
              "    .dataframe thead th {\n",
              "        text-align: right;\n",
              "    }\n",
              "</style>\n",
              "<table border=\"1\" class=\"dataframe\">\n",
              "  <thead>\n",
              "    <tr style=\"text-align: right;\">\n",
              "      <th></th>\n",
              "      <th>0</th>\n",
              "    </tr>\n",
              "  </thead>\n",
              "  <tbody>\n",
              "    <tr>\n",
              "      <th>data</th>\n",
              "      <td>datetime64[ns]</td>\n",
              "    </tr>\n",
              "    <tr>\n",
              "      <th>sexo</th>\n",
              "      <td>object</td>\n",
              "    </tr>\n",
              "    <tr>\n",
              "      <th>idade</th>\n",
              "      <td>int64</td>\n",
              "    </tr>\n",
              "    <tr>\n",
              "      <th>TP_IDADE</th>\n",
              "      <td>int64</td>\n",
              "    </tr>\n",
              "    <tr>\n",
              "      <th>ID_MN_RESI</th>\n",
              "      <td>object</td>\n",
              "    </tr>\n",
              "    <tr>\n",
              "      <th>CS_ZONA</th>\n",
              "      <td>float64</td>\n",
              "    </tr>\n",
              "    <tr>\n",
              "      <th>CS_GESTANT</th>\n",
              "      <td>int64</td>\n",
              "    </tr>\n",
              "    <tr>\n",
              "      <th>raca</th>\n",
              "      <td>float64</td>\n",
              "    </tr>\n",
              "    <tr>\n",
              "      <th>CS_ETINIA</th>\n",
              "      <td>object</td>\n",
              "    </tr>\n",
              "    <tr>\n",
              "      <th>CS_ESCOL_N</th>\n",
              "      <td>float64</td>\n",
              "    </tr>\n",
              "    <tr>\n",
              "      <th>SURTO_SG</th>\n",
              "      <td>float64</td>\n",
              "    </tr>\n",
              "    <tr>\n",
              "      <th>NOSOCOMIAL</th>\n",
              "      <td>float64</td>\n",
              "    </tr>\n",
              "    <tr>\n",
              "      <th>AVE_SUINO</th>\n",
              "      <td>float64</td>\n",
              "    </tr>\n",
              "    <tr>\n",
              "      <th>FEBRE</th>\n",
              "      <td>float64</td>\n",
              "    </tr>\n",
              "    <tr>\n",
              "      <th>TOSSE</th>\n",
              "      <td>float64</td>\n",
              "    </tr>\n",
              "    <tr>\n",
              "      <th>GARGANTA</th>\n",
              "      <td>float64</td>\n",
              "    </tr>\n",
              "    <tr>\n",
              "      <th>DISPNEIA</th>\n",
              "      <td>float64</td>\n",
              "    </tr>\n",
              "    <tr>\n",
              "      <th>DESC_RESP</th>\n",
              "      <td>float64</td>\n",
              "    </tr>\n",
              "    <tr>\n",
              "      <th>SATURACAO</th>\n",
              "      <td>float64</td>\n",
              "    </tr>\n",
              "    <tr>\n",
              "      <th>DIARREIA</th>\n",
              "      <td>float64</td>\n",
              "    </tr>\n",
              "    <tr>\n",
              "      <th>VOMITO</th>\n",
              "      <td>float64</td>\n",
              "    </tr>\n",
              "    <tr>\n",
              "      <th>OUTRO_SIN</th>\n",
              "      <td>float64</td>\n",
              "    </tr>\n",
              "    <tr>\n",
              "      <th>OUTRO_DES</th>\n",
              "      <td>object</td>\n",
              "    </tr>\n",
              "    <tr>\n",
              "      <th>PUERPERA</th>\n",
              "      <td>float64</td>\n",
              "    </tr>\n",
              "    <tr>\n",
              "      <th>CARDIOPATI</th>\n",
              "      <td>float64</td>\n",
              "    </tr>\n",
              "    <tr>\n",
              "      <th>HEMATOLOGI</th>\n",
              "      <td>float64</td>\n",
              "    </tr>\n",
              "    <tr>\n",
              "      <th>SIND_DOWN</th>\n",
              "      <td>float64</td>\n",
              "    </tr>\n",
              "    <tr>\n",
              "      <th>HEPATICA</th>\n",
              "      <td>float64</td>\n",
              "    </tr>\n",
              "    <tr>\n",
              "      <th>ASMA</th>\n",
              "      <td>float64</td>\n",
              "    </tr>\n",
              "    <tr>\n",
              "      <th>DIABETES</th>\n",
              "      <td>float64</td>\n",
              "    </tr>\n",
              "    <tr>\n",
              "      <th>NEUROLOGIC</th>\n",
              "      <td>float64</td>\n",
              "    </tr>\n",
              "    <tr>\n",
              "      <th>PNEUMOPATI</th>\n",
              "      <td>float64</td>\n",
              "    </tr>\n",
              "    <tr>\n",
              "      <th>IMUNODEPRE</th>\n",
              "      <td>float64</td>\n",
              "    </tr>\n",
              "    <tr>\n",
              "      <th>RENAL</th>\n",
              "      <td>float64</td>\n",
              "    </tr>\n",
              "    <tr>\n",
              "      <th>OBESIDADE</th>\n",
              "      <td>float64</td>\n",
              "    </tr>\n",
              "    <tr>\n",
              "      <th>OBES_IMC</th>\n",
              "      <td>float64</td>\n",
              "    </tr>\n",
              "    <tr>\n",
              "      <th>OUT_MORBI</th>\n",
              "      <td>float64</td>\n",
              "    </tr>\n",
              "    <tr>\n",
              "      <th>MORB_DESC</th>\n",
              "      <td>object</td>\n",
              "    </tr>\n",
              "    <tr>\n",
              "      <th>VACINA</th>\n",
              "      <td>float64</td>\n",
              "    </tr>\n",
              "    <tr>\n",
              "      <th>DT_UT_DOSE</th>\n",
              "      <td>object</td>\n",
              "    </tr>\n",
              "    <tr>\n",
              "      <th>MAE_VAC</th>\n",
              "      <td>float64</td>\n",
              "    </tr>\n",
              "    <tr>\n",
              "      <th>DT_VAC_MAE</th>\n",
              "      <td>object</td>\n",
              "    </tr>\n",
              "    <tr>\n",
              "      <th>M_AMAMENTA</th>\n",
              "      <td>float64</td>\n",
              "    </tr>\n",
              "  </tbody>\n",
              "</table>\n",
              "</div><br><label><b>dtype:</b> object</label>"
            ]
          },
          "metadata": {},
          "execution_count": 21
        }
      ]
    },
    {
      "cell_type": "code",
      "metadata": {
        "id": "0XAmutHL1lIe"
      },
      "source": [
        "srag_mod['data'] = srag_mod['data'].astype('datetime64[ns]')"
      ],
      "execution_count": 20,
      "outputs": []
    },
    {
      "cell_type": "markdown",
      "metadata": {
        "id": "nZAd4ZFp3Zkh"
      },
      "source": [
        "**Analisando valores missing (NAN)**"
      ]
    },
    {
      "cell_type": "code",
      "metadata": {
        "id": "Ro8Wc33Q3fk9",
        "colab": {
          "base_uri": "https://localhost:8080/",
          "height": 1000
        },
        "outputId": "87cd9366-3ac8-4e5d-f28f-b352991ded95"
      },
      "source": [
        "srag_mod.isnull().sum()"
      ],
      "execution_count": 26,
      "outputs": [
        {
          "output_type": "execute_result",
          "data": {
            "text/plain": [
              "data               0\n",
              "sexo               0\n",
              "idade              0\n",
              "TP_IDADE           0\n",
              "ID_MN_RESI        11\n",
              "CS_ZONA        13868\n",
              "CS_GESTANT         0\n",
              "raca               0\n",
              "CS_ETINIA     106635\n",
              "CS_ESCOL_N     31001\n",
              "SURTO_SG       16455\n",
              "NOSOCOMIAL     21210\n",
              "AVE_SUINO      17930\n",
              "FEBRE           9112\n",
              "TOSSE           7665\n",
              "GARGANTA       21588\n",
              "DISPNEIA       10051\n",
              "DESC_RESP      14583\n",
              "SATURACAO      14773\n",
              "DIARREIA       24712\n",
              "VOMITO         25970\n",
              "OUTRO_SIN      27766\n",
              "OUTRO_DES      75238\n",
              "PUERPERA       67470\n",
              "CARDIOPATI     53172\n",
              "HEMATOLOGI     66906\n",
              "SIND_DOWN      67257\n",
              "HEPATICA       67122\n",
              "ASMA           65900\n",
              "DIABETES       57821\n",
              "NEUROLOGIC     65207\n",
              "PNEUMOPATI     65296\n",
              "IMUNODEPRE     66160\n",
              "RENAL          66000\n",
              "OBESIDADE      66436\n",
              "OBES_IMC      103274\n",
              "OUT_MORBI      59147\n",
              "MORB_DESC      79484\n",
              "VACINA         18262\n",
              "DT_UT_DOSE     93825\n",
              "MAE_VAC       105603\n",
              "DT_VAC_MAE    106556\n",
              "M_AMAMENTA    105840\n",
              "dtype: int64"
            ],
            "text/html": [
              "<div>\n",
              "<style scoped>\n",
              "    .dataframe tbody tr th:only-of-type {\n",
              "        vertical-align: middle;\n",
              "    }\n",
              "\n",
              "    .dataframe tbody tr th {\n",
              "        vertical-align: top;\n",
              "    }\n",
              "\n",
              "    .dataframe thead th {\n",
              "        text-align: right;\n",
              "    }\n",
              "</style>\n",
              "<table border=\"1\" class=\"dataframe\">\n",
              "  <thead>\n",
              "    <tr style=\"text-align: right;\">\n",
              "      <th></th>\n",
              "      <th>0</th>\n",
              "    </tr>\n",
              "  </thead>\n",
              "  <tbody>\n",
              "    <tr>\n",
              "      <th>data</th>\n",
              "      <td>0</td>\n",
              "    </tr>\n",
              "    <tr>\n",
              "      <th>sexo</th>\n",
              "      <td>0</td>\n",
              "    </tr>\n",
              "    <tr>\n",
              "      <th>idade</th>\n",
              "      <td>0</td>\n",
              "    </tr>\n",
              "    <tr>\n",
              "      <th>TP_IDADE</th>\n",
              "      <td>0</td>\n",
              "    </tr>\n",
              "    <tr>\n",
              "      <th>ID_MN_RESI</th>\n",
              "      <td>11</td>\n",
              "    </tr>\n",
              "    <tr>\n",
              "      <th>CS_ZONA</th>\n",
              "      <td>13868</td>\n",
              "    </tr>\n",
              "    <tr>\n",
              "      <th>CS_GESTANT</th>\n",
              "      <td>0</td>\n",
              "    </tr>\n",
              "    <tr>\n",
              "      <th>raca</th>\n",
              "      <td>0</td>\n",
              "    </tr>\n",
              "    <tr>\n",
              "      <th>CS_ETINIA</th>\n",
              "      <td>106635</td>\n",
              "    </tr>\n",
              "    <tr>\n",
              "      <th>CS_ESCOL_N</th>\n",
              "      <td>31001</td>\n",
              "    </tr>\n",
              "    <tr>\n",
              "      <th>SURTO_SG</th>\n",
              "      <td>16455</td>\n",
              "    </tr>\n",
              "    <tr>\n",
              "      <th>NOSOCOMIAL</th>\n",
              "      <td>21210</td>\n",
              "    </tr>\n",
              "    <tr>\n",
              "      <th>AVE_SUINO</th>\n",
              "      <td>17930</td>\n",
              "    </tr>\n",
              "    <tr>\n",
              "      <th>FEBRE</th>\n",
              "      <td>9112</td>\n",
              "    </tr>\n",
              "    <tr>\n",
              "      <th>TOSSE</th>\n",
              "      <td>7665</td>\n",
              "    </tr>\n",
              "    <tr>\n",
              "      <th>GARGANTA</th>\n",
              "      <td>21588</td>\n",
              "    </tr>\n",
              "    <tr>\n",
              "      <th>DISPNEIA</th>\n",
              "      <td>10051</td>\n",
              "    </tr>\n",
              "    <tr>\n",
              "      <th>DESC_RESP</th>\n",
              "      <td>14583</td>\n",
              "    </tr>\n",
              "    <tr>\n",
              "      <th>SATURACAO</th>\n",
              "      <td>14773</td>\n",
              "    </tr>\n",
              "    <tr>\n",
              "      <th>DIARREIA</th>\n",
              "      <td>24712</td>\n",
              "    </tr>\n",
              "    <tr>\n",
              "      <th>VOMITO</th>\n",
              "      <td>25970</td>\n",
              "    </tr>\n",
              "    <tr>\n",
              "      <th>OUTRO_SIN</th>\n",
              "      <td>27766</td>\n",
              "    </tr>\n",
              "    <tr>\n",
              "      <th>OUTRO_DES</th>\n",
              "      <td>75238</td>\n",
              "    </tr>\n",
              "    <tr>\n",
              "      <th>PUERPERA</th>\n",
              "      <td>67470</td>\n",
              "    </tr>\n",
              "    <tr>\n",
              "      <th>CARDIOPATI</th>\n",
              "      <td>53172</td>\n",
              "    </tr>\n",
              "    <tr>\n",
              "      <th>HEMATOLOGI</th>\n",
              "      <td>66906</td>\n",
              "    </tr>\n",
              "    <tr>\n",
              "      <th>SIND_DOWN</th>\n",
              "      <td>67257</td>\n",
              "    </tr>\n",
              "    <tr>\n",
              "      <th>HEPATICA</th>\n",
              "      <td>67122</td>\n",
              "    </tr>\n",
              "    <tr>\n",
              "      <th>ASMA</th>\n",
              "      <td>65900</td>\n",
              "    </tr>\n",
              "    <tr>\n",
              "      <th>DIABETES</th>\n",
              "      <td>57821</td>\n",
              "    </tr>\n",
              "    <tr>\n",
              "      <th>NEUROLOGIC</th>\n",
              "      <td>65207</td>\n",
              "    </tr>\n",
              "    <tr>\n",
              "      <th>PNEUMOPATI</th>\n",
              "      <td>65296</td>\n",
              "    </tr>\n",
              "    <tr>\n",
              "      <th>IMUNODEPRE</th>\n",
              "      <td>66160</td>\n",
              "    </tr>\n",
              "    <tr>\n",
              "      <th>RENAL</th>\n",
              "      <td>66000</td>\n",
              "    </tr>\n",
              "    <tr>\n",
              "      <th>OBESIDADE</th>\n",
              "      <td>66436</td>\n",
              "    </tr>\n",
              "    <tr>\n",
              "      <th>OBES_IMC</th>\n",
              "      <td>103274</td>\n",
              "    </tr>\n",
              "    <tr>\n",
              "      <th>OUT_MORBI</th>\n",
              "      <td>59147</td>\n",
              "    </tr>\n",
              "    <tr>\n",
              "      <th>MORB_DESC</th>\n",
              "      <td>79484</td>\n",
              "    </tr>\n",
              "    <tr>\n",
              "      <th>VACINA</th>\n",
              "      <td>18262</td>\n",
              "    </tr>\n",
              "    <tr>\n",
              "      <th>DT_UT_DOSE</th>\n",
              "      <td>93825</td>\n",
              "    </tr>\n",
              "    <tr>\n",
              "      <th>MAE_VAC</th>\n",
              "      <td>105603</td>\n",
              "    </tr>\n",
              "    <tr>\n",
              "      <th>DT_VAC_MAE</th>\n",
              "      <td>106556</td>\n",
              "    </tr>\n",
              "    <tr>\n",
              "      <th>M_AMAMENTA</th>\n",
              "      <td>105840</td>\n",
              "    </tr>\n",
              "  </tbody>\n",
              "</table>\n",
              "</div><br><label><b>dtype:</b> int64</label>"
            ]
          },
          "metadata": {},
          "execution_count": 26
        }
      ]
    },
    {
      "cell_type": "markdown",
      "metadata": {
        "id": "ojeBnj6L5mBq"
      },
      "source": [
        "**Contagem das classificações de raças**"
      ]
    },
    {
      "cell_type": "code",
      "metadata": {
        "id": "NoM1pbwI44ME",
        "colab": {
          "base_uri": "https://localhost:8080/",
          "height": 304
        },
        "outputId": "c93a49fe-4029-482c-aac3-ebfc03d3d445"
      },
      "source": [
        "srag_mod['raca'].value_counts().sort_index()"
      ],
      "execution_count": 25,
      "outputs": [
        {
          "output_type": "execute_result",
          "data": {
            "text/plain": [
              "raca\n",
              "1.0    45667\n",
              "2.0     5518\n",
              "3.0     1165\n",
              "4.0    19775\n",
              "5.0       86\n",
              "9.0    34440\n",
              "Name: count, dtype: int64"
            ],
            "text/html": [
              "<div>\n",
              "<style scoped>\n",
              "    .dataframe tbody tr th:only-of-type {\n",
              "        vertical-align: middle;\n",
              "    }\n",
              "\n",
              "    .dataframe tbody tr th {\n",
              "        vertical-align: top;\n",
              "    }\n",
              "\n",
              "    .dataframe thead th {\n",
              "        text-align: right;\n",
              "    }\n",
              "</style>\n",
              "<table border=\"1\" class=\"dataframe\">\n",
              "  <thead>\n",
              "    <tr style=\"text-align: right;\">\n",
              "      <th></th>\n",
              "      <th>count</th>\n",
              "    </tr>\n",
              "    <tr>\n",
              "      <th>raca</th>\n",
              "      <th></th>\n",
              "    </tr>\n",
              "  </thead>\n",
              "  <tbody>\n",
              "    <tr>\n",
              "      <th>1.0</th>\n",
              "      <td>45667</td>\n",
              "    </tr>\n",
              "    <tr>\n",
              "      <th>2.0</th>\n",
              "      <td>5518</td>\n",
              "    </tr>\n",
              "    <tr>\n",
              "      <th>3.0</th>\n",
              "      <td>1165</td>\n",
              "    </tr>\n",
              "    <tr>\n",
              "      <th>4.0</th>\n",
              "      <td>19775</td>\n",
              "    </tr>\n",
              "    <tr>\n",
              "      <th>5.0</th>\n",
              "      <td>86</td>\n",
              "    </tr>\n",
              "    <tr>\n",
              "      <th>9.0</th>\n",
              "      <td>34440</td>\n",
              "    </tr>\n",
              "  </tbody>\n",
              "</table>\n",
              "</div><br><label><b>dtype:</b> int64</label>"
            ]
          },
          "metadata": {},
          "execution_count": 25
        }
      ]
    },
    {
      "cell_type": "code",
      "metadata": {
        "id": "zeSRedNm5Yz6",
        "colab": {
          "base_uri": "https://localhost:8080/"
        },
        "outputId": "77d9a2b9-f554-414b-f02a-cd7935b57041"
      },
      "source": [
        "# Preenchendo valores missing com o número 9 (ignorado)\n",
        "srag_mod['raca'].fillna(9, inplace=True)"
      ],
      "execution_count": 24,
      "outputs": [
        {
          "output_type": "stream",
          "name": "stderr",
          "text": [
            "/tmp/ipython-input-24-147825761.py:2: FutureWarning: A value is trying to be set on a copy of a DataFrame or Series through chained assignment using an inplace method.\n",
            "The behavior will change in pandas 3.0. This inplace method will never work because the intermediate object on which we are setting values always behaves as a copy.\n",
            "\n",
            "For example, when doing 'df[col].method(value, inplace=True)', try using 'df.method({col: value}, inplace=True)' or df[col] = df[col].method(value) instead, to perform the operation inplace on the original object.\n",
            "\n",
            "\n",
            "  srag_mod['raca'].fillna(9, inplace=True)\n"
          ]
        }
      ]
    },
    {
      "cell_type": "code",
      "metadata": {
        "id": "Dw72tM4Q5dMy",
        "colab": {
          "base_uri": "https://localhost:8080/",
          "height": 304
        },
        "outputId": "a8056680-560e-428e-dd98-2b031f714bc6"
      },
      "source": [
        "srag_mod['raca'].value_counts().sort_index()"
      ],
      "execution_count": 27,
      "outputs": [
        {
          "output_type": "execute_result",
          "data": {
            "text/plain": [
              "raca\n",
              "1.0    45667\n",
              "2.0     5518\n",
              "3.0     1165\n",
              "4.0    19775\n",
              "5.0       86\n",
              "9.0    34440\n",
              "Name: count, dtype: int64"
            ],
            "text/html": [
              "<div>\n",
              "<style scoped>\n",
              "    .dataframe tbody tr th:only-of-type {\n",
              "        vertical-align: middle;\n",
              "    }\n",
              "\n",
              "    .dataframe tbody tr th {\n",
              "        vertical-align: top;\n",
              "    }\n",
              "\n",
              "    .dataframe thead th {\n",
              "        text-align: right;\n",
              "    }\n",
              "</style>\n",
              "<table border=\"1\" class=\"dataframe\">\n",
              "  <thead>\n",
              "    <tr style=\"text-align: right;\">\n",
              "      <th></th>\n",
              "      <th>count</th>\n",
              "    </tr>\n",
              "    <tr>\n",
              "      <th>raca</th>\n",
              "      <th></th>\n",
              "    </tr>\n",
              "  </thead>\n",
              "  <tbody>\n",
              "    <tr>\n",
              "      <th>1.0</th>\n",
              "      <td>45667</td>\n",
              "    </tr>\n",
              "    <tr>\n",
              "      <th>2.0</th>\n",
              "      <td>5518</td>\n",
              "    </tr>\n",
              "    <tr>\n",
              "      <th>3.0</th>\n",
              "      <td>1165</td>\n",
              "    </tr>\n",
              "    <tr>\n",
              "      <th>4.0</th>\n",
              "      <td>19775</td>\n",
              "    </tr>\n",
              "    <tr>\n",
              "      <th>5.0</th>\n",
              "      <td>86</td>\n",
              "    </tr>\n",
              "    <tr>\n",
              "      <th>9.0</th>\n",
              "      <td>34440</td>\n",
              "    </tr>\n",
              "  </tbody>\n",
              "</table>\n",
              "</div><br><label><b>dtype:</b> int64</label>"
            ]
          },
          "metadata": {},
          "execution_count": 27
        }
      ]
    },
    {
      "cell_type": "markdown",
      "metadata": {
        "id": "X5HJkg1u8QGY"
      },
      "source": [
        "**Contagem das classificações de CS_ZONA**"
      ]
    },
    {
      "cell_type": "code",
      "metadata": {
        "id": "e-KN9Zsd8QGZ",
        "colab": {
          "base_uri": "https://localhost:8080/",
          "height": 210
        },
        "outputId": "161dffb1-672b-40a9-cc31-182a03f1c743"
      },
      "source": [
        "srag_mod['CS_ZONA'].value_counts().sort_index()"
      ],
      "execution_count": 28,
      "outputs": [
        {
          "output_type": "execute_result",
          "data": {
            "text/plain": [
              "CS_ZONA\n",
              "1.0    91232\n",
              "2.0     1362\n",
              "3.0      189\n",
              "Name: count, dtype: int64"
            ],
            "text/html": [
              "<div>\n",
              "<style scoped>\n",
              "    .dataframe tbody tr th:only-of-type {\n",
              "        vertical-align: middle;\n",
              "    }\n",
              "\n",
              "    .dataframe tbody tr th {\n",
              "        vertical-align: top;\n",
              "    }\n",
              "\n",
              "    .dataframe thead th {\n",
              "        text-align: right;\n",
              "    }\n",
              "</style>\n",
              "<table border=\"1\" class=\"dataframe\">\n",
              "  <thead>\n",
              "    <tr style=\"text-align: right;\">\n",
              "      <th></th>\n",
              "      <th>count</th>\n",
              "    </tr>\n",
              "    <tr>\n",
              "      <th>CS_ZONA</th>\n",
              "      <th></th>\n",
              "    </tr>\n",
              "  </thead>\n",
              "  <tbody>\n",
              "    <tr>\n",
              "      <th>1.0</th>\n",
              "      <td>91232</td>\n",
              "    </tr>\n",
              "    <tr>\n",
              "      <th>2.0</th>\n",
              "      <td>1362</td>\n",
              "    </tr>\n",
              "    <tr>\n",
              "      <th>3.0</th>\n",
              "      <td>189</td>\n",
              "    </tr>\n",
              "  </tbody>\n",
              "</table>\n",
              "</div><br><label><b>dtype:</b> int64</label>"
            ]
          },
          "metadata": {},
          "execution_count": 28
        }
      ]
    },
    {
      "cell_type": "code",
      "metadata": {
        "id": "M9OtHKGm8QGb",
        "colab": {
          "base_uri": "https://localhost:8080/"
        },
        "outputId": "01d2d9be-ab0f-4712-bbb2-6148a53e1b41"
      },
      "source": [
        "# Preenchendo valores missing com o número 9 (ignorado)\n",
        "srag_mod['CS_ZONA'].fillna(9, inplace=True)"
      ],
      "execution_count": 29,
      "outputs": [
        {
          "output_type": "stream",
          "name": "stderr",
          "text": [
            "/tmp/ipython-input-29-3353776090.py:2: FutureWarning: A value is trying to be set on a copy of a DataFrame or Series through chained assignment using an inplace method.\n",
            "The behavior will change in pandas 3.0. This inplace method will never work because the intermediate object on which we are setting values always behaves as a copy.\n",
            "\n",
            "For example, when doing 'df[col].method(value, inplace=True)', try using 'df.method({col: value}, inplace=True)' or df[col] = df[col].method(value) instead, to perform the operation inplace on the original object.\n",
            "\n",
            "\n",
            "  srag_mod['CS_ZONA'].fillna(9, inplace=True)\n"
          ]
        }
      ]
    },
    {
      "cell_type": "code",
      "metadata": {
        "id": "UAcGTJHG8QGc",
        "colab": {
          "base_uri": "https://localhost:8080/",
          "height": 241
        },
        "outputId": "7b85e4fe-9ef5-4f28-dac0-b6d8bff22b07"
      },
      "source": [
        "srag_mod['CS_ZONA'].value_counts().sort_index()"
      ],
      "execution_count": 30,
      "outputs": [
        {
          "output_type": "execute_result",
          "data": {
            "text/plain": [
              "CS_ZONA\n",
              "1.0    91232\n",
              "2.0     1362\n",
              "3.0      189\n",
              "9.0    13868\n",
              "Name: count, dtype: int64"
            ],
            "text/html": [
              "<div>\n",
              "<style scoped>\n",
              "    .dataframe tbody tr th:only-of-type {\n",
              "        vertical-align: middle;\n",
              "    }\n",
              "\n",
              "    .dataframe tbody tr th {\n",
              "        vertical-align: top;\n",
              "    }\n",
              "\n",
              "    .dataframe thead th {\n",
              "        text-align: right;\n",
              "    }\n",
              "</style>\n",
              "<table border=\"1\" class=\"dataframe\">\n",
              "  <thead>\n",
              "    <tr style=\"text-align: right;\">\n",
              "      <th></th>\n",
              "      <th>count</th>\n",
              "    </tr>\n",
              "    <tr>\n",
              "      <th>CS_ZONA</th>\n",
              "      <th></th>\n",
              "    </tr>\n",
              "  </thead>\n",
              "  <tbody>\n",
              "    <tr>\n",
              "      <th>1.0</th>\n",
              "      <td>91232</td>\n",
              "    </tr>\n",
              "    <tr>\n",
              "      <th>2.0</th>\n",
              "      <td>1362</td>\n",
              "    </tr>\n",
              "    <tr>\n",
              "      <th>3.0</th>\n",
              "      <td>189</td>\n",
              "    </tr>\n",
              "    <tr>\n",
              "      <th>9.0</th>\n",
              "      <td>13868</td>\n",
              "    </tr>\n",
              "  </tbody>\n",
              "</table>\n",
              "</div><br><label><b>dtype:</b> int64</label>"
            ]
          },
          "metadata": {},
          "execution_count": 30
        }
      ]
    },
    {
      "cell_type": "markdown",
      "metadata": {
        "id": "-NbW-cDi98Ft"
      },
      "source": [
        "**Substituindo as classificações numéricas por palavras**"
      ]
    },
    {
      "cell_type": "code",
      "metadata": {
        "id": "C-3kkgce-S-E"
      },
      "source": [
        "srag_mod['raca']=srag_mod['raca'].replace({1:'branca',\n",
        "                                           2:'preta',\n",
        "                                           3:'amarela',\n",
        "                                           4:'parda',\n",
        "                                           5:'indígena',\n",
        "                                           9:'ignorado'})"
      ],
      "execution_count": 31,
      "outputs": []
    },
    {
      "cell_type": "code",
      "metadata": {
        "id": "t701x78C1J4S",
        "colab": {
          "base_uri": "https://localhost:8080/",
          "height": 304
        },
        "outputId": "61666da3-a239-492d-a9db-915de6c96270"
      },
      "source": [
        "srag_mod['raca'].value_counts()"
      ],
      "execution_count": 33,
      "outputs": [
        {
          "output_type": "execute_result",
          "data": {
            "text/plain": [
              "raca\n",
              "branca      45667\n",
              "ignorado    34440\n",
              "parda       19775\n",
              "preta        5518\n",
              "amarela      1165\n",
              "indígena       86\n",
              "Name: count, dtype: int64"
            ],
            "text/html": [
              "<div>\n",
              "<style scoped>\n",
              "    .dataframe tbody tr th:only-of-type {\n",
              "        vertical-align: middle;\n",
              "    }\n",
              "\n",
              "    .dataframe tbody tr th {\n",
              "        vertical-align: top;\n",
              "    }\n",
              "\n",
              "    .dataframe thead th {\n",
              "        text-align: right;\n",
              "    }\n",
              "</style>\n",
              "<table border=\"1\" class=\"dataframe\">\n",
              "  <thead>\n",
              "    <tr style=\"text-align: right;\">\n",
              "      <th></th>\n",
              "      <th>count</th>\n",
              "    </tr>\n",
              "    <tr>\n",
              "      <th>raca</th>\n",
              "      <th></th>\n",
              "    </tr>\n",
              "  </thead>\n",
              "  <tbody>\n",
              "    <tr>\n",
              "      <th>branca</th>\n",
              "      <td>45667</td>\n",
              "    </tr>\n",
              "    <tr>\n",
              "      <th>ignorado</th>\n",
              "      <td>34440</td>\n",
              "    </tr>\n",
              "    <tr>\n",
              "      <th>parda</th>\n",
              "      <td>19775</td>\n",
              "    </tr>\n",
              "    <tr>\n",
              "      <th>preta</th>\n",
              "      <td>5518</td>\n",
              "    </tr>\n",
              "    <tr>\n",
              "      <th>amarela</th>\n",
              "      <td>1165</td>\n",
              "    </tr>\n",
              "    <tr>\n",
              "      <th>indígena</th>\n",
              "      <td>86</td>\n",
              "    </tr>\n",
              "  </tbody>\n",
              "</table>\n",
              "</div><br><label><b>dtype:</b> int64</label>"
            ]
          },
          "metadata": {},
          "execution_count": 33
        }
      ]
    },
    {
      "cell_type": "code",
      "metadata": {
        "id": "yQ3hSF1B0eTp"
      },
      "source": [
        "srag_mod['CS_ZONA']=srag_mod['CS_ZONA'].replace({1:'urbana',\n",
        "                                                 2:'rural',\n",
        "                                                 3:'periurbana',\n",
        "                                                 9:'ignorado'})"
      ],
      "execution_count": 34,
      "outputs": []
    },
    {
      "cell_type": "code",
      "metadata": {
        "id": "f-6CZg2x0-wr",
        "colab": {
          "base_uri": "https://localhost:8080/",
          "height": 241
        },
        "outputId": "174a9405-1ada-4fd3-eb2b-0832f9e6c14e"
      },
      "source": [
        "srag_mod['CS_ZONA'].value_counts().sort_index()"
      ],
      "execution_count": 35,
      "outputs": [
        {
          "output_type": "execute_result",
          "data": {
            "text/plain": [
              "CS_ZONA\n",
              "ignorado      13868\n",
              "periurbana      189\n",
              "rural          1362\n",
              "urbana        91232\n",
              "Name: count, dtype: int64"
            ],
            "text/html": [
              "<div>\n",
              "<style scoped>\n",
              "    .dataframe tbody tr th:only-of-type {\n",
              "        vertical-align: middle;\n",
              "    }\n",
              "\n",
              "    .dataframe tbody tr th {\n",
              "        vertical-align: top;\n",
              "    }\n",
              "\n",
              "    .dataframe thead th {\n",
              "        text-align: right;\n",
              "    }\n",
              "</style>\n",
              "<table border=\"1\" class=\"dataframe\">\n",
              "  <thead>\n",
              "    <tr style=\"text-align: right;\">\n",
              "      <th></th>\n",
              "      <th>count</th>\n",
              "    </tr>\n",
              "    <tr>\n",
              "      <th>CS_ZONA</th>\n",
              "      <th></th>\n",
              "    </tr>\n",
              "  </thead>\n",
              "  <tbody>\n",
              "    <tr>\n",
              "      <th>ignorado</th>\n",
              "      <td>13868</td>\n",
              "    </tr>\n",
              "    <tr>\n",
              "      <th>periurbana</th>\n",
              "      <td>189</td>\n",
              "    </tr>\n",
              "    <tr>\n",
              "      <th>rural</th>\n",
              "      <td>1362</td>\n",
              "    </tr>\n",
              "    <tr>\n",
              "      <th>urbana</th>\n",
              "      <td>91232</td>\n",
              "    </tr>\n",
              "  </tbody>\n",
              "</table>\n",
              "</div><br><label><b>dtype:</b> int64</label>"
            ]
          },
          "metadata": {},
          "execution_count": 35
        }
      ]
    },
    {
      "cell_type": "markdown",
      "metadata": {
        "id": "x7xj1I7J0cWN"
      },
      "source": [
        "## **Gráfico de barras**"
      ]
    },
    {
      "cell_type": "markdown",
      "metadata": {
        "id": "st7JkRot9GNq"
      },
      "source": [
        "###Matplotlib"
      ]
    },
    {
      "cell_type": "code",
      "metadata": {
        "id": "YZNQ8GG74SA4"
      },
      "source": [
        "import matplotlib.pyplot as plt"
      ],
      "execution_count": 36,
      "outputs": []
    },
    {
      "cell_type": "code",
      "metadata": {
        "id": "VhNG7QBx5wk1",
        "colab": {
          "base_uri": "https://localhost:8080/",
          "height": 210
        },
        "outputId": "d0e59cfa-e45b-4e22-963b-cf05d7e997f7"
      },
      "source": [
        "graf_barras = srag_mod['sexo'].value_counts()\n",
        "graf_barras"
      ],
      "execution_count": 37,
      "outputs": [
        {
          "output_type": "execute_result",
          "data": {
            "text/plain": [
              "sexo\n",
              "M    57629\n",
              "F    49002\n",
              "I       20\n",
              "Name: count, dtype: int64"
            ],
            "text/html": [
              "<div>\n",
              "<style scoped>\n",
              "    .dataframe tbody tr th:only-of-type {\n",
              "        vertical-align: middle;\n",
              "    }\n",
              "\n",
              "    .dataframe tbody tr th {\n",
              "        vertical-align: top;\n",
              "    }\n",
              "\n",
              "    .dataframe thead th {\n",
              "        text-align: right;\n",
              "    }\n",
              "</style>\n",
              "<table border=\"1\" class=\"dataframe\">\n",
              "  <thead>\n",
              "    <tr style=\"text-align: right;\">\n",
              "      <th></th>\n",
              "      <th>count</th>\n",
              "    </tr>\n",
              "    <tr>\n",
              "      <th>sexo</th>\n",
              "      <th></th>\n",
              "    </tr>\n",
              "  </thead>\n",
              "  <tbody>\n",
              "    <tr>\n",
              "      <th>M</th>\n",
              "      <td>57629</td>\n",
              "    </tr>\n",
              "    <tr>\n",
              "      <th>F</th>\n",
              "      <td>49002</td>\n",
              "    </tr>\n",
              "    <tr>\n",
              "      <th>I</th>\n",
              "      <td>20</td>\n",
              "    </tr>\n",
              "  </tbody>\n",
              "</table>\n",
              "</div><br><label><b>dtype:</b> int64</label>"
            ]
          },
          "metadata": {},
          "execution_count": 37
        }
      ]
    },
    {
      "cell_type": "code",
      "metadata": {
        "id": "GM8wjm0Y6XEz",
        "colab": {
          "base_uri": "https://localhost:8080/"
        },
        "outputId": "9669df2a-3ecc-4b24-8b46-55e876a38ae2"
      },
      "source": [
        "graf_barras.index"
      ],
      "execution_count": 38,
      "outputs": [
        {
          "output_type": "execute_result",
          "data": {
            "text/plain": [
              "Index(['M', 'F', 'I'], dtype='object', name='sexo')"
            ]
          },
          "metadata": {},
          "execution_count": 38
        }
      ]
    },
    {
      "cell_type": "code",
      "metadata": {
        "id": "EjJBe8sI4O8u",
        "colab": {
          "base_uri": "https://localhost:8080/",
          "height": 472
        },
        "outputId": "99666fac-92e9-4d71-f994-89b65d789bf6"
      },
      "source": [
        "plt.bar(graf_barras.index, graf_barras, color = 'red')\n",
        "plt.title('Análise da Distribuição por Sexo')\n",
        "plt.ylabel('Quantidade')\n",
        "plt.xlabel('Sexo')\n",
        "plt.show()"
      ],
      "execution_count": 39,
      "outputs": [
        {
          "output_type": "display_data",
          "data": {
            "text/plain": [
              "<Figure size 640x480 with 1 Axes>"
            ],
            "image/png": "[encoded data removed]"
          },
          "metadata": {}
        }
      ]
    },
    {
      "cell_type": "code",
      "metadata": {
        "id": "YO5fI03_8wMc",
        "colab": {
          "base_uri": "https://localhost:8080/",
          "height": 472
        },
        "outputId": "1de0c421-74ef-4cf8-bc68-ffb545a5756f"
      },
      "source": [
        "plt.barh(graf_barras.index, graf_barras, color = 'red')\n",
        "plt.title('Análise da Distribuição por Sexo')\n",
        "plt.xlabel('Quantidade')\n",
        "plt.ylabel('Sexo')\n",
        "plt.show()"
      ],
      "execution_count": 40,
      "outputs": [
        {
          "output_type": "display_data",
          "data": {
            "text/plain": [
              "<Figure size 640x480 with 1 Axes>"
            ],
            "image/png": "[encoded data removed]"
          },
          "metadata": {}
        }
      ]
    },
    {
      "cell_type": "markdown",
      "metadata": {
        "id": "TRjRICjy9ODx"
      },
      "source": [
        "### Seaborn"
      ]
    },
    {
      "cell_type": "code",
      "metadata": {
        "id": "N9sOxiYy9RX_"
      },
      "source": [
        "import seaborn as sns"
      ],
      "execution_count": 42,
      "outputs": []
    },
    {
      "cell_type": "code",
      "metadata": {
        "id": "2XgWRA45VC6A",
        "colab": {
          "base_uri": "https://localhost:8080/",
          "height": 452
        },
        "outputId": "d4cf25af-5c6d-4feb-a118-5118f155d082"
      },
      "source": [
        "sns.countplot(x='sexo', data=srag_mod);"
      ],
      "execution_count": 43,
      "outputs": [
        {
          "output_type": "display_data",
          "data": {
            "text/plain": [
              "<Figure size 640x480 with 1 Axes>"
            ],
            "image/png": "[encoded data removed]"
          },
          "metadata": {}
        }
      ]
    },
    {
      "cell_type": "code",
      "metadata": {
        "id": "zglzFlyKkZAa",
        "colab": {
          "base_uri": "https://localhost:8080/",
          "height": 449
        },
        "outputId": "09fd708d-05dc-45e7-dee2-e3d3c5392edc"
      },
      "source": [
        "sns.countplot(y = 'sexo', data=srag_mod);"
      ],
      "execution_count": 44,
      "outputs": [
        {
          "output_type": "display_data",
          "data": {
            "text/plain": [
              "<Figure size 640x480 with 1 Axes>"
            ],
            "image/png": "[encoded data removed]"
          },
          "metadata": {}
        }
      ]
    },
    {
      "cell_type": "code",
      "metadata": {
        "id": "IE4RObBmlMqA",
        "colab": {
          "base_uri": "https://localhost:8080/",
          "height": 1000
        },
        "outputId": "81c19cb6-ece1-4a65-d9f4-488025644867"
      },
      "source": [
        "fig, ax = plt.subplots(figsize=(16,14))\n",
        "sns.countplot(x = 'raca', data=srag_mod)\n",
        "ax.set_title(\"Análise da Distribuição por Raça\", fontdict={'fontsize':25})\n",
        "ax.set_xlabel('Raça', fontdict={'fontsize':18})\n",
        "ax.set_ylabel('Quantidade', fontdict={'fontsize':18});"
      ],
      "execution_count": 45,
      "outputs": [
        {
          "output_type": "display_data",
          "data": {
            "text/plain": [
              "<Figure size 1600x1400 with 1 Axes>"
            ],
            "image/png": "[encoded data removed]"
          },
          "metadata": {}
        }
      ]
    },
    {
      "cell_type": "markdown",
      "metadata": {
        "id": "JCQv-RQAss-f"
      },
      "source": [
        "## **Box Plot**"
      ]
    },
    {
      "cell_type": "markdown",
      "metadata": {
        "id": "ZGl8uSWF-Mtx"
      },
      "source": [
        "### Plotly"
      ]
    },
    {
      "cell_type": "code",
      "metadata": {
        "id": "2J5koL5x_Brw"
      },
      "source": [
        "import plotly.express as px"
      ],
      "execution_count": null,
      "outputs": []
    },
    {
      "cell_type": "markdown",
      "metadata": {
        "id": "S-j4QmHPlVq3"
      },
      "source": [
        "Box Plot para idade em anos"
      ]
    },
    {
      "cell_type": "code",
      "metadata": {
        "id": "AysaxCLB1HbU"
      },
      "source": [
        "srag_mod['TP_IDADE'].value_counts().sort_index()"
      ],
      "execution_count": null,
      "outputs": []
    },
    {
      "cell_type": "code",
      "metadata": {
        "id": "Kt7hw1Oh2lxg"
      },
      "source": [
        "srag_mod['idade'].value_counts().sort_index()"
      ],
      "execution_count": null,
      "outputs": []
    },
    {
      "cell_type": "code",
      "metadata": {
        "id": "IAuuceCT7fYO"
      },
      "source": [
        "srag_mod.idade.describe()"
      ],
      "execution_count": null,
      "outputs": []
    },
    {
      "cell_type": "code",
      "metadata": {
        "id": "xpCnZh-zynpS"
      },
      "source": [
        "srag_mod.idade.mode()"
      ],
      "execution_count": null,
      "outputs": []
    },
    {
      "cell_type": "code",
      "metadata": {
        "id": "fYXRHiI10cXv"
      },
      "source": [
        "srag_mod.loc[srag_mod['TP_IDADE'] == 1, 'idade'] = 0"
      ],
      "execution_count": null,
      "outputs": []
    },
    {
      "cell_type": "code",
      "metadata": {
        "id": "QFjMeh8O4Yxh"
      },
      "source": [
        "srag_mod.loc[srag_mod['TP_IDADE'] == 2, 'idade'] = 0"
      ],
      "execution_count": null,
      "outputs": []
    },
    {
      "cell_type": "code",
      "metadata": {
        "id": "OPzo7HoMzKN1"
      },
      "source": [
        "srag_mod.idade.describe()"
      ],
      "execution_count": null,
      "outputs": []
    },
    {
      "cell_type": "code",
      "metadata": {
        "id": "Inq9Ob7I7rSd"
      },
      "source": [
        "box = px.box(srag_mod, y='idade')\n",
        "box.show()"
      ],
      "execution_count": null,
      "outputs": []
    },
    {
      "cell_type": "code",
      "metadata": {
        "id": "-C0Bo19L61XC"
      },
      "source": [
        "srag_sem_outliers = srag_mod.loc[srag_mod.idade < 118]"
      ],
      "execution_count": null,
      "outputs": []
    },
    {
      "cell_type": "code",
      "metadata": {
        "id": "8rtJW2917pON"
      },
      "source": [
        "srag_sem_outliers.idade.describe()"
      ],
      "execution_count": null,
      "outputs": []
    },
    {
      "cell_type": "code",
      "metadata": {
        "id": "xEoULnSq7IR8"
      },
      "source": [
        "box = px.box(srag_sem_outliers, y='idade')\n",
        "box.show()"
      ],
      "execution_count": null,
      "outputs": []
    },
    {
      "cell_type": "code",
      "metadata": {
        "id": "qpnueKIv-fUx"
      },
      "source": [
        "box = px.box(srag_sem_outliers,x='sexo', y='idade')\n",
        "box.show()"
      ],
      "execution_count": null,
      "outputs": []
    },
    {
      "cell_type": "code",
      "metadata": {
        "id": "JPehxItE-pqu"
      },
      "source": [
        "box = px.box(srag_sem_outliers,x='raca', y='idade')\n",
        "box.show()"
      ],
      "execution_count": null,
      "outputs": []
    },
    {
      "cell_type": "markdown",
      "metadata": {
        "id": "nOx4mXkV75kN"
      },
      "source": [
        "### **Seaborn**"
      ]
    },
    {
      "cell_type": "code",
      "metadata": {
        "id": "QxOSrH8A8N5_"
      },
      "source": [
        "import seaborn as sns"
      ],
      "execution_count": null,
      "outputs": []
    },
    {
      "cell_type": "code",
      "metadata": {
        "id": "jTnAPWBd8SRk"
      },
      "source": [
        "sns.boxplot(y='idade', data=srag_mod,color='red');"
      ],
      "execution_count": null,
      "outputs": []
    },
    {
      "cell_type": "code",
      "metadata": {
        "id": "IcDV829y9ILA"
      },
      "source": [
        "sns.boxplot(x='idade', data=srag_sem_outliers,color='green');"
      ],
      "execution_count": null,
      "outputs": []
    },
    {
      "cell_type": "code",
      "metadata": {
        "id": "gbqr67eB9uZy"
      },
      "source": [
        "sns.boxplot(x='sexo',y='idade', data=srag_mod);"
      ],
      "execution_count": null,
      "outputs": []
    },
    {
      "cell_type": "code",
      "metadata": {
        "id": "4n3X61sB9-a3"
      },
      "source": [
        "sns.boxplot(x='CS_ZONA',y='idade', data=srag_mod);"
      ],
      "execution_count": null,
      "outputs": []
    },
    {
      "cell_type": "code",
      "metadata": {
        "id": "N4rbXsmY_Urh"
      },
      "source": [
        "fig, ax = plt.subplots(figsize=(16,14))\n",
        "sns.boxplot(x='CS_ZONA',y='idade', hue=\"raca\", data=srag_mod);"
      ],
      "execution_count": null,
      "outputs": []
    },
    {
      "cell_type": "markdown",
      "metadata": {
        "id": "BFDKEP94_Hkc"
      },
      "source": [
        "### **Matplotlib**"
      ]
    },
    {
      "cell_type": "code",
      "metadata": {
        "id": "yVdAuWNX_MWj"
      },
      "source": [
        "import matplotlib.pyplot as plt"
      ],
      "execution_count": null,
      "outputs": []
    },
    {
      "cell_type": "code",
      "metadata": {
        "id": "XzgF_JbGAVw7"
      },
      "source": [
        "plt.boxplot(srag_mod.idade)\n",
        "plt.show()"
      ],
      "execution_count": null,
      "outputs": []
    },
    {
      "cell_type": "code",
      "metadata": {
        "id": "IJKNTvhDA4Ue"
      },
      "source": [
        "plt.boxplot(srag_sem_outliers.idade)\n",
        "plt.title('Box Plot da idade')\n",
        "plt.ylabel('idade')\n",
        "plt.show()"
      ],
      "execution_count": null,
      "outputs": []
    },
    {
      "cell_type": "code",
      "metadata": {
        "id": "I9KuwbqjBoBl"
      },
      "source": [
        "plt.boxplot(srag_sem_outliers.idade, vert=False)\n",
        "plt.title('Box Plot da idade')\n",
        "plt.ylabel('idade')\n",
        "plt.show()"
      ],
      "execution_count": null,
      "outputs": []
    },
    {
      "cell_type": "markdown",
      "metadata": {
        "id": "CwImMwXf94cM"
      },
      "source": [
        "## **Histograma**"
      ]
    },
    {
      "cell_type": "markdown",
      "metadata": {
        "id": "HxabcX9lFI82"
      },
      "source": [
        "### **Plotly**"
      ]
    },
    {
      "cell_type": "code",
      "metadata": {
        "id": "lDLCKa3ZSq1b"
      },
      "source": [
        "import plotly.express as px"
      ],
      "execution_count": null,
      "outputs": []
    },
    {
      "cell_type": "code",
      "metadata": {
        "id": "JxIib1HfSJxN"
      },
      "source": [
        "hist1 =  px.histogram (srag_mod,  x = \"idade\", nbins=60)\n",
        "hist1.update_layout(width=800,height=500,title_text='Distribuição das idades')\n",
        "hist1.show()"
      ],
      "execution_count": null,
      "outputs": []
    },
    {
      "cell_type": "code",
      "metadata": {
        "id": "cyUhFq-tPKNE"
      },
      "source": [
        "hist1 =  px.histogram (srag_mod,  x = \"idade\", nbins=60, color='sexo')\n",
        "hist1.update_layout(width=800,height=500,title_text='Distribuição das idades')\n",
        "hist1.show()"
      ],
      "execution_count": null,
      "outputs": []
    },
    {
      "cell_type": "code",
      "metadata": {
        "id": "MxkHnMGcPytc"
      },
      "source": [
        "hist1 =  px.histogram (srag_mod,  x = \"idade\", nbins=60, color = 'raca')\n",
        "hist1.update_layout(width=800,height=500,title_text='Distribuição das idades')\n",
        "hist1.show()"
      ],
      "execution_count": null,
      "outputs": []
    },
    {
      "cell_type": "code",
      "metadata": {
        "id": "zABGer6xP9hf"
      },
      "source": [
        "hist1 =  px.histogram (srag_mod,  x = \"idade\", nbins=60, color='CS_ZONA')\n",
        "hist1.update_layout(width=800,height=500,title_text='Distribuição das idades')\n",
        "hist1.show()"
      ],
      "execution_count": null,
      "outputs": []
    },
    {
      "cell_type": "markdown",
      "metadata": {
        "id": "KJNM8MkADR5S"
      },
      "source": [
        "### **Análise da Normalidade - Gráfico QQPlot**"
      ]
    },
    {
      "cell_type": "code",
      "metadata": {
        "id": "EbV1P0fdC-Ed"
      },
      "source": [
        "srag_mod.idade.describe()"
      ],
      "execution_count": null,
      "outputs": []
    },
    {
      "cell_type": "code",
      "metadata": {
        "id": "OFC3grgXDEW6"
      },
      "source": [
        "srag_mod.idade.mode()"
      ],
      "execution_count": null,
      "outputs": []
    },
    {
      "cell_type": "code",
      "metadata": {
        "id": "0zjKK_BXSZ4p"
      },
      "source": [
        "import scipy.stats as stats\n",
        "import matplotlib.pyplot as plt"
      ],
      "execution_count": null,
      "outputs": []
    },
    {
      "cell_type": "code",
      "metadata": {
        "id": "zsLfWxg5SOog"
      },
      "source": [
        "stats.probplot(srag_mod['idade'], dist=\"norm\", plot=plt)\n",
        "plt.title(\"Análise Normalidade\")\n",
        "plt.show()"
      ],
      "execution_count": null,
      "outputs": []
    },
    {
      "cell_type": "markdown",
      "metadata": {
        "id": "I2h2xWFLXxVU"
      },
      "source": [
        "Teste de Shapiro-Wilk"
      ]
    },
    {
      "cell_type": "markdown",
      "metadata": {
        "id": "KK24t-uqaPEh"
      },
      "source": [
        "CRITÉRIOS:\n",
        "\n",
        "NÍVEL DE SIGNIFICÂNCIA DE 0,05 ou 5% (MAIS UTILIZADO)\n",
        "\n",
        "QUANDO p > 0,05 (distribuição normal)."
      ]
    },
    {
      "cell_type": "code",
      "metadata": {
        "id": "Yq7QMa7Mok5-"
      },
      "source": [
        "stats.shapiro(srag_mod.idade)"
      ],
      "execution_count": null,
      "outputs": []
    },
    {
      "cell_type": "markdown",
      "metadata": {
        "id": "ITrlW4AEXbh3"
      },
      "source": [
        "O teste de Shapiro_Wilk não se aplica a dados maiores que 5000."
      ]
    },
    {
      "cell_type": "markdown",
      "metadata": {
        "id": "JSj2XEaIX6YP"
      },
      "source": [
        "Teste Lilliefors (Kolmogorov-Smirnov)"
      ]
    },
    {
      "cell_type": "code",
      "metadata": {
        "id": "z4p3sByIrI4a"
      },
      "source": [
        "import statsmodels\n",
        "from statsmodels.stats.diagnostic import lilliefors"
      ],
      "execution_count": null,
      "outputs": []
    },
    {
      "cell_type": "code",
      "metadata": {
        "id": "bdVDySehjyL4"
      },
      "source": [
        "estatistica, p = statsmodels.stats.diagnostic.lilliefors(srag_mod.idade, dist = 'norm')\n",
        "print ('Estatística do teste (D) =', round(estatistica,2))\n",
        "print ('p_valor =', p)"
      ],
      "execution_count": null,
      "outputs": []
    },
    {
      "cell_type": "markdown",
      "metadata": {
        "id": "V_pmkZ_MFFLO"
      },
      "source": [
        "### **Seaborn**"
      ]
    },
    {
      "cell_type": "code",
      "metadata": {
        "id": "8GiwotL6Fayy"
      },
      "source": [
        "import seaborn as sns"
      ],
      "execution_count": null,
      "outputs": []
    },
    {
      "cell_type": "code",
      "metadata": {
        "id": "ekrtfUIrG26X"
      },
      "source": [
        "sns.histplot(srag_mod, x='idade', bins=30, color=\"orange\", kde=True, stat=\"count\");\n",
        "ax.set_title(\"Distribuição SRAG por idade \", fontdict={'fontsize':20});\n",
        "# ax.set_xlabel('Idade', fontdict={'fontsize':15})\n",
        "# ax.set_ylabel('Quantidade', fontdict={'fontsize':15});\n"
      ],
      "execution_count": null,
      "outputs": []
    },
    {
      "cell_type": "markdown",
      "metadata": {
        "id": "e0aidP0zJb5A"
      },
      "source": [
        "### **Matplotlib**"
      ]
    },
    {
      "cell_type": "code",
      "metadata": {
        "id": "whG1p0h7JecO"
      },
      "source": [
        "import matplotlib.pyplot as plt\n"
      ],
      "execution_count": null,
      "outputs": []
    },
    {
      "cell_type": "code",
      "metadata": {
        "id": "3rD0-b0eJpP3"
      },
      "source": [
        "fig, ax = plt.subplots(figsize=(10,8))\n",
        "plt.hist(srag_mod.idade,color='red',density=False,bins=30)\n",
        "plt.title('Distribuição SRAG por idade', fontsize=20)\n",
        "plt.xlabel('Idade')\n",
        "plt.ylabel('Quantidade')\n",
        "plt.show()"
      ],
      "execution_count": null,
      "outputs": []
    },
    {
      "cell_type": "markdown",
      "metadata": {
        "id": "3wOJV0HcNITD"
      },
      "source": [
        "## **Gráfico de Dispersão**"
      ]
    },
    {
      "cell_type": "code",
      "metadata": {
        "id": "xkkfDARMPcMz"
      },
      "source": [
        "srag_mod.head(2)"
      ],
      "execution_count": null,
      "outputs": []
    },
    {
      "cell_type": "code",
      "metadata": {
        "id": "3WSn7RSHPu2d"
      },
      "source": [
        "srag_catanduva = srag_mod.loc[srag_mod.ID_MN_RESI == 'CATANDUVA']\n",
        "srag_catanduva"
      ],
      "execution_count": null,
      "outputs": []
    },
    {
      "cell_type": "code",
      "metadata": {
        "id": "P6PhPjqwQcH4"
      },
      "source": [
        "srag_catanduva.shape"
      ],
      "execution_count": null,
      "outputs": []
    },
    {
      "cell_type": "markdown",
      "metadata": {
        "id": "iSpLl3N4O-FS"
      },
      "source": [
        "### **Matplotlib**"
      ]
    },
    {
      "cell_type": "code",
      "metadata": {
        "id": "RNvz63RB_xYn"
      },
      "source": [
        "import matplotlib.pyplot as plt"
      ],
      "execution_count": null,
      "outputs": []
    },
    {
      "cell_type": "code",
      "metadata": {
        "id": "L3hM-ETM-Eio"
      },
      "source": [
        "plt.scatter(srag_catanduva.data,srag_catanduva.idade)\n",
        "plt.title('Gráfico de Dispersão')\n",
        "plt.xlabel('Data')\n",
        "plt.ylabel('Idade')\n",
        "plt.grid(False)\n",
        "plt.show()"
      ],
      "execution_count": null,
      "outputs": []
    },
    {
      "cell_type": "markdown",
      "metadata": {
        "id": "rvWp_aniRXda"
      },
      "source": [
        "### **Seaborn**"
      ]
    },
    {
      "cell_type": "code",
      "metadata": {
        "id": "ZNOM7sEXRXdb"
      },
      "source": [
        "import seaborn as sns"
      ],
      "execution_count": null,
      "outputs": []
    },
    {
      "cell_type": "code",
      "metadata": {
        "id": "_esxW3e0RXdc"
      },
      "source": [
        "fig, ax = plt.subplots(figsize=(15,12))\n",
        "sns.scatterplot(x='data', y='idade', data=srag_catanduva, color='brown')\n",
        "ax.set_title(\"Gráfico de dispersão da Idade em função da Data\", fontdict={'fontsize':18});\n",
        "ax.set_xlabel('Datas', fontdict={'fontsize':12})\n",
        "ax.set_ylabel('Idade', fontdict={'fontsize':12});"
      ],
      "execution_count": null,
      "outputs": []
    },
    {
      "cell_type": "markdown",
      "metadata": {
        "id": "JpWvAzFyXPeU"
      },
      "source": [
        "### **Plotly**"
      ]
    },
    {
      "cell_type": "code",
      "metadata": {
        "id": "-YAMCDpaXqTa"
      },
      "source": [
        "import plotly.express as px"
      ],
      "execution_count": null,
      "outputs": []
    },
    {
      "cell_type": "code",
      "metadata": {
        "id": "A2RCgB0cX6zi"
      },
      "source": [
        "disp = px.scatter(x=srag_catanduva.data, y=srag_catanduva.idade,color=srag_catanduva['sexo'])\n",
        "disp.update_layout(width=800,height=500,title_text='Gráfico de dispersão da Idade em função da Data')\n",
        "disp.update_xaxes(title = 'DATAS')\n",
        "disp.update_yaxes(title = 'IDADE')\n",
        "disp.show()"
      ],
      "execution_count": null,
      "outputs": []
    },
    {
      "cell_type": "markdown",
      "metadata": {
        "id": "4vJw8qH_aUvg"
      },
      "source": [
        "## **Gráfico de Setores (Pizza)**"
      ]
    },
    {
      "cell_type": "markdown",
      "metadata": {
        "id": "EJ6iuga-aemn"
      },
      "source": [
        "### **Plotly**"
      ]
    },
    {
      "cell_type": "code",
      "metadata": {
        "id": "Yrms_ul0aemo"
      },
      "source": [
        "import plotly.express as px"
      ],
      "execution_count": null,
      "outputs": []
    },
    {
      "cell_type": "code",
      "metadata": {
        "id": "Y-13p9shcgqT"
      },
      "source": [
        "srag_mod['sexo'].value_counts()"
      ],
      "execution_count": null,
      "outputs": []
    },
    {
      "cell_type": "code",
      "metadata": {
        "id": "_zmoawrSbckG"
      },
      "source": [
        "pizza = px.pie(srag_mod, 'sexo')\n",
        "pizza.update_layout(title_text='Gráfico de setores')\n",
        "pizza.show()"
      ],
      "execution_count": null,
      "outputs": []
    },
    {
      "cell_type": "code",
      "metadata": {
        "id": "xyxT5WXjcnZq"
      },
      "source": [
        "srag_mod['raca'].value_counts()"
      ],
      "execution_count": null,
      "outputs": []
    },
    {
      "cell_type": "code",
      "metadata": {
        "id": "dy7ihqF4b0oT"
      },
      "source": [
        "pizza = px.pie(srag_mod, 'raca')\n",
        "pizza.update_layout(title_text='Gráfico de setores por Raça')\n",
        "pizza.show()"
      ],
      "execution_count": null,
      "outputs": []
    },
    {
      "cell_type": "code",
      "metadata": {
        "id": "azfhMAlbcq75"
      },
      "source": [
        "srag_mod['CS_ZONA'].value_counts()"
      ],
      "execution_count": null,
      "outputs": []
    },
    {
      "cell_type": "code",
      "metadata": {
        "id": "uqS-TaJnb5Zo"
      },
      "source": [
        "pizza = px.pie(srag_mod, 'CS_ZONA')\n",
        "pizza.update_layout(title_text='Gráfico de setores')\n",
        "pizza.show()"
      ],
      "execution_count": null,
      "outputs": []
    },
    {
      "cell_type": "markdown",
      "metadata": {
        "id": "eIKmpGcTeX26"
      },
      "source": [
        "### **Matplotlib**"
      ]
    },
    {
      "cell_type": "code",
      "metadata": {
        "id": "62wXf745fCl_"
      },
      "source": [
        "import matplotlib.pyplot as plt"
      ],
      "execution_count": null,
      "outputs": []
    },
    {
      "cell_type": "code",
      "metadata": {
        "id": "wVysgToWfbMW"
      },
      "source": [
        "contagem = srag_mod['sexo'].value_counts()\n",
        "contagem"
      ],
      "execution_count": null,
      "outputs": []
    },
    {
      "cell_type": "code",
      "metadata": {
        "id": "vXoCCJhFfbMX"
      },
      "source": [
        "contagem.index"
      ],
      "execution_count": null,
      "outputs": []
    },
    {
      "cell_type": "code",
      "metadata": {
        "id": "seLwpEWtfMdu"
      },
      "source": [
        "plt.figure(figsize=(12, 12))\n",
        "plt.pie(contagem, labels=contagem.index, autopct = '% .2f %%')\n",
        "plt.show()"
      ],
      "execution_count": null,
      "outputs": []
    },
    {
      "cell_type": "code",
      "metadata": {
        "id": "R9bh0wnUiAbd"
      },
      "source": [
        "contagem2 = srag_mod['raca'].value_counts()\n",
        "contagem2"
      ],
      "execution_count": null,
      "outputs": []
    },
    {
      "cell_type": "code",
      "metadata": {
        "id": "Nicwk47uiAbf"
      },
      "source": [
        "contagem2.index"
      ],
      "execution_count": null,
      "outputs": []
    },
    {
      "cell_type": "code",
      "metadata": {
        "id": "88CZCHQsiAbf"
      },
      "source": [
        "plt.figure(figsize=(12, 12))\n",
        "plt.pie(contagem2, labels=contagem2.index, autopct = '% .2f %%')\n",
        "plt.show()"
      ],
      "execution_count": null,
      "outputs": []
    },
    {
      "cell_type": "code",
      "metadata": {
        "id": "tI9Y6gj3iRQl"
      },
      "source": [
        "contagem3 = srag_mod['CS_ZONA'].value_counts()\n",
        "contagem3"
      ],
      "execution_count": null,
      "outputs": []
    },
    {
      "cell_type": "code",
      "metadata": {
        "id": "P_ntdQQ8iRQn"
      },
      "source": [
        "contagem3.index"
      ],
      "execution_count": null,
      "outputs": []
    },
    {
      "cell_type": "code",
      "metadata": {
        "id": "oVZHYec1iRQn"
      },
      "source": [
        "plt.figure(figsize=(12, 12))\n",
        "plt.pie(contagem3, labels=contagem3.index, autopct = '% .2f %%')\n",
        "plt.show()"
      ],
      "execution_count": null,
      "outputs": []
    },
    {
      "cell_type": "markdown",
      "metadata": {
        "id": "Iom8HQm3cKv_"
      },
      "source": [
        "## **Gráfico de Bolhas**"
      ]
    },
    {
      "cell_type": "markdown",
      "metadata": {
        "id": "lF0YCKkblL5r"
      },
      "source": [
        "### **Plotly**"
      ]
    },
    {
      "cell_type": "code",
      "metadata": {
        "id": "ndmt2SC9-yBy"
      },
      "source": [
        "import plotly.express as px"
      ],
      "execution_count": null,
      "outputs": []
    },
    {
      "cell_type": "code",
      "metadata": {
        "id": "6pv_y70vSLKb"
      },
      "source": [
        "srag_tupa = srag_mod.loc[srag_mod.ID_MN_RESI == 'TUPA']\n",
        "srag_tupa.head(3)"
      ],
      "execution_count": null,
      "outputs": []
    },
    {
      "cell_type": "code",
      "metadata": {
        "id": "KWOQV5TWSLKc"
      },
      "source": [
        "srag_tupa.shape"
      ],
      "execution_count": null,
      "outputs": []
    },
    {
      "cell_type": "code",
      "metadata": {
        "id": "Z-OI_cP8Ydpg"
      },
      "source": [
        "bolhas = px.scatter(srag_tupa, x=\"data\", y=\"CS_ZONA\", color=\"sexo\", size='idade')\n",
        "bolhas.show()"
      ],
      "execution_count": null,
      "outputs": []
    },
    {
      "cell_type": "code",
      "metadata": {
        "id": "rR8wwqS6S1Lg"
      },
      "source": [
        "bolhas2 = px.scatter(srag_tupa, x=\"data\", y=\"sexo\", color=\"raca\", size='idade')\n",
        "bolhas2.show()"
      ],
      "execution_count": null,
      "outputs": []
    },
    {
      "cell_type": "markdown",
      "metadata": {
        "id": "KsLdK6g0Ugl9"
      },
      "source": [
        "### **Seaborn**"
      ]
    },
    {
      "cell_type": "code",
      "metadata": {
        "id": "GnWT4TOhUgl9"
      },
      "source": [
        "import seaborn as sns\n",
        "import matplotlib.pyplot as plt\n"
      ],
      "execution_count": null,
      "outputs": []
    },
    {
      "cell_type": "code",
      "metadata": {
        "id": "TuhKHNCVUgl-"
      },
      "source": [
        "fig, ax = plt.subplots(figsize=(10,8))\n",
        "sns.scatterplot(x='data', y='raca', data=srag_tupa, color='brown', size='idade')\n",
        "ax.set_title(\"Gráfico de bolhas\", fontdict={'fontsize':18})\n",
        "ax.set_xlabel('Datas', fontdict={'fontsize':12})\n",
        "ax.set_ylabel('Idade', fontdict={'fontsize':12});"
      ],
      "execution_count": null,
      "outputs": []
    },
    {
      "cell_type": "markdown",
      "metadata": {
        "id": "A9MXJ7DNVjaN"
      },
      "source": [
        "## **Gráfico de Linhas**"
      ]
    },
    {
      "cell_type": "markdown",
      "metadata": {
        "id": "c6LNcNepkywN"
      },
      "source": [
        "### **Matplotlib**"
      ]
    },
    {
      "cell_type": "code",
      "metadata": {
        "id": "BCPc51GiVz_l"
      },
      "source": [
        "import matplotlib.pyplot as plt"
      ],
      "execution_count": null,
      "outputs": []
    },
    {
      "cell_type": "code",
      "metadata": {
        "id": "f1OAH9H-Vny9"
      },
      "source": [
        "plt.subplots(figsize=(8,6))\n",
        "y = [4, 9, 6, 4, 0, 3, 5.1, 6, 8.4, 12.3]\n",
        "x = range(len(y))\n",
        "plt.plot(x,y, color='red', marker ='o')\n",
        "plt.title ('Gráfico de Linhas')\n",
        "plt.show()"
      ],
      "execution_count": null,
      "outputs": []
    },
    {
      "cell_type": "code",
      "metadata": {
        "id": "V1jAYFDRYkwX"
      },
      "source": [
        "plt.subplots(figsize=(8,6))\n",
        "m = [1, 5, 8, 0, 3, 1, 6.5, 4, 12.3, 15.8]\n",
        "n = range(len(m))\n",
        "plt.plot(n,m, color='yellow', marker ='o')\n",
        "plt.title ('Gráfico de Linhas 2')\n",
        "plt.show()"
      ],
      "execution_count": null,
      "outputs": []
    },
    {
      "cell_type": "code",
      "metadata": {
        "id": "yW4t80YYZvHB"
      },
      "source": [
        "plt.subplots(figsize=(8,6))\n",
        "plt.title ('Gráficos de linha')\n",
        "plt.plot(x,y)\n",
        "plt.plot(n,m)\n",
        "plt.show()"
      ],
      "execution_count": null,
      "outputs": []
    },
    {
      "cell_type": "markdown",
      "metadata": {
        "id": "35rCHxrEh2yt"
      },
      "source": [
        "### **Plotly**"
      ]
    },
    {
      "cell_type": "code",
      "metadata": {
        "id": "JbR3P2kYibls"
      },
      "source": [
        "import plotly.express as px"
      ],
      "execution_count": null,
      "outputs": []
    },
    {
      "cell_type": "code",
      "metadata": {
        "id": "2bSPJeaCcJCT"
      },
      "source": [
        "y = [4, 9, 6, 4, 0, 3, 5.1, 6, 8.4, 12.3]\n"
      ],
      "execution_count": null,
      "outputs": []
    },
    {
      "cell_type": "code",
      "metadata": {
        "id": "cOGqQhoJd8A2"
      },
      "source": [
        "type(y)"
      ],
      "execution_count": null,
      "outputs": []
    },
    {
      "cell_type": "code",
      "metadata": {
        "id": "jpWiGvqocLRK"
      },
      "source": [
        "x = list(range(len(y)))\n",
        "print(x)"
      ],
      "execution_count": null,
      "outputs": []
    },
    {
      "cell_type": "code",
      "metadata": {
        "id": "ZUsw6GUeanxQ"
      },
      "source": [
        "linha = px.line(x, y,)\n",
        "linha.show()"
      ],
      "execution_count": null,
      "outputs": []
    },
    {
      "cell_type": "code",
      "metadata": {
        "id": "CcVk-k0eeaH3"
      },
      "source": [
        "df = pd.DataFrame(x, columns=['eixo_x'])\n",
        "df"
      ],
      "execution_count": null,
      "outputs": []
    },
    {
      "cell_type": "code",
      "metadata": {
        "id": "BXzMSD4mgSlF"
      },
      "source": [
        "df = pd.concat([df,pd.DataFrame(y, columns=['eixo_y'])],axis=1)\n",
        "df"
      ],
      "execution_count": null,
      "outputs": []
    },
    {
      "cell_type": "code",
      "metadata": {
        "id": "iolQsLVegylF"
      },
      "source": [
        "linha = px.line(df, 'eixo_x', 'eixo_y')\n",
        "linha.show()"
      ],
      "execution_count": null,
      "outputs": []
    },
    {
      "cell_type": "markdown",
      "metadata": {
        "id": "7O_aGhoIi1Yj"
      },
      "source": [
        "### **Seaborn**"
      ]
    },
    {
      "cell_type": "code",
      "metadata": {
        "id": "E5tWGCMHiSYm"
      },
      "source": [
        "import seaborn as sns\n",
        "import matplotlib.pyplot as plt"
      ],
      "execution_count": null,
      "outputs": []
    },
    {
      "cell_type": "code",
      "metadata": {
        "id": "dMXfhbbWih1R"
      },
      "source": [
        "fig, ax = plt.subplots(figsize=(8,6))\n",
        "sns.lineplot(x,y)\n",
        "ax.set_title(\"Gráfico de Linhas\", fontdict={'fontsize':18})\n",
        "ax.set_xlabel('Eixo x', fontdict={'fontsize':12})\n",
        "ax.set_ylabel('Eixo y', fontdict={'fontsize':12});"
      ],
      "execution_count": null,
      "outputs": []
    },
    {
      "cell_type": "code",
      "metadata": {
        "id": "kUbr5FOtjjKh"
      },
      "source": [
        "fig, ax = plt.subplots(figsize=(8,6))\n",
        "sns.lineplot(df.eixo_x,df.eixo_y)\n",
        "ax.set_title(\"Gráfico de Linhas\", fontdict={'fontsize':18})\n",
        "ax.set_xlabel('Eixo x', fontdict={'fontsize':12})\n",
        "ax.set_ylabel('Eixo y', fontdict={'fontsize':12});"
      ],
      "execution_count": null,
      "outputs": []
    }
  ]
}